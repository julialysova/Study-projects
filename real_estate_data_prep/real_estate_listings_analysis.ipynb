{
 "cells": [
  {
   "cell_type": "markdown",
   "metadata": {},
   "source": [
    "# Исследование объявлений о продаже квартир"
   ]
  },
  {
   "cell_type": "markdown",
   "metadata": {
    "toc": true
   },
   "source": [
    "<h1>Table of Contents<span class=\"tocSkip\"></span></h1>\n",
    "<div class=\"toc\"><ul class=\"toc-item\"><li><span><a href=\"#Описание-проекта\" data-toc-modified-id=\"Описание-проекта-1\"><span class=\"toc-item-num\">1&nbsp;&nbsp;</span>Описание проекта</a></span></li><li><span><a href=\"#Открытие-таблицы-и-изучение-общей-информации-о-данных\" data-toc-modified-id=\"Открытие-таблицы-и-изучение-общей-информации-о-данных-2\"><span class=\"toc-item-num\">2&nbsp;&nbsp;</span>Открытие таблицы и изучение общей информации о данных</a></span></li><li><span><a href=\"#Предобработка-данных\" data-toc-modified-id=\"Предобработка-данных-3\"><span class=\"toc-item-num\">3&nbsp;&nbsp;</span>Предобработка данных</a></span><ul class=\"toc-item\"><li><span><a href=\"#locality_name\" data-toc-modified-id=\"locality_name-3.1\"><span class=\"toc-item-num\">3.1&nbsp;&nbsp;</span>locality_name</a></span></li><li><span><a href=\"#floors_total\" data-toc-modified-id=\"floors_total-3.2\"><span class=\"toc-item-num\">3.2&nbsp;&nbsp;</span>floors_total</a></span></li><li><span><a href=\"#living_area\" data-toc-modified-id=\"living_area-3.3\"><span class=\"toc-item-num\">3.3&nbsp;&nbsp;</span>living_area</a></span></li><li><span><a href=\"#kitchen_area\" data-toc-modified-id=\"kitchen_area-3.4\"><span class=\"toc-item-num\">3.4&nbsp;&nbsp;</span>kitchen_area</a></span></li><li><span><a href=\"#days_exposition\" data-toc-modified-id=\"days_exposition-3.5\"><span class=\"toc-item-num\">3.5&nbsp;&nbsp;</span>days_exposition</a></span></li><li><span><a href=\"#parks_nearest-и-parks_around3000\" data-toc-modified-id=\"parks_nearest-и-parks_around3000-3.6\"><span class=\"toc-item-num\">3.6&nbsp;&nbsp;</span>parks_nearest и parks_around3000</a></span></li><li><span><a href=\"#ponds_nearest-и-ponds_around3000\" data-toc-modified-id=\"ponds_nearest-и-ponds_around3000-3.7\"><span class=\"toc-item-num\">3.7&nbsp;&nbsp;</span>ponds_nearest и ponds_around3000</a></span></li><li><span><a href=\"#airports_nearest\" data-toc-modified-id=\"airports_nearest-3.8\"><span class=\"toc-item-num\">3.8&nbsp;&nbsp;</span>airports_nearest</a></span></li><li><span><a href=\"#cityCenters_nearest\" data-toc-modified-id=\"cityCenters_nearest-3.9\"><span class=\"toc-item-num\">3.9&nbsp;&nbsp;</span>cityCenters_nearest</a></span></li><li><span><a href=\"#ceiling_height\" data-toc-modified-id=\"ceiling_height-3.10\"><span class=\"toc-item-num\">3.10&nbsp;&nbsp;</span>ceiling_height</a></span></li><li><span><a href=\"#balcony\" data-toc-modified-id=\"balcony-3.11\"><span class=\"toc-item-num\">3.11&nbsp;&nbsp;</span>balcony</a></span></li><li><span><a href=\"#is_apartment\" data-toc-modified-id=\"is_apartment-3.12\"><span class=\"toc-item-num\">3.12&nbsp;&nbsp;</span>is_apartment</a></span></li></ul></li><li><span><a href=\"#Добавление-новых-столбцов\" data-toc-modified-id=\"Добавление-новых-столбцов-4\"><span class=\"toc-item-num\">4&nbsp;&nbsp;</span>Добавление новых столбцов</a></span></li><li><span><a href=\"#Исследовательский-анализ-данных\" data-toc-modified-id=\"Исследовательский-анализ-данных-5\"><span class=\"toc-item-num\">5&nbsp;&nbsp;</span>Исследовательский анализ данных</a></span></li><li><span><a href=\"#Общий-вывод\" data-toc-modified-id=\"Общий-вывод-6\"><span class=\"toc-item-num\">6&nbsp;&nbsp;</span>Общий вывод</a></span></li></ul></div>"
   ]
  },
  {
   "cell_type": "markdown",
   "metadata": {},
   "source": [
    "## Описание проекта"
   ]
  },
  {
   "cell_type": "markdown",
   "metadata": {},
   "source": [
    "В настоящем проекте рассмотрим данные сервиса Яндекс.Недвижимость — архив объявлений о продаже квартир в Санкт-Петербурге и соседних населённых пунктов за несколько лет. Попробуем установить параметры для определения рыночной стоимости объектов недвижимости, что в дальнейшем позволит построить автоматизированную систему отслеживания аномалий и мошеннической деятельности.\n",
    "\n",
    "По каждой квартире на продажу доступны два вида данных. Первые вписаны пользователем, вторые — получены автоматически на основе картографических данных. Например, расстояние до центра, аэропорта, ближайшего парка и водоёма. "
   ]
  },
  {
   "cell_type": "code",
   "execution_count": 1,
   "metadata": {},
   "outputs": [],
   "source": [
    "import pandas as pd\n",
    "from matplotlib import pyplot as plt\n",
    "from pymystem3 import Mystem\n",
    "from collections import Counter\n",
    "import numpy as np\n",
    "\n",
    "import seaborn as sns\n",
    "import matplotlib.ticker as ticker"
   ]
  },
  {
   "cell_type": "markdown",
   "metadata": {},
   "source": [
    "## Открытие таблицы и изучение общей информации о данных"
   ]
  },
  {
   "cell_type": "code",
   "execution_count": 2,
   "metadata": {},
   "outputs": [
    {
     "name": "stdout",
     "output_type": "stream",
     "text": [
      "<class 'pandas.core.frame.DataFrame'>\n",
      "RangeIndex: 23699 entries, 0 to 23698\n",
      "Data columns (total 22 columns):\n",
      "total_images            23699 non-null int64\n",
      "last_price              23699 non-null float64\n",
      "total_area              23699 non-null float64\n",
      "first_day_exposition    23699 non-null object\n",
      "rooms                   23699 non-null int64\n",
      "ceiling_height          14504 non-null float64\n",
      "floors_total            23613 non-null float64\n",
      "living_area             21796 non-null float64\n",
      "floor                   23699 non-null int64\n",
      "is_apartment            2775 non-null object\n",
      "studio                  23699 non-null bool\n",
      "open_plan               23699 non-null bool\n",
      "kitchen_area            21421 non-null float64\n",
      "balcony                 12180 non-null float64\n",
      "locality_name           23650 non-null object\n",
      "airports_nearest        18157 non-null float64\n",
      "cityCenters_nearest     18180 non-null float64\n",
      "parks_around3000        18181 non-null float64\n",
      "parks_nearest           8079 non-null float64\n",
      "ponds_around3000        18181 non-null float64\n",
      "ponds_nearest           9110 non-null float64\n",
      "days_exposition         20518 non-null float64\n",
      "dtypes: bool(2), float64(14), int64(3), object(3)\n",
      "memory usage: 3.7+ MB\n"
     ]
    }
   ],
   "source": [
    "try:\n",
    "    data = pd.read_csv('real_estate_data.csv', sep='\\t')\n",
    "except:\n",
    "    data = pd.read_csv('/datasets/real_estate_data.csv', sep='\\t')\n",
    "data.info()"
   ]
  },
  {
   "cell_type": "code",
   "execution_count": 3,
   "metadata": {},
   "outputs": [
    {
     "data": {
      "text/html": [
       "<div>\n",
       "<style scoped>\n",
       "    .dataframe tbody tr th:only-of-type {\n",
       "        vertical-align: middle;\n",
       "    }\n",
       "\n",
       "    .dataframe tbody tr th {\n",
       "        vertical-align: top;\n",
       "    }\n",
       "\n",
       "    .dataframe thead th {\n",
       "        text-align: right;\n",
       "    }\n",
       "</style>\n",
       "<table border=\"1\" class=\"dataframe\">\n",
       "  <thead>\n",
       "    <tr style=\"text-align: right;\">\n",
       "      <th></th>\n",
       "      <th>0</th>\n",
       "      <th>1</th>\n",
       "      <th>2</th>\n",
       "      <th>3</th>\n",
       "      <th>4</th>\n",
       "    </tr>\n",
       "  </thead>\n",
       "  <tbody>\n",
       "    <tr>\n",
       "      <td>total_images</td>\n",
       "      <td>20</td>\n",
       "      <td>7</td>\n",
       "      <td>10</td>\n",
       "      <td>0</td>\n",
       "      <td>2</td>\n",
       "    </tr>\n",
       "    <tr>\n",
       "      <td>last_price</td>\n",
       "      <td>1.3e+07</td>\n",
       "      <td>3.35e+06</td>\n",
       "      <td>5.196e+06</td>\n",
       "      <td>6.49e+07</td>\n",
       "      <td>1e+07</td>\n",
       "    </tr>\n",
       "    <tr>\n",
       "      <td>total_area</td>\n",
       "      <td>108</td>\n",
       "      <td>40.4</td>\n",
       "      <td>56</td>\n",
       "      <td>159</td>\n",
       "      <td>100</td>\n",
       "    </tr>\n",
       "    <tr>\n",
       "      <td>first_day_exposition</td>\n",
       "      <td>2019-03-07T00:00:00</td>\n",
       "      <td>2018-12-04T00:00:00</td>\n",
       "      <td>2015-08-20T00:00:00</td>\n",
       "      <td>2015-07-24T00:00:00</td>\n",
       "      <td>2018-06-19T00:00:00</td>\n",
       "    </tr>\n",
       "    <tr>\n",
       "      <td>rooms</td>\n",
       "      <td>3</td>\n",
       "      <td>1</td>\n",
       "      <td>2</td>\n",
       "      <td>3</td>\n",
       "      <td>2</td>\n",
       "    </tr>\n",
       "    <tr>\n",
       "      <td>ceiling_height</td>\n",
       "      <td>2.7</td>\n",
       "      <td>NaN</td>\n",
       "      <td>NaN</td>\n",
       "      <td>NaN</td>\n",
       "      <td>3.03</td>\n",
       "    </tr>\n",
       "    <tr>\n",
       "      <td>floors_total</td>\n",
       "      <td>16</td>\n",
       "      <td>11</td>\n",
       "      <td>5</td>\n",
       "      <td>14</td>\n",
       "      <td>14</td>\n",
       "    </tr>\n",
       "    <tr>\n",
       "      <td>living_area</td>\n",
       "      <td>51</td>\n",
       "      <td>18.6</td>\n",
       "      <td>34.3</td>\n",
       "      <td>NaN</td>\n",
       "      <td>32</td>\n",
       "    </tr>\n",
       "    <tr>\n",
       "      <td>floor</td>\n",
       "      <td>8</td>\n",
       "      <td>1</td>\n",
       "      <td>4</td>\n",
       "      <td>9</td>\n",
       "      <td>13</td>\n",
       "    </tr>\n",
       "    <tr>\n",
       "      <td>is_apartment</td>\n",
       "      <td>NaN</td>\n",
       "      <td>NaN</td>\n",
       "      <td>NaN</td>\n",
       "      <td>NaN</td>\n",
       "      <td>NaN</td>\n",
       "    </tr>\n",
       "    <tr>\n",
       "      <td>studio</td>\n",
       "      <td>False</td>\n",
       "      <td>False</td>\n",
       "      <td>False</td>\n",
       "      <td>False</td>\n",
       "      <td>False</td>\n",
       "    </tr>\n",
       "    <tr>\n",
       "      <td>open_plan</td>\n",
       "      <td>False</td>\n",
       "      <td>False</td>\n",
       "      <td>False</td>\n",
       "      <td>False</td>\n",
       "      <td>False</td>\n",
       "    </tr>\n",
       "    <tr>\n",
       "      <td>kitchen_area</td>\n",
       "      <td>25</td>\n",
       "      <td>11</td>\n",
       "      <td>8.3</td>\n",
       "      <td>NaN</td>\n",
       "      <td>41</td>\n",
       "    </tr>\n",
       "    <tr>\n",
       "      <td>balcony</td>\n",
       "      <td>NaN</td>\n",
       "      <td>2</td>\n",
       "      <td>0</td>\n",
       "      <td>0</td>\n",
       "      <td>NaN</td>\n",
       "    </tr>\n",
       "    <tr>\n",
       "      <td>locality_name</td>\n",
       "      <td>Санкт-Петербург</td>\n",
       "      <td>посёлок Шушары</td>\n",
       "      <td>Санкт-Петербург</td>\n",
       "      <td>Санкт-Петербург</td>\n",
       "      <td>Санкт-Петербург</td>\n",
       "    </tr>\n",
       "    <tr>\n",
       "      <td>airports_nearest</td>\n",
       "      <td>18863</td>\n",
       "      <td>12817</td>\n",
       "      <td>21741</td>\n",
       "      <td>28098</td>\n",
       "      <td>31856</td>\n",
       "    </tr>\n",
       "    <tr>\n",
       "      <td>cityCenters_nearest</td>\n",
       "      <td>16028</td>\n",
       "      <td>18603</td>\n",
       "      <td>13933</td>\n",
       "      <td>6800</td>\n",
       "      <td>8098</td>\n",
       "    </tr>\n",
       "    <tr>\n",
       "      <td>parks_around3000</td>\n",
       "      <td>1</td>\n",
       "      <td>0</td>\n",
       "      <td>1</td>\n",
       "      <td>2</td>\n",
       "      <td>2</td>\n",
       "    </tr>\n",
       "    <tr>\n",
       "      <td>parks_nearest</td>\n",
       "      <td>482</td>\n",
       "      <td>NaN</td>\n",
       "      <td>90</td>\n",
       "      <td>84</td>\n",
       "      <td>112</td>\n",
       "    </tr>\n",
       "    <tr>\n",
       "      <td>ponds_around3000</td>\n",
       "      <td>2</td>\n",
       "      <td>0</td>\n",
       "      <td>2</td>\n",
       "      <td>3</td>\n",
       "      <td>1</td>\n",
       "    </tr>\n",
       "    <tr>\n",
       "      <td>ponds_nearest</td>\n",
       "      <td>755</td>\n",
       "      <td>NaN</td>\n",
       "      <td>574</td>\n",
       "      <td>234</td>\n",
       "      <td>48</td>\n",
       "    </tr>\n",
       "    <tr>\n",
       "      <td>days_exposition</td>\n",
       "      <td>NaN</td>\n",
       "      <td>81</td>\n",
       "      <td>558</td>\n",
       "      <td>424</td>\n",
       "      <td>121</td>\n",
       "    </tr>\n",
       "  </tbody>\n",
       "</table>\n",
       "</div>"
      ],
      "text/plain": [
       "                                        0                    1  \\\n",
       "total_images                           20                    7   \n",
       "last_price                        1.3e+07             3.35e+06   \n",
       "total_area                            108                 40.4   \n",
       "first_day_exposition  2019-03-07T00:00:00  2018-12-04T00:00:00   \n",
       "rooms                                   3                    1   \n",
       "ceiling_height                        2.7                  NaN   \n",
       "floors_total                           16                   11   \n",
       "living_area                            51                 18.6   \n",
       "floor                                   8                    1   \n",
       "is_apartment                          NaN                  NaN   \n",
       "studio                              False                False   \n",
       "open_plan                           False                False   \n",
       "kitchen_area                           25                   11   \n",
       "balcony                               NaN                    2   \n",
       "locality_name             Санкт-Петербург       посёлок Шушары   \n",
       "airports_nearest                    18863                12817   \n",
       "cityCenters_nearest                 16028                18603   \n",
       "parks_around3000                        1                    0   \n",
       "parks_nearest                         482                  NaN   \n",
       "ponds_around3000                        2                    0   \n",
       "ponds_nearest                         755                  NaN   \n",
       "days_exposition                       NaN                   81   \n",
       "\n",
       "                                        2                    3  \\\n",
       "total_images                           10                    0   \n",
       "last_price                      5.196e+06             6.49e+07   \n",
       "total_area                             56                  159   \n",
       "first_day_exposition  2015-08-20T00:00:00  2015-07-24T00:00:00   \n",
       "rooms                                   2                    3   \n",
       "ceiling_height                        NaN                  NaN   \n",
       "floors_total                            5                   14   \n",
       "living_area                          34.3                  NaN   \n",
       "floor                                   4                    9   \n",
       "is_apartment                          NaN                  NaN   \n",
       "studio                              False                False   \n",
       "open_plan                           False                False   \n",
       "kitchen_area                          8.3                  NaN   \n",
       "balcony                                 0                    0   \n",
       "locality_name             Санкт-Петербург      Санкт-Петербург   \n",
       "airports_nearest                    21741                28098   \n",
       "cityCenters_nearest                 13933                 6800   \n",
       "parks_around3000                        1                    2   \n",
       "parks_nearest                          90                   84   \n",
       "ponds_around3000                        2                    3   \n",
       "ponds_nearest                         574                  234   \n",
       "days_exposition                       558                  424   \n",
       "\n",
       "                                        4  \n",
       "total_images                            2  \n",
       "last_price                          1e+07  \n",
       "total_area                            100  \n",
       "first_day_exposition  2018-06-19T00:00:00  \n",
       "rooms                                   2  \n",
       "ceiling_height                       3.03  \n",
       "floors_total                           14  \n",
       "living_area                            32  \n",
       "floor                                  13  \n",
       "is_apartment                          NaN  \n",
       "studio                              False  \n",
       "open_plan                           False  \n",
       "kitchen_area                           41  \n",
       "balcony                               NaN  \n",
       "locality_name             Санкт-Петербург  \n",
       "airports_nearest                    31856  \n",
       "cityCenters_nearest                  8098  \n",
       "parks_around3000                        2  \n",
       "parks_nearest                         112  \n",
       "ponds_around3000                        1  \n",
       "ponds_nearest                          48  \n",
       "days_exposition                       121  "
      ]
     },
     "execution_count": 3,
     "metadata": {},
     "output_type": "execute_result"
    }
   ],
   "source": [
    "data.head().T"
   ]
  },
  {
   "cell_type": "markdown",
   "metadata": {},
   "source": [
    "Составим список столбцов с пропусками по возрастанию их количества."
   ]
  },
  {
   "cell_type": "code",
   "execution_count": 4,
   "metadata": {},
   "outputs": [
    {
     "name": "stdout",
     "output_type": "stream",
     "text": [
      "locality_name — 0.21%\n",
      "floors_total — 0.36%\n",
      "living_area — 8.03%\n",
      "kitchen_area — 9.61%\n",
      "days_exposition — 13.42%\n",
      "parks_around3000 — 23.28%\n",
      "ponds_around3000 — 23.28%\n",
      "cityCenters_nearest — 23.29%\n",
      "airports_nearest — 23.38%\n",
      "ceiling_height — 38.80%\n",
      "balcony — 48.61%\n",
      "ponds_nearest — 61.56%\n",
      "parks_nearest — 65.91%\n",
      "is_apartment — 88.29%\n",
      "Всего: 14\n"
     ]
    }
   ],
   "source": [
    "cols = {}\n",
    "for column in data.columns:\n",
    "    nulls = data[column].isnull().sum()\n",
    "    if nulls > 0:\n",
    "        cols[column] = nulls\n",
    "for column in sorted(cols, key=cols.get):\n",
    "    print('{} — {:.2%}'.format(column, cols[column]/len(data)))\n",
    "print('Всего:', len(cols))"
   ]
  },
  {
   "cell_type": "markdown",
   "metadata": {},
   "source": [
    "**Выявленные особенности:**"
   ]
  },
  {
   "cell_type": "markdown",
   "metadata": {},
   "source": [
    "В датафрейме 23699 записей и 22 столбца, пропуски присутствуют в 14 столбцах. Самое большое количество пропусков в столбце, в котором указыватся принадлежность жилья к типу «апартаменты» — 20 тыс. из 23. Еще в трех столбцах количество пропусков близко к 50% — balcony, parks_nearest, ponds_nearest. В целом, пропусков достаточно много, особенно в данных, полученных автоматически. Какие-то из них попробуем восстановить, какие-то будем игнорировать, какие-то удалим."
   ]
  },
  {
   "cell_type": "markdown",
   "metadata": {},
   "source": [
    "## Предобработка данных"
   ]
  },
  {
   "cell_type": "markdown",
   "metadata": {},
   "source": [
    "Пропуски обнаружены в 14 столбцах из 22. Посмотрим на каждый столбец, начиная с того, где пропусков меньше всего. Решим, как поступить с каждым из столбцов, исходя из типа пропусков и их количества. "
   ]
  },
  {
   "cell_type": "markdown",
   "metadata": {},
   "source": [
    "### locality_name"
   ]
  },
  {
   "cell_type": "markdown",
   "metadata": {},
   "source": [
    "Населенный пункт, в котором находится жилье, обычно существенно влияет на его стоимость. Если данные о нем отсуствуют, это достаточно осложняет как поиск жилья, так и определение его стоимости. Строк с пропущенным городом немного, но можно попробовать восстановить некоторые из них, для которых, например, существует полное совпадение по дальности от аэропорта.\n",
    "Для начала найдем все расстояния, для которых город не указан. Потом по ним найдем строки, в которых с таким расстоянием город есть."
   ]
  },
  {
   "cell_type": "code",
   "execution_count": 5,
   "metadata": {},
   "outputs": [],
   "source": [
    "dist_no_city = data[data['locality_name'].isnull()]['airports_nearest'].value_counts().index # создаем список расстояний, для\n",
    "                                                                                             # которых не указан город\n",
    "dist_cities_restore = {} # создадим словарь, в который добавим расстояния, для которых известен город\n",
    "for dist in dist_no_city:\n",
    "    try:\n",
    "        dist_cities_restore[dist] = (\n",
    "                                    data\n",
    "                                    .query('airports_nearest == @dist and locality_name.notnull().values')\n",
    "                                    ['locality_name'].mode()[0] # достаем самое частое значение\n",
    "                                    )\n",
    "    except:\n",
    "        pass"
   ]
  },
  {
   "cell_type": "markdown",
   "metadata": {},
   "source": [
    "Заменим пропуски городами, которые были найдены по соответствию с расстоянием от аэропорта."
   ]
  },
  {
   "cell_type": "code",
   "execution_count": 6,
   "metadata": {},
   "outputs": [],
   "source": [
    "for dist in dist_cities_restore:\n",
    "    for index in data.query('airports_nearest == @dist and locality_name.isnull().values').index:\n",
    "        data.loc[index, 'locality_name'] = dist_cities_restore[dist]"
   ]
  },
  {
   "cell_type": "code",
   "execution_count": 7,
   "metadata": {},
   "outputs": [
    {
     "data": {
      "text/plain": [
       "28"
      ]
     },
     "execution_count": 7,
     "metadata": {},
     "output_type": "execute_result"
    }
   ],
   "source": [
    "data['locality_name'].isnull().sum()"
   ]
  },
  {
   "cell_type": "markdown",
   "metadata": {},
   "source": [
    "Осталось совсем мало значений, для которых город не нашелся. Можно удалить их, поскольку достоверно восстановить их будет затруднительно."
   ]
  },
  {
   "cell_type": "code",
   "execution_count": 8,
   "metadata": {},
   "outputs": [],
   "source": [
    "data = data.drop(data[data['locality_name'].isnull()].index).reset_index(drop=True)"
   ]
  },
  {
   "cell_type": "markdown",
   "metadata": {},
   "source": [
    "Помимо пропусков, в столбце присутствуют различные написания одного и того же названия, например, слово «поселок» может быть написано как с буквой Е, так и с Ё. Либо в одном месте название фигурирует с приставкой поселок, а в другом без нее. Нужно привести все значения к одному виду — удалим все слова, начинающиеся с маленькой буквы, оставив лишь названия."
   ]
  },
  {
   "cell_type": "code",
   "execution_count": 9,
   "metadata": {},
   "outputs": [
    {
     "name": "stdout",
     "output_type": "stream",
     "text": [
      "CPU times: user 36 s, sys: 25 ms, total: 36 s\n",
      "Wall time: 36.5 s\n"
     ]
    }
   ],
   "source": [
    "%%time\n",
    "for index, value in enumerate(data['locality_name']):\n",
    "    name = []\n",
    "    for word in value.split():\n",
    "        if word[0].isupper():  #удаляем все слова, которые начинаются с маленькой буквы. Оставим лишь названия нас. пунктов.\n",
    "            name.append(word)\n",
    "    data.loc[index, 'locality_name'] = ' '.join(name)"
   ]
  },
  {
   "cell_type": "code",
   "execution_count": 10,
   "metadata": {},
   "outputs": [
    {
     "data": {
      "text/plain": [
       "Санкт-Петербург    15742\n",
       "Мурино               590\n",
       "Кудрово              472\n",
       "Шушары               440\n",
       "Всеволожск           398\n",
       "                   ...  \n",
       "Шпаньково              1\n",
       "Красносельское         1\n",
       "Почап                  1\n",
       "Плоское                1\n",
       "Пустынка               1\n",
       "Name: locality_name, Length: 305, dtype: int64"
      ]
     },
     "execution_count": 10,
     "metadata": {},
     "output_type": "execute_result"
    }
   ],
   "source": [
    "data['locality_name'].value_counts()"
   ]
  },
  {
   "cell_type": "markdown",
   "metadata": {},
   "source": [
    "### floors_total"
   ]
  },
  {
   "cell_type": "code",
   "execution_count": 11,
   "metadata": {},
   "outputs": [
    {
     "data": {
      "text/plain": [
       "count    23586.000000\n",
       "mean        10.678665\n",
       "std          6.597889\n",
       "min          1.000000\n",
       "25%          5.000000\n",
       "50%          9.000000\n",
       "75%         16.000000\n",
       "max         60.000000\n",
       "Name: floors_total, dtype: float64"
      ]
     },
     "execution_count": 11,
     "metadata": {},
     "output_type": "execute_result"
    }
   ],
   "source": [
    "data['floors_total'].describe()"
   ]
  },
  {
   "cell_type": "markdown",
   "metadata": {},
   "source": [
    "Пропущенных значений в столбце с этажностью дома также не очень много. Можно попробовать заменить их медианой, полученной из группировки по населенному пункту и этажу квартиры."
   ]
  },
  {
   "cell_type": "code",
   "execution_count": 12,
   "metadata": {},
   "outputs": [
    {
     "name": "stderr",
     "output_type": "stream",
     "text": [
      "/opt/conda/lib/python3.7/site-packages/numpy/lib/nanfunctions.py:1111: RuntimeWarning: Mean of empty slice\n",
      "  return np.nanmean(a, axis, out=out, keepdims=keepdims)\n"
     ]
    }
   ],
   "source": [
    "data['floors_total'] = data.groupby(['locality_name','floor'])['floors_total'].apply(lambda x: x.fillna(x.median()))"
   ]
  },
  {
   "cell_type": "code",
   "execution_count": 13,
   "metadata": {},
   "outputs": [
    {
     "data": {
      "text/html": [
       "<div>\n",
       "<style scoped>\n",
       "    .dataframe tbody tr th:only-of-type {\n",
       "        vertical-align: middle;\n",
       "    }\n",
       "\n",
       "    .dataframe tbody tr th {\n",
       "        vertical-align: top;\n",
       "    }\n",
       "\n",
       "    .dataframe thead th {\n",
       "        text-align: right;\n",
       "    }\n",
       "</style>\n",
       "<table border=\"1\" class=\"dataframe\">\n",
       "  <thead>\n",
       "    <tr style=\"text-align: right;\">\n",
       "      <th></th>\n",
       "      <th>total_images</th>\n",
       "      <th>last_price</th>\n",
       "      <th>total_area</th>\n",
       "      <th>first_day_exposition</th>\n",
       "      <th>rooms</th>\n",
       "      <th>ceiling_height</th>\n",
       "      <th>floors_total</th>\n",
       "      <th>living_area</th>\n",
       "      <th>floor</th>\n",
       "      <th>is_apartment</th>\n",
       "      <th>...</th>\n",
       "      <th>kitchen_area</th>\n",
       "      <th>balcony</th>\n",
       "      <th>locality_name</th>\n",
       "      <th>airports_nearest</th>\n",
       "      <th>cityCenters_nearest</th>\n",
       "      <th>parks_around3000</th>\n",
       "      <th>parks_nearest</th>\n",
       "      <th>ponds_around3000</th>\n",
       "      <th>ponds_nearest</th>\n",
       "      <th>days_exposition</th>\n",
       "    </tr>\n",
       "  </thead>\n",
       "  <tbody>\n",
       "    <tr>\n",
       "      <td>20127</td>\n",
       "      <td>16</td>\n",
       "      <td>3850000.0</td>\n",
       "      <td>36.0</td>\n",
       "      <td>2018-10-12T00:00:00</td>\n",
       "      <td>1</td>\n",
       "      <td>NaN</td>\n",
       "      <td>NaN</td>\n",
       "      <td>19.0</td>\n",
       "      <td>15</td>\n",
       "      <td>NaN</td>\n",
       "      <td>...</td>\n",
       "      <td>8.5</td>\n",
       "      <td>NaN</td>\n",
       "      <td>Стрельна</td>\n",
       "      <td>28276.0</td>\n",
       "      <td>23454.0</td>\n",
       "      <td>0.0</td>\n",
       "      <td>NaN</td>\n",
       "      <td>0.0</td>\n",
       "      <td>NaN</td>\n",
       "      <td>183.0</td>\n",
       "    </tr>\n",
       "  </tbody>\n",
       "</table>\n",
       "<p>1 rows × 22 columns</p>\n",
       "</div>"
      ],
      "text/plain": [
       "       total_images  last_price  total_area first_day_exposition  rooms  \\\n",
       "20127            16   3850000.0        36.0  2018-10-12T00:00:00      1   \n",
       "\n",
       "       ceiling_height  floors_total  living_area  floor is_apartment  ...  \\\n",
       "20127             NaN           NaN         19.0     15          NaN  ...   \n",
       "\n",
       "       kitchen_area  balcony  locality_name  airports_nearest  \\\n",
       "20127           8.5      NaN       Стрельна           28276.0   \n",
       "\n",
       "      cityCenters_nearest  parks_around3000  parks_nearest  ponds_around3000  \\\n",
       "20127             23454.0               0.0            NaN               0.0   \n",
       "\n",
       "       ponds_nearest  days_exposition  \n",
       "20127            NaN            183.0  \n",
       "\n",
       "[1 rows x 22 columns]"
      ]
     },
     "execution_count": 13,
     "metadata": {},
     "output_type": "execute_result"
    }
   ],
   "source": [
    "data[data['floors_total'].isnull()]"
   ]
  },
  {
   "cell_type": "markdown",
   "metadata": {},
   "source": [
    "Осталось одно пустое значение. Можно посмотреть, максимальное количество этажей, представленное в этом населенном пункте, и, если это значение больше или равно 15, заполнить пропуск им, либо же удалить."
   ]
  },
  {
   "cell_type": "code",
   "execution_count": 14,
   "metadata": {},
   "outputs": [
    {
     "name": "stdout",
     "output_type": "stream",
     "text": [
      "Заполнено значением 15.0\n"
     ]
    }
   ],
   "source": [
    "if data[data['locality_name'] == 'Стрельна']['floors_total'].max() >= 15:\n",
    "    data.loc[20127, 'floors_total'] = data[data['locality_name'] == 'Стрельна']['floors_total'].max()\n",
    "    print('Заполнено значением', data.loc[20127, 'floors_total'])\n",
    "else:\n",
    "    print('Не удалось заполнить, удаляем')\n",
    "    data = data.drop(data[data['floors_total'].isnull()].index).reset_index(drop=True)"
   ]
  },
  {
   "cell_type": "markdown",
   "metadata": {},
   "source": [
    "Все пропуски в этом столбце заполнены. Вероятно, стоит заменить типа столбца на int вместо текущего float, поскольку этаж не может быть числом с плавающей точкой (по крайней мере в наших данных таких нет)."
   ]
  },
  {
   "cell_type": "code",
   "execution_count": 15,
   "metadata": {},
   "outputs": [],
   "source": [
    "data['floors_total'] = data['floors_total'].astype('int')"
   ]
  },
  {
   "cell_type": "markdown",
   "metadata": {},
   "source": [
    "### living_area"
   ]
  },
  {
   "cell_type": "code",
   "execution_count": 16,
   "metadata": {},
   "outputs": [
    {
     "data": {
      "text/plain": [
       "count    21773.000000\n",
       "mean        34.448452\n",
       "std         22.032504\n",
       "min          2.000000\n",
       "25%         18.600000\n",
       "50%         30.000000\n",
       "75%         42.300000\n",
       "max        409.700000\n",
       "Name: living_area, dtype: float64"
      ]
     },
     "execution_count": 16,
     "metadata": {},
     "output_type": "execute_result"
    }
   ],
   "source": [
    "data['living_area'].describe()"
   ]
  },
  {
   "cell_type": "markdown",
   "metadata": {},
   "source": [
    "Пропущенных значений в этом и следующем столбце уже больше — почти 10%. Можно восстановить пропуски средним значением, полученным по квартирам с примерно такой же площадью и количеством комнат."
   ]
  },
  {
   "cell_type": "code",
   "execution_count": 17,
   "metadata": {},
   "outputs": [],
   "source": [
    "data['living_area'] = (\n",
    "                data\n",
    "                .groupby([pd.cut(data['total_area'], range(int(data['total_area'].min()), int(data['total_area'].max()), 2)), \n",
    "                                     'rooms'])['living_area'].apply(lambda x: x.fillna(round(x.mean(), 1)))\n",
    "                    )"
   ]
  },
  {
   "cell_type": "code",
   "execution_count": 18,
   "metadata": {},
   "outputs": [
    {
     "data": {
      "text/plain": [
       "35"
      ]
     },
     "execution_count": 18,
     "metadata": {},
     "output_type": "execute_result"
    }
   ],
   "source": [
    "data['living_area'].isnull().sum()"
   ]
  },
  {
   "cell_type": "markdown",
   "metadata": {},
   "source": [
    "Попробуем добить остатки средним по площади квартиры без учета комнат."
   ]
  },
  {
   "cell_type": "code",
   "execution_count": 19,
   "metadata": {},
   "outputs": [],
   "source": [
    "data['living_area'] = (\n",
    "                        data\n",
    "                        .groupby(pd.cut(data['total_area'], range(int(data['total_area'].min()),\n",
    "                                                                    int(data['total_area'].max()), 2)))\n",
    "                                            ['living_area'].apply(lambda x: x.fillna(round(x.mean(), 1)))\n",
    "                                    )"
   ]
  },
  {
   "cell_type": "code",
   "execution_count": 20,
   "metadata": {},
   "outputs": [
    {
     "data": {
      "text/plain": [
       "12"
      ]
     },
     "execution_count": 20,
     "metadata": {},
     "output_type": "execute_result"
    }
   ],
   "source": [
    "data['living_area'].isnull().sum()"
   ]
  },
  {
   "cell_type": "markdown",
   "metadata": {},
   "source": [
    "Осталось еще 12 пустых значений. Раз эти строки не заполнены, вероятно, они являются выбросами, и их можно удалить."
   ]
  },
  {
   "cell_type": "code",
   "execution_count": 21,
   "metadata": {},
   "outputs": [],
   "source": [
    "data = data.drop(data[data['living_area'].isnull()].index).reset_index(drop=True)"
   ]
  },
  {
   "cell_type": "markdown",
   "metadata": {},
   "source": [
    "### kitchen_area"
   ]
  },
  {
   "cell_type": "code",
   "execution_count": 22,
   "metadata": {},
   "outputs": [
    {
     "data": {
      "text/plain": [
       "count    21396.000000\n",
       "mean        10.558809\n",
       "std          5.853382\n",
       "min          1.300000\n",
       "25%          7.000000\n",
       "50%          9.100000\n",
       "75%         12.000000\n",
       "max        107.000000\n",
       "Name: kitchen_area, dtype: float64"
      ]
     },
     "execution_count": 22,
     "metadata": {},
     "output_type": "execute_result"
    }
   ],
   "source": [
    "data['kitchen_area'].describe()"
   ]
  },
  {
   "cell_type": "markdown",
   "metadata": {},
   "source": [
    "В этом столбце около 10% пропусков. Попробуем заменить их средним по общей и жилой площади. Незаполненные значения пока оставим пустыми."
   ]
  },
  {
   "cell_type": "code",
   "execution_count": 23,
   "metadata": {},
   "outputs": [],
   "source": [
    "living_range = pd.cut(data['living_area'], range(int(data['living_area'].min()), int(data['living_area'].max()), 2))\n",
    "#создаем разделение по небольшим диапазонам по максимальному и минимальному значению жилой площади"
   ]
  },
  {
   "cell_type": "code",
   "execution_count": 24,
   "metadata": {},
   "outputs": [],
   "source": [
    "data['kitchen_area'] = (\n",
    "                            data\n",
    "                            .groupby([living_range, \n",
    "                                     pd.cut(data['total_area'], range(int(data['total_area'].min()),\n",
    "                                                                      int(data['total_area'].max()), 2))])\n",
    "                                                ['kitchen_area'].apply(lambda x: x.fillna(round(x.mean(), 1)))\n",
    "                        )"
   ]
  },
  {
   "cell_type": "code",
   "execution_count": 25,
   "metadata": {
    "scrolled": false
   },
   "outputs": [
    {
     "data": {
      "text/plain": [
       "107"
      ]
     },
     "execution_count": 25,
     "metadata": {},
     "output_type": "execute_result"
    }
   ],
   "source": [
    "data['kitchen_area'].isnull().sum() "
   ]
  },
  {
   "cell_type": "markdown",
   "metadata": {},
   "source": [
    "Попробуем добить остатки средним по площади квартиры без учета комнат. Незаполненные значения удалим."
   ]
  },
  {
   "cell_type": "code",
   "execution_count": 26,
   "metadata": {},
   "outputs": [],
   "source": [
    "data['kitchen_area'] = (data.groupby([pd.cut(data['total_area'], range(int(data['total_area'].min()), \n",
    "                                                                      int(data['total_area'].max()), 2))])\n",
    "                                                ['kitchen_area'].apply(lambda x: x.fillna(round(x.mean(), 1))))"
   ]
  },
  {
   "cell_type": "code",
   "execution_count": 27,
   "metadata": {},
   "outputs": [
    {
     "data": {
      "text/plain": [
       "8"
      ]
     },
     "execution_count": 27,
     "metadata": {},
     "output_type": "execute_result"
    }
   ],
   "source": [
    "data['kitchen_area'].isnull().sum()"
   ]
  },
  {
   "cell_type": "code",
   "execution_count": 28,
   "metadata": {},
   "outputs": [],
   "source": [
    "data = data.drop(data[data['kitchen_area'].isnull()].index).reset_index(drop=True)"
   ]
  },
  {
   "cell_type": "markdown",
   "metadata": {},
   "source": [
    "### days_exposition"
   ]
  },
  {
   "cell_type": "code",
   "execution_count": 29,
   "metadata": {},
   "outputs": [
    {
     "data": {
      "text/plain": [
       "count    20475.000000\n",
       "mean       180.883810\n",
       "std        219.840928\n",
       "min          1.000000\n",
       "25%         45.000000\n",
       "50%         95.000000\n",
       "75%        232.000000\n",
       "max       1580.000000\n",
       "Name: days_exposition, dtype: float64"
      ]
     },
     "execution_count": 29,
     "metadata": {},
     "output_type": "execute_result"
    }
   ],
   "source": [
    "data['days_exposition'].describe()"
   ]
  },
  {
   "cell_type": "markdown",
   "metadata": {},
   "source": [
    "В этом столбце пропущено 13% значений. Попробуем заменить пропуски в столбце с помощью медианного периода, в течение которого продаются квартиры с такой же площадью в этом же населенном пункте."
   ]
  },
  {
   "cell_type": "code",
   "execution_count": 30,
   "metadata": {},
   "outputs": [],
   "source": [
    "data['days_exposition'] = (data\n",
    "                               .groupby(['locality_name', \n",
    "                                pd.cut(data['total_area'], range(int(data['total_area'].min()), \n",
    "                                                                 int(data['total_area'].max()), 2))])\n",
    "                               ['days_exposition'].apply(lambda x: x.fillna(x.median()))\n",
    "                              )"
   ]
  },
  {
   "cell_type": "code",
   "execution_count": 31,
   "metadata": {},
   "outputs": [
    {
     "data": {
      "text/plain": [
       "306"
      ]
     },
     "execution_count": 31,
     "metadata": {},
     "output_type": "execute_result"
    }
   ],
   "source": [
    "data['days_exposition'].isnull().sum()"
   ]
  },
  {
   "cell_type": "markdown",
   "metadata": {},
   "source": [
    "Если заменять остатки по медиане населенного пункта или площади, то может получиться не совсем достоверно значение, и распределение будет смещено. В то же время 300 строк это немало, и удалив их можно потерять что-то важное. Попробуем пока оставить эти строки."
   ]
  },
  {
   "cell_type": "markdown",
   "metadata": {},
   "source": [
    "### parks_nearest и parks_around3000"
   ]
  },
  {
   "cell_type": "markdown",
   "metadata": {},
   "source": [
    "Два этих столбца зависят друг от друга, поэтому пропуски в них можно попробовать заменить совместно. Посмотрим, какой разброс в данных столбца parks_nearest, и значения выше какого отсутствуют."
   ]
  },
  {
   "cell_type": "code",
   "execution_count": 32,
   "metadata": {},
   "outputs": [
    {
     "data": {
      "text/plain": [
       "count    8059.000000\n",
       "mean      490.756670\n",
       "std       342.585361\n",
       "min         1.000000\n",
       "25%       288.000000\n",
       "50%       454.000000\n",
       "75%       612.000000\n",
       "max      3190.000000\n",
       "Name: parks_nearest, dtype: float64"
      ]
     },
     "execution_count": 32,
     "metadata": {},
     "output_type": "execute_result"
    }
   ],
   "source": [
    "data['parks_nearest'].describe()"
   ]
  },
  {
   "cell_type": "code",
   "execution_count": 33,
   "metadata": {},
   "outputs": [
    {
     "data": {
      "text/plain": [
       "count    18141.000000\n",
       "mean         0.611157\n",
       "std          0.801910\n",
       "min          0.000000\n",
       "25%          0.000000\n",
       "50%          0.000000\n",
       "75%          1.000000\n",
       "max          3.000000\n",
       "Name: parks_around3000, dtype: float64"
      ]
     },
     "execution_count": 33,
     "metadata": {},
     "output_type": "execute_result"
    }
   ],
   "source": [
    "data['parks_around3000'].describe()"
   ]
  },
  {
   "cell_type": "markdown",
   "metadata": {},
   "source": [
    "То есть, скорее всего, отсутствующие значения — это парки, которые находятся от жилья дальше, чем в 3190 км. Посмотрим, совпадают ли все пропуски в столбце в parks_around3000 с пропусками в parks_nearest."
   ]
  },
  {
   "cell_type": "code",
   "execution_count": 34,
   "metadata": {},
   "outputs": [
    {
     "data": {
      "text/plain": [
       "True"
      ]
     },
     "execution_count": 34,
     "metadata": {},
     "output_type": "execute_result"
    }
   ],
   "source": [
    "len(data[data['parks_around3000'].isnull() & data['parks_nearest'].isnull()]) == len(data[data['parks_around3000'].isnull()])"
   ]
  },
  {
   "cell_type": "markdown",
   "metadata": {},
   "source": [
    "Количество совпадает, а это значит, что пропуски в parks_around3000 означают отсутствие соответствующих парков. Поэтому пропуски можем заменить нулями."
   ]
  },
  {
   "cell_type": "code",
   "execution_count": 35,
   "metadata": {},
   "outputs": [],
   "source": [
    "data['parks_around3000'] = data['parks_around3000'].fillna(0)"
   ]
  },
  {
   "cell_type": "markdown",
   "metadata": {},
   "source": [
    "Дальше смотрим, совпадает ли количество пропусков в parks_nearest с количеством нулей в parks_around3000."
   ]
  },
  {
   "cell_type": "code",
   "execution_count": 36,
   "metadata": {},
   "outputs": [
    {
     "data": {
      "text/plain": [
       "True"
      ]
     },
     "execution_count": 36,
     "metadata": {},
     "output_type": "execute_result"
    }
   ],
   "source": [
    "len(data[(data['parks_around3000'] == 0) & data['parks_nearest'].isnull()]) == len(data[data['parks_nearest'].isnull()])"
   ]
  },
  {
   "cell_type": "markdown",
   "metadata": {},
   "source": [
    "Совпадает, а это значит, что пропуски в parks_nearest означают отсутствие парков в радиусе ~3 км. Столбец parks_nearest оставим в таком виде — дальше он нам не пригодится."
   ]
  },
  {
   "cell_type": "markdown",
   "metadata": {},
   "source": [
    "### ponds_nearest и ponds_around3000"
   ]
  },
  {
   "cell_type": "markdown",
   "metadata": {},
   "source": [
    "С этими столбцами ситуация аналогичная. Посмотрим, какой разброс в данных столбца ponds_nearest, и значения выше какого отсутствуют."
   ]
  },
  {
   "cell_type": "code",
   "execution_count": 37,
   "metadata": {},
   "outputs": [
    {
     "data": {
      "text/plain": [
       "count    9089.000000\n",
       "mean      518.136209\n",
       "std       277.671995\n",
       "min        13.000000\n",
       "25%       294.000000\n",
       "50%       502.000000\n",
       "75%       729.000000\n",
       "max      1344.000000\n",
       "Name: ponds_nearest, dtype: float64"
      ]
     },
     "execution_count": 37,
     "metadata": {},
     "output_type": "execute_result"
    }
   ],
   "source": [
    "data['ponds_nearest'].describe()"
   ]
  },
  {
   "cell_type": "code",
   "execution_count": 38,
   "metadata": {},
   "outputs": [
    {
     "data": {
      "text/plain": [
       "count    18141.000000\n",
       "mean         0.769803\n",
       "std          0.937892\n",
       "min          0.000000\n",
       "25%          0.000000\n",
       "50%          1.000000\n",
       "75%          1.000000\n",
       "max          3.000000\n",
       "Name: ponds_around3000, dtype: float64"
      ]
     },
     "execution_count": 38,
     "metadata": {},
     "output_type": "execute_result"
    }
   ],
   "source": [
    "data['ponds_around3000'].describe()"
   ]
  },
  {
   "cell_type": "markdown",
   "metadata": {},
   "source": [
    "То есть, скорее всего, отсутствующие значения — это парки, которые находятся от жилья дальше, чем в 1344 км. Посмотрим, совпадают ли все пропуски в столбце в ponds_around3000 с пропусками в ponds_nearest."
   ]
  },
  {
   "cell_type": "code",
   "execution_count": 39,
   "metadata": {},
   "outputs": [
    {
     "data": {
      "text/plain": [
       "True"
      ]
     },
     "execution_count": 39,
     "metadata": {},
     "output_type": "execute_result"
    }
   ],
   "source": [
    "len(data[data['ponds_around3000'].isnull() & data['ponds_nearest'].isnull()]) == len(data[data['ponds_around3000'].isnull()])"
   ]
  },
  {
   "cell_type": "markdown",
   "metadata": {},
   "source": [
    "Количество совпадает, а это значит, что пропуски в ponds_around3000 означают отсутствие соответствующих парков. Поэтому пропуски можем заменить нулями."
   ]
  },
  {
   "cell_type": "code",
   "execution_count": 40,
   "metadata": {},
   "outputs": [],
   "source": [
    "data['ponds_around3000'] = data['ponds_around3000'].fillna(0)"
   ]
  },
  {
   "cell_type": "markdown",
   "metadata": {},
   "source": [
    "Дальше смотрим, совпадает ли количество пропусков в ponds_nearest с количеством нулей в ponds_around3000."
   ]
  },
  {
   "cell_type": "code",
   "execution_count": 41,
   "metadata": {},
   "outputs": [
    {
     "data": {
      "text/plain": [
       "True"
      ]
     },
     "execution_count": 41,
     "metadata": {},
     "output_type": "execute_result"
    }
   ],
   "source": [
    "len(data[(data['parks_around3000'] == 0) & data['parks_nearest'].isnull()]) == len(data[data['parks_nearest'].isnull()])"
   ]
  },
  {
   "cell_type": "markdown",
   "metadata": {},
   "source": [
    "Совпадает, а это значит, что пропуски в ponds_nearest означают отсутствие прудов в радиусе ~3 км. Столбец ponds_nearest оставим в таком виде."
   ]
  },
  {
   "cell_type": "markdown",
   "metadata": {},
   "source": [
    "### airports_nearest"
   ]
  },
  {
   "cell_type": "code",
   "execution_count": 42,
   "metadata": {},
   "outputs": [
    {
     "data": {
      "text/plain": [
       "count    18117.000000\n",
       "mean     28801.008666\n",
       "std      12636.957790\n",
       "min          0.000000\n",
       "25%      18576.000000\n",
       "50%      26752.000000\n",
       "75%      37294.000000\n",
       "max      84869.000000\n",
       "Name: airports_nearest, dtype: float64"
      ]
     },
     "execution_count": 42,
     "metadata": {},
     "output_type": "execute_result"
    }
   ],
   "source": [
    "data['airports_nearest'].describe()"
   ]
  },
  {
   "cell_type": "markdown",
   "metadata": {},
   "source": [
    "Дальность аэропорта можно попробовать восстановить по населенному пункту. Пропуски, заменить которые не удастся, оставим в таком виде, поскольку столбец далее не используется, а столько строк удалять нельзя."
   ]
  },
  {
   "cell_type": "code",
   "execution_count": 43,
   "metadata": {},
   "outputs": [],
   "source": [
    "data['airports_nearest'] = data.groupby('locality_name')['airports_nearest'].apply(lambda x: x.fillna(round(x.mean(), 1)))"
   ]
  },
  {
   "cell_type": "markdown",
   "metadata": {},
   "source": [
    "Оставшиеся пропуски"
   ]
  },
  {
   "cell_type": "code",
   "execution_count": 44,
   "metadata": {},
   "outputs": [
    {
     "data": {
      "text/plain": [
       "4829"
      ]
     },
     "execution_count": 44,
     "metadata": {},
     "output_type": "execute_result"
    }
   ],
   "source": [
    "data['airports_nearest'].isnull().sum()"
   ]
  },
  {
   "cell_type": "markdown",
   "metadata": {},
   "source": [
    "### cityCenters_nearest"
   ]
  },
  {
   "cell_type": "code",
   "execution_count": 45,
   "metadata": {},
   "outputs": [
    {
     "data": {
      "text/plain": [
       "count    18140.000000\n",
       "mean     14203.357222\n",
       "std       8604.374288\n",
       "min        181.000000\n",
       "25%       9259.250000\n",
       "50%      13107.000000\n",
       "75%      16294.500000\n",
       "max      65968.000000\n",
       "Name: cityCenters_nearest, dtype: float64"
      ]
     },
     "execution_count": 45,
     "metadata": {},
     "output_type": "execute_result"
    }
   ],
   "source": [
    "data['cityCenters_nearest'].describe()"
   ]
  },
  {
   "cell_type": "markdown",
   "metadata": {},
   "source": [
    "Дальность от центра попробовать восстановить по населенному пункту. Пропуски, заменить которые не удастся, оставим в таком виде, поскольку столбец далее используется только для Санкт-Петербурга."
   ]
  },
  {
   "cell_type": "code",
   "execution_count": 46,
   "metadata": {},
   "outputs": [],
   "source": [
    "data['cityCenters_nearest'] = (data\n",
    "                               .groupby('locality_name')['cityCenters_nearest']\n",
    "                               .apply(lambda x: x.fillna(round(x.mean(), 1)))\n",
    "                              )"
   ]
  },
  {
   "cell_type": "markdown",
   "metadata": {},
   "source": [
    "Оставшиеся пропуски"
   ]
  },
  {
   "cell_type": "code",
   "execution_count": 47,
   "metadata": {},
   "outputs": [
    {
     "data": {
      "text/plain": [
       "4829"
      ]
     },
     "execution_count": 47,
     "metadata": {},
     "output_type": "execute_result"
    }
   ],
   "source": [
    "data['cityCenters_nearest'].isnull().sum()"
   ]
  },
  {
   "cell_type": "markdown",
   "metadata": {},
   "source": [
    "В этом и предыдущем столбце присутствует одинаковое количество пропусков. А значит, для каких-то населенных пунктов не указано расстояние от Питера ни в одной из строчек и восстановить расстояние можно только с помощью внешних источников, типа карты."
   ]
  },
  {
   "cell_type": "markdown",
   "metadata": {},
   "source": [
    "### ceiling_height"
   ]
  },
  {
   "cell_type": "code",
   "execution_count": 48,
   "metadata": {},
   "outputs": [
    {
     "data": {
      "text/plain": [
       "count    14484.000000\n",
       "mean         2.771014\n",
       "std          1.261755\n",
       "min          1.000000\n",
       "25%          2.510000\n",
       "50%          2.650000\n",
       "75%          2.800000\n",
       "max        100.000000\n",
       "Name: ceiling_height, dtype: float64"
      ]
     },
     "execution_count": 48,
     "metadata": {},
     "output_type": "execute_result"
    }
   ],
   "source": [
    "data['ceiling_height'].describe()"
   ]
  },
  {
   "cell_type": "markdown",
   "metadata": {},
   "source": [
    "ceiling_height можно заменить медианой по населенному пункту и этажности дома. Предположим, что в одинаковых домах одиноковая высота потолков. Количество пропущенных значений достаточно большое — 40%, и достоверно восстановить все нам не удастся."
   ]
  },
  {
   "cell_type": "code",
   "execution_count": 49,
   "metadata": {},
   "outputs": [],
   "source": [
    "data['ceiling_height'] = data.groupby(['locality_name', \n",
    "                                       'floors_total'])['ceiling_height'].apply(lambda x: x.fillna(x.median()))"
   ]
  },
  {
   "cell_type": "code",
   "execution_count": 50,
   "metadata": {},
   "outputs": [
    {
     "data": {
      "text/plain": [
       "319"
      ]
     },
     "execution_count": 50,
     "metadata": {},
     "output_type": "execute_result"
    }
   ],
   "source": [
    "len(data[data['ceiling_height'].isnull()])"
   ]
  },
  {
   "cell_type": "markdown",
   "metadata": {},
   "source": [
    "По тем же соображениям, что и с days_exposed оставим эти пропуски."
   ]
  },
  {
   "cell_type": "markdown",
   "metadata": {},
   "source": [
    "### balcony"
   ]
  },
  {
   "cell_type": "code",
   "execution_count": 51,
   "metadata": {},
   "outputs": [
    {
     "data": {
      "text/plain": [
       "count    12150.000000\n",
       "mean         1.151770\n",
       "std          1.071259\n",
       "min          0.000000\n",
       "25%          0.000000\n",
       "50%          1.000000\n",
       "75%          2.000000\n",
       "max          5.000000\n",
       "Name: balcony, dtype: float64"
      ]
     },
     "execution_count": 51,
     "metadata": {},
     "output_type": "execute_result"
    }
   ],
   "source": [
    "data['balcony'].describe()"
   ]
  },
  {
   "cell_type": "markdown",
   "metadata": {},
   "source": [
    "Для этого столбца можно предположить, что, если человек не указал число балконов, то скорее всего, их нет. Такие пропуски правильно заменить на 0."
   ]
  },
  {
   "cell_type": "code",
   "execution_count": 52,
   "metadata": {},
   "outputs": [],
   "source": [
    "data['balcony'] = data['balcony'].fillna(0)"
   ]
  },
  {
   "cell_type": "markdown",
   "metadata": {},
   "source": [
    "### is_apartment"
   ]
  },
  {
   "cell_type": "code",
   "execution_count": 53,
   "metadata": {},
   "outputs": [
    {
     "data": {
      "text/plain": [
       "count      2762\n",
       "unique        2\n",
       "top       False\n",
       "freq       2712\n",
       "Name: is_apartment, dtype: object"
      ]
     },
     "execution_count": 53,
     "metadata": {},
     "output_type": "execute_result"
    }
   ],
   "source": [
    "data['is_apartment'].describe()"
   ]
  },
  {
   "cell_type": "code",
   "execution_count": 54,
   "metadata": {},
   "outputs": [
    {
     "data": {
      "text/plain": [
       "False    2712\n",
       "True       50\n",
       "Name: is_apartment, dtype: int64"
      ]
     },
     "execution_count": 54,
     "metadata": {},
     "output_type": "execute_result"
    }
   ],
   "source": [
    "data['is_apartment'].value_counts()"
   ]
  },
  {
   "cell_type": "markdown",
   "metadata": {},
   "source": [
    "Количество пропусков в этом столбце близко к 90%, а это очень много. Возможен вариант, что пропущенные значения означают, что помещение не является апартаментами, но в то же время в столбце присутствует такой вариант как False. Значений True всего 50 штук, что достаточно мало для такой выборки. Все указывает на то, что столбец не очень-то информативен, и его можно удалить."
   ]
  },
  {
   "cell_type": "code",
   "execution_count": 55,
   "metadata": {},
   "outputs": [],
   "source": [
    "data = data.drop('is_apartment', axis='columns')"
   ]
  },
  {
   "cell_type": "markdown",
   "metadata": {},
   "source": [
    "**Итог**\n",
    "\n",
    "Мы посмотрели на каждый из 14 столбцов, в которых есть пропуски. Некотрые из них удалось заполнить полностью, либо осталось малое количество пропусков, строки с которыми были в итоге удалены. Другие столбцы удалось заполнить лишь частично, а строки с пропусками (обычно более 1%) было решено оставить, чтобы не терять информацию из других столбцов.\n",
    "Чаще всего применялся метод заполнения медианным или средним значением по сгруппированным по определенному признаку строкам.\n",
    "Два столбца не зполнялись вообще, поскольку не участвуют в дальнейшем анализе, а один был удален в связи со своей неинформативностью."
   ]
  },
  {
   "cell_type": "markdown",
   "metadata": {},
   "source": [
    "## Добавление новых столбцов"
   ]
  },
  {
   "cell_type": "markdown",
   "metadata": {},
   "source": [
    "Добавим в датасет несколько столбцов. Начнем со столбца со стоимостью квадратного метра — price_per_sq."
   ]
  },
  {
   "cell_type": "code",
   "execution_count": 56,
   "metadata": {},
   "outputs": [],
   "source": [
    "data['price_per_sq'] = data['last_price'] / data['total_area']"
   ]
  },
  {
   "cell_type": "code",
   "execution_count": 57,
   "metadata": {},
   "outputs": [
    {
     "data": {
      "text/plain": [
       "count    2.365100e+04\n",
       "mean     9.932437e+04\n",
       "std      5.001738e+04\n",
       "min      1.118349e+02\n",
       "25%      7.661703e+04\n",
       "50%      9.500000e+04\n",
       "75%      1.142115e+05\n",
       "max      1.907500e+06\n",
       "Name: price_per_sq, dtype: float64"
      ]
     },
     "execution_count": 57,
     "metadata": {},
     "output_type": "execute_result"
    }
   ],
   "source": [
    "data['price_per_sq'].describe()"
   ]
  },
  {
   "cell_type": "markdown",
   "metadata": {},
   "source": [
    "Далее три столбца: день недели, месяц и год публикации объявления. Для начала переведем столбец 'first_day_exposition' в формат даты, чтобы затем достать из него необходимые данные."
   ]
  },
  {
   "cell_type": "code",
   "execution_count": 58,
   "metadata": {},
   "outputs": [],
   "source": [
    "data['first_day_exposition'] = pd.to_datetime(data['first_day_exposition'], format='%Y-%m-%dT%H:%M:%S')"
   ]
  },
  {
   "cell_type": "code",
   "execution_count": 59,
   "metadata": {},
   "outputs": [],
   "source": [
    "data['weekday'] = data['first_day_exposition'].dt.weekday #день недели"
   ]
  },
  {
   "cell_type": "code",
   "execution_count": 60,
   "metadata": {},
   "outputs": [
    {
     "data": {
      "text/plain": [
       "3    4288\n",
       "1    4176\n",
       "4    3993\n",
       "2    3962\n",
       "0    3605\n",
       "5    1931\n",
       "6    1696\n",
       "Name: weekday, dtype: int64"
      ]
     },
     "execution_count": 60,
     "metadata": {},
     "output_type": "execute_result"
    }
   ],
   "source": [
    "data['weekday'].value_counts()"
   ]
  },
  {
   "cell_type": "code",
   "execution_count": 61,
   "metadata": {},
   "outputs": [],
   "source": [
    "data['month'] = data['first_day_exposition'].dt.month #месяц"
   ]
  },
  {
   "cell_type": "code",
   "execution_count": 62,
   "metadata": {},
   "outputs": [
    {
     "data": {
      "text/plain": [
       "2     2638\n",
       "3     2584\n",
       "4     2375\n",
       "11    2369\n",
       "10    2124\n",
       "9     1981\n",
       "6     1757\n",
       "8     1743\n",
       "7     1685\n",
       "12    1636\n",
       "1     1491\n",
       "5     1268\n",
       "Name: month, dtype: int64"
      ]
     },
     "execution_count": 62,
     "metadata": {},
     "output_type": "execute_result"
    }
   ],
   "source": [
    "data['month'].value_counts()"
   ]
  },
  {
   "cell_type": "code",
   "execution_count": 63,
   "metadata": {},
   "outputs": [],
   "source": [
    "data['year'] = data['first_day_exposition'].dt.year #год"
   ]
  },
  {
   "cell_type": "code",
   "execution_count": 64,
   "metadata": {},
   "outputs": [
    {
     "data": {
      "text/plain": [
       "2018    8509\n",
       "2017    8180\n",
       "2019    2873\n",
       "2016    2770\n",
       "2015    1182\n",
       "2014     137\n",
       "Name: year, dtype: int64"
      ]
     },
     "execution_count": 64,
     "metadata": {},
     "output_type": "execute_result"
    }
   ],
   "source": [
    "data['year'].value_counts()"
   ]
  },
  {
   "cell_type": "markdown",
   "metadata": {},
   "source": [
    "Поделим этажи, на которых находится квартира, на условные категории: первый, последний, другой.."
   ]
  },
  {
   "cell_type": "code",
   "execution_count": 65,
   "metadata": {},
   "outputs": [],
   "source": [
    "def floor_category(row):\n",
    "    if row['floor'] == 1:\n",
    "        return 'первый'\n",
    "    if row['floor'] == row['floors_total']:\n",
    "        return 'последний'\n",
    "    else:\n",
    "        return 'другой'"
   ]
  },
  {
   "cell_type": "code",
   "execution_count": 66,
   "metadata": {},
   "outputs": [],
   "source": [
    "data['floor_category'] = data.apply(floor_category, axis=1)"
   ]
  },
  {
   "cell_type": "code",
   "execution_count": 67,
   "metadata": {},
   "outputs": [
    {
     "data": {
      "text/plain": [
       "другой       17411\n",
       "последний     3328\n",
       "первый        2912\n",
       "Name: floor_category, dtype: int64"
      ]
     },
     "execution_count": 67,
     "metadata": {},
     "output_type": "execute_result"
    }
   ],
   "source": [
    "data['floor_category'].value_counts()"
   ]
  },
  {
   "cell_type": "markdown",
   "metadata": {},
   "source": [
    "Столбец, в котором посчитаем соотношение жилой и общей площади. В еще одном — отношение площади кухни к общей."
   ]
  },
  {
   "cell_type": "code",
   "execution_count": 68,
   "metadata": {},
   "outputs": [],
   "source": [
    "data['living_to_total_area'] = data['living_area'] / data['total_area']"
   ]
  },
  {
   "cell_type": "code",
   "execution_count": 69,
   "metadata": {},
   "outputs": [
    {
     "data": {
      "text/plain": [
       "count    23651.000000\n",
       "mean         0.564429\n",
       "std          0.103786\n",
       "min          0.021583\n",
       "25%          0.495312\n",
       "50%          0.567376\n",
       "75%          0.636364\n",
       "max          1.000000\n",
       "Name: living_to_total_area, dtype: float64"
      ]
     },
     "execution_count": 69,
     "metadata": {},
     "output_type": "execute_result"
    }
   ],
   "source": [
    "data['living_to_total_area'].describe()"
   ]
  },
  {
   "cell_type": "code",
   "execution_count": 70,
   "metadata": {},
   "outputs": [],
   "source": [
    "data['kitchen_to_total_area'] = data['kitchen_area'] / data['total_area']"
   ]
  },
  {
   "cell_type": "code",
   "execution_count": 71,
   "metadata": {},
   "outputs": [
    {
     "data": {
      "text/plain": [
       "count    23651.000000\n",
       "mean         0.187662\n",
       "std          0.071455\n",
       "min          0.025381\n",
       "25%          0.135185\n",
       "50%          0.173214\n",
       "75%          0.232583\n",
       "max          0.787879\n",
       "Name: kitchen_to_total_area, dtype: float64"
      ]
     },
     "execution_count": 71,
     "metadata": {},
     "output_type": "execute_result"
    }
   ],
   "source": [
    "data['kitchen_to_total_area'].describe()"
   ]
  },
  {
   "cell_type": "markdown",
   "metadata": {},
   "source": [
    "**Итог**\n",
    "\n",
    "Мы создали 7 дополнительных столбцов и узнали, что в среднем стоимость квадратного метра в нашей выборке составляет 99324 руб.; больше всего объявлений было выложено в четверг; также самым богатым на объявления среди месяцев был февраль, а среди годов — 2018; объявлений с квартирами на этажах, отличных от первого и последнего, в три раза больше, чем суммы квартир на первом и последнем этажах; жилая площадь обычно занимает более 50% от всей площади квартиры, а кухня — около 18%."
   ]
  },
  {
   "cell_type": "markdown",
   "metadata": {},
   "source": [
    "## Исследовательский анализ данных"
   ]
  },
  {
   "cell_type": "markdown",
   "metadata": {},
   "source": [
    "Рассмотрим распределение площади, цены, числа комнат и высоты потолков для всего датасета. Построим для них боксплоты."
   ]
  },
  {
   "cell_type": "code",
   "execution_count": 72,
   "metadata": {
    "scrolled": true
   },
   "outputs": [
    {
     "data": {
      "image/png": "[encoded data removed]",
      "text/plain": [
       "<Figure size 1080x144 with 1 Axes>"
      ]
     },
     "metadata": {
      "needs_background": "light"
     },
     "output_type": "display_data"
    },
    {
     "data": {
      "image/png": "[encoded data removed]",
      "text/plain": [
       "<Figure size 1080x144 with 1 Axes>"
      ]
     },
     "metadata": {
      "needs_background": "light"
     },
     "output_type": "display_data"
    },
    {
     "data": {
      "image/png": "[encoded data removed]",
      "text/plain": [
       "<Figure size 1080x144 with 1 Axes>"
      ]
     },
     "metadata": {
      "needs_background": "light"
     },
     "output_type": "display_data"
    },
    {
     "data": {
      "image/png": "[encoded data removed]",
      "text/plain": [
       "<Figure size 1080x144 with 1 Axes>"
      ]
     },
     "metadata": {
      "needs_background": "light"
     },
     "output_type": "display_data"
    },
    {
     "data": {
      "image/png": "[encoded data removed]",
      "text/plain": [
       "<Figure size 1080x144 with 1 Axes>"
      ]
     },
     "metadata": {
      "needs_background": "light"
     },
     "output_type": "display_data"
    }
   ],
   "source": [
    "for column in ['total_area', 'last_price', 'rooms', 'ceiling_height','days_exposition']:\n",
    "    data.boxplot(column, vert=False, figsize=(15,2), grid=True)\n",
    "    plt.show()"
   ]
  },
  {
   "cell_type": "markdown",
   "metadata": {},
   "source": [
    "Из боксплотов видно, что в данных очень много выбросов. Например, высота потолков для некоторых квартир указана как 20 и более метров, что маловероятно. В некоторых квартирах более 17 комнат, а стоимость одной квартиры превышает 70 млн. Эти данные не типичны для наших данных, поэтому стоит их прогнорировать. Попробуем построить гистограммы вышеуказанных столбцов, убрав все выбросы. Сделаем это с помощью высчитывания окончания усов боксплота для каждого столбца (по IQR * 1.5)."
   ]
  },
  {
   "cell_type": "code",
   "execution_count": 73,
   "metadata": {},
   "outputs": [],
   "source": [
    "data_slice = data[['total_area', 'last_price', 'rooms', 'ceiling_height', 'days_exposition']].copy(deep=True) #сделаем копию\n",
    "cols_with_max = {} # словарь, в котором будут храниться столбцы и их iqr\n",
    "for column in data_slice:\n",
    "    iqr = data_slice[column].describe().loc['75%'] - data_slice[column].describe().loc['25%']\n",
    "    col_max = round(data_slice[column].describe().loc['75%'] + iqr*1.5, 2)\n",
    "    cols_with_max[column] = col_max"
   ]
  },
  {
   "cell_type": "code",
   "execution_count": 74,
   "metadata": {},
   "outputs": [
    {
     "data": {
      "text/plain": [
       "array([[<matplotlib.axes._subplots.AxesSubplot object at 0x7f5795b76610>,\n",
       "        <matplotlib.axes._subplots.AxesSubplot object at 0x7f5795af5490>],\n",
       "       [<matplotlib.axes._subplots.AxesSubplot object at 0x7f5795abfc10>,\n",
       "        <matplotlib.axes._subplots.AxesSubplot object at 0x7f57956eaf90>]],\n",
       "      dtype=object)"
      ]
     },
     "execution_count": 74,
     "metadata": {},
     "output_type": "execute_result"
    },
    {
     "data": {
      "image/png": "[encoded data removed]",
      "text/plain": [
       "<Figure size 1080x576 with 4 Axes>"
      ]
     },
     "metadata": {
      "needs_background": "light"
     },
     "output_type": "display_data"
    }
   ],
   "source": [
    "for column in data_slice[['total_area', 'last_price', 'rooms', 'ceiling_height']]:\n",
    "    data_slice[column].where(data_slice[column] < cols_with_max[column], np.nan, inplace=True) # если значение превышает max,\n",
    "                                                                                               # ему присваивается NaN\n",
    "data_slice[['total_area', 'last_price', 'rooms', 'ceiling_height']].hist(alpha=0.8, bins=100, figsize=(15,8))"
   ]
  },
  {
   "cell_type": "markdown",
   "metadata": {},
   "source": [
    "Из полученных гистограмм видим, что высота потолков в представленных квартирах обычно составляет от 2,5 до 3 м.\n",
    "Квартиры чаще всего стоят от 3 до 5 миллионов.\n",
    "Больше всего квартир с 1-2 комнатами.\n",
    "Площадь квартир примерно приходится на 30-50 м."
   ]
  },
  {
   "cell_type": "markdown",
   "metadata": {},
   "source": [
    "То же самое сделаем для времени продажи квартиры. Построим ящик с усами."
   ]
  },
  {
   "cell_type": "code",
   "execution_count": 75,
   "metadata": {},
   "outputs": [
    {
     "data": {
      "image/png": "[encoded data removed]",
      "text/plain": [
       "<Figure size 1080x144 with 1 Axes>"
      ]
     },
     "metadata": {
      "needs_background": "light"
     },
     "output_type": "display_data"
    }
   ],
   "source": [
    "data_slice.boxplot(['days_exposition'], vert=False, figsize=(15,2), grid=True)\n",
    "plt.show()"
   ]
  },
  {
   "cell_type": "markdown",
   "metadata": {},
   "source": [
    "Выбросов все также много. Уберем их тем же методом, что и для предыдущих столбцов."
   ]
  },
  {
   "cell_type": "code",
   "execution_count": 76,
   "metadata": {},
   "outputs": [
    {
     "data": {
      "image/png": "[encoded data removed]",
      "text/plain": [
       "<Figure size 1080x360 with 1 Axes>"
      ]
     },
     "metadata": {
      "needs_background": "light"
     },
     "output_type": "display_data"
    },
    {
     "name": "stdout",
     "output_type": "stream",
     "text": [
      "count    21252.000000\n",
      "mean       120.478590\n",
      "std        105.781296\n",
      "min          1.000000\n",
      "25%         45.000000\n",
      "50%         87.000000\n",
      "75%        167.000000\n",
      "max        457.000000\n",
      "Name: days_exposition, dtype: float64\n"
     ]
    }
   ],
   "source": [
    "data_slice['days_exposition'].where(data_slice['days_exposition'] < cols_with_max['days_exposition'], np.nan, inplace=True)\n",
    "data_slice['days_exposition'].plot(kind='hist', bins=100, alpha=0.8, grid=True, legend=True, figsize=(15,5))\n",
    "plt.show()\n",
    "print(data_slice['days_exposition'].describe())"
   ]
  },
  {
   "cell_type": "markdown",
   "metadata": {},
   "source": [
    "Исходя из полученной гистограммы, можно заключить, что обычно квартиры продаются в течение 3,5 месяцев (100 дней). Причем чаще всего — в первые 1,5 месяца. Если квартира продается дольше года (более 400 дней), то это уже необычно долго, и, вероятно, квартира какая-то нетипичная."
   ]
  },
  {
   "cell_type": "markdown",
   "metadata": {},
   "source": [
    "Теперь изучим, какие факторы влияют на стоимость квартиры. Обратим внимание на площадь, число комнат и удалённость от центра."
   ]
  },
  {
   "cell_type": "code",
   "execution_count": 77,
   "metadata": {},
   "outputs": [],
   "source": [
    "data_slice[['rooms', 'cityCenters_nearest']] = data[['rooms', 'cityCenters_nearest']]\n",
    "for column in ['rooms', 'cityCenters_nearest']:\n",
    "    iqr = data_slice[column].describe().loc['75%'] - data_slice[column].describe().loc['25%']\n",
    "    col_max = round(data_slice[column].describe().loc['75%'] + iqr*1.5, 2)\n",
    "    cols_with_max[column] = col_max"
   ]
  },
  {
   "cell_type": "code",
   "execution_count": 78,
   "metadata": {},
   "outputs": [],
   "source": [
    "for column in ['rooms', 'cityCenters_nearest']:\n",
    "    data_slice[column].where(data_slice[column] < cols_with_max[column], np.nan, inplace=True)"
   ]
  },
  {
   "cell_type": "code",
   "execution_count": 79,
   "metadata": {},
   "outputs": [
    {
     "name": "stdout",
     "output_type": "stream",
     "text": [
      "total_area 0.681691306220029\n",
      "rooms 0.3541394907268567\n",
      "cityCenters_nearest -0.26748705853043914\n"
     ]
    },
    {
     "data": {
      "image/png": "[encoded data removed]",
      "text/plain": [
       "<Figure size 720x216 with 1 Axes>"
      ]
     },
     "metadata": {
      "needs_background": "light"
     },
     "output_type": "display_data"
    },
    {
     "data": {
      "image/png": "[encoded data removed]",
      "text/plain": [
       "<Figure size 720x216 with 1 Axes>"
      ]
     },
     "metadata": {
      "needs_background": "light"
     },
     "output_type": "display_data"
    },
    {
     "data": {
      "image/png": "[encoded data removed]",
      "text/plain": [
       "<Figure size 720x216 with 1 Axes>"
      ]
     },
     "metadata": {
      "needs_background": "light"
     },
     "output_type": "display_data"
    }
   ],
   "source": [
    "for column in ['total_area', 'rooms', 'cityCenters_nearest']:\n",
    "    print(column, data['last_price'].corr(data_slice[column]))\n",
    "data_slice.plot(x='total_area', y='last_price',  kind='scatter', figsize=(10,3))\n",
    "plt.show()\n",
    "data_slice.pivot_table(index='rooms', values='last_price').plot(figsize=(10,3))\n",
    "plt.show()\n",
    "data_slice.pivot_table(index='cityCenters_nearest', values='last_price').hist(figsize=(10,3), bins=50)\n",
    "plt.show()"
   ]
  },
  {
   "cell_type": "markdown",
   "metadata": {},
   "source": [
    "Графики примерно показывают корреляцию. Самую большую корреляцию со стоимостью имеет площадь квартиры, чуть меньшую — количество комнат. Слабую отрицательную корреляцию показывает отдаленность от центра."
   ]
  },
  {
   "cell_type": "markdown",
   "metadata": {},
   "source": [
    "Посмотрим, зависит ли цена от того, на каком этаже расположена квартира: первом, последнем или другом."
   ]
  },
  {
   "cell_type": "code",
   "execution_count": 80,
   "metadata": {},
   "outputs": [
    {
     "data": {
      "text/plain": [
       "<matplotlib.axes._subplots.AxesSubplot at 0x7f5794b35390>"
      ]
     },
     "execution_count": 80,
     "metadata": {},
     "output_type": "execute_result"
    },
    {
     "data": {
      "image/png": "[encoded data removed]",
      "text/plain": [
       "<Figure size 432x288 with 1 Axes>"
      ]
     },
     "metadata": {
      "needs_background": "light"
     },
     "output_type": "display_data"
    }
   ],
   "source": [
    "data.pivot_table(index='floor_category', values='last_price', aggfunc='median').plot()"
   ]
  },
  {
   "cell_type": "markdown",
   "metadata": {},
   "source": [
    "По всей видимости, квартиры на первом этаже обычно стоят дешевле других. За ними идут квартиры на последних этажах. Выше всго цена на квартиры между первым и последним этажами."
   ]
  },
  {
   "cell_type": "markdown",
   "metadata": {},
   "source": [
    "Теперь посмотрим, зависит ли стоимость от даты объявления."
   ]
  },
  {
   "cell_type": "code",
   "execution_count": 81,
   "metadata": {},
   "outputs": [
    {
     "data": {
      "image/png": "[encoded data removed]",
      "text/plain": [
       "<Figure size 432x288 with 1 Axes>"
      ]
     },
     "metadata": {
      "needs_background": "light"
     },
     "output_type": "display_data"
    },
    {
     "data": {
      "image/png": "[encoded data removed]",
      "text/plain": [
       "<Figure size 432x288 with 1 Axes>"
      ]
     },
     "metadata": {
      "needs_background": "light"
     },
     "output_type": "display_data"
    },
    {
     "data": {
      "image/png": "[encoded data removed]",
      "text/plain": [
       "<Figure size 432x288 with 1 Axes>"
      ]
     },
     "metadata": {
      "needs_background": "light"
     },
     "output_type": "display_data"
    }
   ],
   "source": [
    "for column in ['weekday', 'month', 'year']:\n",
    "    data.pivot_table(index=column, values='last_price', aggfunc='median').plot()"
   ]
  },
  {
   "cell_type": "markdown",
   "metadata": {},
   "source": [
    "Судя по полученным графикам, в понедельник выкладывлись самые дорогие квартиры нашего датасета, а самые дешевые — в субботу. В апреле цена на квартиры была самая высокая, а в июне ниже всего. Стоимость квартир, выставленных на продажу резко упала с 2014 года, а в 2018 начала расти."
   ]
  },
  {
   "cell_type": "markdown",
   "metadata": {},
   "source": [
    "Выберем 10 населённых пунктов с наибольшим числом объявлений. Посчитаем среднюю цену квадратного метра в этих населённых пунктах. Выделим среди них населённые пункты с самой высокой и низкой стоимостью жилья."
   ]
  },
  {
   "cell_type": "code",
   "execution_count": 82,
   "metadata": {},
   "outputs": [],
   "source": [
    "top_10 = data.groupby('locality_name')['locality_name'].count().sort_values(ascending=False).head(10).index"
   ]
  },
  {
   "cell_type": "code",
   "execution_count": 83,
   "metadata": {},
   "outputs": [],
   "source": [
    "mean_ppsq_top_10 = {}\n",
    "for city in top_10:\n",
    "    mean_ppsq_top_10[city] = round(data.query('locality_name == @city')['price_per_sq'].mean())"
   ]
  },
  {
   "cell_type": "code",
   "execution_count": 84,
   "metadata": {},
   "outputs": [
    {
     "name": "stdout",
     "output_type": "stream",
     "text": [
      "Санкт-Петербург 114686\n",
      "Пушкин 103126\n",
      "Кудрово 95325\n",
      "Парголово 90176\n",
      "Мурино 86088\n",
      "Шушары 78677\n",
      "Колпино 75425\n",
      "Гатчина 68746\n",
      "Всеволожск 68654\n",
      "Выборг 58142\n"
     ]
    }
   ],
   "source": [
    "for city in sorted(mean_ppsq_top_10, key=mean_ppsq_top_10.get, reverse=True):\n",
    "    print(city, mean_ppsq_top_10[city])"
   ]
  },
  {
   "cell_type": "markdown",
   "metadata": {},
   "source": [
    "Как можно было догадаться, в Питере самые высокие цены на квартиры."
   ]
  },
  {
   "cell_type": "markdown",
   "metadata": {},
   "source": [
    "Тогда посмотрим, сильно ли отличаются закономерости для недвижимости в центре Питера от всех остальных данных. Для начала найдем, где заканчиваетя центр Санкт-Петербурга, и какие значения в него входят.\n",
    "Создадим столбец с расстоянием до центра в километрах."
   ]
  },
  {
   "cell_type": "code",
   "execution_count": 85,
   "metadata": {},
   "outputs": [],
   "source": [
    "spb_estate = (data          #выделяем квартиры в Санкт-Петербурге\n",
    "              .copy(deep=True)\n",
    "              .query('locality_name == \"Санкт-Петербург\"')\n",
    "             )"
   ]
  },
  {
   "cell_type": "code",
   "execution_count": 86,
   "metadata": {},
   "outputs": [],
   "source": [
    "spb_estate['km_to_center'] = round(spb_estate['cityCenters_nearest'] / 1000)"
   ]
  },
  {
   "cell_type": "markdown",
   "metadata": {},
   "source": [
    "Теперь посчитаем среднюю цену для каждого километра."
   ]
  },
  {
   "cell_type": "code",
   "execution_count": 87,
   "metadata": {},
   "outputs": [],
   "source": [
    "mean_price_per_km = spb_estate.pivot_table(index='km_to_center', values='last_price')"
   ]
  },
  {
   "cell_type": "markdown",
   "metadata": {},
   "source": [
    "Построим график, на котором будет показано, как цена зависит от удалённости от центра. Там, где график сильно меняется — будет центральная зона."
   ]
  },
  {
   "cell_type": "code",
   "execution_count": 88,
   "metadata": {},
   "outputs": [
    {
     "data": {
      "image/png": "[encoded data removed]",
      "text/plain": [
       "<Figure size 1080x360 with 1 Axes>"
      ]
     },
     "metadata": {
      "needs_background": "light"
     },
     "output_type": "display_data"
    }
   ],
   "source": [
    "fig, ax = plt.subplots()\n",
    "ax.plot(mean_price_per_km)\n",
    "ax.xaxis.set_major_locator(ticker.MultipleLocator(1))\n",
    "ax.grid(which='major',\n",
    "        color = 'gray')\n",
    "ax.set_xlabel('Дальность от центра города')\n",
    "ax.set_ylabel('Средняя стоимость (десятки млн)')\n",
    "ax.set_title('Средняя стоимость жилья по дальности от центра')\n",
    "fig.set_figwidth(15)\n",
    "fig.set_figheight(5)\n",
    "\n",
    "plt.show()"
   ]
  },
  {
   "cell_type": "markdown",
   "metadata": {},
   "source": [
    "На графике мы видим, что стоимость начинает резко повышатся, начиная с расстояния в 3 км. Соответственно, расстояние от 0 до 3 км можно считать центром города."
   ]
  },
  {
   "cell_type": "markdown",
   "metadata": {},
   "source": [
    "Выделим сегмент квартир в центре."
   ]
  },
  {
   "cell_type": "code",
   "execution_count": 89,
   "metadata": {},
   "outputs": [],
   "source": [
    "spb_center = spb_estate[spb_estate['km_to_center'] < 3]"
   ]
  },
  {
   "cell_type": "markdown",
   "metadata": {},
   "source": [
    "Проанализируем эту территорию и изучим следующие параметры: площадь, цена, число комнат, высота потолков."
   ]
  },
  {
   "cell_type": "code",
   "execution_count": 90,
   "metadata": {},
   "outputs": [],
   "source": [
    "spb_cols_with_max = {} # убираем выбросы\n",
    "for column in spb_center[['total_area', 'last_price', 'rooms', 'ceiling_height']]:\n",
    "    iqr = spb_center[column].describe().loc['75%'] - spb_center[column].describe().loc['25%']\n",
    "    col_max = round(spb_center[column].describe().loc['75%'] + iqr*1.5, 2)\n",
    "    spb_cols_with_max[column] = col_max"
   ]
  },
  {
   "cell_type": "code",
   "execution_count": 91,
   "metadata": {},
   "outputs": [
    {
     "name": "stderr",
     "output_type": "stream",
     "text": [
      "/opt/conda/lib/python3.7/site-packages/pandas/core/generic.py:9114: SettingWithCopyWarning: \n",
      "A value is trying to be set on a copy of a slice from a DataFrame\n",
      "\n",
      "See the caveats in the documentation: http://pandas.pydata.org/pandas-docs/stable/user_guide/indexing.html#returning-a-view-versus-a-copy\n",
      "  self._update_inplace(new_data)\n"
     ]
    },
    {
     "data": {
      "text/plain": [
       "array([[<matplotlib.axes._subplots.AxesSubplot object at 0x7f5792768fd0>,\n",
       "        <matplotlib.axes._subplots.AxesSubplot object at 0x7f579270aed0>],\n",
       "       [<matplotlib.axes._subplots.AxesSubplot object at 0x7f57926c86d0>,\n",
       "        <matplotlib.axes._subplots.AxesSubplot object at 0x7f579267aed0>]],\n",
       "      dtype=object)"
      ]
     },
     "execution_count": 91,
     "metadata": {},
     "output_type": "execute_result"
    },
    {
     "data": {
      "image/png": "[encoded data removed]",
      "text/plain": [
       "<Figure size 1080x576 with 4 Axes>"
      ]
     },
     "metadata": {
      "needs_background": "light"
     },
     "output_type": "display_data"
    }
   ],
   "source": [
    "for column in ['total_area', 'last_price', 'rooms', 'ceiling_height']:\n",
    "    spb_center[column].where(spb_center[column] < spb_cols_with_max[column], np.nan, inplace=True)\n",
    "spb_center[['total_area', 'last_price', 'rooms', 'ceiling_height']].hist(alpha=0.8, bins=100, figsize=(15,8))"
   ]
  },
  {
   "cell_type": "markdown",
   "metadata": {},
   "source": [
    "Из полученных гистограмм видим, что разброс высоты потолков в центре — от 2,5 до 4 м, что больше, чем в общих данных.\n",
    "Квартиры чаще всего стоят от 5 до 10 миллионов, что также превышает общие данные.\n",
    "Больше всего квартир с 2-3 комнатами.\n",
    "Площадь квартир чаще приходится на 50-100 м.\n",
    "В целом квартиры в центре Питера дороже и больше, чем в среднем по данным."
   ]
  },
  {
   "cell_type": "markdown",
   "metadata": {},
   "source": [
    "Рассмотрим факторы, которые влияют на стоимость квартиры (число комнат, этаж, удалённость от центра, дата размещения объявления)."
   ]
  },
  {
   "cell_type": "code",
   "execution_count": 92,
   "metadata": {},
   "outputs": [
    {
     "name": "stdout",
     "output_type": "stream",
     "text": [
      "total_area 0.5909399479863887\n",
      "rooms 0.3729097292565767\n",
      "cityCenters_nearest -0.05221056848496083\n"
     ]
    },
    {
     "data": {
      "image/png": "[encoded data removed]",
      "text/plain": [
       "<Figure size 720x216 with 1 Axes>"
      ]
     },
     "metadata": {
      "needs_background": "light"
     },
     "output_type": "display_data"
    },
    {
     "data": {
      "image/png": "[encoded data removed]",
      "text/plain": [
       "<Figure size 720x216 with 1 Axes>"
      ]
     },
     "metadata": {
      "needs_background": "light"
     },
     "output_type": "display_data"
    },
    {
     "data": {
      "image/png": "[encoded data removed]",
      "text/plain": [
       "<Figure size 720x216 with 1 Axes>"
      ]
     },
     "metadata": {
      "needs_background": "light"
     },
     "output_type": "display_data"
    }
   ],
   "source": [
    "for column in ['total_area', 'rooms', 'cityCenters_nearest']:\n",
    "    print(column, spb_center['last_price'].corr(spb_center[column]))\n",
    "spb_center.plot(x='total_area', y='last_price',  kind='scatter', figsize=(10,3))\n",
    "plt.show()\n",
    "spb_center.pivot_table(index='rooms', values='last_price').plot(figsize=(10,3))\n",
    "plt.show()\n",
    "spb_center.pivot_table(index='cityCenters_nearest', values='last_price').hist(figsize=(10,3))\n",
    "plt.show()"
   ]
  },
  {
   "cell_type": "markdown",
   "metadata": {},
   "source": [
    "Корреляция для центра Питера выражена чуть слабее, но с общими данными тренды совпадают. Самую большую корреляцию со стоимостью имеет площадь квартиры, чуть меньшую — количество комнат. Очень слабую отрицательную корреляцию показывает отдаленность от центра. Мы же и так уже в центре :)"
   ]
  },
  {
   "cell_type": "code",
   "execution_count": 93,
   "metadata": {},
   "outputs": [
    {
     "data": {
      "image/png": "[encoded data removed]",
      "text/plain": [
       "<Figure size 432x288 with 1 Axes>"
      ]
     },
     "metadata": {
      "needs_background": "light"
     },
     "output_type": "display_data"
    },
    {
     "data": {
      "image/png": "[encoded data removed]",
      "text/plain": [
       "<Figure size 432x288 with 1 Axes>"
      ]
     },
     "metadata": {
      "needs_background": "light"
     },
     "output_type": "display_data"
    },
    {
     "data": {
      "image/png": "[encoded data removed]",
      "text/plain": [
       "<Figure size 432x288 with 1 Axes>"
      ]
     },
     "metadata": {
      "needs_background": "light"
     },
     "output_type": "display_data"
    },
    {
     "data": {
      "image/png": "[encoded data removed]",
      "text/plain": [
       "<Figure size 432x288 with 1 Axes>"
      ]
     },
     "metadata": {
      "needs_background": "light"
     },
     "output_type": "display_data"
    }
   ],
   "source": [
    "for column in ['floor_category', 'weekday', 'month', 'year']:\n",
    "    ax = spb_center.pivot_table(index=column, values='last_price').plot(y='last_price', linewidth=5, alpha=0.7, \n",
    "                                                                        label='Центр Питера')\n",
    "    data.pivot_table(index=column, values='last_price', aggfunc='median').plot(y='last_price', linewidth=5, alpha=0.7,\n",
    "                                                             ax=ax, label='Все данные')\n",
    "    ax.set_xlabel(column)\n",
    "    ax.set_ylabel('Стоимость')"
   ]
  },
  {
   "cell_type": "markdown",
   "metadata": {},
   "source": [
    "Для этажа тренд сохраняется — квартиры на первом этаже самые недорогие.\n",
    "Судя по полученным графикам, в центре Питера самые дорогие квартиры выкладывлись во сторник и среду, а самые дешевые — в пятницу. В январе цена на квартиры была самая высокая, а в июле ниже всего. Данных за 2014 год по центру Питера нет. С 2017 года цены на квартиры начали расти."
   ]
  },
  {
   "cell_type": "markdown",
   "metadata": {},
   "source": [
    "**Итог**\n",
    "\n",
    "Мы рассмотрели различные факторы, влияющие на стоимость квартир, и выяснили, что тенденции, характерные для квартир в центре Санкт-Петербурга, отличаются от тех, что присущи выборке квартир по всей Ленинградской области. Так, квартиры в центре Санкт-Петербурга обычно имеют большую площадь и стоимость. Тенденции для повышения/понижения стоимости во времени также немного отличаются. Однако, площадь и этаж имеют влияние на стоимость как для центральных, так и для остальных квартир одинаково. "
   ]
  },
  {
   "cell_type": "markdown",
   "metadata": {},
   "source": [
    "## Общий вывод"
   ]
  },
  {
   "cell_type": "markdown",
   "metadata": {},
   "source": [
    "Было проведено исследование объявлений о продаже квартир. Набор данных состоял из информции о площади квартир, этажности домов, расстоянии до центра, высоте потолков и пр., а также указания их стоимости. В наборе были обнаружены пропущенные значения, которые были частично удалены, частично восстановлены, частично проигнорированы. Удалялись записи в столбцах, в которых подавляющее количество пропусков удалось заполнить средними или медианными значениями по сгруппированным строкам. Большое количество пропусков (более 20%) было обнаружено в столбцах с расстоянием до аэропорта и центра города, которые, вероятно, являются ошибкой автоматической системы, заполнявшей их. Эти столбцы были частично восстановлены с помощью средних значений по населенному пункту, остальные пропуски оставлены как есть. Столбцы о парках и прудах были восстановлены на основании друг друга. Столбец с данными о том, является ли квартира апартаментами, был удален в связи с отсутствием 88% значений.\n",
    "\n",
    "Также в изначальных данных были обнаружены выбросы. Например, объявления о продаже некоторых квартир висели более 1500 дней (более 4 лет). Также, высота потолков для некоторых квартир была указана как 20 и более метров, что маловероятно. В некоторых квартирах было более 17 комнат, а стоимость одной квартиры превышала 70 млн. Эти данные были не типичны для нашего датасета, поэтому в дальнейшем анализе они не рассматривались.\n",
    "\n",
    "На основании полученных данных были выделены некоторые закономерности — на стоимость квартиры в большей степени влияет площадь, этаж и расстояние от центра города. Обычно квартиры продаются за 3,5 месяца (100 дней). Несмотря на наличие таких общих закономерностей, для квартир в центре Санкт-Петербурга были выявлены отличительные черты. Например, квартиры в центре Питера обычно имеют потолки выше (до 4 м по сравнению с до 3 м), чем квартиры в общей выборке, у них большая площадь (50-100 по сравнению с 30-50) и количество комнат (2-3 вместо 1-2), а также, конечно, выше стоимость (5-10 млн вместо 3-5).\n",
    "\n",
    "Интересен факт, что по общим данным стоимость квартир начала резкое падение в 2014 году и начала снова расти в 2018 году. Было бы интересно изучить, с чем это может быть связано."
   ]
  }
 ],
 "metadata": {
  "kernelspec": {
   "display_name": "Python 3",
   "language": "python",
   "name": "python3"
  },
  "language_info": {
   "codemirror_mode": {
    "name": "ipython",
    "version": 3
   },
   "file_extension": ".py",
   "mimetype": "text/x-python",
   "name": "python",
   "nbconvert_exporter": "python",
   "pygments_lexer": "ipython3",
   "version": "3.7.8"
  },
  "toc": {
   "base_numbering": 1,
   "nav_menu": {},
   "number_sections": true,
   "sideBar": true,
   "skip_h1_title": true,
   "title_cell": "Table of Contents",
   "title_sidebar": "Contents",
   "toc_cell": true,
   "toc_position": {},
   "toc_section_display": true,
   "toc_window_display": false
  }
 },
 "nbformat": 4,
 "nbformat_minor": 2
}
