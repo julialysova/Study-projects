{
 "cells": [
  {
   "cell_type": "markdown",
   "metadata": {},
   "source": [
    "# Рекомендация тарифов"
   ]
  },
  {
   "cell_type": "markdown",
   "metadata": {
    "toc": true
   },
   "source": [
    "<h1>Table of Contents<span class=\"tocSkip\"></span></h1>\n",
    "<div class=\"toc\"><ul class=\"toc-item\"><li><span><a href=\"#Описание-проекта\" data-toc-modified-id=\"Описание-проекта-1\"><span class=\"toc-item-num\">1&nbsp;&nbsp;</span>Описание проекта</a></span></li><li><span><a href=\"#Открытие-и-изучение-файла\" data-toc-modified-id=\"Открытие-и-изучение-файла-2\"><span class=\"toc-item-num\">2&nbsp;&nbsp;</span>Открытие и изучение файла</a></span></li><li><span><a href=\"#Разделение-данных-на-выборки\" data-toc-modified-id=\"Разделение-данных-на-выборки-3\"><span class=\"toc-item-num\">3&nbsp;&nbsp;</span>Разделение данных на выборки</a></span></li><li><span><a href=\"#Исследование-моделей\" data-toc-modified-id=\"Исследование-моделей-4\"><span class=\"toc-item-num\">4&nbsp;&nbsp;</span>Исследование моделей</a></span></li><li><span><a href=\"#Проверка-модели-на-тестовой-выборке\" data-toc-modified-id=\"Проверка-модели-на-тестовой-выборке-5\"><span class=\"toc-item-num\">5&nbsp;&nbsp;</span>Проверка модели на тестовой выборке</a></span></li><li><span><a href=\"#Проверка-модели-на-адекватность\" data-toc-modified-id=\"Проверка-модели-на-адекватность-6\"><span class=\"toc-item-num\">6&nbsp;&nbsp;</span>Проверка модели на адекватность</a></span></li></ul></div>"
   ]
  },
  {
   "cell_type": "markdown",
   "metadata": {},
   "source": [
    "## Описание проекта"
   ]
  },
  {
   "cell_type": "markdown",
   "metadata": {},
   "source": [
    "Оператор мобильной связи выяснил: многие клиенты пользуются архивными тарифами. Они хотят построить систему, способную проанализировать поведение клиентов и предложить пользователям новый тариф: «Смарт» или «Ультра».\n",
    "\n",
    "В нашем распоряжении данные о поведении клиентов, которые уже перешли на эти тарифы. Нам нужно построить модель для задачи классификации, которая выберет подходящий тариф. Предобработка данных уже была проведена ранее.\n",
    "\n",
    "Цель проекта — построить модель с максимально большим значением *accuracy* (минимум — 0.75)."
   ]
  },
  {
   "cell_type": "code",
   "execution_count": 1,
   "metadata": {},
   "outputs": [],
   "source": [
    "# импоортируем библиотеки\n",
    "import pandas as pd\n",
    "import numpy as np\n",
    "from sklearn.model_selection import train_test_split\n",
    "from sklearn.tree import DecisionTreeClassifier\n",
    "from sklearn.metrics import accuracy_score\n",
    "from sklearn.ensemble import RandomForestClassifier\n",
    "from sklearn.linear_model import LogisticRegression\n",
    "from sklearn.model_selection import GridSearchCV\n",
    "from sklearn.dummy import DummyClassifier\n",
    "\n",
    "import matplotlib.pyplot as plt"
   ]
  },
  {
   "cell_type": "markdown",
   "metadata": {},
   "source": [
    "## Открытие и изучение файла"
   ]
  },
  {
   "cell_type": "markdown",
   "metadata": {},
   "source": [
    "Откроем файл с данными и изучим его."
   ]
  },
  {
   "cell_type": "code",
   "execution_count": 2,
   "metadata": {},
   "outputs": [
    {
     "name": "stdout",
     "output_type": "stream",
     "text": [
      "<class 'pandas.core.frame.DataFrame'>\n",
      "RangeIndex: 3214 entries, 0 to 3213\n",
      "Data columns (total 5 columns):\n",
      "calls       3214 non-null float64\n",
      "minutes     3214 non-null float64\n",
      "messages    3214 non-null float64\n",
      "mb_used     3214 non-null float64\n",
      "is_ultra    3214 non-null int64\n",
      "dtypes: float64(4), int64(1)\n",
      "memory usage: 125.7 KB\n"
     ]
    }
   ],
   "source": [
    "try:\n",
    "    df = pd.read_csv('users_behavior.csv')\n",
    "except:\n",
    "    df = pd.read_csv('/datasets/users_behavior.csv')\n",
    "df.info()"
   ]
  },
  {
   "cell_type": "code",
   "execution_count": 3,
   "metadata": {},
   "outputs": [
    {
     "data": {
      "text/html": [
       "<div>\n",
       "<style scoped>\n",
       "    .dataframe tbody tr th:only-of-type {\n",
       "        vertical-align: middle;\n",
       "    }\n",
       "\n",
       "    .dataframe tbody tr th {\n",
       "        vertical-align: top;\n",
       "    }\n",
       "\n",
       "    .dataframe thead th {\n",
       "        text-align: right;\n",
       "    }\n",
       "</style>\n",
       "<table border=\"1\" class=\"dataframe\">\n",
       "  <thead>\n",
       "    <tr style=\"text-align: right;\">\n",
       "      <th></th>\n",
       "      <th>calls</th>\n",
       "      <th>minutes</th>\n",
       "      <th>messages</th>\n",
       "      <th>mb_used</th>\n",
       "      <th>is_ultra</th>\n",
       "    </tr>\n",
       "  </thead>\n",
       "  <tbody>\n",
       "    <tr>\n",
       "      <td>0</td>\n",
       "      <td>40.0</td>\n",
       "      <td>311.90</td>\n",
       "      <td>83.0</td>\n",
       "      <td>19915.42</td>\n",
       "      <td>0</td>\n",
       "    </tr>\n",
       "    <tr>\n",
       "      <td>1</td>\n",
       "      <td>85.0</td>\n",
       "      <td>516.75</td>\n",
       "      <td>56.0</td>\n",
       "      <td>22696.96</td>\n",
       "      <td>0</td>\n",
       "    </tr>\n",
       "    <tr>\n",
       "      <td>2</td>\n",
       "      <td>77.0</td>\n",
       "      <td>467.66</td>\n",
       "      <td>86.0</td>\n",
       "      <td>21060.45</td>\n",
       "      <td>0</td>\n",
       "    </tr>\n",
       "    <tr>\n",
       "      <td>3</td>\n",
       "      <td>106.0</td>\n",
       "      <td>745.53</td>\n",
       "      <td>81.0</td>\n",
       "      <td>8437.39</td>\n",
       "      <td>1</td>\n",
       "    </tr>\n",
       "    <tr>\n",
       "      <td>4</td>\n",
       "      <td>66.0</td>\n",
       "      <td>418.74</td>\n",
       "      <td>1.0</td>\n",
       "      <td>14502.75</td>\n",
       "      <td>0</td>\n",
       "    </tr>\n",
       "  </tbody>\n",
       "</table>\n",
       "</div>"
      ],
      "text/plain": [
       "   calls  minutes  messages   mb_used  is_ultra\n",
       "0   40.0   311.90      83.0  19915.42         0\n",
       "1   85.0   516.75      56.0  22696.96         0\n",
       "2   77.0   467.66      86.0  21060.45         0\n",
       "3  106.0   745.53      81.0   8437.39         1\n",
       "4   66.0   418.74       1.0  14502.75         0"
      ]
     },
     "execution_count": 3,
     "metadata": {},
     "output_type": "execute_result"
    }
   ],
   "source": [
    "df.head()"
   ]
  },
  {
   "cell_type": "markdown",
   "metadata": {},
   "source": [
    "Взглянем на распределения данных."
   ]
  },
  {
   "cell_type": "code",
   "execution_count": 4,
   "metadata": {},
   "outputs": [
    {
     "data": {
      "image/png": "[encoded data removed]",
      "text/plain": [
       "<Figure size 1080x360 with 2 Axes>"
      ]
     },
     "metadata": {
      "needs_background": "light"
     },
     "output_type": "display_data"
    },
    {
     "data": {
      "image/png": "[encoded data removed]",
      "text/plain": [
       "<Figure size 1080x360 with 2 Axes>"
      ]
     },
     "metadata": {
      "needs_background": "light"
     },
     "output_type": "display_data"
    },
    {
     "data": {
      "image/png": "[encoded data removed]",
      "text/plain": [
       "<Figure size 1080x360 with 2 Axes>"
      ]
     },
     "metadata": {
      "needs_background": "light"
     },
     "output_type": "display_data"
    },
    {
     "data": {
      "image/png": "[encoded data removed]",
      "text/plain": [
       "<Figure size 1080x360 with 2 Axes>"
      ]
     },
     "metadata": {
      "needs_background": "light"
     },
     "output_type": "display_data"
    }
   ],
   "source": [
    "for column in df.drop('is_ultra', axis=1).columns:\n",
    "    smart = df[df['is_ultra'] == 0]\n",
    "    ultra = df[df['is_ultra'] == 1]\n",
    "    fig, ax = plt.subplots(figsize=(15, 5))\n",
    "    plt.subplot(2, 2, 1, title='Smart', xlabel=column, ylabel='Плотность')\n",
    "    smart[column].hist(density=True)\n",
    "    plt.subplot(2, 2, 2, title='Ultra', xlabel=column, ylabel='Плотность')\n",
    "    ultra[column].hist(density=True)\n",
    "    plt.show()"
   ]
  },
  {
   "cell_type": "code",
   "execution_count": 5,
   "metadata": {},
   "outputs": [
    {
     "data": {
      "image/png": "[encoded data removed]",
      "text/plain": [
       "<Figure size 720x432 with 1 Axes>"
      ]
     },
     "metadata": {},
     "output_type": "display_data"
    }
   ],
   "source": [
    "pie, ax = plt.subplots(figsize=[10,6])\n",
    "labels = ['Smart', 'Ultra']\n",
    "plt.pie(x=df.groupby('is_ultra')['is_ultra'].count(), labels=labels, autopct=\"%.1f%%\")\n",
    "plt.title(\"Тарифы\", fontsize=14);"
   ]
  },
  {
   "cell_type": "markdown",
   "metadata": {},
   "source": [
    "В нашем распоряжении датасет на 3214 строки, пропусков и выбросов нет — все они были ранее обработаны. Дисперсия в данных тарифа Ultra чуть больше, как и средние показатели потребляемого трафика. Также видим, что распределение классов не равно: пользователей на тарифе Smart больше, чем на тарифе Ultra в 2 с лишним раза."
   ]
  },
  {
   "cell_type": "markdown",
   "metadata": {},
   "source": [
    "## Разделение данных на выборки"
   ]
  },
  {
   "cell_type": "markdown",
   "metadata": {},
   "source": [
    "Для дальнейшего анализа нам необходимо разделить исходные данные на обучающую, валидационную и тестовую выборки. Начнем с того, что разделим датасет на фичи и целевой признак — тариф."
   ]
  },
  {
   "cell_type": "code",
   "execution_count": 6,
   "metadata": {},
   "outputs": [
    {
     "data": {
      "text/plain": [
       "(3214, 4)"
      ]
     },
     "execution_count": 6,
     "metadata": {},
     "output_type": "execute_result"
    }
   ],
   "source": [
    "features = df.drop('is_ultra', axis=1)\n",
    "target = df['is_ultra']\n",
    "\n",
    "features.shape"
   ]
  },
  {
   "cell_type": "markdown",
   "metadata": {},
   "source": [
    "У нас получился датасет на 3214 строки и 4 стобца, тариф мы вывели в отдельный столбец, так как собираемся его предсказывать. Далее разделим датасет на тренировочные и валидационные данные. Поделим набор в соотношении 3:1:1, чтобы данные для обучения составляли 60%, а остальные 40 приходились на валидационную и тестовую выборку — по 20 на каждую. Также не забудем установить условие, что данные должны разбиваться с тем же соотношением классов, что и в оригинальном датасете, поскольку распределение классов у нас не сбалансированное."
   ]
  },
  {
   "cell_type": "code",
   "execution_count": 7,
   "metadata": {},
   "outputs": [],
   "source": [
    "X_train, X_valid_test, y_train, y_valid_test = train_test_split(\n",
    "                                                features, target, test_size=0.40, random_state=42, stratify=target)"
   ]
  },
  {
   "cell_type": "code",
   "execution_count": 8,
   "metadata": {},
   "outputs": [
    {
     "name": "stdout",
     "output_type": "stream",
     "text": [
      "Размеры обучающей выборки: (1928, 4)\n"
     ]
    }
   ],
   "source": [
    "print('Размеры обучающей выборки:', X_train.shape)"
   ]
  },
  {
   "cell_type": "markdown",
   "metadata": {},
   "source": [
    "Мы получили две выборки, и теперь вторую нам нужно разделить еще пополам, чтобы получить две отдельные выборки — валидационную и тестовую. Действуем по аналогии с предыдущим делением, но делим данные пополам."
   ]
  },
  {
   "cell_type": "code",
   "execution_count": 9,
   "metadata": {},
   "outputs": [],
   "source": [
    "X_test, X_valid, y_test, y_valid = train_test_split(\n",
    "                                        X_valid_test, y_valid_test, test_size=0.50, random_state=42, stratify=y_valid_test)"
   ]
  },
  {
   "cell_type": "code",
   "execution_count": 10,
   "metadata": {},
   "outputs": [
    {
     "name": "stdout",
     "output_type": "stream",
     "text": [
      "Размеры валидационной выборки: (643, 4)\n",
      "Размеры тестовой выборки: (643, 4)\n"
     ]
    }
   ],
   "source": [
    "print('Размеры валидационной выборки:', X_valid.shape)\n",
    "print('Размеры тестовой выборки:', X_test.shape)"
   ]
  },
  {
   "cell_type": "markdown",
   "metadata": {},
   "source": [
    "На этом шаге мы разделили датасет на три выборки — обучающую, валидационную и тестовую, выбрав для них соотношение 60/20/20. При разделении мы сохранили классовое распределение оригинального датасета для каждой из выборок."
   ]
  },
  {
   "cell_type": "markdown",
   "metadata": {},
   "source": [
    "## Исследование моделей"
   ]
  },
  {
   "cell_type": "markdown",
   "metadata": {},
   "source": [
    "Следующим шагом исследуем качество предсказания разных моделей и выберем наиболее подходящие гиперпараметры для нашей выборки.\n",
    "Начнем исследование с модели Решающего дерева. Для оценки результата классификации будем использовать критерий accuracy."
   ]
  },
  {
   "cell_type": "code",
   "execution_count": 11,
   "metadata": {},
   "outputs": [
    {
     "name": "stdout",
     "output_type": "stream",
     "text": [
      "Лучшая модель: DecisionTreeClassifier(class_weight=None, criterion='gini', max_depth=7,\n",
      "                       max_features=None, max_leaf_nodes=None,\n",
      "                       min_impurity_decrease=0.0, min_impurity_split=None,\n",
      "                       min_samples_leaf=1, min_samples_split=2,\n",
      "                       min_weight_fraction_leaf=0.0, presort=False,\n",
      "                       random_state=42, splitter='best')\n",
      "Лучший результат: 0.7947122861586314\n"
     ]
    }
   ],
   "source": [
    "best_tree_accuracy = 0\n",
    "best_tree = None\n",
    "for depth in range(1,11):\n",
    "    tree = DecisionTreeClassifier(random_state=42, max_depth=depth)\n",
    "    tree.fit(X_train, y_train) # обучаем модель\n",
    "    tree_prediction = tree.predict(X_valid) # предсказываем значения валидационной выборки\n",
    "    tree_accuracy = accuracy_score(y_valid, tree_prediction) # смотрим процент угаданных значений\n",
    "    if tree_accuracy > best_tree_accuracy:\n",
    "        best_tree_accuracy = tree_accuracy\n",
    "        best_tree = tree # здесь хранится лучшая модель\n",
    "print('Лучшая модель:', best_tree)\n",
    "print('Лучший результат:', best_tree_accuracy)"
   ]
  },
  {
   "cell_type": "markdown",
   "metadata": {},
   "source": [
    "Далее посмотрим, как на этих данных отработает Случайный лес. Будем менять глубину и количество деревьев."
   ]
  },
  {
   "cell_type": "code",
   "execution_count": 12,
   "metadata": {},
   "outputs": [
    {
     "name": "stdout",
     "output_type": "stream",
     "text": [
      "Лучшая модель: RandomForestClassifier(bootstrap=True, class_weight=None, criterion='gini',\n",
      "                       max_depth=8, max_features='auto', max_leaf_nodes=None,\n",
      "                       min_impurity_decrease=0.0, min_impurity_split=None,\n",
      "                       min_samples_leaf=1, min_samples_split=2,\n",
      "                       min_weight_fraction_leaf=0.0, n_estimators=36,\n",
      "                       n_jobs=None, oob_score=False, random_state=42, verbose=0,\n",
      "                       warm_start=False)\n",
      "Лучший результат: 0.8164852255054432\n"
     ]
    }
   ],
   "source": [
    "best_forest_accuracy = 0\n",
    "best_forest = None\n",
    "for depth in range(1,11):\n",
    "    for n_est in range(1,50,5):\n",
    "        forest = RandomForestClassifier(random_state=42, max_depth=depth, n_estimators=n_est)\n",
    "        forest.fit(X_train, y_train)\n",
    "        forest_prediction = forest.predict(X_valid)\n",
    "        forest_accuracy = accuracy_score(y_valid, forest_prediction)\n",
    "        if forest_accuracy > best_forest_accuracy:\n",
    "            best_forest_accuracy = forest_accuracy\n",
    "            best_forest = forest\n",
    "print('Лучшая модель:', best_forest)\n",
    "print('Лучший результат:', best_forest_accuracy)"
   ]
  },
  {
   "cell_type": "markdown",
   "metadata": {},
   "source": [
    "Последняя модель, которую мы рассмотрим — логистическая регрессия. В ней гиперпараметры менять не будем."
   ]
  },
  {
   "cell_type": "code",
   "execution_count": 13,
   "metadata": {},
   "outputs": [
    {
     "name": "stdout",
     "output_type": "stream",
     "text": [
      "Результат: 0.7309486780715396\n"
     ]
    }
   ],
   "source": [
    "logreg = LogisticRegression(random_state=42, solver='liblinear', penalty='l1')\n",
    "logreg.fit(X_train, y_train)\n",
    "logreg_prediction = logreg.predict(X_valid)\n",
    "logreg_accuracy = accuracy_score(y_valid, logreg_prediction)\n",
    "\n",
    "print('Результат:', logreg_accuracy)"
   ]
  },
  {
   "cell_type": "markdown",
   "metadata": {},
   "source": [
    "По результатам исследования работы трех моделей с разными гиперпараметрами, наилучший результат (свыше 81%) был получен моделью Случайный лес с глубиной 8 и 36 эстиматорами. Наименее удачный результат показала модель Логистическая регрессия — 73%.\n",
    "\n",
    "У дерева и леса результаты достаточно близки, как и гиперпараметры, показавшие лучшие результаты — для дерева это глубина 7, а для леса 8. Лес справился лучше, поскольку в нем использовано ансамбль тех же деревьев, однако такая глубина и немалое количество эстиматоров может привести к переобучению. Проверим это предположение на тестовой выборке."
   ]
  },
  {
   "cell_type": "markdown",
   "metadata": {},
   "source": [
    "## Проверка модели на тестовой выборке"
   ]
  },
  {
   "cell_type": "markdown",
   "metadata": {},
   "source": [
    "Теперь проверим качество выбранной нам модели на ранее полученной тестовой выборке."
   ]
  },
  {
   "cell_type": "code",
   "execution_count": 14,
   "metadata": {},
   "outputs": [
    {
     "data": {
      "text/plain": [
       "0.8009331259720062"
      ]
     },
     "execution_count": 14,
     "metadata": {},
     "output_type": "execute_result"
    }
   ],
   "source": [
    "forest_prediction_test = best_forest.predict(X_test)\n",
    "forest_accuracy = accuracy_score(y_test, forest_prediction_test)\n",
    "\n",
    "forest_accuracy"
   ]
  },
  {
   "cell_type": "markdown",
   "metadata": {},
   "source": [
    "Итак, мы получили accuracy для тестовой выборки, равное 80%, что немного меньше, чем на валидационной. Это может говорить о переобучении, хоть и небольшом. В целом, поставленной цели мы добились и получили accuracy выше 75%. "
   ]
  },
  {
   "cell_type": "markdown",
   "metadata": {},
   "source": [
    "## Проверка модели на адекватность"
   ]
  },
  {
   "cell_type": "markdown",
   "metadata": {},
   "source": [
    "Теперь проверим рассмотреные нами модели на вменяемость. Вдруг любая случайная модель даст результат не хуже полученного нами? Для проверки рассмотрим модель DummyClassifier."
   ]
  },
  {
   "cell_type": "code",
   "execution_count": 15,
   "metadata": {},
   "outputs": [
    {
     "data": {
      "text/plain": [
       "0.578538102643857"
      ]
     },
     "execution_count": 15,
     "metadata": {},
     "output_type": "execute_result"
    }
   ],
   "source": [
    "dummy_clf = DummyClassifier(random_state=42, strategy='stratified')\n",
    "dummy_clf.fit(X_train, y_train)\n",
    "dummy_clf.score(X_test, y_test)"
   ]
  },
  {
   "cell_type": "markdown",
   "metadata": {},
   "source": [
    "Как видим, случайная модель дает результат 57,8%, а это существенно ниже, чем все полученные нами результаты, поэтому рассмотренные модели можно считать адекватными."
   ]
  },
  {
   "cell_type": "markdown",
   "metadata": {},
   "source": [
    "В ходе анализа мы выяснили, что лучшие предсказания на нашем датасете делает модель Случайный лес — она дает не менее 80% правильных ответов. Чуть хуже результат у Решающего дерева (ок. 79%), а самый низкий показатель — у Логистической регрессии (73%). Тем не менее, все модели показали результат лучше, чем случайная модель DummyClassifier(ок. 58%). В нашем анализе при обучении Случайного леса были рассмотрены разные значения гиперпараметров max_depth и n_estimators, а для дальнейшего улучшения оценки модели можно поэкспериментировать с другими гиперпараметрами."
   ]
  }
 ],
 "metadata": {
  "kernelspec": {
   "display_name": "Python 3",
   "language": "python",
   "name": "python3"
  },
  "language_info": {
   "codemirror_mode": {
    "name": "ipython",
    "version": 3
   },
   "file_extension": ".py",
   "mimetype": "text/x-python",
   "name": "python",
   "nbconvert_exporter": "python",
   "pygments_lexer": "ipython3",
   "version": "3.7.8"
  },
  "toc": {
   "base_numbering": 1,
   "nav_menu": {},
   "number_sections": true,
   "sideBar": true,
   "skip_h1_title": true,
   "title_cell": "Table of Contents",
   "title_sidebar": "Contents",
   "toc_cell": true,
   "toc_position": {},
   "toc_section_display": true,
   "toc_window_display": false
  }
 },
 "nbformat": 4,
 "nbformat_minor": 2
}
