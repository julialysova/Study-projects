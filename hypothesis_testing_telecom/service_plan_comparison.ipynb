{
 "cells": [
  {
   "cell_type": "markdown",
   "metadata": {},
   "source": [
    "# Определение перспективного тарифа для телеком компании"
   ]
  },
  {
   "cell_type": "markdown",
   "metadata": {
    "toc": true
   },
   "source": [
    "<h1>Table of Contents<span class=\"tocSkip\"></span></h1>\n",
    "<div class=\"toc\"><ul class=\"toc-item\"><li><span><a href=\"#Описание-проекта\" data-toc-modified-id=\"Описание-проекта-1\"><span class=\"toc-item-num\">1&nbsp;&nbsp;</span>Описание проекта</a></span></li><li><span><a href=\"#Открытие-данных-и-изучение-общей-информации\" data-toc-modified-id=\"Открытие-данных-и-изучение-общей-информации-2\"><span class=\"toc-item-num\">2&nbsp;&nbsp;</span>Открытие данных и изучение общей информации</a></span><ul class=\"toc-item\"><li><ul class=\"toc-item\"><li><span><a href=\"#Вывод\" data-toc-modified-id=\"Вывод-2.0.1\"><span class=\"toc-item-num\">2.0.1&nbsp;&nbsp;</span>Вывод</a></span></li></ul></li></ul></li><li><span><a href=\"#Подготовка-данных-\" data-toc-modified-id=\"Подготовка-данных--3\"><span class=\"toc-item-num\">3&nbsp;&nbsp;</span>Подготовка данных <a id=\"preparation\"></a></a></span><ul class=\"toc-item\"><li><span><a href=\"#Предварительная-обработка-\" data-toc-modified-id=\"Предварительная-обработка--3.1\"><span class=\"toc-item-num\">3.1&nbsp;&nbsp;</span>Предварительная обработка <a id=\"preprocessing\"></a></a></span><ul class=\"toc-item\"><li><span><a href=\"#users\" data-toc-modified-id=\"users-3.1.1\"><span class=\"toc-item-num\">3.1.1&nbsp;&nbsp;</span>users</a></span></li><li><span><a href=\"#calls\" data-toc-modified-id=\"calls-3.1.2\"><span class=\"toc-item-num\">3.1.2&nbsp;&nbsp;</span>calls</a></span></li><li><span><a href=\"#internet\" data-toc-modified-id=\"internet-3.1.3\"><span class=\"toc-item-num\">3.1.3&nbsp;&nbsp;</span>internet</a></span></li><li><span><a href=\"#messages\" data-toc-modified-id=\"messages-3.1.4\"><span class=\"toc-item-num\">3.1.4&nbsp;&nbsp;</span>messages</a></span></li></ul></li><li><span><a href=\"#Вычисление-помесячного-использования-\" data-toc-modified-id=\"Вычисление-помесячного-использования--3.2\"><span class=\"toc-item-num\">3.2&nbsp;&nbsp;</span>Вычисление помесячного использования <a id=\"permonth\"></a></a></span></li></ul></li><li><span><a href=\"#Анализ-данных\" data-toc-modified-id=\"Анализ-данных-4\"><span class=\"toc-item-num\">4&nbsp;&nbsp;</span>Анализ данных</a></span><ul class=\"toc-item\"><li><span><a href=\"#calls\" data-toc-modified-id=\"calls-4.1\"><span class=\"toc-item-num\">4.1&nbsp;&nbsp;</span>calls</a></span></li><li><span><a href=\"#messages\" data-toc-modified-id=\"messages-4.2\"><span class=\"toc-item-num\">4.2&nbsp;&nbsp;</span>messages</a></span></li><li><span><a href=\"#internet\" data-toc-modified-id=\"internet-4.3\"><span class=\"toc-item-num\">4.3&nbsp;&nbsp;</span>internet</a></span></li></ul></li><li><span><a href=\"#Проверка-гипотез\" data-toc-modified-id=\"Проверка-гипотез-5\"><span class=\"toc-item-num\">5&nbsp;&nbsp;</span>Проверка гипотез</a></span></li><li><span><a href=\"#Общий-вывод\" data-toc-modified-id=\"Общий-вывод-6\"><span class=\"toc-item-num\">6&nbsp;&nbsp;</span>Общий вывод</a></span></li></ul></div>"
   ]
  },
  {
   "cell_type": "markdown",
   "metadata": {},
   "source": [
    "## Описание проекта \n",
    "\n",
    "В настоящем проекте будет проведена аналитика данных, представленных федеральным оператором сотовой связи. Клиентам компания предлагает два тарифных плана: «Смарт» и «Ультра». Нам необходимо понять, какой тариф приносит больше денег, чтобы скорректировать рекламный бюджет.\n",
    "Предстоит провести предварительный анализ тарифов на небольшой выборке клиентов. В нашем распоряжении данные 500 пользователей оператора: кто они, откуда, каким тарифом пользуются, сколько звонков и сообщений каждый отправил за 2018 год. Проект имеет целью проанализировать поведение клиентов и получить вывод о том, какой тариф лучше."
   ]
  },
  {
   "cell_type": "code",
   "execution_count": 1,
   "metadata": {},
   "outputs": [],
   "source": [
    "import pandas as pd\n",
    "import math\n",
    "import numpy as np\n",
    "import matplotlib.pyplot as plt\n",
    "from scipy import stats as st"
   ]
  },
  {
   "cell_type": "markdown",
   "metadata": {},
   "source": [
    "## Открытие данных и изучение общей информации "
   ]
  },
  {
   "cell_type": "code",
   "execution_count": 2,
   "metadata": {},
   "outputs": [],
   "source": [
    "try:\n",
    "    calls = pd.read_csv('calls.csv')\n",
    "    internet = pd.read_csv('internet.csv')\n",
    "    messages = pd.read_csv('messages.csv')\n",
    "    tariffs = pd.read_csv('tariffs.csv')\n",
    "    users = pd.read_csv('users.csv')\n",
    "except:\n",
    "    calls = pd.read_csv('/datasets/calls.csv')\n",
    "    internet = pd.read_csv('/datasets/internet.csv')\n",
    "    messages = pd.read_csv('/datasets/messages.csv')\n",
    "    tariffs = pd.read_csv('/datasets/tariffs.csv')\n",
    "    users = pd.read_csv('/datasets/users.csv')"
   ]
  },
  {
   "cell_type": "markdown",
   "metadata": {},
   "source": [
    "Начнем с информации о тарифах:"
   ]
  },
  {
   "cell_type": "code",
   "execution_count": 3,
   "metadata": {},
   "outputs": [
    {
     "data": {
      "text/plain": [
       "500"
      ]
     },
     "execution_count": 3,
     "metadata": {},
     "output_type": "execute_result"
    }
   ],
   "source": [
    "len(users)"
   ]
  },
  {
   "cell_type": "code",
   "execution_count": 4,
   "metadata": {},
   "outputs": [
    {
     "data": {
      "text/html": [
       "<div>\n",
       "<style scoped>\n",
       "    .dataframe tbody tr th:only-of-type {\n",
       "        vertical-align: middle;\n",
       "    }\n",
       "\n",
       "    .dataframe tbody tr th {\n",
       "        vertical-align: top;\n",
       "    }\n",
       "\n",
       "    .dataframe thead th {\n",
       "        text-align: right;\n",
       "    }\n",
       "</style>\n",
       "<table border=\"1\" class=\"dataframe\">\n",
       "  <thead>\n",
       "    <tr style=\"text-align: right;\">\n",
       "      <th></th>\n",
       "      <th>messages_included</th>\n",
       "      <th>mb_per_month_included</th>\n",
       "      <th>minutes_included</th>\n",
       "      <th>rub_monthly_fee</th>\n",
       "      <th>rub_per_gb</th>\n",
       "      <th>rub_per_message</th>\n",
       "      <th>rub_per_minute</th>\n",
       "      <th>tariff_name</th>\n",
       "    </tr>\n",
       "  </thead>\n",
       "  <tbody>\n",
       "    <tr>\n",
       "      <td>0</td>\n",
       "      <td>50</td>\n",
       "      <td>15360</td>\n",
       "      <td>500</td>\n",
       "      <td>550</td>\n",
       "      <td>200</td>\n",
       "      <td>3</td>\n",
       "      <td>3</td>\n",
       "      <td>smart</td>\n",
       "    </tr>\n",
       "    <tr>\n",
       "      <td>1</td>\n",
       "      <td>1000</td>\n",
       "      <td>30720</td>\n",
       "      <td>3000</td>\n",
       "      <td>1950</td>\n",
       "      <td>150</td>\n",
       "      <td>1</td>\n",
       "      <td>1</td>\n",
       "      <td>ultra</td>\n",
       "    </tr>\n",
       "  </tbody>\n",
       "</table>\n",
       "</div>"
      ],
      "text/plain": [
       "   messages_included  mb_per_month_included  minutes_included  \\\n",
       "0                 50                  15360               500   \n",
       "1               1000                  30720              3000   \n",
       "\n",
       "   rub_monthly_fee  rub_per_gb  rub_per_message  rub_per_minute tariff_name  \n",
       "0              550         200                3               3       smart  \n",
       "1             1950         150                1               1       ultra  "
      ]
     },
     "execution_count": 4,
     "metadata": {},
     "output_type": "execute_result"
    }
   ],
   "source": [
    "tariffs.head(5)"
   ]
  },
  {
   "cell_type": "markdown",
   "metadata": {},
   "source": [
    "Далее посмотрим на таблицу с пользователями."
   ]
  },
  {
   "cell_type": "code",
   "execution_count": 5,
   "metadata": {
    "scrolled": false
   },
   "outputs": [
    {
     "name": "stdout",
     "output_type": "stream",
     "text": [
      "<class 'pandas.core.frame.DataFrame'>\n",
      "RangeIndex: 500 entries, 0 to 499\n",
      "Data columns (total 8 columns):\n",
      "user_id       500 non-null int64\n",
      "age           500 non-null int64\n",
      "churn_date    38 non-null object\n",
      "city          500 non-null object\n",
      "first_name    500 non-null object\n",
      "last_name     500 non-null object\n",
      "reg_date      500 non-null object\n",
      "tariff        500 non-null object\n",
      "dtypes: int64(2), object(6)\n",
      "memory usage: 31.4+ KB\n"
     ]
    }
   ],
   "source": [
    "users.info()"
   ]
  },
  {
   "cell_type": "code",
   "execution_count": 6,
   "metadata": {
    "scrolled": false
   },
   "outputs": [
    {
     "data": {
      "text/html": [
       "<div>\n",
       "<style scoped>\n",
       "    .dataframe tbody tr th:only-of-type {\n",
       "        vertical-align: middle;\n",
       "    }\n",
       "\n",
       "    .dataframe tbody tr th {\n",
       "        vertical-align: top;\n",
       "    }\n",
       "\n",
       "    .dataframe thead th {\n",
       "        text-align: right;\n",
       "    }\n",
       "</style>\n",
       "<table border=\"1\" class=\"dataframe\">\n",
       "  <thead>\n",
       "    <tr style=\"text-align: right;\">\n",
       "      <th></th>\n",
       "      <th>user_id</th>\n",
       "      <th>age</th>\n",
       "      <th>churn_date</th>\n",
       "      <th>city</th>\n",
       "      <th>first_name</th>\n",
       "      <th>last_name</th>\n",
       "      <th>reg_date</th>\n",
       "      <th>tariff</th>\n",
       "    </tr>\n",
       "  </thead>\n",
       "  <tbody>\n",
       "    <tr>\n",
       "      <td>0</td>\n",
       "      <td>1000</td>\n",
       "      <td>52</td>\n",
       "      <td>NaN</td>\n",
       "      <td>Краснодар</td>\n",
       "      <td>Рафаил</td>\n",
       "      <td>Верещагин</td>\n",
       "      <td>2018-05-25</td>\n",
       "      <td>ultra</td>\n",
       "    </tr>\n",
       "    <tr>\n",
       "      <td>1</td>\n",
       "      <td>1001</td>\n",
       "      <td>41</td>\n",
       "      <td>NaN</td>\n",
       "      <td>Москва</td>\n",
       "      <td>Иван</td>\n",
       "      <td>Ежов</td>\n",
       "      <td>2018-11-01</td>\n",
       "      <td>smart</td>\n",
       "    </tr>\n",
       "    <tr>\n",
       "      <td>2</td>\n",
       "      <td>1002</td>\n",
       "      <td>59</td>\n",
       "      <td>NaN</td>\n",
       "      <td>Стерлитамак</td>\n",
       "      <td>Евгений</td>\n",
       "      <td>Абрамович</td>\n",
       "      <td>2018-06-17</td>\n",
       "      <td>smart</td>\n",
       "    </tr>\n",
       "    <tr>\n",
       "      <td>3</td>\n",
       "      <td>1003</td>\n",
       "      <td>23</td>\n",
       "      <td>NaN</td>\n",
       "      <td>Москва</td>\n",
       "      <td>Белла</td>\n",
       "      <td>Белякова</td>\n",
       "      <td>2018-08-17</td>\n",
       "      <td>ultra</td>\n",
       "    </tr>\n",
       "    <tr>\n",
       "      <td>4</td>\n",
       "      <td>1004</td>\n",
       "      <td>68</td>\n",
       "      <td>NaN</td>\n",
       "      <td>Новокузнецк</td>\n",
       "      <td>Татьяна</td>\n",
       "      <td>Авдеенко</td>\n",
       "      <td>2018-05-14</td>\n",
       "      <td>ultra</td>\n",
       "    </tr>\n",
       "  </tbody>\n",
       "</table>\n",
       "</div>"
      ],
      "text/plain": [
       "   user_id  age churn_date         city first_name  last_name    reg_date  \\\n",
       "0     1000   52        NaN    Краснодар     Рафаил  Верещагин  2018-05-25   \n",
       "1     1001   41        NaN       Москва       Иван       Ежов  2018-11-01   \n",
       "2     1002   59        NaN  Стерлитамак    Евгений  Абрамович  2018-06-17   \n",
       "3     1003   23        NaN       Москва      Белла   Белякова  2018-08-17   \n",
       "4     1004   68        NaN  Новокузнецк    Татьяна   Авдеенко  2018-05-14   \n",
       "\n",
       "  tariff  \n",
       "0  ultra  \n",
       "1  smart  \n",
       "2  smart  \n",
       "3  ultra  \n",
       "4  ultra  "
      ]
     },
     "execution_count": 6,
     "metadata": {},
     "output_type": "execute_result"
    }
   ],
   "source": [
    "users.head(5)"
   ]
  },
  {
   "cell_type": "markdown",
   "metadata": {},
   "source": [
    "Единственные пропуски видим в столбце churn_date, означающем дату отключения клиента от тарифа. Также дата представлена в формате object, и его следует заменить на соответствующий дате тип."
   ]
  },
  {
   "cell_type": "markdown",
   "metadata": {},
   "source": [
    "Перейдем к таблицам с данными о звонках, интернете и сообщениях, которые были использованы клиентами из таблицы выше."
   ]
  },
  {
   "cell_type": "code",
   "execution_count": 7,
   "metadata": {},
   "outputs": [
    {
     "name": "stdout",
     "output_type": "stream",
     "text": [
      "<class 'pandas.core.frame.DataFrame'>\n",
      "RangeIndex: 202607 entries, 0 to 202606\n",
      "Data columns (total 4 columns):\n",
      "id           202607 non-null object\n",
      "call_date    202607 non-null object\n",
      "duration     202607 non-null float64\n",
      "user_id      202607 non-null int64\n",
      "dtypes: float64(1), int64(1), object(2)\n",
      "memory usage: 6.2+ MB\n"
     ]
    }
   ],
   "source": [
    "calls.info()"
   ]
  },
  {
   "cell_type": "code",
   "execution_count": 8,
   "metadata": {},
   "outputs": [
    {
     "data": {
      "text/plain": [
       "492"
      ]
     },
     "execution_count": 8,
     "metadata": {},
     "output_type": "execute_result"
    }
   ],
   "source": [
    "len(calls['user_id'].unique())"
   ]
  },
  {
   "cell_type": "code",
   "execution_count": 9,
   "metadata": {},
   "outputs": [
    {
     "data": {
      "text/html": [
       "<div>\n",
       "<style scoped>\n",
       "    .dataframe tbody tr th:only-of-type {\n",
       "        vertical-align: middle;\n",
       "    }\n",
       "\n",
       "    .dataframe tbody tr th {\n",
       "        vertical-align: top;\n",
       "    }\n",
       "\n",
       "    .dataframe thead th {\n",
       "        text-align: right;\n",
       "    }\n",
       "</style>\n",
       "<table border=\"1\" class=\"dataframe\">\n",
       "  <thead>\n",
       "    <tr style=\"text-align: right;\">\n",
       "      <th></th>\n",
       "      <th>id</th>\n",
       "      <th>call_date</th>\n",
       "      <th>duration</th>\n",
       "      <th>user_id</th>\n",
       "    </tr>\n",
       "  </thead>\n",
       "  <tbody>\n",
       "    <tr>\n",
       "      <td>0</td>\n",
       "      <td>1000_0</td>\n",
       "      <td>2018-07-25</td>\n",
       "      <td>0.00</td>\n",
       "      <td>1000</td>\n",
       "    </tr>\n",
       "    <tr>\n",
       "      <td>1</td>\n",
       "      <td>1000_1</td>\n",
       "      <td>2018-08-17</td>\n",
       "      <td>0.00</td>\n",
       "      <td>1000</td>\n",
       "    </tr>\n",
       "    <tr>\n",
       "      <td>2</td>\n",
       "      <td>1000_2</td>\n",
       "      <td>2018-06-11</td>\n",
       "      <td>2.85</td>\n",
       "      <td>1000</td>\n",
       "    </tr>\n",
       "    <tr>\n",
       "      <td>3</td>\n",
       "      <td>1000_3</td>\n",
       "      <td>2018-09-21</td>\n",
       "      <td>13.80</td>\n",
       "      <td>1000</td>\n",
       "    </tr>\n",
       "    <tr>\n",
       "      <td>4</td>\n",
       "      <td>1000_4</td>\n",
       "      <td>2018-12-15</td>\n",
       "      <td>5.18</td>\n",
       "      <td>1000</td>\n",
       "    </tr>\n",
       "  </tbody>\n",
       "</table>\n",
       "</div>"
      ],
      "text/plain": [
       "       id   call_date  duration  user_id\n",
       "0  1000_0  2018-07-25      0.00     1000\n",
       "1  1000_1  2018-08-17      0.00     1000\n",
       "2  1000_2  2018-06-11      2.85     1000\n",
       "3  1000_3  2018-09-21     13.80     1000\n",
       "4  1000_4  2018-12-15      5.18     1000"
      ]
     },
     "execution_count": 9,
     "metadata": {},
     "output_type": "execute_result"
    }
   ],
   "source": [
    "calls.head(5)"
   ]
  },
  {
   "cell_type": "markdown",
   "metadata": {},
   "source": [
    "В таблице calls приведены данные о звонках. Пропусков в значениях самой таблицы нет, однако мы видим, что некоторые звонки имеют длительность 0,0 мин. Также уникальных клиентов в таблице представлено всего 492 из 500, что значит, что 8 человек не использовали функцию звонков. Дата имеет неверный формат."
   ]
  },
  {
   "cell_type": "code",
   "execution_count": 10,
   "metadata": {},
   "outputs": [
    {
     "name": "stdout",
     "output_type": "stream",
     "text": [
      "<class 'pandas.core.frame.DataFrame'>\n",
      "RangeIndex: 149396 entries, 0 to 149395\n",
      "Data columns (total 5 columns):\n",
      "Unnamed: 0      149396 non-null int64\n",
      "id              149396 non-null object\n",
      "mb_used         149396 non-null float64\n",
      "session_date    149396 non-null object\n",
      "user_id         149396 non-null int64\n",
      "dtypes: float64(1), int64(2), object(2)\n",
      "memory usage: 5.7+ MB\n"
     ]
    }
   ],
   "source": [
    "internet.info()"
   ]
  },
  {
   "cell_type": "code",
   "execution_count": 11,
   "metadata": {},
   "outputs": [
    {
     "data": {
      "text/plain": [
       "497"
      ]
     },
     "execution_count": 11,
     "metadata": {},
     "output_type": "execute_result"
    }
   ],
   "source": [
    "len(internet['user_id'].unique())"
   ]
  },
  {
   "cell_type": "code",
   "execution_count": 12,
   "metadata": {},
   "outputs": [
    {
     "data": {
      "text/html": [
       "<div>\n",
       "<style scoped>\n",
       "    .dataframe tbody tr th:only-of-type {\n",
       "        vertical-align: middle;\n",
       "    }\n",
       "\n",
       "    .dataframe tbody tr th {\n",
       "        vertical-align: top;\n",
       "    }\n",
       "\n",
       "    .dataframe thead th {\n",
       "        text-align: right;\n",
       "    }\n",
       "</style>\n",
       "<table border=\"1\" class=\"dataframe\">\n",
       "  <thead>\n",
       "    <tr style=\"text-align: right;\">\n",
       "      <th></th>\n",
       "      <th>Unnamed: 0</th>\n",
       "      <th>id</th>\n",
       "      <th>mb_used</th>\n",
       "      <th>session_date</th>\n",
       "      <th>user_id</th>\n",
       "    </tr>\n",
       "  </thead>\n",
       "  <tbody>\n",
       "    <tr>\n",
       "      <td>0</td>\n",
       "      <td>0</td>\n",
       "      <td>1000_0</td>\n",
       "      <td>112.95</td>\n",
       "      <td>2018-11-25</td>\n",
       "      <td>1000</td>\n",
       "    </tr>\n",
       "    <tr>\n",
       "      <td>1</td>\n",
       "      <td>1</td>\n",
       "      <td>1000_1</td>\n",
       "      <td>1052.81</td>\n",
       "      <td>2018-09-07</td>\n",
       "      <td>1000</td>\n",
       "    </tr>\n",
       "    <tr>\n",
       "      <td>2</td>\n",
       "      <td>2</td>\n",
       "      <td>1000_2</td>\n",
       "      <td>1197.26</td>\n",
       "      <td>2018-06-25</td>\n",
       "      <td>1000</td>\n",
       "    </tr>\n",
       "    <tr>\n",
       "      <td>3</td>\n",
       "      <td>3</td>\n",
       "      <td>1000_3</td>\n",
       "      <td>550.27</td>\n",
       "      <td>2018-08-22</td>\n",
       "      <td>1000</td>\n",
       "    </tr>\n",
       "    <tr>\n",
       "      <td>4</td>\n",
       "      <td>4</td>\n",
       "      <td>1000_4</td>\n",
       "      <td>302.56</td>\n",
       "      <td>2018-09-24</td>\n",
       "      <td>1000</td>\n",
       "    </tr>\n",
       "  </tbody>\n",
       "</table>\n",
       "</div>"
      ],
      "text/plain": [
       "   Unnamed: 0      id  mb_used session_date  user_id\n",
       "0           0  1000_0   112.95   2018-11-25     1000\n",
       "1           1  1000_1  1052.81   2018-09-07     1000\n",
       "2           2  1000_2  1197.26   2018-06-25     1000\n",
       "3           3  1000_3   550.27   2018-08-22     1000\n",
       "4           4  1000_4   302.56   2018-09-24     1000"
      ]
     },
     "execution_count": 12,
     "metadata": {},
     "output_type": "execute_result"
    }
   ],
   "source": [
    "internet.head(5)"
   ]
  },
  {
   "cell_type": "markdown",
   "metadata": {},
   "source": [
    "Следующая таблица с данными об интернете. Пропусков также нет, однако уникальных клиентов 497 из 500 (3 не пользовались интернетом). Формат даты нужно будет изменить."
   ]
  },
  {
   "cell_type": "code",
   "execution_count": 13,
   "metadata": {},
   "outputs": [
    {
     "name": "stdout",
     "output_type": "stream",
     "text": [
      "<class 'pandas.core.frame.DataFrame'>\n",
      "RangeIndex: 123036 entries, 0 to 123035\n",
      "Data columns (total 3 columns):\n",
      "id              123036 non-null object\n",
      "message_date    123036 non-null object\n",
      "user_id         123036 non-null int64\n",
      "dtypes: int64(1), object(2)\n",
      "memory usage: 2.8+ MB\n"
     ]
    }
   ],
   "source": [
    "messages.info()"
   ]
  },
  {
   "cell_type": "code",
   "execution_count": 14,
   "metadata": {},
   "outputs": [
    {
     "data": {
      "text/plain": [
       "426"
      ]
     },
     "execution_count": 14,
     "metadata": {},
     "output_type": "execute_result"
    }
   ],
   "source": [
    "len(messages['user_id'].unique())"
   ]
  },
  {
   "cell_type": "code",
   "execution_count": 15,
   "metadata": {},
   "outputs": [
    {
     "data": {
      "text/html": [
       "<div>\n",
       "<style scoped>\n",
       "    .dataframe tbody tr th:only-of-type {\n",
       "        vertical-align: middle;\n",
       "    }\n",
       "\n",
       "    .dataframe tbody tr th {\n",
       "        vertical-align: top;\n",
       "    }\n",
       "\n",
       "    .dataframe thead th {\n",
       "        text-align: right;\n",
       "    }\n",
       "</style>\n",
       "<table border=\"1\" class=\"dataframe\">\n",
       "  <thead>\n",
       "    <tr style=\"text-align: right;\">\n",
       "      <th></th>\n",
       "      <th>id</th>\n",
       "      <th>message_date</th>\n",
       "      <th>user_id</th>\n",
       "    </tr>\n",
       "  </thead>\n",
       "  <tbody>\n",
       "    <tr>\n",
       "      <td>0</td>\n",
       "      <td>1000_0</td>\n",
       "      <td>2018-06-27</td>\n",
       "      <td>1000</td>\n",
       "    </tr>\n",
       "    <tr>\n",
       "      <td>1</td>\n",
       "      <td>1000_1</td>\n",
       "      <td>2018-10-08</td>\n",
       "      <td>1000</td>\n",
       "    </tr>\n",
       "    <tr>\n",
       "      <td>2</td>\n",
       "      <td>1000_2</td>\n",
       "      <td>2018-08-04</td>\n",
       "      <td>1000</td>\n",
       "    </tr>\n",
       "    <tr>\n",
       "      <td>3</td>\n",
       "      <td>1000_3</td>\n",
       "      <td>2018-06-16</td>\n",
       "      <td>1000</td>\n",
       "    </tr>\n",
       "    <tr>\n",
       "      <td>4</td>\n",
       "      <td>1000_4</td>\n",
       "      <td>2018-12-05</td>\n",
       "      <td>1000</td>\n",
       "    </tr>\n",
       "  </tbody>\n",
       "</table>\n",
       "</div>"
      ],
      "text/plain": [
       "       id message_date  user_id\n",
       "0  1000_0   2018-06-27     1000\n",
       "1  1000_1   2018-10-08     1000\n",
       "2  1000_2   2018-08-04     1000\n",
       "3  1000_3   2018-06-16     1000\n",
       "4  1000_4   2018-12-05     1000"
      ]
     },
     "execution_count": 15,
     "metadata": {},
     "output_type": "execute_result"
    }
   ],
   "source": [
    "messages.head(5)"
   ]
  },
  {
   "cell_type": "markdown",
   "metadata": {},
   "source": [
    "Далее — данные о сообщениях. Без пропусков, уникальных клиентов 426 из 500 (74 человека не отправляли сообщения). Формат даты нужно поменять."
   ]
  },
  {
   "cell_type": "markdown",
   "metadata": {},
   "source": [
    "#### Вывод\n",
    "\n",
    "Мы посмотрели на таблицы, которые оказались в нашем распоряжении. Оказалось, что значения пропущены лишь в столбце churn_date из таблицы users, в котором указывается дата расторжения договора с оператором. Также мы выявили, что некоторые клиенты не пользовались определенными услугами. В большем количестве случаев невостребованной оказались сообщения. Помимо прочего, в таблицах используется формат object для дат, вместо формата datetime, что не слишком удобно для дальнейшего анализа."
   ]
  },
  {
   "cell_type": "markdown",
   "metadata": {},
   "source": [
    "## Подготовка данных <a id=\"preparation\"></a>\n",
    "[к оглавлению](#contents)"
   ]
  },
  {
   "cell_type": "markdown",
   "metadata": {},
   "source": [
    "Ранее мы рассмотрели имеющиеся у нас таблицы, а теперь попробуем исправить найденные в них ошибки. В частности нам необходимо изменить форматы дат и решить, нужно ли восстанавливать пропущенные значения."
   ]
  },
  {
   "cell_type": "markdown",
   "metadata": {},
   "source": [
    "### Предварительная обработка <a id=\"preprocessing\"></a>"
   ]
  },
  {
   "cell_type": "markdown",
   "metadata": {},
   "source": [
    "#### users"
   ]
  },
  {
   "cell_type": "markdown",
   "metadata": {},
   "source": [
    "В таблице users необходимо заменить тип данных в двух столбцах: reg_date и churn_date."
   ]
  },
  {
   "cell_type": "code",
   "execution_count": 16,
   "metadata": {},
   "outputs": [],
   "source": [
    "users['reg_date'] = pd.to_datetime(users['reg_date'], format='%Y-%m-%d')"
   ]
  },
  {
   "cell_type": "code",
   "execution_count": 17,
   "metadata": {},
   "outputs": [
    {
     "data": {
      "text/plain": [
       "count                     500\n",
       "unique                    270\n",
       "top       2018-05-28 00:00:00\n",
       "freq                        8\n",
       "first     2018-01-01 00:00:00\n",
       "last      2018-12-31 00:00:00\n",
       "Name: reg_date, dtype: object"
      ]
     },
     "execution_count": 17,
     "metadata": {},
     "output_type": "execute_result"
    }
   ],
   "source": [
    "users['reg_date'].describe()"
   ]
  },
  {
   "cell_type": "markdown",
   "metadata": {},
   "source": [
    "Видим, что данные представлены за период с января до декабрь 2018 года."
   ]
  },
  {
   "cell_type": "code",
   "execution_count": 18,
   "metadata": {},
   "outputs": [],
   "source": [
    "users['churn_date'] = pd.to_datetime(users['churn_date'], format='%Y-%m-%d')"
   ]
  },
  {
   "cell_type": "code",
   "execution_count": 19,
   "metadata": {},
   "outputs": [
    {
     "data": {
      "text/plain": [
       "count                      38\n",
       "unique                     33\n",
       "top       2018-10-03 00:00:00\n",
       "freq                        2\n",
       "first     2018-08-17 00:00:00\n",
       "last      2018-12-30 00:00:00\n",
       "Name: churn_date, dtype: object"
      ]
     },
     "execution_count": 19,
     "metadata": {},
     "output_type": "execute_result"
    }
   ],
   "source": [
    "users['churn_date'].describe()"
   ]
  },
  {
   "cell_type": "markdown",
   "metadata": {},
   "source": [
    "Клиенты уходили с августа по декабрь. Также мы обнаружили пропуски в столбце churn_date. Вероятнее всего, они обозначают, что клиент не прекращал обслуживание у оператора. Было решено их оставить в таком же виде, поскольку это не препятствует анализу. Можно лишь посмотреть, с какого тарифа уходили чаще всего."
   ]
  },
  {
   "cell_type": "code",
   "execution_count": 20,
   "metadata": {},
   "outputs": [
    {
     "name": "stdout",
     "output_type": "stream",
     "text": [
      "ultra 3.0\n",
      "smart 4.6\n"
     ]
    }
   ],
   "source": [
    "for tariff in ['ultra', 'smart']:\n",
    "    print(tariff, \n",
    "         (len(users[(users['churn_date'].notnull()) & (users['tariff'] == tariff)]) / len(users['tariff'] == tariff)) * 100)"
   ]
  },
  {
   "cell_type": "markdown",
   "metadata": {},
   "source": [
    "Получается, с тарифа smart уходили чуть чаще, чем с ultra."
   ]
  },
  {
   "cell_type": "markdown",
   "metadata": {},
   "source": [
    "#### calls"
   ]
  },
  {
   "cell_type": "markdown",
   "metadata": {},
   "source": [
    "В таблице со звонками также меняем тип данных в столбце с датой."
   ]
  },
  {
   "cell_type": "code",
   "execution_count": 21,
   "metadata": {},
   "outputs": [],
   "source": [
    "calls['call_date'] = pd.to_datetime(calls['call_date'], format='%Y-%m-%d')"
   ]
  },
  {
   "cell_type": "markdown",
   "metadata": {},
   "source": [
    "Кроме того, мы обнаружили, что длительность некоторых звонков равняется 0,0 мин. Как вариант это могут быть быстро сброшенные звонки, но в идеале это нужно было бы уточнить у разработчиков. Посмотрим, насколько сильно эти данные искажают распределение звонков."
   ]
  },
  {
   "cell_type": "code",
   "execution_count": 22,
   "metadata": {},
   "outputs": [
    {
     "name": "stdout",
     "output_type": "stream",
     "text": [
      "Распределение со звонками длительностью 0,0\n"
     ]
    },
    {
     "data": {
      "text/plain": [
       "count    202607.000000\n",
       "mean          6.755887\n",
       "std           5.843365\n",
       "min           0.000000\n",
       "25%           1.300000\n",
       "50%           6.000000\n",
       "75%          10.700000\n",
       "max          38.000000\n",
       "Name: duration, dtype: float64"
      ]
     },
     "execution_count": 22,
     "metadata": {},
     "output_type": "execute_result"
    }
   ],
   "source": [
    "print('Распределение со звонками длительностью 0,0')\n",
    "calls['duration'].describe()"
   ]
  },
  {
   "cell_type": "code",
   "execution_count": 23,
   "metadata": {},
   "outputs": [
    {
     "name": "stdout",
     "output_type": "stream",
     "text": [
      "Распределение без звонков длительностью 0,0\n"
     ]
    },
    {
     "data": {
      "text/plain": [
       "count    162994.000000\n",
       "mean          8.397794\n",
       "std           5.353022\n",
       "min           0.010000\n",
       "25%           4.170000\n",
       "50%           7.740000\n",
       "75%          11.850000\n",
       "max          38.000000\n",
       "Name: duration, dtype: float64"
      ]
     },
     "execution_count": 23,
     "metadata": {},
     "output_type": "execute_result"
    }
   ],
   "source": [
    "print('Распределение без звонков длительностью 0,0')\n",
    "calls.query('duration > 0.0')['duration'].describe()"
   ]
  },
  {
   "cell_type": "code",
   "execution_count": 24,
   "metadata": {},
   "outputs": [
    {
     "data": {
      "text/plain": [
       "492"
      ]
     },
     "execution_count": 24,
     "metadata": {},
     "output_type": "execute_result"
    }
   ],
   "source": [
    "len(calls.query('duration == 0.0')['user_id'].unique())"
   ]
  },
  {
   "cell_type": "markdown",
   "metadata": {},
   "source": [
    "Видим небольшое смещение среднего и медианы (меньше половины стандартного отклонения), однако разница между ними немного сокращается. Раз эти данные не несут никакой информации и не сильно вляют на распределение, можно их удалить."
   ]
  },
  {
   "cell_type": "code",
   "execution_count": 25,
   "metadata": {},
   "outputs": [],
   "source": [
    "calls = calls.drop(calls[calls['duration'] == 0].index).reset_index(drop=True)"
   ]
  },
  {
   "cell_type": "markdown",
   "metadata": {},
   "source": [
    "#### internet"
   ]
  },
  {
   "cell_type": "markdown",
   "metadata": {},
   "source": [
    "В таблице с данными о потребленном интернете также заменяем тип столбца с датой."
   ]
  },
  {
   "cell_type": "code",
   "execution_count": 26,
   "metadata": {},
   "outputs": [],
   "source": [
    "internet['session_date'] = pd.to_datetime(internet['session_date'], format='%Y-%m-%d')"
   ]
  },
  {
   "cell_type": "markdown",
   "metadata": {},
   "source": [
    "Также можно удалить столбец 'Unnamed: 0', который просто повторяет индекс."
   ]
  },
  {
   "cell_type": "code",
   "execution_count": 27,
   "metadata": {},
   "outputs": [],
   "source": [
    "internet = internet.drop('Unnamed: 0', axis=1)"
   ]
  },
  {
   "cell_type": "code",
   "execution_count": 28,
   "metadata": {},
   "outputs": [
    {
     "data": {
      "text/plain": [
       "count    149396.000000\n",
       "mean        370.192426\n",
       "std         278.300951\n",
       "min           0.000000\n",
       "25%         138.187500\n",
       "50%         348.015000\n",
       "75%         559.552500\n",
       "max        1724.830000\n",
       "Name: mb_used, dtype: float64"
      ]
     },
     "execution_count": 28,
     "metadata": {},
     "output_type": "execute_result"
    }
   ],
   "source": [
    "internet['mb_used'].describe()"
   ]
  },
  {
   "cell_type": "markdown",
   "metadata": {},
   "source": [
    "В этой таблице объем потребляемого интернета в некоторых случаях равняется 0. Поступим по аналогии со звонками и посмотрим, насколько сильно эти данные искажают распределение звонков."
   ]
  },
  {
   "cell_type": "code",
   "execution_count": 29,
   "metadata": {},
   "outputs": [
    {
     "data": {
      "text/plain": [
       "497"
      ]
     },
     "execution_count": 29,
     "metadata": {},
     "output_type": "execute_result"
    }
   ],
   "source": [
    "len(internet.query('mb_used > 0.0')['user_id'].unique()) #датасет без нулевых значений"
   ]
  },
  {
   "cell_type": "code",
   "execution_count": 30,
   "metadata": {},
   "outputs": [
    {
     "name": "stdout",
     "output_type": "stream",
     "text": [
      "Распределение без расхода интернета 0,0\n"
     ]
    },
    {
     "data": {
      "text/plain": [
       "count    129798.000000\n",
       "mean        426.087210\n",
       "std         255.596447\n",
       "min           0.030000\n",
       "25%         227.460000\n",
       "50%         400.540000\n",
       "75%         592.947500\n",
       "max        1724.830000\n",
       "Name: mb_used, dtype: float64"
      ]
     },
     "execution_count": 30,
     "metadata": {},
     "output_type": "execute_result"
    }
   ],
   "source": [
    "print('Распределение без расхода интернета 0,0')\n",
    "internet.query('mb_used > 0.0')['mb_used'].describe()"
   ]
  },
  {
   "cell_type": "markdown",
   "metadata": {},
   "source": [
    "Распределение меняется не сильно, данные не несут важной информации, можно их удалить."
   ]
  },
  {
   "cell_type": "code",
   "execution_count": 31,
   "metadata": {},
   "outputs": [],
   "source": [
    "internet = internet.drop(internet[internet['mb_used'] == 0].index).reset_index(drop=True)"
   ]
  },
  {
   "cell_type": "markdown",
   "metadata": {},
   "source": [
    "#### messages"
   ]
  },
  {
   "cell_type": "markdown",
   "metadata": {},
   "source": [
    "Меняем тип столбца с датой."
   ]
  },
  {
   "cell_type": "code",
   "execution_count": 32,
   "metadata": {},
   "outputs": [],
   "source": [
    "messages['message_date'] = pd.to_datetime(messages['message_date'], format='%Y-%m-%d')"
   ]
  },
  {
   "cell_type": "code",
   "execution_count": 33,
   "metadata": {},
   "outputs": [
    {
     "data": {
      "text/plain": [
       "count                  123036\n",
       "unique                    364\n",
       "top       2018-12-31 00:00:00\n",
       "freq                      859\n",
       "first     2018-01-02 00:00:00\n",
       "last      2018-12-31 00:00:00\n",
       "Name: message_date, dtype: object"
      ]
     },
     "execution_count": 33,
     "metadata": {},
     "output_type": "execute_result"
    }
   ],
   "source": [
    "messages['message_date'].describe()"
   ]
  },
  {
   "cell_type": "markdown",
   "metadata": {},
   "source": [
    "### Вычисление помесячного использования <a id=\"permonth\"></a>"
   ]
  },
  {
   "cell_type": "markdown",
   "metadata": {},
   "source": [
    "Посчитаем количество сделанных звонков и израсходованных минут разговора и гигабайт интернета по месяцам для каждого пользователя. Из этих данных мы в дальнейшем получим выручку по каждому клиенту. Начнем с того, что создадим новый столбец с месяцем, в который звонок был сделан."
   ]
  },
  {
   "cell_type": "code",
   "execution_count": 34,
   "metadata": {},
   "outputs": [],
   "source": [
    "calls['calls_month'] = pd.DatetimeIndex(calls['call_date']).month"
   ]
  },
  {
   "cell_type": "markdown",
   "metadata": {},
   "source": [
    "Далее группируем значения по ИД клиента и по месяцам, посчитав количество сделанных звонков по каждому из них."
   ]
  },
  {
   "cell_type": "code",
   "execution_count": 35,
   "metadata": {},
   "outputs": [
    {
     "data": {
      "text/html": [
       "<div>\n",
       "<style scoped>\n",
       "    .dataframe tbody tr th:only-of-type {\n",
       "        vertical-align: middle;\n",
       "    }\n",
       "\n",
       "    .dataframe tbody tr th {\n",
       "        vertical-align: top;\n",
       "    }\n",
       "\n",
       "    .dataframe thead th {\n",
       "        text-align: right;\n",
       "    }\n",
       "</style>\n",
       "<table border=\"1\" class=\"dataframe\">\n",
       "  <thead>\n",
       "    <tr style=\"text-align: right;\">\n",
       "      <th></th>\n",
       "      <th>user_id</th>\n",
       "      <th>calls_month</th>\n",
       "      <th>duration</th>\n",
       "    </tr>\n",
       "  </thead>\n",
       "  <tbody>\n",
       "    <tr>\n",
       "      <td>0</td>\n",
       "      <td>1000</td>\n",
       "      <td>5</td>\n",
       "      <td>17</td>\n",
       "    </tr>\n",
       "    <tr>\n",
       "      <td>1</td>\n",
       "      <td>1000</td>\n",
       "      <td>6</td>\n",
       "      <td>28</td>\n",
       "    </tr>\n",
       "    <tr>\n",
       "      <td>2</td>\n",
       "      <td>1000</td>\n",
       "      <td>7</td>\n",
       "      <td>41</td>\n",
       "    </tr>\n",
       "    <tr>\n",
       "      <td>3</td>\n",
       "      <td>1000</td>\n",
       "      <td>8</td>\n",
       "      <td>42</td>\n",
       "    </tr>\n",
       "    <tr>\n",
       "      <td>4</td>\n",
       "      <td>1000</td>\n",
       "      <td>9</td>\n",
       "      <td>46</td>\n",
       "    </tr>\n",
       "  </tbody>\n",
       "</table>\n",
       "</div>"
      ],
      "text/plain": [
       "   user_id  calls_month  duration\n",
       "0     1000            5        17\n",
       "1     1000            6        28\n",
       "2     1000            7        41\n",
       "3     1000            8        42\n",
       "4     1000            9        46"
      ]
     },
     "execution_count": 35,
     "metadata": {},
     "output_type": "execute_result"
    }
   ],
   "source": [
    "calls_count = calls.pivot_table(index=['user_id', 'calls_month'], values='duration', aggfunc='count').reset_index() \n",
    "calls_count.head()"
   ]
  },
  {
   "cell_type": "markdown",
   "metadata": {},
   "source": [
    "По такому же принципу рассчитаем количество использованных минут. Но предварительно округлим длительность всех звонков до целых минут."
   ]
  },
  {
   "cell_type": "code",
   "execution_count": 36,
   "metadata": {},
   "outputs": [],
   "source": [
    "calls['duration'] = calls['duration'].apply(lambda x: math.ceil(x))"
   ]
  },
  {
   "cell_type": "code",
   "execution_count": 37,
   "metadata": {},
   "outputs": [
    {
     "data": {
      "text/plain": [
       "count    3168.000000\n",
       "mean      457.797033\n",
       "std       237.423514\n",
       "min         1.000000\n",
       "25%       290.750000\n",
       "50%       447.500000\n",
       "75%       592.250000\n",
       "max      1673.000000\n",
       "Name: duration, dtype: float64"
      ]
     },
     "execution_count": 37,
     "metadata": {},
     "output_type": "execute_result"
    }
   ],
   "source": [
    "calls_sum = calls.pivot_table(index=['user_id', 'calls_month'], values='duration', aggfunc='sum').reset_index() \n",
    "calls_sum['duration'].describe()"
   ]
  },
  {
   "cell_type": "markdown",
   "metadata": {},
   "source": [
    "Далее считаем количество отправленных сообщений по месяцам. Первоначально создаем столбец с месяцем, а затем делаем сводную таблицу."
   ]
  },
  {
   "cell_type": "code",
   "execution_count": 38,
   "metadata": {},
   "outputs": [],
   "source": [
    "messages['messages_month'] = pd.DatetimeIndex(messages['message_date']).month"
   ]
  },
  {
   "cell_type": "code",
   "execution_count": 39,
   "metadata": {},
   "outputs": [
    {
     "data": {
      "text/plain": [
       "count    2717.000000\n",
       "mean       45.283769\n",
       "std        35.051363\n",
       "min         1.000000\n",
       "25%        19.000000\n",
       "50%        38.000000\n",
       "75%        63.000000\n",
       "max       224.000000\n",
       "Name: messages_count, dtype: float64"
      ]
     },
     "execution_count": 39,
     "metadata": {},
     "output_type": "execute_result"
    }
   ],
   "source": [
    "messages_count = messages.pivot_table(index=['user_id', 'messages_month'], \n",
    "                                                                values='message_date', aggfunc='count').reset_index() \n",
    "messages_count.columns = ['user_id', 'messages_month', 'messages_count']\n",
    "messages_count['messages_count'].describe()"
   ]
  },
  {
   "cell_type": "markdown",
   "metadata": {},
   "source": [
    "Аналогично считаем объем израсходованного интернет-трафика по месяцам в гигабайтах."
   ]
  },
  {
   "cell_type": "code",
   "execution_count": 40,
   "metadata": {},
   "outputs": [],
   "source": [
    "internet['internet_month'] = pd.DatetimeIndex(internet['session_date']).month"
   ]
  },
  {
   "cell_type": "code",
   "execution_count": 41,
   "metadata": {},
   "outputs": [
    {
     "data": {
      "text/plain": [
       "count    3201.000000\n",
       "mean       17.369260\n",
       "std         7.332836\n",
       "min         1.000000\n",
       "25%        13.000000\n",
       "50%        17.000000\n",
       "75%        21.000000\n",
       "max        49.000000\n",
       "Name: gb_used, dtype: float64"
      ]
     },
     "execution_count": 41,
     "metadata": {},
     "output_type": "execute_result"
    }
   ],
   "source": [
    "internet_used = internet.pivot_table(index=['user_id', 'internet_month'], \n",
    "                                                                values='mb_used', aggfunc='sum').reset_index()\n",
    "internet_used['gb_used'] = internet_used['mb_used'].apply(lambda x: math.ceil(x/1024)) # пересчитаем в ГБ\n",
    "internet_used['gb_used'].describe()"
   ]
  },
  {
   "cell_type": "markdown",
   "metadata": {},
   "source": [
    "Теперь рассчитаем помесячную выручку с каждого пользователя."
   ]
  },
  {
   "cell_type": "code",
   "execution_count": 42,
   "metadata": {},
   "outputs": [
    {
     "data": {
      "text/html": [
       "<div>\n",
       "<style scoped>\n",
       "    .dataframe tbody tr th:only-of-type {\n",
       "        vertical-align: middle;\n",
       "    }\n",
       "\n",
       "    .dataframe tbody tr th {\n",
       "        vertical-align: top;\n",
       "    }\n",
       "\n",
       "    .dataframe thead th {\n",
       "        text-align: right;\n",
       "    }\n",
       "</style>\n",
       "<table border=\"1\" class=\"dataframe\">\n",
       "  <thead>\n",
       "    <tr style=\"text-align: right;\">\n",
       "      <th></th>\n",
       "      <th>smart</th>\n",
       "      <th>ultra</th>\n",
       "    </tr>\n",
       "  </thead>\n",
       "  <tbody>\n",
       "    <tr>\n",
       "      <td>messages_included</td>\n",
       "      <td>50</td>\n",
       "      <td>1000</td>\n",
       "    </tr>\n",
       "    <tr>\n",
       "      <td>minutes_included</td>\n",
       "      <td>500</td>\n",
       "      <td>3000</td>\n",
       "    </tr>\n",
       "    <tr>\n",
       "      <td>rub_monthly_fee</td>\n",
       "      <td>550</td>\n",
       "      <td>1950</td>\n",
       "    </tr>\n",
       "    <tr>\n",
       "      <td>rub_per_gb</td>\n",
       "      <td>200</td>\n",
       "      <td>150</td>\n",
       "    </tr>\n",
       "    <tr>\n",
       "      <td>rub_per_message</td>\n",
       "      <td>3</td>\n",
       "      <td>1</td>\n",
       "    </tr>\n",
       "    <tr>\n",
       "      <td>rub_per_minute</td>\n",
       "      <td>3</td>\n",
       "      <td>1</td>\n",
       "    </tr>\n",
       "    <tr>\n",
       "      <td>tariff_name</td>\n",
       "      <td>smart</td>\n",
       "      <td>ultra</td>\n",
       "    </tr>\n",
       "    <tr>\n",
       "      <td>gb_per_month</td>\n",
       "      <td>15</td>\n",
       "      <td>30</td>\n",
       "    </tr>\n",
       "  </tbody>\n",
       "</table>\n",
       "</div>"
      ],
      "text/plain": [
       "                   smart  ultra\n",
       "messages_included     50   1000\n",
       "minutes_included     500   3000\n",
       "rub_monthly_fee      550   1950\n",
       "rub_per_gb           200    150\n",
       "rub_per_message        3      1\n",
       "rub_per_minute         3      1\n",
       "tariff_name        smart  ultra\n",
       "gb_per_month          15     30"
      ]
     },
     "execution_count": 42,
     "metadata": {},
     "output_type": "execute_result"
    }
   ],
   "source": [
    "tariffs['gb_per_month'] = tariffs['mb_per_month_included'] / 1024 # заменим мб на гб\n",
    "tariffs = tariffs.drop('mb_per_month_included', axis=1).T # перевернем для дальнейшего использования\n",
    "tariffs.columns = ['smart', 'ultra']\n",
    "tariffs"
   ]
  },
  {
   "cell_type": "markdown",
   "metadata": {},
   "source": [
    "Объединим данные по звонкам, сообщениям и интернету, полученные выше, в одну таблицу."
   ]
  },
  {
   "cell_type": "code",
   "execution_count": 43,
   "metadata": {},
   "outputs": [
    {
     "data": {
      "text/html": [
       "<div>\n",
       "<style scoped>\n",
       "    .dataframe tbody tr th:only-of-type {\n",
       "        vertical-align: middle;\n",
       "    }\n",
       "\n",
       "    .dataframe tbody tr th {\n",
       "        vertical-align: top;\n",
       "    }\n",
       "\n",
       "    .dataframe thead th {\n",
       "        text-align: right;\n",
       "    }\n",
       "</style>\n",
       "<table border=\"1\" class=\"dataframe\">\n",
       "  <thead>\n",
       "    <tr style=\"text-align: right;\">\n",
       "      <th></th>\n",
       "      <th>user_id</th>\n",
       "      <th>calls_month</th>\n",
       "      <th>duration</th>\n",
       "      <th>messages_count</th>\n",
       "      <th>mb_used</th>\n",
       "      <th>gb_used</th>\n",
       "    </tr>\n",
       "  </thead>\n",
       "  <tbody>\n",
       "    <tr>\n",
       "      <td>0</td>\n",
       "      <td>1000</td>\n",
       "      <td>5.0</td>\n",
       "      <td>159.0</td>\n",
       "      <td>22.0</td>\n",
       "      <td>2253.49</td>\n",
       "      <td>3.0</td>\n",
       "    </tr>\n",
       "    <tr>\n",
       "      <td>1</td>\n",
       "      <td>1000</td>\n",
       "      <td>6.0</td>\n",
       "      <td>172.0</td>\n",
       "      <td>60.0</td>\n",
       "      <td>23233.77</td>\n",
       "      <td>23.0</td>\n",
       "    </tr>\n",
       "    <tr>\n",
       "      <td>2</td>\n",
       "      <td>1000</td>\n",
       "      <td>7.0</td>\n",
       "      <td>340.0</td>\n",
       "      <td>75.0</td>\n",
       "      <td>14003.64</td>\n",
       "      <td>14.0</td>\n",
       "    </tr>\n",
       "    <tr>\n",
       "      <td>3</td>\n",
       "      <td>1000</td>\n",
       "      <td>8.0</td>\n",
       "      <td>408.0</td>\n",
       "      <td>81.0</td>\n",
       "      <td>14055.93</td>\n",
       "      <td>14.0</td>\n",
       "    </tr>\n",
       "    <tr>\n",
       "      <td>4</td>\n",
       "      <td>1000</td>\n",
       "      <td>9.0</td>\n",
       "      <td>466.0</td>\n",
       "      <td>57.0</td>\n",
       "      <td>14568.91</td>\n",
       "      <td>15.0</td>\n",
       "    </tr>\n",
       "  </tbody>\n",
       "</table>\n",
       "</div>"
      ],
      "text/plain": [
       "   user_id  calls_month  duration  messages_count   mb_used  gb_used\n",
       "0     1000          5.0     159.0            22.0   2253.49      3.0\n",
       "1     1000          6.0     172.0            60.0  23233.77     23.0\n",
       "2     1000          7.0     340.0            75.0  14003.64     14.0\n",
       "3     1000          8.0     408.0            81.0  14055.93     14.0\n",
       "4     1000          9.0     466.0            57.0  14568.91     15.0"
      ]
     },
     "execution_count": 43,
     "metadata": {},
     "output_type": "execute_result"
    }
   ],
   "source": [
    "users_merged = calls_sum.merge(messages_count, how='outer', left_on=['user_id', 'calls_month'], \n",
    "                                                        right_on=['user_id', 'messages_month']).drop('messages_month', axis=1)\n",
    "users_merged = users_merged.merge(internet_used, how='outer', left_on=['user_id', 'calls_month'], \n",
    "                                                        right_on=['user_id', 'internet_month']).drop('internet_month', axis=1)\n",
    "users_merged.head(5)"
   ]
  },
  {
   "cell_type": "code",
   "execution_count": 44,
   "metadata": {},
   "outputs": [
    {
     "data": {
      "text/plain": [
       "(123036, 123036, 123036.0)"
      ]
     },
     "execution_count": 44,
     "metadata": {},
     "output_type": "execute_result"
    }
   ],
   "source": [
    "messages['messages_month'].count(), messages_count['messages_count'].sum(), users_merged['messages_count'].sum()"
   ]
  },
  {
   "cell_type": "markdown",
   "metadata": {},
   "source": [
    "Далее для каждого клиента укажем используемый им тариф и город проживания. Это нам понадобится для дальнейших расчетов."
   ]
  },
  {
   "cell_type": "code",
   "execution_count": 45,
   "metadata": {},
   "outputs": [],
   "source": [
    "users = users.set_index('user_id') # для удобства пользования заменим индекс в таблице users на ИД клиентов\n",
    "users_merged['tariff'] = users_merged['user_id'].apply(lambda x: users.loc[x, 'tariff'])\n",
    "users_merged['city'] = users_merged['user_id'].apply(lambda x: users.loc[x, 'city'])\n",
    "users_merged = users_merged.fillna(0)"
   ]
  },
  {
   "cell_type": "code",
   "execution_count": 46,
   "metadata": {},
   "outputs": [
    {
     "data": {
      "text/html": [
       "<div>\n",
       "<style scoped>\n",
       "    .dataframe tbody tr th:only-of-type {\n",
       "        vertical-align: middle;\n",
       "    }\n",
       "\n",
       "    .dataframe tbody tr th {\n",
       "        vertical-align: top;\n",
       "    }\n",
       "\n",
       "    .dataframe thead th {\n",
       "        text-align: right;\n",
       "    }\n",
       "</style>\n",
       "<table border=\"1\" class=\"dataframe\">\n",
       "  <thead>\n",
       "    <tr style=\"text-align: right;\">\n",
       "      <th></th>\n",
       "      <th>user_id</th>\n",
       "      <th>calls_month</th>\n",
       "      <th>duration</th>\n",
       "      <th>messages_count</th>\n",
       "      <th>mb_used</th>\n",
       "      <th>gb_used</th>\n",
       "      <th>tariff</th>\n",
       "      <th>city</th>\n",
       "    </tr>\n",
       "  </thead>\n",
       "  <tbody>\n",
       "    <tr>\n",
       "      <td>0</td>\n",
       "      <td>1000</td>\n",
       "      <td>5.0</td>\n",
       "      <td>159.0</td>\n",
       "      <td>22.0</td>\n",
       "      <td>2253.49</td>\n",
       "      <td>3.0</td>\n",
       "      <td>ultra</td>\n",
       "      <td>Краснодар</td>\n",
       "    </tr>\n",
       "    <tr>\n",
       "      <td>1</td>\n",
       "      <td>1000</td>\n",
       "      <td>6.0</td>\n",
       "      <td>172.0</td>\n",
       "      <td>60.0</td>\n",
       "      <td>23233.77</td>\n",
       "      <td>23.0</td>\n",
       "      <td>ultra</td>\n",
       "      <td>Краснодар</td>\n",
       "    </tr>\n",
       "    <tr>\n",
       "      <td>2</td>\n",
       "      <td>1000</td>\n",
       "      <td>7.0</td>\n",
       "      <td>340.0</td>\n",
       "      <td>75.0</td>\n",
       "      <td>14003.64</td>\n",
       "      <td>14.0</td>\n",
       "      <td>ultra</td>\n",
       "      <td>Краснодар</td>\n",
       "    </tr>\n",
       "    <tr>\n",
       "      <td>3</td>\n",
       "      <td>1000</td>\n",
       "      <td>8.0</td>\n",
       "      <td>408.0</td>\n",
       "      <td>81.0</td>\n",
       "      <td>14055.93</td>\n",
       "      <td>14.0</td>\n",
       "      <td>ultra</td>\n",
       "      <td>Краснодар</td>\n",
       "    </tr>\n",
       "    <tr>\n",
       "      <td>4</td>\n",
       "      <td>1000</td>\n",
       "      <td>9.0</td>\n",
       "      <td>466.0</td>\n",
       "      <td>57.0</td>\n",
       "      <td>14568.91</td>\n",
       "      <td>15.0</td>\n",
       "      <td>ultra</td>\n",
       "      <td>Краснодар</td>\n",
       "    </tr>\n",
       "  </tbody>\n",
       "</table>\n",
       "</div>"
      ],
      "text/plain": [
       "   user_id  calls_month  duration  messages_count   mb_used  gb_used tariff  \\\n",
       "0     1000          5.0     159.0            22.0   2253.49      3.0  ultra   \n",
       "1     1000          6.0     172.0            60.0  23233.77     23.0  ultra   \n",
       "2     1000          7.0     340.0            75.0  14003.64     14.0  ultra   \n",
       "3     1000          8.0     408.0            81.0  14055.93     14.0  ultra   \n",
       "4     1000          9.0     466.0            57.0  14568.91     15.0  ultra   \n",
       "\n",
       "        city  \n",
       "0  Краснодар  \n",
       "1  Краснодар  \n",
       "2  Краснодар  \n",
       "3  Краснодар  \n",
       "4  Краснодар  "
      ]
     },
     "execution_count": 46,
     "metadata": {},
     "output_type": "execute_result"
    }
   ],
   "source": [
    "users_merged.head()"
   ]
  },
  {
   "cell_type": "markdown",
   "metadata": {},
   "source": [
    "Далее высчитаем непосредственно выручку. Вычтем бесплатный лимит из суммарного количества звонков, сообщений и интернет-трафика; остаток умножим на значение из тарифного плана, прибавим абонентскую плату, соответствующую тарифному плану."
   ]
  },
  {
   "cell_type": "code",
   "execution_count": 47,
   "metadata": {},
   "outputs": [],
   "source": [
    "def count_revenue(row, tariffs):\n",
    "    tariff = row['tariff']\n",
    "    revenue = tariffs.loc['rub_monthly_fee', tariff]\n",
    "    calls = max(row['duration'] - tariffs.loc['minutes_included', tariff], 0) * tariffs.loc['rub_per_minute', tariff]\n",
    "    messages = (max(row['messages_count'] - tariffs.loc['messages_included', tariff], 0)*\n",
    "                                                                                         tariffs.loc['rub_per_message', tariff])\n",
    "    internet = (max(row['gb_used'] - tariffs.loc['gb_per_month', tariff], 0) * tariffs.loc['rub_per_gb', tariff])\n",
    "    return revenue + calls + messages + internet"
   ]
  },
  {
   "cell_type": "code",
   "execution_count": 48,
   "metadata": {},
   "outputs": [],
   "source": [
    "users_merged['revenue_per_month'] = users_merged.apply(count_revenue, tariffs=tariffs, axis=1)"
   ]
  },
  {
   "cell_type": "code",
   "execution_count": 49,
   "metadata": {},
   "outputs": [
    {
     "data": {
      "text/plain": [
       "count    3258.000000\n",
       "mean     1531.323204\n",
       "std       795.552898\n",
       "min       550.000000\n",
       "25%       750.000000\n",
       "50%      1677.000000\n",
       "75%      1950.000000\n",
       "max      6770.000000\n",
       "Name: revenue_per_month, dtype: float64"
      ]
     },
     "execution_count": 49,
     "metadata": {},
     "output_type": "execute_result"
    }
   ],
   "source": [
    "users_merged['revenue_per_month'].describe()"
   ]
  },
  {
   "cell_type": "markdown",
   "metadata": {},
   "source": [
    "**Вывод**\n",
    "\n",
    "В данном шаге мы выполнили предобработку данных. Среди прочего мы заменили тип столбцов, содержащих даты, на datetime, удалили звонки длительностью 0,0 минут и интернет-сессии с потреблением трафика, равному 0. Также мы заметили, что с тарифа смарт клиенты уходили чаще, чем с тарифа ультра. \n",
    "\n",
    "После проведенной подготовки мы сгруппировали потребленные услуги по каждому клиенту и по месяцам, и уже исходя из полученных данных рассчитали помесячный доход на каждого."
   ]
  },
  {
   "cell_type": "markdown",
   "metadata": {},
   "source": [
    "\n",
    "## Анализ данных "
   ]
  },
  {
   "cell_type": "markdown",
   "metadata": {},
   "source": [
    "Посмотрим на поведение клиентов оператора, представленных в выборке. Посчитаем, сколько минут разговора, сколько сообщений и какой объём интернет-трафика требуется пользователям каждого тарифа в месяц в среднем."
   ]
  },
  {
   "cell_type": "code",
   "execution_count": 50,
   "metadata": {},
   "outputs": [
    {
     "name": "stdout",
     "output_type": "stream",
     "text": [
      "Среднее кол-во минут: 445.15, сообщений: 37.76, гигабайт: 17.07\n"
     ]
    }
   ],
   "source": [
    "print('Среднее кол-во минут: {:.2f}, сообщений: {:.2f}, гигабайт: {:.2f}'.format(users_merged['duration'].mean(), \n",
    "                                                                     users_merged['messages_count'].mean(), \n",
    "                                                                     users_merged['gb_used'].mean()))"
   ]
  },
  {
   "cell_type": "markdown",
   "metadata": {},
   "source": [
    "Как видим, в среднем в месяц клиенты тратят 445,15 минут на телефонные звонки, отправляют 37 сообщений, используют 17,07 ГБ интернета. Средняя выручка на клиента составляет 1531 рубль."
   ]
  },
  {
   "cell_type": "markdown",
   "metadata": {},
   "source": [
    "Теперь у нас есть объединенная таблица с основными данными о клиентах и помесячным расчетом потребляемых услуг, а также ежемесячной платы по каждому. Для дальнейшего анализа разделим датасет на два набора данных — клиенты с тарифом ультра и с тарифом смарт."
   ]
  },
  {
   "cell_type": "code",
   "execution_count": 51,
   "metadata": {},
   "outputs": [
    {
     "name": "stdout",
     "output_type": "stream",
     "text": [
      "Общая выручка ultra: 2109300.00, количество клиентов: 148\n",
      "Общая выручка smart: 2879751.00, количество клиентов: 350\n"
     ]
    }
   ],
   "source": [
    "users_ultra = users_merged[users_merged['tariff'] == 'ultra']\n",
    "users_smart = users_merged[users_merged['tariff'] == 'smart']\n",
    "\n",
    "print('Общая выручка ultra: {:.2f}, количество клиентов: {}'.format(users_ultra['revenue_per_month'].sum(), \n",
    "                                                                    len(users_ultra['user_id'].unique())))\n",
    "print('Общая выручка smart: {:.2f}, количество клиентов: {}'.format(users_smart['revenue_per_month'].sum(), \n",
    "                                                                    len(users_smart['user_id'].unique())))"
   ]
  },
  {
   "cell_type": "markdown",
   "metadata": {},
   "source": [
    "### calls"
   ]
  },
  {
   "cell_type": "markdown",
   "metadata": {},
   "source": [
    "Посмотрим распределение количества минут, сообщений и потраченных гигабайт для клиентов каждого из тарифов и сравним основные показатели. Для этого построим графики и высчитаем дисперсию и стандартное отклонение."
   ]
  },
  {
   "cell_type": "code",
   "execution_count": 52,
   "metadata": {},
   "outputs": [
    {
     "data": {
      "image/png": "[encoded data removed]",
      "text/plain": [
       "<Figure size 720x432 with 1 Axes>"
      ]
     },
     "metadata": {
      "needs_background": "light"
     },
     "output_type": "display_data"
    }
   ],
   "source": [
    "fig, ax = plt.subplots(figsize=(10,6))\n",
    "\n",
    "ax.hist(users_ultra['duration'], label=\"ultra\", alpha=0.7, density=True)\n",
    "ax.hist(users_smart['duration'], label='smart', alpha=0.7, density=True)\n",
    "ax.set_xlabel('Кол-во минут', fontsize=18)\n",
    "ax.set_ylabel('Плотность', fontsize=18)\n",
    "ax.set_title('Звонки', fontsize=24)\n",
    "ax.legend(loc=5);"
   ]
  },
  {
   "cell_type": "code",
   "execution_count": 53,
   "metadata": {},
   "outputs": [
    {
     "name": "stdout",
     "output_type": "stream",
     "text": [
      "Дисперсия для тарифа ультра 106756.45, среднее — 508.05, стандартное отклонение — 326.74\n",
      "Дисперсия для тарифа смарт 36712.43, среднее — 416.44, стандартное отклонение — 191.60\n"
     ]
    }
   ],
   "source": [
    "ultra_var_cal = np.var(users_ultra['duration'], ddof=1)\n",
    "ultra_std_cal = np.sqrt(ultra_var_cal)\n",
    "\n",
    "smart_var_cal = np.var(users_smart['duration'], ddof=1)\n",
    "smart_std_cal = np.sqrt(smart_var_cal)\n",
    "\n",
    "print('Дисперсия для тарифа ультра {:.2f}, среднее — {:.2f}, стандартное отклонение — {:.2f}'\n",
    "      .format(ultra_var_cal, users_ultra['duration'].mean(), ultra_std_cal))\n",
    "print('Дисперсия для тарифа смарт {:.2f}, среднее — {:.2f}, стандартное отклонение — {:.2f}'\n",
    "      .format(smart_var_cal, users_smart['duration'].mean(), smart_std_cal))"
   ]
  },
  {
   "cell_type": "markdown",
   "metadata": {},
   "source": [
    "Как видим, распределение звонков для обоих тарифов близко к распределению Пуассона, только для тарифа ультра это распределение более плоское — его дисперсия превышает дисперсию тарифа смарт почти в 3 раза, а стандартное отклонение — в 1,7 раза. В среднем клиенты тарифа ультра используют на 92 минуты больше, чем клиенты тарифа смарт."
   ]
  },
  {
   "cell_type": "markdown",
   "metadata": {},
   "source": [
    "### messages"
   ]
  },
  {
   "cell_type": "code",
   "execution_count": 54,
   "metadata": {},
   "outputs": [
    {
     "data": {
      "image/png": "[encoded data removed]",
      "text/plain": [
       "<Figure size 720x432 with 1 Axes>"
      ]
     },
     "metadata": {
      "needs_background": "light"
     },
     "output_type": "display_data"
    }
   ],
   "source": [
    "fig, ax = plt.subplots(figsize=(10,6))\n",
    "\n",
    "ax.hist(users_ultra['messages_count'], label=\"ultra\", alpha=0.7, density=True)\n",
    "ax.hist(users_smart['messages_count'], label='smart', alpha=0.7, density=True)\n",
    "ax.set_xlabel('Кол-во сообщений', fontsize=18)\n",
    "ax.set_ylabel('Плотность', fontsize=18)\n",
    "ax.set_title('Сообщения', fontsize=24)\n",
    "ax.legend(loc=5);"
   ]
  },
  {
   "cell_type": "code",
   "execution_count": 55,
   "metadata": {},
   "outputs": [
    {
     "name": "stdout",
     "output_type": "stream",
     "text": [
      "Дисперсия для тарифа ультра 2287.58, среднее — 47.62, стандартное отклонение — 47.83\n",
      "Дисперсия для тарифа смарт 797.94, среднее — 33.26, стандартное отклонение — 28.25\n"
     ]
    }
   ],
   "source": [
    "ultra_var_mes = np.var(users_ultra['messages_count'], ddof=1)\n",
    "ultra_std_mes = np.sqrt(ultra_var_mes)\n",
    "\n",
    "smart_var_mes = np.var(users_smart['messages_count'], ddof=1)\n",
    "smart_std_mes = np.sqrt(smart_var_mes)\n",
    "\n",
    "print('Дисперсия для тарифа ультра {:.2f}, среднее — {:.2f}, стандартное отклонение — {:.2f}'\n",
    "      .format(ultra_var_mes, users_ultra['messages_count'].mean(), ultra_std_mes))\n",
    "print('Дисперсия для тарифа смарт {:.2f}, среднее — {:.2f}, стандартное отклонение — {:.2f}'\n",
    "      .format(smart_var_mes, users_smart['messages_count'].mean(), smart_std_mes))"
   ]
  },
  {
   "cell_type": "markdown",
   "metadata": {},
   "source": [
    "На графиках распределение звонков для обоих тарифов напоминает геометрическое. Данные скошенны вправо. У тарифа ультра \"хвост\" длиннее, и дисперсия превышает дисперсию тарифа смарт почти в 3 раза. Стандартное отклонение тарифа ультра больше в 1,7 раза. В среднем клиенты тарифа ультра отправляют на 14 сообщений больше, чем клиенты тарифа смарт."
   ]
  },
  {
   "cell_type": "markdown",
   "metadata": {},
   "source": [
    "### internet"
   ]
  },
  {
   "cell_type": "code",
   "execution_count": 56,
   "metadata": {},
   "outputs": [
    {
     "data": {
      "image/png": "[encoded data removed]",
      "text/plain": [
       "<Figure size 720x432 with 1 Axes>"
      ]
     },
     "metadata": {
      "needs_background": "light"
     },
     "output_type": "display_data"
    }
   ],
   "source": [
    "fig, ax = plt.subplots(figsize=(10,6))\n",
    "\n",
    "ax.hist(users_ultra['gb_used'], label=\"ultra\", alpha=0.7, density=True)\n",
    "ax.hist(users_smart['gb_used'], label='smart', alpha=0.7, density=True)\n",
    "ax.set_xlabel('Кол-во гигабайт', fontsize=18)\n",
    "ax.set_ylabel('Плотность', fontsize=18)\n",
    "ax.set_title('Интернет', fontsize=24)\n",
    "ax.legend(loc=5);"
   ]
  },
  {
   "cell_type": "code",
   "execution_count": 57,
   "metadata": {},
   "outputs": [
    {
     "name": "stdout",
     "output_type": "stream",
     "text": [
      "Дисперсия для тарифа ультра 106.60, среднее — 18.81, стандартное отклонение — 10.32\n",
      "Дисперсия для тарифа смарт 33.86, среднее — 16.27, стандартное отклонение — 5.82\n"
     ]
    }
   ],
   "source": [
    "ultra_var_int = np.var(users_ultra['gb_used'], ddof=1)\n",
    "ultra_std_int = np.sqrt(ultra_var_int)\n",
    "\n",
    "smart_var_int = np.var(users_smart['gb_used'], ddof=1)\n",
    "smart_std_int = np.sqrt(smart_var_int)\n",
    "\n",
    "print('Дисперсия для тарифа ультра {:.2f}, среднее — {:.2f}, стандартное отклонение — {:.2f}'\n",
    "      .format(ultra_var_int, users_ultra['gb_used'].mean(), ultra_std_int))\n",
    "print('Дисперсия для тарифа смарт {:.2f}, среднее — {:.2f}, стандартное отклонение — {:.2f}'\n",
    "      .format(smart_var_int, users_smart['gb_used'].mean(), smart_std_int))"
   ]
  },
  {
   "cell_type": "markdown",
   "metadata": {},
   "source": [
    "Распределение потребленного интернета для улиентов смарта тарифов близко к распределению Лапласа, а у тарифа ультра к Пуассону. Дисперсия тарифа ультра превышает дисперсию тарифа смарт в 3 раза, стандартное отклонение — в 1,8 раза, но в среднем клиенты тарифа ультра отправляют используют лишь на 2,54 ГБ больше, чем клиенты тарифа смарт."
   ]
  },
  {
   "cell_type": "markdown",
   "metadata": {},
   "source": [
    "**Вывод**\n",
    "\n",
    "Мы провели анализ имеющихся данных и сравнили поведение клиентов двух разных тарифов. Оказалось, что в среднем клиенты тарифа ультра тратят больше минут, отправляют больше сообщений и используют больше интернета. Если сравнивать среднее кол-во потребленных услуг для каждого тарифа со средним по всей выборке, то потребление клиентов ультра всегда выше среднего, а смарт — ниже. При этом общая выручка по тарифу смарт больше в 1,4 раза за счет большего количества клиентов (в 2,4 раза)."
   ]
  },
  {
   "cell_type": "markdown",
   "metadata": {},
   "source": [
    "## Проверка гипотез "
   ]
  },
  {
   "cell_type": "markdown",
   "metadata": {},
   "source": [
    "Посмотрим на среднюю выручку каждого из тарифов."
   ]
  },
  {
   "cell_type": "code",
   "execution_count": 58,
   "metadata": {},
   "outputs": [
    {
     "name": "stdout",
     "output_type": "stream",
     "text": [
      "Средняя выручка тарифа ультра: 2065.92, тарифа смарт 1287.33\n"
     ]
    }
   ],
   "source": [
    "print('Средняя выручка тарифа ультра: {:.2f}, тарифа смарт {:.2f}'.format(users_ultra['revenue_per_month'].mean(), \n",
    "                                                                          users_smart['revenue_per_month'].mean()))"
   ]
  },
  {
   "cell_type": "markdown",
   "metadata": {},
   "source": [
    "<div style=\"border:solid lightblue 2px; padding: 10px\">\n",
    "Проверим, можно ли считать эти средние равными. Проверяемая гипотеза должна формулироваться таким образом, чтобы можно было использовать знак равенства, поэтому в нашем случае нулевая гипотеза будет выглядеть следующим образом: \n",
    "\n",
    "**«Средняя выручка пользователей тарифов \"Ультра\" и \"Смарт\" равны»**, \n",
    "\n",
    "а альтернативная:\n",
    "\n",
    "**«Средняя выручка пользователей тарифов \"Ультра\" и \"Смарт\" не равны»**,\n",
    "\n",
    "Для проверки нулевой гипотезы проведем t-test и будем использовать общепринятый критерий в 5%. Однако прежде всего проверим распределение данных и проверим, равны ли дисперсии наших выборок.\n",
    "<div/>"
   ]
  },
  {
   "cell_type": "code",
   "execution_count": 59,
   "metadata": {},
   "outputs": [
    {
     "data": {
      "image/png": "[encoded data removed]",
      "text/plain": [
       "<Figure size 576x288 with 1 Axes>"
      ]
     },
     "metadata": {
      "needs_background": "light"
     },
     "output_type": "display_data"
    }
   ],
   "source": [
    "fig, ax = plt.subplots(figsize=(8,4))\n",
    "\n",
    "ax.hist(users_ultra['revenue_per_month'], label=\"ultra\", alpha=0.7, density=True)\n",
    "ax.hist(users_smart['revenue_per_month'], label='smart', alpha=0.7, density=True)\n",
    "ax.set_xlabel('Плата в рублях в месяц', fontsize=15)\n",
    "ax.set_ylabel('Плотность', fontsize=15)\n",
    "ax.set_title('Выручка', fontsize=20)\n",
    "ax.legend(loc=5);"
   ]
  },
  {
   "cell_type": "markdown",
   "metadata": {},
   "source": [
    "Распределение далеко от нормального, поэтому используем для проверки равенства дисперсий тест Левене. По его результатам определим значение equal_var для t-testa."
   ]
  },
  {
   "cell_type": "code",
   "execution_count": 60,
   "metadata": {},
   "outputs": [
    {
     "name": "stdout",
     "output_type": "stream",
     "text": [
      "p-значение для теста Левене: 1.4025375794272886e-127\n",
      "Гипотеза о равенстве дисперсий не нашла подтверждения\n"
     ]
    }
   ],
   "source": [
    "levene = st.levene(users_ultra['revenue_per_month'], \n",
    "                   users_smart['revenue_per_month'])\n",
    "alpha = 0.05\n",
    "print('p-значение для теста Левене:', levene.pvalue)\n",
    "if levene.pvalue < alpha:\n",
    "    print('Гипотеза о равенстве дисперсий не нашла подтверждения')\n",
    "else:\n",
    "    print('Отвергнуть гипотезу о равенстве дисперсий не удалось')"
   ]
  },
  {
   "cell_type": "code",
   "execution_count": 61,
   "metadata": {},
   "outputs": [
    {
     "name": "stdout",
     "output_type": "stream",
     "text": [
      "p-значение:  5.4285168904175035e-255\n",
      "Гипотеза о равенстве средних показателей выручки не нашла подтверждения\n"
     ]
    }
   ],
   "source": [
    "equal_means = st.ttest_ind(\n",
    "            users_ultra['revenue_per_month'],\n",
    "            users_smart['revenue_per_month'],\n",
    "            equal_var = False)\n",
    "\n",
    "print('p-значение: ', equal_means.pvalue)\n",
    "if equal_means.pvalue < alpha:\n",
    "    print('Гипотеза о равенстве средних показателей выручки не нашла подтверждения')\n",
    "else:\n",
    "    print('Отвергнуть гипотезу о равенстве средних показателей выручки не удалось')"
   ]
  },
  {
   "cell_type": "markdown",
   "metadata": {},
   "source": [
    "Выходит, что средние выручки по двум тарифам считать равными нельзя."
   ]
  },
  {
   "cell_type": "markdown",
   "metadata": {},
   "source": [
    "Далее посмотрим на среднюю выручку по Москве и регионам и проверим, есть ли между ними разница."
   ]
  },
  {
   "cell_type": "markdown",
   "metadata": {},
   "source": [
    "<div style=\"border:solid lightblue 2px; padding: 10px\">\n",
    "Сформулируем нулевую гипотезу следующим образом:\n",
    "\n",
    "**«Средняя выручка пользователей из Москвы равна выручке пользователей из других регионов»**, \n",
    "\n",
    "а альтернативную:\n",
    "\n",
    "**«Средняя выручка пользователей из Москвы не равна выручке пользователей из других регионов»**.\n",
    "\n",
    "Проверку проведем по аналогии с предыдущей.\n",
    "<div/>"
   ]
  },
  {
   "cell_type": "code",
   "execution_count": 62,
   "metadata": {},
   "outputs": [
    {
     "name": "stdout",
     "output_type": "stream",
     "text": [
      "Средняя выручка в Москве: 1546.71, в регионах: 1527.77\n"
     ]
    }
   ],
   "source": [
    "users_moscow = users_merged.query('city == \"Москва\"')\n",
    "users_regions = users_merged.query('city != \"Москва\"')\n",
    "\n",
    "print('Средняя выручка в Москве: {:.2f}, в регионах: {:.2f}'\n",
    "      .format(users_moscow['revenue_per_month'].mean(), users_regions['revenue_per_month'].mean()))"
   ]
  },
  {
   "cell_type": "code",
   "execution_count": 63,
   "metadata": {},
   "outputs": [
    {
     "data": {
      "image/png": "[encoded data removed]",
      "text/plain": [
       "<Figure size 576x288 with 1 Axes>"
      ]
     },
     "metadata": {
      "needs_background": "light"
     },
     "output_type": "display_data"
    }
   ],
   "source": [
    "fig, ax = plt.subplots(figsize=(8,4))\n",
    "\n",
    "ax.hist(users_moscow['revenue_per_month'], label=\"Москва\", alpha=0.7, density=True)\n",
    "ax.hist(users_regions['revenue_per_month'], label='Регионы', alpha=0.7, density=True)\n",
    "ax.set_xlabel('Плата в рублях в месяц', fontsize=15)\n",
    "ax.set_ylabel('Плотность', fontsize=15)\n",
    "ax.set_title('Выручка', fontsize=20)\n",
    "ax.legend(loc=5);"
   ]
  },
  {
   "cell_type": "markdown",
   "metadata": {},
   "source": [
    "Распределение также нельзя считать нормальным, поэтому используем тест Левене для проверки равенства дисперсий."
   ]
  },
  {
   "cell_type": "code",
   "execution_count": 64,
   "metadata": {},
   "outputs": [
    {
     "name": "stdout",
     "output_type": "stream",
     "text": [
      "p-значение для теста Левене: 0.02283920170698807\n",
      "Гипотеза о равенстве дисперсий не нашла подтверждения\n"
     ]
    }
   ],
   "source": [
    "levene = st.levene(users_moscow['revenue_per_month'], \n",
    "                   users_regions['revenue_per_month'])\n",
    "\n",
    "print('p-значение для теста Левене:', levene.pvalue)\n",
    "if levene.pvalue < alpha:\n",
    "    print('Гипотеза о равенстве дисперсий не нашла подтверждения')\n",
    "else:\n",
    "    print('Отвергнуть гипотезу о равенстве дисперсий не удалось')"
   ]
  },
  {
   "cell_type": "code",
   "execution_count": 65,
   "metadata": {},
   "outputs": [
    {
     "name": "stdout",
     "output_type": "stream",
     "text": [
      "p-значение:  0.5799706130129664\n",
      "Отвергнуть гипотезу не удалось\n"
     ]
    }
   ],
   "source": [
    "results = st.ttest_ind(\n",
    "            users_moscow['revenue_per_month'],\n",
    "            users_regions['revenue_per_month'],\n",
    "            equal_var = False)\n",
    "print('p-значение: ', results.pvalue)\n",
    "if results.pvalue < alpha:\n",
    "    print('Гипотеза не нашла подтверждения')\n",
    "else:\n",
    "    print('Отвергнуть гипотезу не удалось')"
   ]
  },
  {
   "cell_type": "markdown",
   "metadata": {},
   "source": [
    "Выходит, отвергнуть то, что средние значения выборок по Москве и регионам равны, мы не можем."
   ]
  },
  {
   "cell_type": "markdown",
   "metadata": {},
   "source": [
    "**Вывод**\n",
    "\n",
    "Мы провели проверку двух нулевых гипотез. Первая гласила, что средняя выручка пользователей тарифов \"Ультра\" и \"Смарт\" равны, но она не нашла своего подтверждения. Вторую, о том, что средняя выручка пользователей из Москвы равна выручке пользователей из других регионов, отвергнуть не удалось."
   ]
  },
  {
   "cell_type": "markdown",
   "metadata": {},
   "source": [
    "## Общий вывод"
   ]
  },
  {
   "cell_type": "markdown",
   "metadata": {},
   "source": [
    "Было проведено исследование данных клиентов двух тарифов — «Смарт» и «Ультра». Набор данных состоял из нескольких таблиц — с информацией о клиентах, количеством совершенных звонков, отправленных сообщений и использованного интернет-трафика, а также с данными о тарифах. В наборе были обнаружены пропущенные значения: в столбце с датой расторжения договора с оператором пропуски оставили как есть, а звонки длительностью 0 мин. и интернет-сессии с использованием 0 ГБ были удалены. Для каждого из клиентов было рассчитано помесячное потребление каждой из услуг, а также выведена плата за каждый месяц. В процессе обработки было выявлено, что с тарифа «Смарт» люди уходили чуть чаще, чем с тарифа «Ультра». Также было замечено, что часто клиенты на тарифе «Смарт» превышают включенное в абонентскую плату количество ГБ (15 ГБ), из-за чего стоимость связи в месяц для них значительно повышается.\n",
    "\n",
    "Кроме того, на основании полученных данных были выделены некоторые закономерности — пользователи на тарифе «Ультра» используют большее количество минут, отправляют больше сообщений и тратят больше интернет-трафика. Однако ни один из представленных клиентов в среднем не потратил более 1700 минут, хотя в этот тариф заложено 3000 минут. Также ни один не отправил свыше 225 сообщений, при том, что можно бесплатно отправить до 1000. Суммарная выручка по тарифу «Смарт» превышает выручку по тарифу «Ультра» за счет того, что клиентов на первом тарифе больше, однако средняя выручка на клиента на тарифе «Ультра» выше.\n",
    "\n",
    "Несмотря на то, что тариф «Смарт» изначально доступнее и клиентов на нем больше, отток с него также чуть выше. Это может быть связано с тем, что клиентам зачастую не хватает включенного в тариф интернет-трафика, и им приходится значительно переплачивать (в 2 раза по сравнению с абонентской платой) за дополнительные ГБ. Тариф «Ультра» хорош тем, что клиентам редко приходится превышать доступный лимит, но плох тем, что количество минут и сообщений существенно превышает в среднем необходимые пользователям. Следовательно, люди переплачивают за ненужные услуги. Возможно, стоит доработать тарифы, ориентируясь при этом на нужды клиентов: например, урезать в тарифе ультра кол-во минут и сообщений, при этом снизив и абонентскую плату."
   ]
  }
 ],
 "metadata": {
  "kernelspec": {
   "display_name": "Python 3",
   "language": "python",
   "name": "python3"
  },
  "language_info": {
   "codemirror_mode": {
    "name": "ipython",
    "version": 3
   },
   "file_extension": ".py",
   "mimetype": "text/x-python",
   "name": "python",
   "nbconvert_exporter": "python",
   "pygments_lexer": "ipython3",
   "version": "3.7.8"
  },
  "toc": {
   "base_numbering": 1,
   "nav_menu": {},
   "number_sections": true,
   "sideBar": true,
   "skip_h1_title": true,
   "title_cell": "Table of Contents",
   "title_sidebar": "Contents",
   "toc_cell": true,
   "toc_position": {},
   "toc_section_display": true,
   "toc_window_display": false
  }
 },
 "nbformat": 4,
 "nbformat_minor": 2
}
