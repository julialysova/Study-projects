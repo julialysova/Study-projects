{
 "cells": [
  {
   "cell_type": "markdown",
   "metadata": {},
   "source": [
    "# Выбор региона для нефтедобычи"
   ]
  },
  {
   "cell_type": "markdown",
   "metadata": {
    "toc": true
   },
   "source": [
    "<h1>Table of Contents<span class=\"tocSkip\"></span></h1>\n",
    "<div class=\"toc\"><ul class=\"toc-item\"><li><span><a href=\"#Описание-проекта\" data-toc-modified-id=\"Описание-проекта-1\"><span class=\"toc-item-num\">1&nbsp;&nbsp;</span>Описание проекта</a></span></li><li><span><a href=\"#Загрузка-и-подготовка-данных\" data-toc-modified-id=\"Загрузка-и-подготовка-данных-2\"><span class=\"toc-item-num\">2&nbsp;&nbsp;</span>Загрузка и подготовка данных</a></span></li><li><span><a href=\"#Обучение-модели-и-предсказание\" data-toc-modified-id=\"Обучение-модели-и-предсказание-3\"><span class=\"toc-item-num\">3&nbsp;&nbsp;</span>Обучение модели и предсказание</a></span></li><li><span><a href=\"#Подготовка-к-расчёту-прибыли\" data-toc-modified-id=\"Подготовка-к-расчёту-прибыли-4\"><span class=\"toc-item-num\">4&nbsp;&nbsp;</span>Подготовка к расчёту прибыли</a></span></li><li><span><a href=\"#Расчёт-прибыли-и-выбор-региона\" data-toc-modified-id=\"Расчёт-прибыли-и-выбор-региона-5\"><span class=\"toc-item-num\">5&nbsp;&nbsp;</span>Расчёт прибыли и выбор региона</a></span><ul class=\"toc-item\"><li><span><a href=\"#Вывод\" data-toc-modified-id=\"Вывод-5.1\"><span class=\"toc-item-num\">5.1&nbsp;&nbsp;</span>Вывод</a></span></li></ul></li></ul></div>"
   ]
  },
  {
   "cell_type": "markdown",
   "metadata": {},
   "source": [
    "## Описание проекта"
   ]
  },
  {
   "cell_type": "markdown",
   "metadata": {},
   "source": [
    "По условиям проекта мы работаем в добывающей компании. Нужно решить, где бурить новую скважину.\n",
    "\n",
    "Нам предоставлены пробы нефти в трёх регионах: в каждом 10 000 месторождений, где измерили качество нефти и объём её запасов. В рамках проекта необходимо построить модель машинного обучения, которая поможет определить регион, где добыча принесёт наибольшую прибыль. Получив предсказания модели мы должны рассчитать возможную прибыль и риски техникой *Bootstrap.*\n",
    "\n",
    "Данные синтетические: детали контрактов и характеристики месторождений не разглашаются."
   ]
  },
  {
   "cell_type": "code",
   "execution_count": 1,
   "metadata": {},
   "outputs": [],
   "source": [
    "# импортируем библиотеки\n",
    "import pandas as pd\n",
    "import numpy as np\n",
    "from sklearn.model_selection import train_test_split\n",
    "from sklearn.linear_model import LinearRegression\n",
    "from sklearn.preprocessing import StandardScaler\n",
    "from sklearn.metrics import mean_squared_error\n",
    "from numpy.random import RandomState\n",
    "from scipy import stats as st"
   ]
  },
  {
   "cell_type": "markdown",
   "metadata": {},
   "source": [
    "## Загрузка и подготовка данных"
   ]
  },
  {
   "cell_type": "markdown",
   "metadata": {},
   "source": [
    "Начнем с того, что загрузим данные и подготовим их к обучению модели."
   ]
  },
  {
   "cell_type": "code",
   "execution_count": 2,
   "metadata": {},
   "outputs": [],
   "source": [
    "try:\n",
    "    geo_data_0 = pd.read_csv('geo_data_0.csv')\n",
    "    geo_data_1 = pd.read_csv('geo_data_1.csv')\n",
    "    geo_data_2 = pd.read_csv('geo_data_2.csv')\n",
    "except:\n",
    "    geo_data_0 = pd.read_csv('/datasets/geo_data_0.csv')\n",
    "    geo_data_1 = pd.read_csv('/datasets/geo_data_1.csv')\n",
    "    geo_data_2 = pd.read_csv('/datasets/geo_data_2.csv')"
   ]
  },
  {
   "cell_type": "code",
   "execution_count": 3,
   "metadata": {},
   "outputs": [
    {
     "name": "stdout",
     "output_type": "stream",
     "text": [
      "Регион 1\n",
      "\n",
      "<class 'pandas.core.frame.DataFrame'>\n",
      "RangeIndex: 100000 entries, 0 to 99999\n",
      "Data columns (total 5 columns):\n",
      "id         100000 non-null object\n",
      "f0         100000 non-null float64\n",
      "f1         100000 non-null float64\n",
      "f2         100000 non-null float64\n",
      "product    100000 non-null float64\n",
      "dtypes: float64(4), object(1)\n",
      "memory usage: 3.8+ MB\n",
      "\n",
      "Регион 2\n",
      "\n",
      "<class 'pandas.core.frame.DataFrame'>\n",
      "RangeIndex: 100000 entries, 0 to 99999\n",
      "Data columns (total 5 columns):\n",
      "id         100000 non-null object\n",
      "f0         100000 non-null float64\n",
      "f1         100000 non-null float64\n",
      "f2         100000 non-null float64\n",
      "product    100000 non-null float64\n",
      "dtypes: float64(4), object(1)\n",
      "memory usage: 3.8+ MB\n",
      "\n",
      "Регион 3\n",
      "\n",
      "<class 'pandas.core.frame.DataFrame'>\n",
      "RangeIndex: 100000 entries, 0 to 99999\n",
      "Data columns (total 5 columns):\n",
      "id         100000 non-null object\n",
      "f0         100000 non-null float64\n",
      "f1         100000 non-null float64\n",
      "f2         100000 non-null float64\n",
      "product    100000 non-null float64\n",
      "dtypes: float64(4), object(1)\n",
      "memory usage: 3.8+ MB\n",
      "\n"
     ]
    }
   ],
   "source": [
    "names = ['Регион 1', 'Регион 2', 'Регион 3']\n",
    "\n",
    "for name, region in zip(names, [geo_data_0, geo_data_1, geo_data_2]):\n",
    "    print(name)\n",
    "    print()\n",
    "    region.info()\n",
    "    print()"
   ]
  },
  {
   "cell_type": "markdown",
   "metadata": {},
   "source": [
    "Как видим, пропусков нет ни в одном столбце. Заполнять и преобразовывать ничего не нужно. Поскольку мы не знаем, что собой представляют значения в столбцах f0, f1, f2, то их распределение нам тоже особо ничего не скажет. Посмотрим, как выглядят наши данные в таблице."
   ]
  },
  {
   "cell_type": "code",
   "execution_count": 4,
   "metadata": {},
   "outputs": [
    {
     "data": {
      "text/html": [
       "<div>\n",
       "<style scoped>\n",
       "    .dataframe tbody tr th:only-of-type {\n",
       "        vertical-align: middle;\n",
       "    }\n",
       "\n",
       "    .dataframe tbody tr th {\n",
       "        vertical-align: top;\n",
       "    }\n",
       "\n",
       "    .dataframe thead th {\n",
       "        text-align: right;\n",
       "    }\n",
       "</style>\n",
       "<table border=\"1\" class=\"dataframe\">\n",
       "  <thead>\n",
       "    <tr style=\"text-align: right;\">\n",
       "      <th></th>\n",
       "      <th>id</th>\n",
       "      <th>f0</th>\n",
       "      <th>f1</th>\n",
       "      <th>f2</th>\n",
       "      <th>product</th>\n",
       "    </tr>\n",
       "  </thead>\n",
       "  <tbody>\n",
       "    <tr>\n",
       "      <td>0</td>\n",
       "      <td>txEyH</td>\n",
       "      <td>0.705745</td>\n",
       "      <td>-0.497823</td>\n",
       "      <td>1.221170</td>\n",
       "      <td>105.280062</td>\n",
       "    </tr>\n",
       "    <tr>\n",
       "      <td>1</td>\n",
       "      <td>2acmU</td>\n",
       "      <td>1.334711</td>\n",
       "      <td>-0.340164</td>\n",
       "      <td>4.365080</td>\n",
       "      <td>73.037750</td>\n",
       "    </tr>\n",
       "    <tr>\n",
       "      <td>2</td>\n",
       "      <td>409Wp</td>\n",
       "      <td>1.022732</td>\n",
       "      <td>0.151990</td>\n",
       "      <td>1.419926</td>\n",
       "      <td>85.265647</td>\n",
       "    </tr>\n",
       "    <tr>\n",
       "      <td>3</td>\n",
       "      <td>iJLyR</td>\n",
       "      <td>-0.032172</td>\n",
       "      <td>0.139033</td>\n",
       "      <td>2.978566</td>\n",
       "      <td>168.620776</td>\n",
       "    </tr>\n",
       "    <tr>\n",
       "      <td>4</td>\n",
       "      <td>Xdl7t</td>\n",
       "      <td>1.988431</td>\n",
       "      <td>0.155413</td>\n",
       "      <td>4.751769</td>\n",
       "      <td>154.036647</td>\n",
       "    </tr>\n",
       "  </tbody>\n",
       "</table>\n",
       "</div>"
      ],
      "text/plain": [
       "      id        f0        f1        f2     product\n",
       "0  txEyH  0.705745 -0.497823  1.221170  105.280062\n",
       "1  2acmU  1.334711 -0.340164  4.365080   73.037750\n",
       "2  409Wp  1.022732  0.151990  1.419926   85.265647\n",
       "3  iJLyR -0.032172  0.139033  2.978566  168.620776\n",
       "4  Xdl7t  1.988431  0.155413  4.751769  154.036647"
      ]
     },
     "execution_count": 4,
     "metadata": {},
     "output_type": "execute_result"
    }
   ],
   "source": [
    "geo_data_0.head()"
   ]
  },
  {
   "cell_type": "markdown",
   "metadata": {},
   "source": [
    "Видим столбец под название id. Для обучения он нам не пригодится, можно столбец удалить."
   ]
  },
  {
   "cell_type": "code",
   "execution_count": 5,
   "metadata": {},
   "outputs": [],
   "source": [
    "geo_data_0 = geo_data_0.drop('id', axis=1)"
   ]
  },
  {
   "cell_type": "markdown",
   "metadata": {},
   "source": [
    "Также поступим и с остальными двумя таблицами."
   ]
  },
  {
   "cell_type": "code",
   "execution_count": 6,
   "metadata": {},
   "outputs": [
    {
     "data": {
      "text/html": [
       "<div>\n",
       "<style scoped>\n",
       "    .dataframe tbody tr th:only-of-type {\n",
       "        vertical-align: middle;\n",
       "    }\n",
       "\n",
       "    .dataframe tbody tr th {\n",
       "        vertical-align: top;\n",
       "    }\n",
       "\n",
       "    .dataframe thead th {\n",
       "        text-align: right;\n",
       "    }\n",
       "</style>\n",
       "<table border=\"1\" class=\"dataframe\">\n",
       "  <thead>\n",
       "    <tr style=\"text-align: right;\">\n",
       "      <th></th>\n",
       "      <th>id</th>\n",
       "      <th>f0</th>\n",
       "      <th>f1</th>\n",
       "      <th>f2</th>\n",
       "      <th>product</th>\n",
       "    </tr>\n",
       "  </thead>\n",
       "  <tbody>\n",
       "    <tr>\n",
       "      <td>0</td>\n",
       "      <td>kBEdx</td>\n",
       "      <td>-15.001348</td>\n",
       "      <td>-8.276000</td>\n",
       "      <td>-0.005876</td>\n",
       "      <td>3.179103</td>\n",
       "    </tr>\n",
       "    <tr>\n",
       "      <td>1</td>\n",
       "      <td>62mP7</td>\n",
       "      <td>14.272088</td>\n",
       "      <td>-3.475083</td>\n",
       "      <td>0.999183</td>\n",
       "      <td>26.953261</td>\n",
       "    </tr>\n",
       "    <tr>\n",
       "      <td>2</td>\n",
       "      <td>vyE1P</td>\n",
       "      <td>6.263187</td>\n",
       "      <td>-5.948386</td>\n",
       "      <td>5.001160</td>\n",
       "      <td>134.766305</td>\n",
       "    </tr>\n",
       "    <tr>\n",
       "      <td>3</td>\n",
       "      <td>KcrkZ</td>\n",
       "      <td>-13.081196</td>\n",
       "      <td>-11.506057</td>\n",
       "      <td>4.999415</td>\n",
       "      <td>137.945408</td>\n",
       "    </tr>\n",
       "    <tr>\n",
       "      <td>4</td>\n",
       "      <td>AHL4O</td>\n",
       "      <td>12.702195</td>\n",
       "      <td>-8.147433</td>\n",
       "      <td>5.004363</td>\n",
       "      <td>134.766305</td>\n",
       "    </tr>\n",
       "  </tbody>\n",
       "</table>\n",
       "</div>"
      ],
      "text/plain": [
       "      id         f0         f1        f2     product\n",
       "0  kBEdx -15.001348  -8.276000 -0.005876    3.179103\n",
       "1  62mP7  14.272088  -3.475083  0.999183   26.953261\n",
       "2  vyE1P   6.263187  -5.948386  5.001160  134.766305\n",
       "3  KcrkZ -13.081196 -11.506057  4.999415  137.945408\n",
       "4  AHL4O  12.702195  -8.147433  5.004363  134.766305"
      ]
     },
     "execution_count": 6,
     "metadata": {},
     "output_type": "execute_result"
    }
   ],
   "source": [
    "geo_data_1.head()"
   ]
  },
  {
   "cell_type": "code",
   "execution_count": 7,
   "metadata": {},
   "outputs": [],
   "source": [
    "geo_data_1 = geo_data_1.drop('id', axis=1)"
   ]
  },
  {
   "cell_type": "code",
   "execution_count": 8,
   "metadata": {},
   "outputs": [
    {
     "data": {
      "text/html": [
       "<div>\n",
       "<style scoped>\n",
       "    .dataframe tbody tr th:only-of-type {\n",
       "        vertical-align: middle;\n",
       "    }\n",
       "\n",
       "    .dataframe tbody tr th {\n",
       "        vertical-align: top;\n",
       "    }\n",
       "\n",
       "    .dataframe thead th {\n",
       "        text-align: right;\n",
       "    }\n",
       "</style>\n",
       "<table border=\"1\" class=\"dataframe\">\n",
       "  <thead>\n",
       "    <tr style=\"text-align: right;\">\n",
       "      <th></th>\n",
       "      <th>id</th>\n",
       "      <th>f0</th>\n",
       "      <th>f1</th>\n",
       "      <th>f2</th>\n",
       "      <th>product</th>\n",
       "    </tr>\n",
       "  </thead>\n",
       "  <tbody>\n",
       "    <tr>\n",
       "      <td>0</td>\n",
       "      <td>fwXo0</td>\n",
       "      <td>-1.146987</td>\n",
       "      <td>0.963328</td>\n",
       "      <td>-0.828965</td>\n",
       "      <td>27.758673</td>\n",
       "    </tr>\n",
       "    <tr>\n",
       "      <td>1</td>\n",
       "      <td>WJtFt</td>\n",
       "      <td>0.262778</td>\n",
       "      <td>0.269839</td>\n",
       "      <td>-2.530187</td>\n",
       "      <td>56.069697</td>\n",
       "    </tr>\n",
       "    <tr>\n",
       "      <td>2</td>\n",
       "      <td>ovLUW</td>\n",
       "      <td>0.194587</td>\n",
       "      <td>0.289035</td>\n",
       "      <td>-5.586433</td>\n",
       "      <td>62.871910</td>\n",
       "    </tr>\n",
       "    <tr>\n",
       "      <td>3</td>\n",
       "      <td>q6cA6</td>\n",
       "      <td>2.236060</td>\n",
       "      <td>-0.553760</td>\n",
       "      <td>0.930038</td>\n",
       "      <td>114.572842</td>\n",
       "    </tr>\n",
       "    <tr>\n",
       "      <td>4</td>\n",
       "      <td>WPMUX</td>\n",
       "      <td>-0.515993</td>\n",
       "      <td>1.716266</td>\n",
       "      <td>5.899011</td>\n",
       "      <td>149.600746</td>\n",
       "    </tr>\n",
       "  </tbody>\n",
       "</table>\n",
       "</div>"
      ],
      "text/plain": [
       "      id        f0        f1        f2     product\n",
       "0  fwXo0 -1.146987  0.963328 -0.828965   27.758673\n",
       "1  WJtFt  0.262778  0.269839 -2.530187   56.069697\n",
       "2  ovLUW  0.194587  0.289035 -5.586433   62.871910\n",
       "3  q6cA6  2.236060 -0.553760  0.930038  114.572842\n",
       "4  WPMUX -0.515993  1.716266  5.899011  149.600746"
      ]
     },
     "execution_count": 8,
     "metadata": {},
     "output_type": "execute_result"
    }
   ],
   "source": [
    "geo_data_2.head()"
   ]
  },
  {
   "cell_type": "code",
   "execution_count": 9,
   "metadata": {},
   "outputs": [],
   "source": [
    "geo_data_2 = geo_data_2.drop('id', axis=1)"
   ]
  },
  {
   "cell_type": "markdown",
   "metadata": {},
   "source": [
    "Итак, мы ознакомились с данными и внесли некоторые коррективы. Далее мы приступим к обучению и посмотрим, как линейная регрессия справляется с полученными нами данными."
   ]
  },
  {
   "cell_type": "markdown",
   "metadata": {},
   "source": [
    "## Обучение модели и предсказание"
   ]
  },
  {
   "cell_type": "markdown",
   "metadata": {},
   "source": [
    "В этом шаге обучим и проверим модель для каждого региона.\n",
    "\n",
    "Для начала разобъем данные на обучающую и валидационную выборки в соотношении 75:25. Так как нами будет использоваться алгоритм линейной регресии, чувствительный к выбросам, полученные фичи мы приведем к одному масштабу.\n",
    "После этого обучим модель и сделаем предсказания на валидационной выборке. В качестве метрики качества предсказаня модели будем использовать RMSE.\n",
    "\n",
    "Предсказания и целевой признак мы будем хранить в двух отдельных структурах, к которым в последствии будем обращаться."
   ]
  },
  {
   "cell_type": "code",
   "execution_count": 10,
   "metadata": {},
   "outputs": [
    {
     "name": "stdout",
     "output_type": "stream",
     "text": [
      "Регион 1\n",
      "Среднее предсказаний: 92.59256778438038\n",
      "Реальное среднее: 92.07859674082927\n",
      "RMSE: 37.5794217150813\n",
      "\n",
      "Регион 2\n",
      "Среднее предсказаний: 68.728546895446\n",
      "Реальное среднее: 68.72313602435997\n",
      "RMSE: 0.8930992867756158\n",
      "\n",
      "Регион 3\n",
      "Среднее предсказаний: 94.96504596800489\n",
      "Реальное среднее: 94.88423280885438\n",
      "RMSE: 40.02970873393434\n",
      "\n"
     ]
    }
   ],
   "source": [
    "predictions = pd.DataFrame() # создаем структуру, в которой будут храниться предсказания\n",
    "target_values = pd.DataFrame() # здесь будут храниться правильные ответы\n",
    "\n",
    "for name, region in zip(names, [geo_data_0, geo_data_1, geo_data_2]):\n",
    "    features = region.drop('product', axis=1)\n",
    "    target = region['product']\n",
    "\n",
    "    features_train, features_valid, target_train, target_valid = train_test_split(features,\n",
    "                                                                                   target, test_size = 0.25, random_state=12345)\n",
    "    \n",
    "    target_values[name] = target_valid\n",
    "    \n",
    "    scaler = StandardScaler()\n",
    "    scaler.fit(features_train)\n",
    "    features_train = scaler.transform(features_train)\n",
    "    features_valid = scaler.transform(features_valid)\n",
    "\n",
    "    model = LinearRegression()\n",
    "    model.fit(features_train, target_train)\n",
    "\n",
    "    model_prediction = pd.Series(model.predict(features_valid), index=target_valid.index)\n",
    "    rmse = mean_squared_error(target_valid, model_prediction) ** 0.5\n",
    "    \n",
    "    predictions[name] = model_prediction\n",
    "\n",
    "    print(name)\n",
    "    print(\"Среднее предсказаний:\", model_prediction.mean())\n",
    "    print(\"Реальное среднее:\", target_valid.mean())\n",
    "    print('RMSE:', rmse)\n",
    "    print()"
   ]
  },
  {
   "cell_type": "markdown",
   "metadata": {},
   "source": [
    "Пройдемся по регионам:\n",
    "\n",
    "**Регион 1**\n",
    "\n",
    "Мы получили предсказания запаса сырья, со средним очень близким к среднему значению реальных данных. Однако RMSE модели получился достаточно большим — всего в 2,5 раза меньше среднего значения.\n",
    "\n",
    "**Регион 2**\n",
    "\n",
    "В данном регионе результат RMSE заметно лучше — меньше единицы. Среднее значение также почти совпадает с реальным средним значением запасов сырья. Тем не менее, среднее значение в этом регионе существенно меньше, чем в предыдущем.\n",
    "\n",
    "**Регион 3**\n",
    "\n",
    "Ситуация в этом регионе схожа с ситуацией в первом — среднее значение больше, чем во втором, но ошибка RMSE большая."
   ]
  },
  {
   "cell_type": "markdown",
   "metadata": {},
   "source": [
    "В ходе обучения модели линейной регрессии, проведенного на данных трех регионах, мы выявили, что модель хорошо справилась с предсказаниями на втором регионе, но значительно хуже на первом и третьем. Вероятно, данные в этих двух регионах имеют большие колебания и меньше поддаются логике, встроенной в линейную модель."
   ]
  },
  {
   "cell_type": "markdown",
   "metadata": {},
   "source": [
    "## Подготовка к расчёту прибыли"
   ]
  },
  {
   "cell_type": "markdown",
   "metadata": {},
   "source": [
    "На этом шаге подготовимся к расчёту прибыли и сохраним все ключевые значения для расчётов отдельных переменных."
   ]
  },
  {
   "cell_type": "code",
   "execution_count": 11,
   "metadata": {},
   "outputs": [],
   "source": [
    "points = 500 # при разведке региона исследуют 500 точек,\n",
    "top_points = 200 # из которых выбирают 200 лучших для разработки\n",
    "budget = 10000000000 # бюджет на разработку скважин в регионе\n",
    "price_per_unit = 450000 # доход с каждой единицы продукта — 450 тыс. рублей"
   ]
  },
  {
   "cell_type": "markdown",
   "metadata": {},
   "source": [
    "Теперь рассчитаем достаточный объём сырья для безубыточной разработки новой скважины. После чего сравним полученный объём сырья со средним запасом в каждом регионе."
   ]
  },
  {
   "cell_type": "code",
   "execution_count": 12,
   "metadata": {},
   "outputs": [
    {
     "data": {
      "text/plain": [
       "111.11111111111111"
      ]
     },
     "execution_count": 12,
     "metadata": {},
     "output_type": "execute_result"
    }
   ],
   "source": [
    "no_loss_dev = budget / price_per_unit / top_points\n",
    "no_loss_dev"
   ]
  },
  {
   "cell_type": "markdown",
   "metadata": {},
   "source": [
    "Итак, рассчитанный достаточный объем сырья превышает средний запас в каждом регионе. В случае со вторым регионом, разница примерно в 2 раза. Можно ли уже сделать вывод, что второй регион точно не позволит нам заработать на разработке скважин? Мы предполагаем, что это сравнение не слишком репрезентативно, поскольку при расчете среднего запаса были использованы значения по 25 тыс. точек, включая точки с наименьшим запасом. В разработке такие участвовать не будут. Поэтому в следующем шаге мы посмотрим, какую примерно прибыль мы сможем получить, если будем выбирать только наилучшие точки для разработки."
   ]
  },
  {
   "cell_type": "markdown",
   "metadata": {},
   "source": [
    "## Расчёт прибыли и выбор региона"
   ]
  },
  {
   "cell_type": "markdown",
   "metadata": {},
   "source": [
    "В этом шаге мы постараемся рассчитать предполагаемую прибыль по каждому их регионов и высчитать риски убытков по каждому из них. Начнем с того, что напишем функцию для расчёта прибыли по выбранным скважинам и предсказаниям модели."
   ]
  },
  {
   "cell_type": "code",
   "execution_count": 13,
   "metadata": {},
   "outputs": [],
   "source": [
    "def calculate_profit(predictions, target, top_points, price_per_unit, budget):\n",
    "    top_200 = predictions.sort_values(ascending=False)[:top_points] # скважины с максимальными значениями предсказаний\n",
    "    target_sum = target[top_200.index].sum() # сумма целевого значения объёма сырья \n",
    "    return (target_sum * price_per_unit) - budget # прибыль для полученного объёма сырья"
   ]
  },
  {
   "cell_type": "markdown",
   "metadata": {},
   "source": [
    "Теперь посчитаем риски и прибыль для каждого региона с помощью техники Bootstrap с 1000 выборок и найдем распределение прибыли. Также найдем среднюю прибыль, 95%-й доверительный интервал и риск убытков (отрицательной прибыли)."
   ]
  },
  {
   "cell_type": "code",
   "execution_count": 14,
   "metadata": {},
   "outputs": [],
   "source": [
    "state = RandomState(12345)"
   ]
  },
  {
   "cell_type": "code",
   "execution_count": 15,
   "metadata": {},
   "outputs": [
    {
     "name": "stdout",
     "output_type": "stream",
     "text": [
      "Регион 1\n",
      "95%-ый доверительный интервал: (379620315.1479725, 412709654.45676965)\n",
      "Средняя прибыль: 396164984.8023711\n",
      "Риск убытков в %: 6.9\n",
      "\n",
      "Регион 2\n",
      "95%-ый доверительный интервал: (448828936.4815786, 473482698.0729009)\n",
      "Средняя прибыль: 461155817.27723974\n",
      "Риск убытков в %: 0.7000000000000001\n",
      "\n",
      "Регион 3\n",
      "95%-ый доверительный интервал: (376164225.32954943, 409736725.0116595)\n",
      "Средняя прибыль: 392950475.17060447\n",
      "Риск убытков в %: 6.5\n",
      "\n"
     ]
    }
   ],
   "source": [
    "for name, region in zip(names, [geo_data_0, geo_data_1, geo_data_2]):\n",
    "    \n",
    "    profits = [] # здесь будут храниться все значения прибыли\n",
    "    \n",
    "    for i in range(1000):\n",
    "        subsample = predictions[name].sample(n=points, replace=True, random_state=state)\n",
    "        profit = calculate_profit(subsample, target_values[name], top_points, price_per_unit, budget)\n",
    "        profits.append(profit)\n",
    "\n",
    "    profits = pd.Series(profits)\n",
    "    \n",
    "    mean_profit = profits.mean()\n",
    "    risk = len([profit for profit in profits if profit < 0]) / len(profits)\n",
    "    confidence_interval = st.t.interval(0.95, df=len(profits)-1, loc=profits.mean(), scale=profits.sem())\n",
    "\n",
    "    print(name)\n",
    "    print(\"95%-ый доверительный интервал:\", confidence_interval)\n",
    "    print('Средняя прибыль:', mean_profit)\n",
    "    print('Риск убытков в %:', risk*100)\n",
    "    print()"
   ]
  },
  {
   "cell_type": "markdown",
   "metadata": {},
   "source": [
    "Пройдемся по регионам:\n",
    "\n",
    "**Регион 1**\n",
    "\n",
    "Получается, что в среднем в этом регионе мы можем заработать около 400 млн. рублей, однако риск убытков составляет почти 7%, а по условиям нашего проекта нам необходимо добиться результата, не превышающего 2,5%.\n",
    "\n",
    "**Регион 2**\n",
    "\n",
    "В этом регионе средняя прибыль ближе к 450 млн. рублей, а риск убытков ниже 1%. В целом, данный регион подходит под условия, установленные бизнесом, осталось посмотреть лишь на третий регион.\n",
    "\n",
    "**Регион 3**\n",
    "\n",
    "В этом регионе средняя прибыль меньше, чем в предыдущих двух, а риски убытков превышают 6%. Регион тоже можно отбросить."
   ]
  },
  {
   "cell_type": "markdown",
   "metadata": {},
   "source": [
    "### Вывод\n",
    "\n",
    "Мы провели исследование трех регионов для выяснения, какой из них может оказаться наиболее прибыльным при разработке новых нефтяных скважин. Для получения такого прогноза мы обучили модель линейной регрессии на данных этих трех регионов. В результате исследования мы выявили, что наиболее прибыльной разработка скважин может быть в регионе №2, поскольку средняя прибыль по нему превысила средние показатели других регионов. Также для каждого региона был рассчитан риск убытков, и оказалось, что именно в этом регионе риск является наименьшим и не превышает установленного бизнесом критерия в 2,5%."
   ]
  }
 ],
 "metadata": {
  "kernelspec": {
   "display_name": "Python 3",
   "language": "python",
   "name": "python3"
  },
  "language_info": {
   "codemirror_mode": {
    "name": "ipython",
    "version": 3
   },
   "file_extension": ".py",
   "mimetype": "text/x-python",
   "name": "python",
   "nbconvert_exporter": "python",
   "pygments_lexer": "ipython3",
   "version": "3.7.8"
  },
  "toc": {
   "base_numbering": 1,
   "nav_menu": {},
   "number_sections": true,
   "sideBar": true,
   "skip_h1_title": true,
   "title_cell": "Table of Contents",
   "title_sidebar": "Contents",
   "toc_cell": true,
   "toc_position": {},
   "toc_section_display": true,
   "toc_window_display": false
  }
 },
 "nbformat": 4,
 "nbformat_minor": 2
}
