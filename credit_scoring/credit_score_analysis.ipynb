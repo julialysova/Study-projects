{
 "cells": [
  {
   "cell_type": "markdown",
   "metadata": {},
   "source": [
    "# Исследование надёжности заёмщиков"
   ]
  },
  {
   "cell_type": "markdown",
   "metadata": {
    "toc": true
   },
   "source": [
    "<h1>Table of Contents<span class=\"tocSkip\"></span></h1>\n",
    "<div class=\"toc\"><ul class=\"toc-item\"><li><span><a href=\"#Описание-проекта\" data-toc-modified-id=\"Описание-проекта-1\"><span class=\"toc-item-num\">1&nbsp;&nbsp;</span>Описание проекта</a></span></li><li><span><a href=\"#Открытие-таблицы-и-изучение-общей-информации-о-данных\" data-toc-modified-id=\"Открытие-таблицы-и-изучение-общей-информации-о-данных-2\"><span class=\"toc-item-num\">2&nbsp;&nbsp;</span>Открытие таблицы и изучение общей информации о данных</a></span></li><li><span><a href=\"#Предобработка-данных\" data-toc-modified-id=\"Предобработка-данных-3\"><span class=\"toc-item-num\">3&nbsp;&nbsp;</span>Предобработка данных</a></span><ul class=\"toc-item\"><li><span><a href=\"#Определение-и-заполнение-пропущенных-значений\" data-toc-modified-id=\"Определение-и-заполнение-пропущенных-значений-3.1\"><span class=\"toc-item-num\">3.1&nbsp;&nbsp;</span>Определение и заполнение пропущенных значений</a></span><ul class=\"toc-item\"><li><span><a href=\"#children\" data-toc-modified-id=\"children-3.1.1\"><span class=\"toc-item-num\">3.1.1&nbsp;&nbsp;</span>children</a></span></li><li><span><a href=\"#dob_years\" data-toc-modified-id=\"dob_years-3.1.2\"><span class=\"toc-item-num\">3.1.2&nbsp;&nbsp;</span>dob_years</a></span></li><li><span><a href=\"#days_employed\" data-toc-modified-id=\"days_employed-3.1.3\"><span class=\"toc-item-num\">3.1.3&nbsp;&nbsp;</span>days_employed</a></span></li><li><span><a href=\"#dob_years\" data-toc-modified-id=\"dob_years-3.1.4\"><span class=\"toc-item-num\">3.1.4&nbsp;&nbsp;</span>dob_years</a></span></li><li><span><a href=\"#days_employed\" data-toc-modified-id=\"days_employed-3.1.5\"><span class=\"toc-item-num\">3.1.5&nbsp;&nbsp;</span>days_employed</a></span></li><li><span><a href=\"#total_income\" data-toc-modified-id=\"total_income-3.1.6\"><span class=\"toc-item-num\">3.1.6&nbsp;&nbsp;</span>total_income</a></span></li></ul></li><li><span><a href=\"#Замена-вещественного-типа-данных-на-целочисленный\" data-toc-modified-id=\"Замена-вещественного-типа-данных-на-целочисленный-3.2\"><span class=\"toc-item-num\">3.2&nbsp;&nbsp;</span>Замена вещественного типа данных на целочисленный</a></span></li><li><span><a href=\"#Удаление-дубликатов\" data-toc-modified-id=\"Удаление-дубликатов-3.3\"><span class=\"toc-item-num\">3.3&nbsp;&nbsp;</span>Удаление дубликатов</a></span></li><li><span><a href=\"#Выделение-лемм-в-значениях-столбца-с-целями-получения-кредита\" data-toc-modified-id=\"Выделение-лемм-в-значениях-столбца-с-целями-получения-кредита-3.4\"><span class=\"toc-item-num\">3.4&nbsp;&nbsp;</span>Выделение лемм в значениях столбца с целями получения кредита</a></span></li><li><span><a href=\"#Использованные-словари\" data-toc-modified-id=\"Использованные-словари-3.5\"><span class=\"toc-item-num\">3.5&nbsp;&nbsp;</span>Использованные словари</a></span></li></ul></li><li><span><a href=\"#Выявление-зависимостей-\" data-toc-modified-id=\"Выявление-зависимостей--4\"><span class=\"toc-item-num\">4&nbsp;&nbsp;</span>Выявление зависимостей <a id=\"dependencies\"></a></a></span><ul class=\"toc-item\"><li><span><a href=\"#Зависимость-между-наличием-детей-и-возвратом-кредита-в-срок\" data-toc-modified-id=\"Зависимость-между-наличием-детей-и-возвратом-кредита-в-срок-4.1\"><span class=\"toc-item-num\">4.1&nbsp;&nbsp;</span>Зависимость между наличием детей и возвратом кредита в срок</a></span></li><li><span><a href=\"#Зависимость-между-семейным-положением-и-возвратом-кредита-в-срок\" data-toc-modified-id=\"Зависимость-между-семейным-положением-и-возвратом-кредита-в-срок-4.2\"><span class=\"toc-item-num\">4.2&nbsp;&nbsp;</span>Зависимость между семейным положением и возвратом кредита в срок</a></span></li><li><span><a href=\"#Зависимость-между-уровнем-дохода-и-возвратом-кредита-в-срок\" data-toc-modified-id=\"Зависимость-между-уровнем-дохода-и-возвратом-кредита-в-срок-4.3\"><span class=\"toc-item-num\">4.3&nbsp;&nbsp;</span>Зависимость между уровнем дохода и возвратом кредита в срок</a></span></li><li><span><a href=\"#Зависимость-возврата-кредита-от-цели\" data-toc-modified-id=\"Зависимость-возврата-кредита-от-цели-4.4\"><span class=\"toc-item-num\">4.4&nbsp;&nbsp;</span>Зависимость возврата кредита от цели</a></span></li></ul></li><li><span><a href=\"#Общий-вывод-—-профиль-заемщика\" data-toc-modified-id=\"Общий-вывод-—-профиль-заемщика-5\"><span class=\"toc-item-num\">5&nbsp;&nbsp;</span>Общий вывод — профиль заемщика</a></span></li></ul></div>"
   ]
  },
  {
   "cell_type": "markdown",
   "metadata": {},
   "source": [
    "## Описание проекта\n",
    "Заказчик — кредитный отдел банка. Нужно разобраться, влияет ли семейное положение и количество детей клиента на факт погашения кредита в срок. Входные данные от банка — статистика о платёжеспособности клиентов.\n",
    "\n",
    "Результаты исследования будут учтены при построении модели кредитного скоринга — специальной системы, которая оценивает способность потенциального заёмщика вернуть кредит банку."
   ]
  },
  {
   "cell_type": "code",
   "execution_count": 1,
   "metadata": {},
   "outputs": [],
   "source": [
    "import pandas as pd\n",
    "import seaborn as sns\n",
    "import matplotlib.pyplot as plt\n",
    "from pymystem3 import Mystem\n",
    "from collections import Counter\n",
    "import numpy as np"
   ]
  },
  {
   "cell_type": "markdown",
   "metadata": {},
   "source": [
    "## Открытие таблицы и изучение общей информации о данных"
   ]
  },
  {
   "cell_type": "code",
   "execution_count": 2,
   "metadata": {},
   "outputs": [
    {
     "name": "stdout",
     "output_type": "stream",
     "text": [
      "<class 'pandas.core.frame.DataFrame'>\n",
      "RangeIndex: 21525 entries, 0 to 21524\n",
      "Data columns (total 12 columns):\n",
      "children            21525 non-null int64\n",
      "days_employed       19351 non-null float64\n",
      "dob_years           21525 non-null int64\n",
      "education           21525 non-null object\n",
      "education_id        21525 non-null int64\n",
      "family_status       21525 non-null object\n",
      "family_status_id    21525 non-null int64\n",
      "gender              21525 non-null object\n",
      "income_type         21525 non-null object\n",
      "debt                21525 non-null int64\n",
      "total_income        19351 non-null float64\n",
      "purpose             21525 non-null object\n",
      "dtypes: float64(2), int64(5), object(5)\n",
      "memory usage: 2.0+ MB\n"
     ]
    }
   ],
   "source": [
    "# data = pd.read_csv('data.csv')\n",
    "data = pd.read_csv('/datasets/data.csv')\n",
    "data.info()"
   ]
  },
  {
   "cell_type": "code",
   "execution_count": 3,
   "metadata": {
    "scrolled": true
   },
   "outputs": [
    {
     "data": {
      "text/html": [
       "<div>\n",
       "<style scoped>\n",
       "    .dataframe tbody tr th:only-of-type {\n",
       "        vertical-align: middle;\n",
       "    }\n",
       "\n",
       "    .dataframe tbody tr th {\n",
       "        vertical-align: top;\n",
       "    }\n",
       "\n",
       "    .dataframe thead th {\n",
       "        text-align: right;\n",
       "    }\n",
       "</style>\n",
       "<table border=\"1\" class=\"dataframe\">\n",
       "  <thead>\n",
       "    <tr style=\"text-align: right;\">\n",
       "      <th></th>\n",
       "      <th>children</th>\n",
       "      <th>days_employed</th>\n",
       "      <th>dob_years</th>\n",
       "      <th>education</th>\n",
       "      <th>education_id</th>\n",
       "      <th>family_status</th>\n",
       "      <th>family_status_id</th>\n",
       "      <th>gender</th>\n",
       "      <th>income_type</th>\n",
       "      <th>debt</th>\n",
       "      <th>total_income</th>\n",
       "      <th>purpose</th>\n",
       "    </tr>\n",
       "  </thead>\n",
       "  <tbody>\n",
       "    <tr>\n",
       "      <td>0</td>\n",
       "      <td>1</td>\n",
       "      <td>-8437.673028</td>\n",
       "      <td>42</td>\n",
       "      <td>высшее</td>\n",
       "      <td>0</td>\n",
       "      <td>женат / замужем</td>\n",
       "      <td>0</td>\n",
       "      <td>F</td>\n",
       "      <td>сотрудник</td>\n",
       "      <td>0</td>\n",
       "      <td>253875.639453</td>\n",
       "      <td>покупка жилья</td>\n",
       "    </tr>\n",
       "    <tr>\n",
       "      <td>1</td>\n",
       "      <td>1</td>\n",
       "      <td>-4024.803754</td>\n",
       "      <td>36</td>\n",
       "      <td>среднее</td>\n",
       "      <td>1</td>\n",
       "      <td>женат / замужем</td>\n",
       "      <td>0</td>\n",
       "      <td>F</td>\n",
       "      <td>сотрудник</td>\n",
       "      <td>0</td>\n",
       "      <td>112080.014102</td>\n",
       "      <td>приобретение автомобиля</td>\n",
       "    </tr>\n",
       "    <tr>\n",
       "      <td>2</td>\n",
       "      <td>0</td>\n",
       "      <td>-5623.422610</td>\n",
       "      <td>33</td>\n",
       "      <td>Среднее</td>\n",
       "      <td>1</td>\n",
       "      <td>женат / замужем</td>\n",
       "      <td>0</td>\n",
       "      <td>M</td>\n",
       "      <td>сотрудник</td>\n",
       "      <td>0</td>\n",
       "      <td>145885.952297</td>\n",
       "      <td>покупка жилья</td>\n",
       "    </tr>\n",
       "    <tr>\n",
       "      <td>3</td>\n",
       "      <td>3</td>\n",
       "      <td>-4124.747207</td>\n",
       "      <td>32</td>\n",
       "      <td>среднее</td>\n",
       "      <td>1</td>\n",
       "      <td>женат / замужем</td>\n",
       "      <td>0</td>\n",
       "      <td>M</td>\n",
       "      <td>сотрудник</td>\n",
       "      <td>0</td>\n",
       "      <td>267628.550329</td>\n",
       "      <td>дополнительное образование</td>\n",
       "    </tr>\n",
       "    <tr>\n",
       "      <td>4</td>\n",
       "      <td>0</td>\n",
       "      <td>340266.072047</td>\n",
       "      <td>53</td>\n",
       "      <td>среднее</td>\n",
       "      <td>1</td>\n",
       "      <td>гражданский брак</td>\n",
       "      <td>1</td>\n",
       "      <td>F</td>\n",
       "      <td>пенсионер</td>\n",
       "      <td>0</td>\n",
       "      <td>158616.077870</td>\n",
       "      <td>сыграть свадьбу</td>\n",
       "    </tr>\n",
       "  </tbody>\n",
       "</table>\n",
       "</div>"
      ],
      "text/plain": [
       "   children  days_employed  dob_years education  education_id  \\\n",
       "0         1   -8437.673028         42    высшее             0   \n",
       "1         1   -4024.803754         36   среднее             1   \n",
       "2         0   -5623.422610         33   Среднее             1   \n",
       "3         3   -4124.747207         32   среднее             1   \n",
       "4         0  340266.072047         53   среднее             1   \n",
       "\n",
       "      family_status  family_status_id gender income_type  debt   total_income  \\\n",
       "0   женат / замужем                 0      F   сотрудник     0  253875.639453   \n",
       "1   женат / замужем                 0      F   сотрудник     0  112080.014102   \n",
       "2   женат / замужем                 0      M   сотрудник     0  145885.952297   \n",
       "3   женат / замужем                 0      M   сотрудник     0  267628.550329   \n",
       "4  гражданский брак                 1      F   пенсионер     0  158616.077870   \n",
       "\n",
       "                      purpose  \n",
       "0               покупка жилья  \n",
       "1     приобретение автомобиля  \n",
       "2               покупка жилья  \n",
       "3  дополнительное образование  \n",
       "4             сыграть свадьбу  "
      ]
     },
     "execution_count": 3,
     "metadata": {},
     "output_type": "execute_result"
    }
   ],
   "source": [
    "data.head()"
   ]
  },
  {
   "cell_type": "markdown",
   "metadata": {},
   "source": [
    "Выявленные особенности:\n",
    "\n",
    "В датафрейме 21525 записей, пропуски присутствуют в столбцах со стажем и доходом. Стаж представлен отрицательными значениями. Значения в образовании имеют разный регистр, но они все категоризуются в столбце education_id. Такой же столбец с категориями присутствует для семейного положения. Цели не категоризованы, имеют разную формулировку."
   ]
  },
  {
   "cell_type": "markdown",
   "metadata": {},
   "source": [
    "## Предобработка данных"
   ]
  },
  {
   "cell_type": "markdown",
   "metadata": {},
   "source": [
    "### Определение и заполнение пропущенных значений"
   ]
  },
  {
   "cell_type": "markdown",
   "metadata": {},
   "source": [
    "Исходя из общей информации о датафрейме, нулевые значения присутствуют в стобцах total_income и days_employed."
   ]
  },
  {
   "cell_type": "code",
   "execution_count": 4,
   "metadata": {},
   "outputs": [
    {
     "name": "stdout",
     "output_type": "stream",
     "text": [
      "Количество пропусков 2174, это 10.10% от всех данных\n"
     ]
    }
   ],
   "source": [
    "null_income = len(data[data['total_income'].isnull() & data['days_employed'].isnull()])\n",
    "print('Количество пропусков {}, это {:.2%} от всех данных'.format(null_income, null_income / len(data)))"
   ]
  },
  {
   "cell_type": "markdown",
   "metadata": {},
   "source": [
    "Количество пропусков превышает 10%, следовательно их лучше не удалять, чтобы не потерять важные данные. Предположительно, пропуски являются случайными (где не указан стаж, там не указан доход, но других закономерностей не замечено — остальные значения различаются).\n",
    "Попробуем восполнить пропуски в столбцах с доходом и стажем, однако для этого нужно разобраться с некоторыми другими столбцами."
   ]
  },
  {
   "cell_type": "markdown",
   "metadata": {},
   "source": [
    "#### children"
   ]
  },
  {
   "cell_type": "markdown",
   "metadata": {},
   "source": [
    "Было решено удалять записи, в которых информация отсутствует в нескольких графах. Например, в столбце children есть такие значения как -1 и 20. Они похожи на плейсхолдеры, означающие отсутствие информации. Соответственно, находим строки, в которых нет информации о детях, доходе и стаже."
   ]
  },
  {
   "cell_type": "code",
   "execution_count": 5,
   "metadata": {
    "scrolled": true
   },
   "outputs": [
    {
     "data": {
      "text/html": [
       "<div>\n",
       "<style scoped>\n",
       "    .dataframe tbody tr th:only-of-type {\n",
       "        vertical-align: middle;\n",
       "    }\n",
       "\n",
       "    .dataframe tbody tr th {\n",
       "        vertical-align: top;\n",
       "    }\n",
       "\n",
       "    .dataframe thead th {\n",
       "        text-align: right;\n",
       "    }\n",
       "</style>\n",
       "<table border=\"1\" class=\"dataframe\">\n",
       "  <thead>\n",
       "    <tr style=\"text-align: right;\">\n",
       "      <th></th>\n",
       "      <th>children</th>\n",
       "      <th>days_employed</th>\n",
       "      <th>dob_years</th>\n",
       "      <th>education</th>\n",
       "      <th>education_id</th>\n",
       "      <th>family_status</th>\n",
       "      <th>family_status_id</th>\n",
       "      <th>gender</th>\n",
       "      <th>income_type</th>\n",
       "      <th>debt</th>\n",
       "      <th>total_income</th>\n",
       "      <th>purpose</th>\n",
       "    </tr>\n",
       "  </thead>\n",
       "  <tbody>\n",
       "    <tr>\n",
       "      <td>3302</td>\n",
       "      <td>20</td>\n",
       "      <td>NaN</td>\n",
       "      <td>35</td>\n",
       "      <td>среднее</td>\n",
       "      <td>1</td>\n",
       "      <td>Не женат / не замужем</td>\n",
       "      <td>4</td>\n",
       "      <td>F</td>\n",
       "      <td>госслужащий</td>\n",
       "      <td>0</td>\n",
       "      <td>NaN</td>\n",
       "      <td>профильное образование</td>\n",
       "    </tr>\n",
       "    <tr>\n",
       "      <td>3396</td>\n",
       "      <td>20</td>\n",
       "      <td>NaN</td>\n",
       "      <td>56</td>\n",
       "      <td>высшее</td>\n",
       "      <td>0</td>\n",
       "      <td>женат / замужем</td>\n",
       "      <td>0</td>\n",
       "      <td>F</td>\n",
       "      <td>компаньон</td>\n",
       "      <td>0</td>\n",
       "      <td>NaN</td>\n",
       "      <td>высшее образование</td>\n",
       "    </tr>\n",
       "    <tr>\n",
       "      <td>6198</td>\n",
       "      <td>20</td>\n",
       "      <td>NaN</td>\n",
       "      <td>35</td>\n",
       "      <td>высшее</td>\n",
       "      <td>0</td>\n",
       "      <td>Не женат / не замужем</td>\n",
       "      <td>4</td>\n",
       "      <td>M</td>\n",
       "      <td>компаньон</td>\n",
       "      <td>0</td>\n",
       "      <td>NaN</td>\n",
       "      <td>жилье</td>\n",
       "    </tr>\n",
       "    <tr>\n",
       "      <td>8430</td>\n",
       "      <td>20</td>\n",
       "      <td>NaN</td>\n",
       "      <td>60</td>\n",
       "      <td>среднее</td>\n",
       "      <td>1</td>\n",
       "      <td>вдовец / вдова</td>\n",
       "      <td>2</td>\n",
       "      <td>F</td>\n",
       "      <td>пенсионер</td>\n",
       "      <td>0</td>\n",
       "      <td>NaN</td>\n",
       "      <td>покупка жилья</td>\n",
       "    </tr>\n",
       "    <tr>\n",
       "      <td>12909</td>\n",
       "      <td>20</td>\n",
       "      <td>NaN</td>\n",
       "      <td>25</td>\n",
       "      <td>среднее</td>\n",
       "      <td>1</td>\n",
       "      <td>женат / замужем</td>\n",
       "      <td>0</td>\n",
       "      <td>M</td>\n",
       "      <td>сотрудник</td>\n",
       "      <td>0</td>\n",
       "      <td>NaN</td>\n",
       "      <td>операции с жильем</td>\n",
       "    </tr>\n",
       "    <tr>\n",
       "      <td>15976</td>\n",
       "      <td>20</td>\n",
       "      <td>NaN</td>\n",
       "      <td>39</td>\n",
       "      <td>среднее</td>\n",
       "      <td>1</td>\n",
       "      <td>Не женат / не замужем</td>\n",
       "      <td>4</td>\n",
       "      <td>F</td>\n",
       "      <td>сотрудник</td>\n",
       "      <td>0</td>\n",
       "      <td>NaN</td>\n",
       "      <td>покупка недвижимости</td>\n",
       "    </tr>\n",
       "    <tr>\n",
       "      <td>17286</td>\n",
       "      <td>20</td>\n",
       "      <td>NaN</td>\n",
       "      <td>50</td>\n",
       "      <td>высшее</td>\n",
       "      <td>0</td>\n",
       "      <td>в разводе</td>\n",
       "      <td>3</td>\n",
       "      <td>F</td>\n",
       "      <td>сотрудник</td>\n",
       "      <td>0</td>\n",
       "      <td>NaN</td>\n",
       "      <td>покупка коммерческой недвижимости</td>\n",
       "    </tr>\n",
       "    <tr>\n",
       "      <td>19774</td>\n",
       "      <td>20</td>\n",
       "      <td>NaN</td>\n",
       "      <td>59</td>\n",
       "      <td>среднее</td>\n",
       "      <td>1</td>\n",
       "      <td>гражданский брак</td>\n",
       "      <td>1</td>\n",
       "      <td>F</td>\n",
       "      <td>пенсионер</td>\n",
       "      <td>0</td>\n",
       "      <td>NaN</td>\n",
       "      <td>сыграть свадьбу</td>\n",
       "    </tr>\n",
       "    <tr>\n",
       "      <td>21390</td>\n",
       "      <td>20</td>\n",
       "      <td>NaN</td>\n",
       "      <td>53</td>\n",
       "      <td>среднее</td>\n",
       "      <td>1</td>\n",
       "      <td>женат / замужем</td>\n",
       "      <td>0</td>\n",
       "      <td>M</td>\n",
       "      <td>компаньон</td>\n",
       "      <td>0</td>\n",
       "      <td>NaN</td>\n",
       "      <td>покупка жилой недвижимости</td>\n",
       "    </tr>\n",
       "  </tbody>\n",
       "</table>\n",
       "</div>"
      ],
      "text/plain": [
       "       children  days_employed  dob_years education  education_id  \\\n",
       "3302         20            NaN         35   среднее             1   \n",
       "3396         20            NaN         56    высшее             0   \n",
       "6198         20            NaN         35    высшее             0   \n",
       "8430         20            NaN         60   среднее             1   \n",
       "12909        20            NaN         25   среднее             1   \n",
       "15976        20            NaN         39   среднее             1   \n",
       "17286        20            NaN         50    высшее             0   \n",
       "19774        20            NaN         59   среднее             1   \n",
       "21390        20            NaN         53   среднее             1   \n",
       "\n",
       "               family_status  family_status_id gender  income_type  debt  \\\n",
       "3302   Не женат / не замужем                 4      F  госслужащий     0   \n",
       "3396         женат / замужем                 0      F    компаньон     0   \n",
       "6198   Не женат / не замужем                 4      M    компаньон     0   \n",
       "8430          вдовец / вдова                 2      F    пенсионер     0   \n",
       "12909        женат / замужем                 0      M    сотрудник     0   \n",
       "15976  Не женат / не замужем                 4      F    сотрудник     0   \n",
       "17286              в разводе                 3      F    сотрудник     0   \n",
       "19774       гражданский брак                 1      F    пенсионер     0   \n",
       "21390        женат / замужем                 0      M    компаньон     0   \n",
       "\n",
       "       total_income                            purpose  \n",
       "3302            NaN             профильное образование  \n",
       "3396            NaN                 высшее образование  \n",
       "6198            NaN                              жилье  \n",
       "8430            NaN                      покупка жилья  \n",
       "12909           NaN                  операции с жильем  \n",
       "15976           NaN               покупка недвижимости  \n",
       "17286           NaN  покупка коммерческой недвижимости  \n",
       "19774           NaN                    сыграть свадьбу  \n",
       "21390           NaN         покупка жилой недвижимости  "
      ]
     },
     "execution_count": 5,
     "metadata": {},
     "output_type": "execute_result"
    }
   ],
   "source": [
    "# 20 детей, отсутствуют данные о з/п и стаже\n",
    "data[(data['children'] == 20) & (data['days_employed'].isnull()) & (data['total_income'].isnull())]"
   ]
  },
  {
   "cell_type": "code",
   "execution_count": 6,
   "metadata": {
    "scrolled": true
   },
   "outputs": [
    {
     "data": {
      "text/html": [
       "<div>\n",
       "<style scoped>\n",
       "    .dataframe tbody tr th:only-of-type {\n",
       "        vertical-align: middle;\n",
       "    }\n",
       "\n",
       "    .dataframe tbody tr th {\n",
       "        vertical-align: top;\n",
       "    }\n",
       "\n",
       "    .dataframe thead th {\n",
       "        text-align: right;\n",
       "    }\n",
       "</style>\n",
       "<table border=\"1\" class=\"dataframe\">\n",
       "  <thead>\n",
       "    <tr style=\"text-align: right;\">\n",
       "      <th></th>\n",
       "      <th>children</th>\n",
       "      <th>days_employed</th>\n",
       "      <th>dob_years</th>\n",
       "      <th>education</th>\n",
       "      <th>education_id</th>\n",
       "      <th>family_status</th>\n",
       "      <th>family_status_id</th>\n",
       "      <th>gender</th>\n",
       "      <th>income_type</th>\n",
       "      <th>debt</th>\n",
       "      <th>total_income</th>\n",
       "      <th>purpose</th>\n",
       "    </tr>\n",
       "  </thead>\n",
       "  <tbody>\n",
       "    <tr>\n",
       "      <td>941</td>\n",
       "      <td>-1</td>\n",
       "      <td>NaN</td>\n",
       "      <td>57</td>\n",
       "      <td>Среднее</td>\n",
       "      <td>1</td>\n",
       "      <td>женат / замужем</td>\n",
       "      <td>0</td>\n",
       "      <td>F</td>\n",
       "      <td>пенсионер</td>\n",
       "      <td>0</td>\n",
       "      <td>NaN</td>\n",
       "      <td>на покупку своего автомобиля</td>\n",
       "    </tr>\n",
       "    <tr>\n",
       "      <td>7615</td>\n",
       "      <td>-1</td>\n",
       "      <td>NaN</td>\n",
       "      <td>35</td>\n",
       "      <td>среднее</td>\n",
       "      <td>1</td>\n",
       "      <td>женат / замужем</td>\n",
       "      <td>0</td>\n",
       "      <td>M</td>\n",
       "      <td>сотрудник</td>\n",
       "      <td>0</td>\n",
       "      <td>NaN</td>\n",
       "      <td>образование</td>\n",
       "    </tr>\n",
       "    <tr>\n",
       "      <td>13786</td>\n",
       "      <td>-1</td>\n",
       "      <td>NaN</td>\n",
       "      <td>42</td>\n",
       "      <td>среднее</td>\n",
       "      <td>1</td>\n",
       "      <td>Не женат / не замужем</td>\n",
       "      <td>4</td>\n",
       "      <td>M</td>\n",
       "      <td>компаньон</td>\n",
       "      <td>0</td>\n",
       "      <td>NaN</td>\n",
       "      <td>автомобиль</td>\n",
       "    </tr>\n",
       "  </tbody>\n",
       "</table>\n",
       "</div>"
      ],
      "text/plain": [
       "       children  days_employed  dob_years education  education_id  \\\n",
       "941          -1            NaN         57   Среднее             1   \n",
       "7615         -1            NaN         35   среднее             1   \n",
       "13786        -1            NaN         42   среднее             1   \n",
       "\n",
       "               family_status  family_status_id gender income_type  debt  \\\n",
       "941          женат / замужем                 0      F   пенсионер     0   \n",
       "7615         женат / замужем                 0      M   сотрудник     0   \n",
       "13786  Не женат / не замужем                 4      M   компаньон     0   \n",
       "\n",
       "       total_income                       purpose  \n",
       "941             NaN  на покупку своего автомобиля  \n",
       "7615            NaN                   образование  \n",
       "13786           NaN                    автомобиль  "
      ]
     },
     "execution_count": 6,
     "metadata": {},
     "output_type": "execute_result"
    }
   ],
   "source": [
    "# -1 детей, отсутствуют данные о з/п и стаже\n",
    "data[(data['children'] == -1) & (data['days_employed'].isnull()) & (data['total_income'].isnull())]"
   ]
  },
  {
   "cell_type": "code",
   "execution_count": 7,
   "metadata": {},
   "outputs": [],
   "source": [
    "# удаляю строки с пропрущенными данными из датафрейма\n",
    "data = data.drop(data[(data['children'] == 20) & (data['days_employed'].isnull()) & (data['total_income'].isnull())].index)\n",
    "data = data.drop(data[(data['children'] == -1) & (data['days_employed'].isnull()) & (data['total_income'].isnull())].index)"
   ]
  },
  {
   "cell_type": "markdown",
   "metadata": {},
   "source": [
    "Посмотрим аномальные значения в первом столбце — кол-во детей"
   ]
  },
  {
   "cell_type": "code",
   "execution_count": 8,
   "metadata": {},
   "outputs": [
    {
     "data": {
      "text/plain": [
       " 0     14149\n",
       " 1      4818\n",
       " 2      2055\n",
       " 3       330\n",
       " 20       67\n",
       "-1        44\n",
       " 4        41\n",
       " 5         9\n",
       "Name: children, dtype: int64"
      ]
     },
     "execution_count": 8,
     "metadata": {},
     "output_type": "execute_result"
    }
   ],
   "source": [
    "data['children'].value_counts()"
   ]
  },
  {
   "cell_type": "markdown",
   "metadata": {},
   "source": [
    "Эти пропуски я сочла случайными, поскольку вероятность пропуска в этом столбце не зависит от значений в других столбцах, и его нельзя восстановить по другим доступным параметрам. Возможно, у этих людей детей нет, и эти значения — альтернатива для прочерка. В связи с этим было решено заменить значения -1 и 20 на 0. "
   ]
  },
  {
   "cell_type": "code",
   "execution_count": 9,
   "metadata": {},
   "outputs": [
    {
     "data": {
      "text/plain": [
       "0    14260\n",
       "1     4818\n",
       "2     2055\n",
       "3      330\n",
       "4       41\n",
       "5        9\n",
       "Name: children, dtype: int64"
      ]
     },
     "execution_count": 9,
     "metadata": {},
     "output_type": "execute_result"
    }
   ],
   "source": [
    "# заменим значения -1 и 20 на 0\n",
    "data['children'] = data['children'].replace(-1, 0)\n",
    "data['children'] = data['children'].replace(20, 0)\n",
    "data['children'].value_counts()"
   ]
  },
  {
   "cell_type": "markdown",
   "metadata": {},
   "source": [
    "#### dob_years"
   ]
  },
  {
   "cell_type": "markdown",
   "metadata": {},
   "source": [
    "Рассмотрим столбец dob_years, в котором хранится возраст, поскольку на его основе можно будет заполнить пропуски в столбце со стажем."
   ]
  },
  {
   "cell_type": "code",
   "execution_count": 10,
   "metadata": {
    "scrolled": true
   },
   "outputs": [
    {
     "data": {
      "image/png": "[encoded data removed]",
      "text/plain": [
       "<Figure size 432x288 with 1 Axes>"
      ]
     },
     "metadata": {
      "needs_background": "light"
     },
     "output_type": "display_data"
    }
   ],
   "source": [
    "ax_age = sns.distplot(data['dob_years'], bins=10)\n",
    "ax_age.set_xlabel('Возраст')\n",
    "ax_age.set_ylabel('Плотность распределения')\n",
    "ax_age.set_title('Распределение возраста заемщиков')\n",
    "plt.show()"
   ]
  },
  {
   "cell_type": "markdown",
   "metadata": {},
   "source": [
    "В этом столбце есть записи о возрасте, меньше 18. Было решено удалить строки с таким возрастом, и где нет данных о стаже и з/п, поскольку эти данные восстановить почти невозможно."
   ]
  },
  {
   "cell_type": "code",
   "execution_count": 11,
   "metadata": {},
   "outputs": [
    {
     "data": {
      "text/plain": [
       "0.04648352159159578"
      ]
     },
     "execution_count": 11,
     "metadata": {},
     "output_type": "execute_result"
    }
   ],
   "source": [
    "# считаем количество таких строк в процентах\n",
    "null_age_income = data[(data['dob_years'] < 18) & (data['days_employed'].isnull()) & (data['total_income'].isnull())]\n",
    "(len(null_age_income) / len(data)) * 100"
   ]
  },
  {
   "cell_type": "code",
   "execution_count": 12,
   "metadata": {},
   "outputs": [],
   "source": [
    "# процент оказался очень маленьким, можно удалить\n",
    "data = data.drop(null_age_income.index)"
   ]
  },
  {
   "cell_type": "code",
   "execution_count": 13,
   "metadata": {},
   "outputs": [
    {
     "data": {
      "text/plain": [
       "91"
      ]
     },
     "execution_count": 13,
     "metadata": {},
     "output_type": "execute_result"
    }
   ],
   "source": [
    "data[(data['dob_years'] < 18)]['dob_years'].count()"
   ]
  },
  {
   "cell_type": "markdown",
   "metadata": {},
   "source": [
    "Остается еще 91 значение, которые можно попробовать восстановить. Как вариант, можно заполнить отсутствующие значения следующим образом: если человек получил среднее образование (1), то к его стажу можно прибавить 18 (возраст, с которого можно работать); если человек получил высшее образование (0), то прибавлять 22 (обычно в этом возрасте заканчивают бакалавриат); если образование высшее неоконченное (2), то +20 (начал работать на 2 курсе). Но сначала нужно перевести все значения столбца days_employed в годы."
   ]
  },
  {
   "cell_type": "markdown",
   "metadata": {},
   "source": [
    "#### days_employed"
   ]
  },
  {
   "cell_type": "code",
   "execution_count": 14,
   "metadata": {
    "scrolled": true
   },
   "outputs": [
    {
     "data": {
      "image/png": "[encoded data removed]",
      "text/plain": [
       "<Figure size 432x288 with 1 Axes>"
      ]
     },
     "metadata": {
      "needs_background": "light"
     },
     "output_type": "display_data"
    }
   ],
   "source": [
    "ax_exp = sns.distplot(data['days_employed'], bins=10)\n",
    "ax_exp.set_xlabel('Стаж в днях')\n",
    "ax_exp.set_ylabel('Плотность распределения')\n",
    "ax_exp.set_title('Распределение заемщиков по стажу')\n",
    "plt.show()"
   ]
  },
  {
   "cell_type": "markdown",
   "metadata": {},
   "source": [
    "В столбце появляются не только пропуски, но и множество отрицательных значений. Это явно является ошибкой, поскольку столбец предполагает кол-во дней стажа, а это значение точно не может быть отрицательным. Также в столбце есть аномальные значения — 300-400 тыс. рабочих дней, что в годах равняется примерно 800-1000 лет стажа. Эти значения также необходимо привести к адекватным, либо удалить."
   ]
  },
  {
   "cell_type": "code",
   "execution_count": 15,
   "metadata": {},
   "outputs": [
    {
     "name": "stdout",
     "output_type": "stream",
     "text": [
      "Отрицательных значений — 15906, слишком больших — 3445\n"
     ]
    }
   ],
   "source": [
    "negative_days = data[data['days_employed'] < 0]['days_employed'].count()\n",
    "excessive_days = data[data['days_employed'] > 20000]['days_employed'].count()\n",
    "print('Отрицательных значений — {}, слишком больших — {}'.format(negative_days, excessive_days))"
   ]
  },
  {
   "cell_type": "code",
   "execution_count": 16,
   "metadata": {},
   "outputs": [
    {
     "data": {
      "text/plain": [
       "59    254\n",
       "60    243\n",
       "62    235\n",
       "61    214\n",
       "57    212\n",
       "58    208\n",
       "63    192\n",
       "56    184\n",
       "64    179\n",
       "55    162\n",
       "Name: dob_years, dtype: int64"
      ]
     },
     "execution_count": 16,
     "metadata": {},
     "output_type": "execute_result"
    }
   ],
   "source": [
    "data[data['days_employed'] > 20000]['dob_years'].value_counts()[:10]"
   ]
  },
  {
   "cell_type": "markdown",
   "metadata": {},
   "source": [
    "Было решено привести все значения к модулю, а дни перевести в годы (в годах стаж выглядит привычнее). В строках с аномально большим стажем возраст людей преимущественно составляет 50-70 лет. Разделим эти значения на 30 из того соображения, что человек к этому возрасту может проработать лет 30-40 (это 10-15 тыс. дней при 365 днях в году), и если делить 400 000 на 30, то примерно такое число лет и получается."
   ]
  },
  {
   "cell_type": "code",
   "execution_count": 17,
   "metadata": {},
   "outputs": [],
   "source": [
    "# функция для перевода дней стажа в годы\n",
    "def days_to_years(days):\n",
    "    if days < 0:\n",
    "        days = abs(days)\n",
    "        years = days / 365\n",
    "        return round(years, 1)\n",
    "    elif days > 0:\n",
    "        days = days / 30\n",
    "        years = days / 365\n",
    "        return round(years, 1)\n",
    "    else:\n",
    "        return days #возврат в случае 0 или NaN"
   ]
  },
  {
   "cell_type": "code",
   "execution_count": 18,
   "metadata": {},
   "outputs": [],
   "source": [
    "# создаем столбец с годами стажа\n",
    "data['years_employed'] = data['days_employed'].apply(days_to_years)\n",
    "# удаляем столбец с днями\n",
    "data = data.drop(['days_employed'], axis=1)"
   ]
  },
  {
   "cell_type": "markdown",
   "metadata": {},
   "source": [
    "Не забудем заполнить пропуски в dob_years\n",
    "#### dob_years"
   ]
  },
  {
   "cell_type": "code",
   "execution_count": 19,
   "metadata": {},
   "outputs": [],
   "source": [
    "# функця для восстановления возраста\n",
    "def recreate_age(row):\n",
    "    if row['dob_years'] == 0:    \n",
    "        experience = round(row['years_employed'])\n",
    "        education = row['education_id']\n",
    "        if education is 1:\n",
    "            row['dob_years'] = experience + 18\n",
    "        elif education is 0:\n",
    "            row['dob_years'] = experience + 22\n",
    "        else:\n",
    "            row['dob_years'] = experience + 20\n",
    "    return row"
   ]
  },
  {
   "cell_type": "code",
   "execution_count": 20,
   "metadata": {},
   "outputs": [],
   "source": [
    "data = data.apply(recreate_age, axis=1)"
   ]
  },
  {
   "cell_type": "markdown",
   "metadata": {},
   "source": [
    "Удалим строки, где стаж превышает возраст"
   ]
  },
  {
   "cell_type": "code",
   "execution_count": 21,
   "metadata": {},
   "outputs": [
    {
     "data": {
      "text/plain": [
       "11"
      ]
     },
     "execution_count": 21,
     "metadata": {},
     "output_type": "execute_result"
    }
   ],
   "source": [
    "data[data['years_employed'] > data['dob_years']]['dob_years'].count() # смотрим их число"
   ]
  },
  {
   "cell_type": "code",
   "execution_count": 22,
   "metadata": {},
   "outputs": [],
   "source": [
    "data = data.drop(data[data['years_employed'] > data['dob_years']].index) # удаляем"
   ]
  },
  {
   "cell_type": "markdown",
   "metadata": {},
   "source": [
    "#### days_employed\n",
    "Вернемся к столбцу со стажем. Заполняем пропуски средним значением по соц. группе. Для этого будем брать возраст, образование, пол."
   ]
  },
  {
   "cell_type": "code",
   "execution_count": 23,
   "metadata": {},
   "outputs": [],
   "source": [
    "data['years_employed'] = data.groupby(['education', \n",
    "                                     'gender', \n",
    "                                     'dob_years'])['years_employed'].apply(lambda x: x.fillna(x.mean()))"
   ]
  },
  {
   "cell_type": "code",
   "execution_count": 24,
   "metadata": {
    "scrolled": true
   },
   "outputs": [
    {
     "data": {
      "text/plain": [
       "20"
      ]
     },
     "execution_count": 24,
     "metadata": {},
     "output_type": "execute_result"
    }
   ],
   "source": [
    "data['years_employed'].isnull().sum()"
   ]
  },
  {
   "cell_type": "markdown",
   "metadata": {},
   "source": [
    "Остается еще 20 пустых значений, для которых не нашлось подходящей группы. Количество небольшое, можно удалить."
   ]
  },
  {
   "cell_type": "code",
   "execution_count": 25,
   "metadata": {},
   "outputs": [],
   "source": [
    "data.dropna(subset = ['years_employed'], inplace = True)"
   ]
  },
  {
   "cell_type": "code",
   "execution_count": 26,
   "metadata": {
    "scrolled": true
   },
   "outputs": [
    {
     "data": {
      "text/plain": [
       "0"
      ]
     },
     "execution_count": 26,
     "metadata": {},
     "output_type": "execute_result"
    }
   ],
   "source": [
    "data['years_employed'].isnull().sum()"
   ]
  },
  {
   "cell_type": "markdown",
   "metadata": {},
   "source": [
    "#### total_income"
   ]
  },
  {
   "cell_type": "markdown",
   "metadata": {},
   "source": [
    "Далее перейдем к столбцу с заработком. Было решено заменять отсутствующие значения на медиану по соц. группе. Для этого рассмотрим образование, пол и тип занятости."
   ]
  },
  {
   "cell_type": "code",
   "execution_count": 27,
   "metadata": {},
   "outputs": [
    {
     "name": "stderr",
     "output_type": "stream",
     "text": [
      "/opt/conda/lib/python3.7/site-packages/numpy/lib/nanfunctions.py:1111: RuntimeWarning: Mean of empty slice\n",
      "  return np.nanmean(a, axis, out=out, keepdims=keepdims)\n"
     ]
    }
   ],
   "source": [
    "data['total_income'] = data.groupby(['income_type', \n",
    "                                     'gender', \n",
    "                                     'education'])['total_income'].apply(lambda x: x.fillna(x.median()))"
   ]
  },
  {
   "cell_type": "code",
   "execution_count": 28,
   "metadata": {
    "scrolled": true
   },
   "outputs": [
    {
     "data": {
      "text/plain": [
       "1"
      ]
     },
     "execution_count": 28,
     "metadata": {},
     "output_type": "execute_result"
    }
   ],
   "source": [
    "data['total_income'].isnull().sum()"
   ]
  },
  {
   "cell_type": "markdown",
   "metadata": {},
   "source": [
    "Остается еще 1 пустое значение, для которого не нашлось подходящей группы. Количество небольшое, можно удалить."
   ]
  },
  {
   "cell_type": "code",
   "execution_count": 29,
   "metadata": {},
   "outputs": [],
   "source": [
    "data.dropna(subset = ['total_income'], inplace = True)"
   ]
  },
  {
   "cell_type": "code",
   "execution_count": 30,
   "metadata": {
    "scrolled": false
   },
   "outputs": [
    {
     "data": {
      "text/plain": [
       "0"
      ]
     },
     "execution_count": 30,
     "metadata": {},
     "output_type": "execute_result"
    }
   ],
   "source": [
    "data['total_income'].isnull().sum()"
   ]
  },
  {
   "cell_type": "code",
   "execution_count": 31,
   "metadata": {},
   "outputs": [
    {
     "name": "stdout",
     "output_type": "stream",
     "text": [
      "<class 'pandas.core.frame.DataFrame'>\n",
      "Int64Index: 21471 entries, 0 to 21524\n",
      "Data columns (total 12 columns):\n",
      "children            21471 non-null int64\n",
      "dob_years           21471 non-null int64\n",
      "education           21471 non-null object\n",
      "education_id        21471 non-null int64\n",
      "family_status       21471 non-null object\n",
      "family_status_id    21471 non-null int64\n",
      "gender              21471 non-null object\n",
      "income_type         21471 non-null object\n",
      "debt                21471 non-null int64\n",
      "total_income        21471 non-null float64\n",
      "purpose             21471 non-null object\n",
      "years_employed      21471 non-null float64\n",
      "dtypes: float64(2), int64(5), object(5)\n",
      "memory usage: 2.1+ MB\n"
     ]
    }
   ],
   "source": [
    "# проверяем, все ли NaN удалены\n",
    "data.info()"
   ]
  },
  {
   "cell_type": "markdown",
   "metadata": {},
   "source": [
    "Как итог, строки, в которых отстутствуют значения сразу в нескольких столбцах (более 2), были удалены. Пропуски, которые можно было заполнить по соседним столбцам, были восстановлены с помощью среднего или медианного значения по соц. группе. Аномальные значения (отрицательные или слишком большие) были преобразованы на основе здравого смысла."
   ]
  },
  {
   "cell_type": "markdown",
   "metadata": {},
   "source": [
    "### Замена вещественного типа данных на целочисленный"
   ]
  },
  {
   "cell_type": "markdown",
   "metadata": {},
   "source": [
    "Тип float присутствует в столбцах total_income и years_employed. В качестве метода смены типа данных выберем astype, поскольку он позволяет быстро поменять тип значений во всем столбце на необходимый нам. Также применим к значениям метод round, чтобы стаж свыше полугода, например, никуда не потерялся."
   ]
  },
  {
   "cell_type": "code",
   "execution_count": 32,
   "metadata": {},
   "outputs": [
    {
     "name": "stdout",
     "output_type": "stream",
     "text": [
      "<class 'pandas.core.frame.DataFrame'>\n",
      "Int64Index: 21471 entries, 0 to 21524\n",
      "Data columns (total 12 columns):\n",
      "children            21471 non-null int64\n",
      "dob_years           21471 non-null int64\n",
      "education           21471 non-null object\n",
      "education_id        21471 non-null int64\n",
      "family_status       21471 non-null object\n",
      "family_status_id    21471 non-null int64\n",
      "gender              21471 non-null object\n",
      "income_type         21471 non-null object\n",
      "debt                21471 non-null int64\n",
      "total_income        21471 non-null int64\n",
      "purpose             21471 non-null object\n",
      "years_employed      21471 non-null int64\n",
      "dtypes: int64(7), object(5)\n",
      "memory usage: 2.1+ MB\n"
     ]
    }
   ],
   "source": [
    "data['total_income'] = round(data['total_income']).astype(int)\n",
    "data['years_employed'] = round(data['years_employed']).astype(int)\n",
    "data.info()"
   ]
  },
  {
   "cell_type": "markdown",
   "metadata": {},
   "source": [
    "### Удаление дубликатов"
   ]
  },
  {
   "cell_type": "markdown",
   "metadata": {},
   "source": [
    "Посмотрим, есть ли в датафрейме дублированные строки."
   ]
  },
  {
   "cell_type": "markdown",
   "metadata": {},
   "source": [
    "Чтобы отследить дубликаты, значения во всех строках должны иметь одинковый формат, в том числе и сведения об образовании. Они сейчас представлены в разных регистрах, нужно это исправить."
   ]
  },
  {
   "cell_type": "code",
   "execution_count": 33,
   "metadata": {},
   "outputs": [],
   "source": [
    "data['education'] = data['education'].apply(lambda x: x.lower())"
   ]
  },
  {
   "cell_type": "code",
   "execution_count": 34,
   "metadata": {},
   "outputs": [
    {
     "data": {
      "text/html": [
       "<div>\n",
       "<style scoped>\n",
       "    .dataframe tbody tr th:only-of-type {\n",
       "        vertical-align: middle;\n",
       "    }\n",
       "\n",
       "    .dataframe tbody tr th {\n",
       "        vertical-align: top;\n",
       "    }\n",
       "\n",
       "    .dataframe thead th {\n",
       "        text-align: right;\n",
       "    }\n",
       "</style>\n",
       "<table border=\"1\" class=\"dataframe\">\n",
       "  <thead>\n",
       "    <tr style=\"text-align: right;\">\n",
       "      <th></th>\n",
       "      <th>children</th>\n",
       "      <th>dob_years</th>\n",
       "      <th>education</th>\n",
       "      <th>education_id</th>\n",
       "      <th>family_status</th>\n",
       "      <th>family_status_id</th>\n",
       "      <th>gender</th>\n",
       "      <th>income_type</th>\n",
       "      <th>debt</th>\n",
       "      <th>total_income</th>\n",
       "      <th>purpose</th>\n",
       "      <th>years_employed</th>\n",
       "    </tr>\n",
       "  </thead>\n",
       "  <tbody>\n",
       "    <tr>\n",
       "      <td>2849</td>\n",
       "      <td>0</td>\n",
       "      <td>41</td>\n",
       "      <td>среднее</td>\n",
       "      <td>1</td>\n",
       "      <td>женат / замужем</td>\n",
       "      <td>0</td>\n",
       "      <td>F</td>\n",
       "      <td>сотрудник</td>\n",
       "      <td>0</td>\n",
       "      <td>124666</td>\n",
       "      <td>покупка жилья для семьи</td>\n",
       "      <td>6</td>\n",
       "    </tr>\n",
       "    <tr>\n",
       "      <td>4182</td>\n",
       "      <td>1</td>\n",
       "      <td>34</td>\n",
       "      <td>высшее</td>\n",
       "      <td>0</td>\n",
       "      <td>гражданский брак</td>\n",
       "      <td>1</td>\n",
       "      <td>F</td>\n",
       "      <td>сотрудник</td>\n",
       "      <td>0</td>\n",
       "      <td>142495</td>\n",
       "      <td>свадьба</td>\n",
       "      <td>3</td>\n",
       "    </tr>\n",
       "    <tr>\n",
       "      <td>4851</td>\n",
       "      <td>0</td>\n",
       "      <td>60</td>\n",
       "      <td>среднее</td>\n",
       "      <td>1</td>\n",
       "      <td>гражданский брак</td>\n",
       "      <td>1</td>\n",
       "      <td>F</td>\n",
       "      <td>пенсионер</td>\n",
       "      <td>0</td>\n",
       "      <td>112410</td>\n",
       "      <td>свадьба</td>\n",
       "      <td>30</td>\n",
       "    </tr>\n",
       "    <tr>\n",
       "      <td>5557</td>\n",
       "      <td>0</td>\n",
       "      <td>58</td>\n",
       "      <td>среднее</td>\n",
       "      <td>1</td>\n",
       "      <td>гражданский брак</td>\n",
       "      <td>1</td>\n",
       "      <td>F</td>\n",
       "      <td>пенсионер</td>\n",
       "      <td>0</td>\n",
       "      <td>112410</td>\n",
       "      <td>сыграть свадьбу</td>\n",
       "      <td>23</td>\n",
       "    </tr>\n",
       "    <tr>\n",
       "      <td>7808</td>\n",
       "      <td>0</td>\n",
       "      <td>57</td>\n",
       "      <td>среднее</td>\n",
       "      <td>1</td>\n",
       "      <td>гражданский брак</td>\n",
       "      <td>1</td>\n",
       "      <td>F</td>\n",
       "      <td>пенсионер</td>\n",
       "      <td>0</td>\n",
       "      <td>112410</td>\n",
       "      <td>на проведение свадьбы</td>\n",
       "      <td>24</td>\n",
       "    </tr>\n",
       "    <tr>\n",
       "      <td>8583</td>\n",
       "      <td>0</td>\n",
       "      <td>58</td>\n",
       "      <td>высшее</td>\n",
       "      <td>0</td>\n",
       "      <td>Не женат / не замужем</td>\n",
       "      <td>4</td>\n",
       "      <td>F</td>\n",
       "      <td>пенсионер</td>\n",
       "      <td>0</td>\n",
       "      <td>139362</td>\n",
       "      <td>дополнительное образование</td>\n",
       "      <td>24</td>\n",
       "    </tr>\n",
       "    <tr>\n",
       "      <td>9238</td>\n",
       "      <td>2</td>\n",
       "      <td>34</td>\n",
       "      <td>среднее</td>\n",
       "      <td>1</td>\n",
       "      <td>женат / замужем</td>\n",
       "      <td>0</td>\n",
       "      <td>F</td>\n",
       "      <td>сотрудник</td>\n",
       "      <td>0</td>\n",
       "      <td>124666</td>\n",
       "      <td>покупка жилья для сдачи</td>\n",
       "      <td>5</td>\n",
       "    </tr>\n",
       "    <tr>\n",
       "      <td>9528</td>\n",
       "      <td>0</td>\n",
       "      <td>66</td>\n",
       "      <td>среднее</td>\n",
       "      <td>1</td>\n",
       "      <td>вдовец / вдова</td>\n",
       "      <td>2</td>\n",
       "      <td>F</td>\n",
       "      <td>пенсионер</td>\n",
       "      <td>0</td>\n",
       "      <td>112410</td>\n",
       "      <td>операции со своей недвижимостью</td>\n",
       "      <td>30</td>\n",
       "    </tr>\n",
       "    <tr>\n",
       "      <td>9627</td>\n",
       "      <td>0</td>\n",
       "      <td>56</td>\n",
       "      <td>среднее</td>\n",
       "      <td>1</td>\n",
       "      <td>женат / замужем</td>\n",
       "      <td>0</td>\n",
       "      <td>F</td>\n",
       "      <td>пенсионер</td>\n",
       "      <td>0</td>\n",
       "      <td>112410</td>\n",
       "      <td>операции со своей недвижимостью</td>\n",
       "      <td>22</td>\n",
       "    </tr>\n",
       "    <tr>\n",
       "      <td>10462</td>\n",
       "      <td>0</td>\n",
       "      <td>62</td>\n",
       "      <td>среднее</td>\n",
       "      <td>1</td>\n",
       "      <td>женат / замужем</td>\n",
       "      <td>0</td>\n",
       "      <td>F</td>\n",
       "      <td>пенсионер</td>\n",
       "      <td>0</td>\n",
       "      <td>112410</td>\n",
       "      <td>покупка коммерческой недвижимости</td>\n",
       "      <td>29</td>\n",
       "    </tr>\n",
       "    <tr>\n",
       "      <td>10697</td>\n",
       "      <td>0</td>\n",
       "      <td>40</td>\n",
       "      <td>среднее</td>\n",
       "      <td>1</td>\n",
       "      <td>гражданский брак</td>\n",
       "      <td>1</td>\n",
       "      <td>F</td>\n",
       "      <td>компаньон</td>\n",
       "      <td>0</td>\n",
       "      <td>144903</td>\n",
       "      <td>сыграть свадьбу</td>\n",
       "      <td>7</td>\n",
       "    </tr>\n",
       "    <tr>\n",
       "      <td>10864</td>\n",
       "      <td>0</td>\n",
       "      <td>62</td>\n",
       "      <td>среднее</td>\n",
       "      <td>1</td>\n",
       "      <td>женат / замужем</td>\n",
       "      <td>0</td>\n",
       "      <td>F</td>\n",
       "      <td>пенсионер</td>\n",
       "      <td>0</td>\n",
       "      <td>112410</td>\n",
       "      <td>ремонт жилью</td>\n",
       "      <td>29</td>\n",
       "    </tr>\n",
       "    <tr>\n",
       "      <td>10994</td>\n",
       "      <td>0</td>\n",
       "      <td>62</td>\n",
       "      <td>среднее</td>\n",
       "      <td>1</td>\n",
       "      <td>женат / замужем</td>\n",
       "      <td>0</td>\n",
       "      <td>F</td>\n",
       "      <td>пенсионер</td>\n",
       "      <td>0</td>\n",
       "      <td>112410</td>\n",
       "      <td>ремонт жилью</td>\n",
       "      <td>29</td>\n",
       "    </tr>\n",
       "    <tr>\n",
       "      <td>11791</td>\n",
       "      <td>0</td>\n",
       "      <td>47</td>\n",
       "      <td>среднее</td>\n",
       "      <td>1</td>\n",
       "      <td>женат / замужем</td>\n",
       "      <td>0</td>\n",
       "      <td>F</td>\n",
       "      <td>сотрудник</td>\n",
       "      <td>0</td>\n",
       "      <td>124666</td>\n",
       "      <td>строительство недвижимости</td>\n",
       "      <td>10</td>\n",
       "    </tr>\n",
       "    <tr>\n",
       "      <td>12373</td>\n",
       "      <td>0</td>\n",
       "      <td>58</td>\n",
       "      <td>среднее</td>\n",
       "      <td>1</td>\n",
       "      <td>женат / замужем</td>\n",
       "      <td>0</td>\n",
       "      <td>M</td>\n",
       "      <td>сотрудник</td>\n",
       "      <td>0</td>\n",
       "      <td>155792</td>\n",
       "      <td>покупка недвижимости</td>\n",
       "      <td>15</td>\n",
       "    </tr>\n",
       "    <tr>\n",
       "      <td>12375</td>\n",
       "      <td>1</td>\n",
       "      <td>37</td>\n",
       "      <td>среднее</td>\n",
       "      <td>1</td>\n",
       "      <td>женат / замужем</td>\n",
       "      <td>0</td>\n",
       "      <td>F</td>\n",
       "      <td>сотрудник</td>\n",
       "      <td>0</td>\n",
       "      <td>124666</td>\n",
       "      <td>покупка недвижимости</td>\n",
       "      <td>6</td>\n",
       "    </tr>\n",
       "    <tr>\n",
       "      <td>12736</td>\n",
       "      <td>0</td>\n",
       "      <td>59</td>\n",
       "      <td>среднее</td>\n",
       "      <td>1</td>\n",
       "      <td>женат / замужем</td>\n",
       "      <td>0</td>\n",
       "      <td>F</td>\n",
       "      <td>пенсионер</td>\n",
       "      <td>0</td>\n",
       "      <td>112410</td>\n",
       "      <td>заняться образованием</td>\n",
       "      <td>27</td>\n",
       "    </tr>\n",
       "    <tr>\n",
       "      <td>13025</td>\n",
       "      <td>1</td>\n",
       "      <td>44</td>\n",
       "      <td>среднее</td>\n",
       "      <td>1</td>\n",
       "      <td>женат / замужем</td>\n",
       "      <td>0</td>\n",
       "      <td>F</td>\n",
       "      <td>сотрудник</td>\n",
       "      <td>0</td>\n",
       "      <td>124666</td>\n",
       "      <td>сделка с подержанным автомобилем</td>\n",
       "      <td>9</td>\n",
       "    </tr>\n",
       "    <tr>\n",
       "      <td>13639</td>\n",
       "      <td>0</td>\n",
       "      <td>64</td>\n",
       "      <td>среднее</td>\n",
       "      <td>1</td>\n",
       "      <td>женат / замужем</td>\n",
       "      <td>0</td>\n",
       "      <td>F</td>\n",
       "      <td>пенсионер</td>\n",
       "      <td>0</td>\n",
       "      <td>112410</td>\n",
       "      <td>автомобиль</td>\n",
       "      <td>30</td>\n",
       "    </tr>\n",
       "    <tr>\n",
       "      <td>13773</td>\n",
       "      <td>0</td>\n",
       "      <td>35</td>\n",
       "      <td>среднее</td>\n",
       "      <td>1</td>\n",
       "      <td>гражданский брак</td>\n",
       "      <td>1</td>\n",
       "      <td>F</td>\n",
       "      <td>сотрудник</td>\n",
       "      <td>0</td>\n",
       "      <td>124666</td>\n",
       "      <td>сыграть свадьбу</td>\n",
       "      <td>6</td>\n",
       "    </tr>\n",
       "    <tr>\n",
       "      <td>13878</td>\n",
       "      <td>1</td>\n",
       "      <td>31</td>\n",
       "      <td>среднее</td>\n",
       "      <td>1</td>\n",
       "      <td>женат / замужем</td>\n",
       "      <td>0</td>\n",
       "      <td>F</td>\n",
       "      <td>компаньон</td>\n",
       "      <td>0</td>\n",
       "      <td>144903</td>\n",
       "      <td>покупка жилья</td>\n",
       "      <td>5</td>\n",
       "    </tr>\n",
       "    <tr>\n",
       "      <td>13942</td>\n",
       "      <td>0</td>\n",
       "      <td>44</td>\n",
       "      <td>среднее</td>\n",
       "      <td>1</td>\n",
       "      <td>женат / замужем</td>\n",
       "      <td>0</td>\n",
       "      <td>F</td>\n",
       "      <td>сотрудник</td>\n",
       "      <td>0</td>\n",
       "      <td>124666</td>\n",
       "      <td>приобретение автомобиля</td>\n",
       "      <td>9</td>\n",
       "    </tr>\n",
       "    <tr>\n",
       "      <td>14432</td>\n",
       "      <td>2</td>\n",
       "      <td>36</td>\n",
       "      <td>высшее</td>\n",
       "      <td>0</td>\n",
       "      <td>женат / замужем</td>\n",
       "      <td>0</td>\n",
       "      <td>F</td>\n",
       "      <td>госслужащий</td>\n",
       "      <td>0</td>\n",
       "      <td>156818</td>\n",
       "      <td>получение образования</td>\n",
       "      <td>6</td>\n",
       "    </tr>\n",
       "    <tr>\n",
       "      <td>14832</td>\n",
       "      <td>0</td>\n",
       "      <td>50</td>\n",
       "      <td>среднее</td>\n",
       "      <td>1</td>\n",
       "      <td>Не женат / не замужем</td>\n",
       "      <td>4</td>\n",
       "      <td>F</td>\n",
       "      <td>сотрудник</td>\n",
       "      <td>0</td>\n",
       "      <td>124666</td>\n",
       "      <td>недвижимость</td>\n",
       "      <td>13</td>\n",
       "    </tr>\n",
       "    <tr>\n",
       "      <td>15091</td>\n",
       "      <td>0</td>\n",
       "      <td>58</td>\n",
       "      <td>среднее</td>\n",
       "      <td>1</td>\n",
       "      <td>гражданский брак</td>\n",
       "      <td>1</td>\n",
       "      <td>M</td>\n",
       "      <td>сотрудник</td>\n",
       "      <td>0</td>\n",
       "      <td>155792</td>\n",
       "      <td>на проведение свадьбы</td>\n",
       "      <td>15</td>\n",
       "    </tr>\n",
       "    <tr>\n",
       "      <td>15188</td>\n",
       "      <td>0</td>\n",
       "      <td>60</td>\n",
       "      <td>среднее</td>\n",
       "      <td>1</td>\n",
       "      <td>женат / замужем</td>\n",
       "      <td>0</td>\n",
       "      <td>M</td>\n",
       "      <td>сотрудник</td>\n",
       "      <td>0</td>\n",
       "      <td>155792</td>\n",
       "      <td>покупка недвижимости</td>\n",
       "      <td>18</td>\n",
       "    </tr>\n",
       "    <tr>\n",
       "      <td>15273</td>\n",
       "      <td>0</td>\n",
       "      <td>57</td>\n",
       "      <td>среднее</td>\n",
       "      <td>1</td>\n",
       "      <td>гражданский брак</td>\n",
       "      <td>1</td>\n",
       "      <td>F</td>\n",
       "      <td>пенсионер</td>\n",
       "      <td>0</td>\n",
       "      <td>112410</td>\n",
       "      <td>свадьба</td>\n",
       "      <td>24</td>\n",
       "    </tr>\n",
       "    <tr>\n",
       "      <td>16176</td>\n",
       "      <td>0</td>\n",
       "      <td>47</td>\n",
       "      <td>среднее</td>\n",
       "      <td>1</td>\n",
       "      <td>женат / замужем</td>\n",
       "      <td>0</td>\n",
       "      <td>F</td>\n",
       "      <td>сотрудник</td>\n",
       "      <td>0</td>\n",
       "      <td>124666</td>\n",
       "      <td>ремонт жилью</td>\n",
       "      <td>10</td>\n",
       "    </tr>\n",
       "    <tr>\n",
       "      <td>16378</td>\n",
       "      <td>0</td>\n",
       "      <td>46</td>\n",
       "      <td>среднее</td>\n",
       "      <td>1</td>\n",
       "      <td>женат / замужем</td>\n",
       "      <td>0</td>\n",
       "      <td>F</td>\n",
       "      <td>сотрудник</td>\n",
       "      <td>0</td>\n",
       "      <td>124666</td>\n",
       "      <td>высшее образование</td>\n",
       "      <td>9</td>\n",
       "    </tr>\n",
       "    <tr>\n",
       "      <td>16902</td>\n",
       "      <td>2</td>\n",
       "      <td>39</td>\n",
       "      <td>среднее</td>\n",
       "      <td>1</td>\n",
       "      <td>гражданский брак</td>\n",
       "      <td>1</td>\n",
       "      <td>F</td>\n",
       "      <td>сотрудник</td>\n",
       "      <td>0</td>\n",
       "      <td>124666</td>\n",
       "      <td>сыграть свадьбу</td>\n",
       "      <td>7</td>\n",
       "    </tr>\n",
       "    <tr>\n",
       "      <td>16904</td>\n",
       "      <td>1</td>\n",
       "      <td>32</td>\n",
       "      <td>высшее</td>\n",
       "      <td>0</td>\n",
       "      <td>женат / замужем</td>\n",
       "      <td>0</td>\n",
       "      <td>F</td>\n",
       "      <td>сотрудник</td>\n",
       "      <td>0</td>\n",
       "      <td>153478</td>\n",
       "      <td>на покупку подержанного автомобиля</td>\n",
       "      <td>5</td>\n",
       "    </tr>\n",
       "    <tr>\n",
       "      <td>17379</td>\n",
       "      <td>0</td>\n",
       "      <td>54</td>\n",
       "      <td>высшее</td>\n",
       "      <td>0</td>\n",
       "      <td>женат / замужем</td>\n",
       "      <td>0</td>\n",
       "      <td>M</td>\n",
       "      <td>компаньон</td>\n",
       "      <td>0</td>\n",
       "      <td>238224</td>\n",
       "      <td>операции с коммерческой недвижимостью</td>\n",
       "      <td>17</td>\n",
       "    </tr>\n",
       "    <tr>\n",
       "      <td>17755</td>\n",
       "      <td>1</td>\n",
       "      <td>43</td>\n",
       "      <td>среднее</td>\n",
       "      <td>1</td>\n",
       "      <td>женат / замужем</td>\n",
       "      <td>0</td>\n",
       "      <td>M</td>\n",
       "      <td>сотрудник</td>\n",
       "      <td>0</td>\n",
       "      <td>155792</td>\n",
       "      <td>заняться образованием</td>\n",
       "      <td>7</td>\n",
       "    </tr>\n",
       "    <tr>\n",
       "      <td>17774</td>\n",
       "      <td>1</td>\n",
       "      <td>40</td>\n",
       "      <td>среднее</td>\n",
       "      <td>1</td>\n",
       "      <td>гражданский брак</td>\n",
       "      <td>1</td>\n",
       "      <td>F</td>\n",
       "      <td>компаньон</td>\n",
       "      <td>0</td>\n",
       "      <td>144903</td>\n",
       "      <td>строительство жилой недвижимости</td>\n",
       "      <td>7</td>\n",
       "    </tr>\n",
       "    <tr>\n",
       "      <td>18328</td>\n",
       "      <td>0</td>\n",
       "      <td>29</td>\n",
       "      <td>высшее</td>\n",
       "      <td>0</td>\n",
       "      <td>женат / замужем</td>\n",
       "      <td>0</td>\n",
       "      <td>M</td>\n",
       "      <td>сотрудник</td>\n",
       "      <td>0</td>\n",
       "      <td>193590</td>\n",
       "      <td>покупка жилой недвижимости</td>\n",
       "      <td>4</td>\n",
       "    </tr>\n",
       "    <tr>\n",
       "      <td>18349</td>\n",
       "      <td>1</td>\n",
       "      <td>30</td>\n",
       "      <td>высшее</td>\n",
       "      <td>0</td>\n",
       "      <td>женат / замужем</td>\n",
       "      <td>0</td>\n",
       "      <td>F</td>\n",
       "      <td>госслужащий</td>\n",
       "      <td>0</td>\n",
       "      <td>156818</td>\n",
       "      <td>покупка жилья для семьи</td>\n",
       "      <td>5</td>\n",
       "    </tr>\n",
       "    <tr>\n",
       "      <td>18428</td>\n",
       "      <td>0</td>\n",
       "      <td>64</td>\n",
       "      <td>среднее</td>\n",
       "      <td>1</td>\n",
       "      <td>женат / замужем</td>\n",
       "      <td>0</td>\n",
       "      <td>F</td>\n",
       "      <td>пенсионер</td>\n",
       "      <td>0</td>\n",
       "      <td>112410</td>\n",
       "      <td>жилье</td>\n",
       "      <td>30</td>\n",
       "    </tr>\n",
       "    <tr>\n",
       "      <td>18521</td>\n",
       "      <td>0</td>\n",
       "      <td>56</td>\n",
       "      <td>среднее</td>\n",
       "      <td>1</td>\n",
       "      <td>гражданский брак</td>\n",
       "      <td>1</td>\n",
       "      <td>F</td>\n",
       "      <td>сотрудник</td>\n",
       "      <td>0</td>\n",
       "      <td>124666</td>\n",
       "      <td>сыграть свадьбу</td>\n",
       "      <td>22</td>\n",
       "    </tr>\n",
       "    <tr>\n",
       "      <td>18563</td>\n",
       "      <td>0</td>\n",
       "      <td>54</td>\n",
       "      <td>среднее</td>\n",
       "      <td>1</td>\n",
       "      <td>женат / замужем</td>\n",
       "      <td>0</td>\n",
       "      <td>F</td>\n",
       "      <td>сотрудник</td>\n",
       "      <td>0</td>\n",
       "      <td>124666</td>\n",
       "      <td>операции со своей недвижимостью</td>\n",
       "      <td>19</td>\n",
       "    </tr>\n",
       "    <tr>\n",
       "      <td>18755</td>\n",
       "      <td>0</td>\n",
       "      <td>58</td>\n",
       "      <td>среднее</td>\n",
       "      <td>1</td>\n",
       "      <td>женат / замужем</td>\n",
       "      <td>0</td>\n",
       "      <td>F</td>\n",
       "      <td>пенсионер</td>\n",
       "      <td>0</td>\n",
       "      <td>112410</td>\n",
       "      <td>заняться образованием</td>\n",
       "      <td>23</td>\n",
       "    </tr>\n",
       "    <tr>\n",
       "      <td>19041</td>\n",
       "      <td>0</td>\n",
       "      <td>56</td>\n",
       "      <td>среднее</td>\n",
       "      <td>1</td>\n",
       "      <td>гражданский брак</td>\n",
       "      <td>1</td>\n",
       "      <td>F</td>\n",
       "      <td>сотрудник</td>\n",
       "      <td>0</td>\n",
       "      <td>124666</td>\n",
       "      <td>на проведение свадьбы</td>\n",
       "      <td>22</td>\n",
       "    </tr>\n",
       "    <tr>\n",
       "      <td>19184</td>\n",
       "      <td>0</td>\n",
       "      <td>46</td>\n",
       "      <td>среднее</td>\n",
       "      <td>1</td>\n",
       "      <td>женат / замужем</td>\n",
       "      <td>0</td>\n",
       "      <td>F</td>\n",
       "      <td>сотрудник</td>\n",
       "      <td>0</td>\n",
       "      <td>124666</td>\n",
       "      <td>свой автомобиль</td>\n",
       "      <td>9</td>\n",
       "    </tr>\n",
       "    <tr>\n",
       "      <td>19321</td>\n",
       "      <td>0</td>\n",
       "      <td>23</td>\n",
       "      <td>среднее</td>\n",
       "      <td>1</td>\n",
       "      <td>Не женат / не замужем</td>\n",
       "      <td>4</td>\n",
       "      <td>F</td>\n",
       "      <td>сотрудник</td>\n",
       "      <td>0</td>\n",
       "      <td>124666</td>\n",
       "      <td>сделка с подержанным автомобилем</td>\n",
       "      <td>2</td>\n",
       "    </tr>\n",
       "    <tr>\n",
       "      <td>19387</td>\n",
       "      <td>0</td>\n",
       "      <td>38</td>\n",
       "      <td>высшее</td>\n",
       "      <td>0</td>\n",
       "      <td>гражданский брак</td>\n",
       "      <td>1</td>\n",
       "      <td>F</td>\n",
       "      <td>компаньон</td>\n",
       "      <td>0</td>\n",
       "      <td>189772</td>\n",
       "      <td>на проведение свадьбы</td>\n",
       "      <td>6</td>\n",
       "    </tr>\n",
       "    <tr>\n",
       "      <td>19688</td>\n",
       "      <td>0</td>\n",
       "      <td>61</td>\n",
       "      <td>среднее</td>\n",
       "      <td>1</td>\n",
       "      <td>женат / замужем</td>\n",
       "      <td>0</td>\n",
       "      <td>F</td>\n",
       "      <td>пенсионер</td>\n",
       "      <td>0</td>\n",
       "      <td>112410</td>\n",
       "      <td>операции с недвижимостью</td>\n",
       "      <td>28</td>\n",
       "    </tr>\n",
       "    <tr>\n",
       "      <td>19832</td>\n",
       "      <td>0</td>\n",
       "      <td>48</td>\n",
       "      <td>среднее</td>\n",
       "      <td>1</td>\n",
       "      <td>женат / замужем</td>\n",
       "      <td>0</td>\n",
       "      <td>F</td>\n",
       "      <td>сотрудник</td>\n",
       "      <td>0</td>\n",
       "      <td>124666</td>\n",
       "      <td>ремонт жилью</td>\n",
       "      <td>9</td>\n",
       "    </tr>\n",
       "    <tr>\n",
       "      <td>19946</td>\n",
       "      <td>0</td>\n",
       "      <td>57</td>\n",
       "      <td>среднее</td>\n",
       "      <td>1</td>\n",
       "      <td>женат / замужем</td>\n",
       "      <td>0</td>\n",
       "      <td>F</td>\n",
       "      <td>сотрудник</td>\n",
       "      <td>0</td>\n",
       "      <td>124666</td>\n",
       "      <td>сделка с подержанным автомобилем</td>\n",
       "      <td>24</td>\n",
       "    </tr>\n",
       "    <tr>\n",
       "      <td>20116</td>\n",
       "      <td>0</td>\n",
       "      <td>57</td>\n",
       "      <td>среднее</td>\n",
       "      <td>1</td>\n",
       "      <td>гражданский брак</td>\n",
       "      <td>1</td>\n",
       "      <td>M</td>\n",
       "      <td>пенсионер</td>\n",
       "      <td>0</td>\n",
       "      <td>126873</td>\n",
       "      <td>свадьба</td>\n",
       "      <td>16</td>\n",
       "    </tr>\n",
       "    <tr>\n",
       "      <td>20165</td>\n",
       "      <td>0</td>\n",
       "      <td>42</td>\n",
       "      <td>среднее</td>\n",
       "      <td>1</td>\n",
       "      <td>женат / замужем</td>\n",
       "      <td>0</td>\n",
       "      <td>F</td>\n",
       "      <td>сотрудник</td>\n",
       "      <td>0</td>\n",
       "      <td>124666</td>\n",
       "      <td>покупка жилья для семьи</td>\n",
       "      <td>8</td>\n",
       "    </tr>\n",
       "    <tr>\n",
       "      <td>20702</td>\n",
       "      <td>0</td>\n",
       "      <td>64</td>\n",
       "      <td>среднее</td>\n",
       "      <td>1</td>\n",
       "      <td>женат / замужем</td>\n",
       "      <td>0</td>\n",
       "      <td>F</td>\n",
       "      <td>пенсионер</td>\n",
       "      <td>0</td>\n",
       "      <td>112410</td>\n",
       "      <td>дополнительное образование</td>\n",
       "      <td>30</td>\n",
       "    </tr>\n",
       "    <tr>\n",
       "      <td>21032</td>\n",
       "      <td>0</td>\n",
       "      <td>60</td>\n",
       "      <td>среднее</td>\n",
       "      <td>1</td>\n",
       "      <td>женат / замужем</td>\n",
       "      <td>0</td>\n",
       "      <td>F</td>\n",
       "      <td>пенсионер</td>\n",
       "      <td>0</td>\n",
       "      <td>112410</td>\n",
       "      <td>заняться образованием</td>\n",
       "      <td>30</td>\n",
       "    </tr>\n",
       "    <tr>\n",
       "      <td>21132</td>\n",
       "      <td>0</td>\n",
       "      <td>47</td>\n",
       "      <td>среднее</td>\n",
       "      <td>1</td>\n",
       "      <td>женат / замужем</td>\n",
       "      <td>0</td>\n",
       "      <td>F</td>\n",
       "      <td>сотрудник</td>\n",
       "      <td>0</td>\n",
       "      <td>124666</td>\n",
       "      <td>ремонт жилью</td>\n",
       "      <td>10</td>\n",
       "    </tr>\n",
       "    <tr>\n",
       "      <td>21281</td>\n",
       "      <td>1</td>\n",
       "      <td>30</td>\n",
       "      <td>высшее</td>\n",
       "      <td>0</td>\n",
       "      <td>женат / замужем</td>\n",
       "      <td>0</td>\n",
       "      <td>F</td>\n",
       "      <td>сотрудник</td>\n",
       "      <td>0</td>\n",
       "      <td>153478</td>\n",
       "      <td>покупка коммерческой недвижимости</td>\n",
       "      <td>5</td>\n",
       "    </tr>\n",
       "    <tr>\n",
       "      <td>21415</td>\n",
       "      <td>0</td>\n",
       "      <td>54</td>\n",
       "      <td>среднее</td>\n",
       "      <td>1</td>\n",
       "      <td>женат / замужем</td>\n",
       "      <td>0</td>\n",
       "      <td>F</td>\n",
       "      <td>пенсионер</td>\n",
       "      <td>0</td>\n",
       "      <td>112410</td>\n",
       "      <td>операции с жильем</td>\n",
       "      <td>19</td>\n",
       "    </tr>\n",
       "  </tbody>\n",
       "</table>\n",
       "</div>"
      ],
      "text/plain": [
       "       children  dob_years education  education_id          family_status  \\\n",
       "2849          0         41   среднее             1        женат / замужем   \n",
       "4182          1         34    высшее             0       гражданский брак   \n",
       "4851          0         60   среднее             1       гражданский брак   \n",
       "5557          0         58   среднее             1       гражданский брак   \n",
       "7808          0         57   среднее             1       гражданский брак   \n",
       "8583          0         58    высшее             0  Не женат / не замужем   \n",
       "9238          2         34   среднее             1        женат / замужем   \n",
       "9528          0         66   среднее             1         вдовец / вдова   \n",
       "9627          0         56   среднее             1        женат / замужем   \n",
       "10462         0         62   среднее             1        женат / замужем   \n",
       "10697         0         40   среднее             1       гражданский брак   \n",
       "10864         0         62   среднее             1        женат / замужем   \n",
       "10994         0         62   среднее             1        женат / замужем   \n",
       "11791         0         47   среднее             1        женат / замужем   \n",
       "12373         0         58   среднее             1        женат / замужем   \n",
       "12375         1         37   среднее             1        женат / замужем   \n",
       "12736         0         59   среднее             1        женат / замужем   \n",
       "13025         1         44   среднее             1        женат / замужем   \n",
       "13639         0         64   среднее             1        женат / замужем   \n",
       "13773         0         35   среднее             1       гражданский брак   \n",
       "13878         1         31   среднее             1        женат / замужем   \n",
       "13942         0         44   среднее             1        женат / замужем   \n",
       "14432         2         36    высшее             0        женат / замужем   \n",
       "14832         0         50   среднее             1  Не женат / не замужем   \n",
       "15091         0         58   среднее             1       гражданский брак   \n",
       "15188         0         60   среднее             1        женат / замужем   \n",
       "15273         0         57   среднее             1       гражданский брак   \n",
       "16176         0         47   среднее             1        женат / замужем   \n",
       "16378         0         46   среднее             1        женат / замужем   \n",
       "16902         2         39   среднее             1       гражданский брак   \n",
       "16904         1         32    высшее             0        женат / замужем   \n",
       "17379         0         54    высшее             0        женат / замужем   \n",
       "17755         1         43   среднее             1        женат / замужем   \n",
       "17774         1         40   среднее             1       гражданский брак   \n",
       "18328         0         29    высшее             0        женат / замужем   \n",
       "18349         1         30    высшее             0        женат / замужем   \n",
       "18428         0         64   среднее             1        женат / замужем   \n",
       "18521         0         56   среднее             1       гражданский брак   \n",
       "18563         0         54   среднее             1        женат / замужем   \n",
       "18755         0         58   среднее             1        женат / замужем   \n",
       "19041         0         56   среднее             1       гражданский брак   \n",
       "19184         0         46   среднее             1        женат / замужем   \n",
       "19321         0         23   среднее             1  Не женат / не замужем   \n",
       "19387         0         38    высшее             0       гражданский брак   \n",
       "19688         0         61   среднее             1        женат / замужем   \n",
       "19832         0         48   среднее             1        женат / замужем   \n",
       "19946         0         57   среднее             1        женат / замужем   \n",
       "20116         0         57   среднее             1       гражданский брак   \n",
       "20165         0         42   среднее             1        женат / замужем   \n",
       "20702         0         64   среднее             1        женат / замужем   \n",
       "21032         0         60   среднее             1        женат / замужем   \n",
       "21132         0         47   среднее             1        женат / замужем   \n",
       "21281         1         30    высшее             0        женат / замужем   \n",
       "21415         0         54   среднее             1        женат / замужем   \n",
       "\n",
       "       family_status_id gender  income_type  debt  total_income  \\\n",
       "2849                  0      F    сотрудник     0        124666   \n",
       "4182                  1      F    сотрудник     0        142495   \n",
       "4851                  1      F    пенсионер     0        112410   \n",
       "5557                  1      F    пенсионер     0        112410   \n",
       "7808                  1      F    пенсионер     0        112410   \n",
       "8583                  4      F    пенсионер     0        139362   \n",
       "9238                  0      F    сотрудник     0        124666   \n",
       "9528                  2      F    пенсионер     0        112410   \n",
       "9627                  0      F    пенсионер     0        112410   \n",
       "10462                 0      F    пенсионер     0        112410   \n",
       "10697                 1      F    компаньон     0        144903   \n",
       "10864                 0      F    пенсионер     0        112410   \n",
       "10994                 0      F    пенсионер     0        112410   \n",
       "11791                 0      F    сотрудник     0        124666   \n",
       "12373                 0      M    сотрудник     0        155792   \n",
       "12375                 0      F    сотрудник     0        124666   \n",
       "12736                 0      F    пенсионер     0        112410   \n",
       "13025                 0      F    сотрудник     0        124666   \n",
       "13639                 0      F    пенсионер     0        112410   \n",
       "13773                 1      F    сотрудник     0        124666   \n",
       "13878                 0      F    компаньон     0        144903   \n",
       "13942                 0      F    сотрудник     0        124666   \n",
       "14432                 0      F  госслужащий     0        156818   \n",
       "14832                 4      F    сотрудник     0        124666   \n",
       "15091                 1      M    сотрудник     0        155792   \n",
       "15188                 0      M    сотрудник     0        155792   \n",
       "15273                 1      F    пенсионер     0        112410   \n",
       "16176                 0      F    сотрудник     0        124666   \n",
       "16378                 0      F    сотрудник     0        124666   \n",
       "16902                 1      F    сотрудник     0        124666   \n",
       "16904                 0      F    сотрудник     0        153478   \n",
       "17379                 0      M    компаньон     0        238224   \n",
       "17755                 0      M    сотрудник     0        155792   \n",
       "17774                 1      F    компаньон     0        144903   \n",
       "18328                 0      M    сотрудник     0        193590   \n",
       "18349                 0      F  госслужащий     0        156818   \n",
       "18428                 0      F    пенсионер     0        112410   \n",
       "18521                 1      F    сотрудник     0        124666   \n",
       "18563                 0      F    сотрудник     0        124666   \n",
       "18755                 0      F    пенсионер     0        112410   \n",
       "19041                 1      F    сотрудник     0        124666   \n",
       "19184                 0      F    сотрудник     0        124666   \n",
       "19321                 4      F    сотрудник     0        124666   \n",
       "19387                 1      F    компаньон     0        189772   \n",
       "19688                 0      F    пенсионер     0        112410   \n",
       "19832                 0      F    сотрудник     0        124666   \n",
       "19946                 0      F    сотрудник     0        124666   \n",
       "20116                 1      M    пенсионер     0        126873   \n",
       "20165                 0      F    сотрудник     0        124666   \n",
       "20702                 0      F    пенсионер     0        112410   \n",
       "21032                 0      F    пенсионер     0        112410   \n",
       "21132                 0      F    сотрудник     0        124666   \n",
       "21281                 0      F    сотрудник     0        153478   \n",
       "21415                 0      F    пенсионер     0        112410   \n",
       "\n",
       "                                     purpose  years_employed  \n",
       "2849                 покупка жилья для семьи               6  \n",
       "4182                                 свадьба               3  \n",
       "4851                                 свадьба              30  \n",
       "5557                         сыграть свадьбу              23  \n",
       "7808                   на проведение свадьбы              24  \n",
       "8583              дополнительное образование              24  \n",
       "9238                 покупка жилья для сдачи               5  \n",
       "9528         операции со своей недвижимостью              30  \n",
       "9627         операции со своей недвижимостью              22  \n",
       "10462      покупка коммерческой недвижимости              29  \n",
       "10697                        сыграть свадьбу               7  \n",
       "10864                           ремонт жилью              29  \n",
       "10994                           ремонт жилью              29  \n",
       "11791             строительство недвижимости              10  \n",
       "12373                   покупка недвижимости              15  \n",
       "12375                   покупка недвижимости               6  \n",
       "12736                  заняться образованием              27  \n",
       "13025       сделка с подержанным автомобилем               9  \n",
       "13639                             автомобиль              30  \n",
       "13773                        сыграть свадьбу               6  \n",
       "13878                          покупка жилья               5  \n",
       "13942                приобретение автомобиля               9  \n",
       "14432                  получение образования               6  \n",
       "14832                           недвижимость              13  \n",
       "15091                  на проведение свадьбы              15  \n",
       "15188                   покупка недвижимости              18  \n",
       "15273                                свадьба              24  \n",
       "16176                           ремонт жилью              10  \n",
       "16378                     высшее образование               9  \n",
       "16902                        сыграть свадьбу               7  \n",
       "16904     на покупку подержанного автомобиля               5  \n",
       "17379  операции с коммерческой недвижимостью              17  \n",
       "17755                  заняться образованием               7  \n",
       "17774       строительство жилой недвижимости               7  \n",
       "18328             покупка жилой недвижимости               4  \n",
       "18349                покупка жилья для семьи               5  \n",
       "18428                                  жилье              30  \n",
       "18521                        сыграть свадьбу              22  \n",
       "18563        операции со своей недвижимостью              19  \n",
       "18755                  заняться образованием              23  \n",
       "19041                  на проведение свадьбы              22  \n",
       "19184                        свой автомобиль               9  \n",
       "19321       сделка с подержанным автомобилем               2  \n",
       "19387                  на проведение свадьбы               6  \n",
       "19688               операции с недвижимостью              28  \n",
       "19832                           ремонт жилью               9  \n",
       "19946       сделка с подержанным автомобилем              24  \n",
       "20116                                свадьба              16  \n",
       "20165                покупка жилья для семьи               8  \n",
       "20702             дополнительное образование              30  \n",
       "21032                  заняться образованием              30  \n",
       "21132                           ремонт жилью              10  \n",
       "21281      покупка коммерческой недвижимости               5  \n",
       "21415                      операции с жильем              19  "
      ]
     },
     "execution_count": 34,
     "metadata": {},
     "output_type": "execute_result"
    }
   ],
   "source": [
    "data[data.duplicated() == True] # способ позволяет вывести целые строки на экран, чтобы посмотреть, какие именно строки совпали,\n",
    "                                # а также оценить их количество"
   ]
  },
  {
   "cell_type": "markdown",
   "metadata": {},
   "source": [
    "Дубликаты могли появиться в связи с тем, что для заполнения пропусков в доходе мы использовали медианы по соцгруппе, и данные могли в итоге полностью совпасть. Либо дубликаты были изначально, поскольку данные могли быть собраны по нескольким банкам, и заемщики могли получать кредиты сразу в нескольких."
   ]
  },
  {
   "cell_type": "markdown",
   "metadata": {},
   "source": [
    "Удалим дубликаты методом drop_duplicates(), поскольку он удобен в применении. Не забудем сбросить индекс, чтобы все строки в датафрейм шли по порядку."
   ]
  },
  {
   "cell_type": "code",
   "execution_count": 35,
   "metadata": {},
   "outputs": [
    {
     "name": "stdout",
     "output_type": "stream",
     "text": [
      "<class 'pandas.core.frame.DataFrame'>\n",
      "RangeIndex: 21417 entries, 0 to 21416\n",
      "Data columns (total 12 columns):\n",
      "children            21417 non-null int64\n",
      "dob_years           21417 non-null int64\n",
      "education           21417 non-null object\n",
      "education_id        21417 non-null int64\n",
      "family_status       21417 non-null object\n",
      "family_status_id    21417 non-null int64\n",
      "gender              21417 non-null object\n",
      "income_type         21417 non-null object\n",
      "debt                21417 non-null int64\n",
      "total_income        21417 non-null int64\n",
      "purpose             21417 non-null object\n",
      "years_employed      21417 non-null int64\n",
      "dtypes: int64(7), object(5)\n",
      "memory usage: 2.0+ MB\n"
     ]
    }
   ],
   "source": [
    "data = data.drop_duplicates().reset_index(drop=True)\n",
    "data.info()"
   ]
  },
  {
   "cell_type": "markdown",
   "metadata": {},
   "source": [
    "### Выделение лемм в значениях столбца с целями получения кредита"
   ]
  },
  {
   "cell_type": "markdown",
   "metadata": {},
   "source": [
    "Чтобы найти основные цели, нужно провести лемматизацию всех строк столбца purpose и посчитать их частотность. Для лемматизации будем использовать библиотеку pymystem и принадлежащий ей метод lemmatize. Библиотека уже импортирована выше."
   ]
  },
  {
   "cell_type": "code",
   "execution_count": 36,
   "metadata": {},
   "outputs": [
    {
     "data": {
      "text/plain": [
       "Counter({'покупка': 5888,\n",
       "         'жилье': 4453,\n",
       "         'приобретение': 460,\n",
       "         'автомобиль': 4297,\n",
       "         'дополнительный': 906,\n",
       "         'образование': 4004,\n",
       "         'сыграть': 767,\n",
       "         'свадьба': 2330,\n",
       "         'операция': 2594,\n",
       "         'с': 2908,\n",
       "         'на': 2223,\n",
       "         'проведение': 771,\n",
       "         'для': 1290,\n",
       "         'семья': 638,\n",
       "         'недвижимость': 6333,\n",
       "         'коммерческий': 1307,\n",
       "         'жилой': 1227,\n",
       "         'строительство': 1877,\n",
       "         'собственный': 635,\n",
       "         'подержать': 478,\n",
       "         'свой': 2226,\n",
       "         'со': 625,\n",
       "         'заниматься': 903,\n",
       "         'сделка': 939,\n",
       "         'подержанный': 485,\n",
       "         'получение': 1310,\n",
       "         'высокий': 1369,\n",
       "         'профильный': 435,\n",
       "         'сдача': 652,\n",
       "         'ремонт': 606})"
      ]
     },
     "execution_count": 36,
     "metadata": {},
     "output_type": "execute_result"
    }
   ],
   "source": [
    "m = Mystem()\n",
    "all_lemmas = []\n",
    "for row in data['purpose']: # собираем все леммы в один список\n",
    "    row_lemmas = m.lemmatize(row)\n",
    "    for lemma in row_lemmas:\n",
    "        if (lemma != ' ') and (lemma != '\\n'):\n",
    "            all_lemmas.append(lemma)\n",
    "Counter(all_lemmas) # считаем встречамость каждой из лемм"
   ]
  },
  {
   "cell_type": "markdown",
   "metadata": {},
   "source": [
    "Были определены следующие цели, исходя из значений в столбце purpose: недвижимость, автомобиль, образование, свадьба. Заменим каждое значение в столбце на соответствующую цель. Для этого лемматизируем их и найдем нужную лемму в каждом. \n"
   ]
  },
  {
   "cell_type": "code",
   "execution_count": 37,
   "metadata": {},
   "outputs": [],
   "source": [
    "# создаем функцию, которая принимает на вход строку и применяет к ней метод lemmatize, после чего находит в получившемся списке \n",
    "# лемм одну из целей, на которую люди обычно берут кредит, и возвращает вместо изначальной строки новую.\n",
    "def lemmatize_purpose(purpose):\n",
    "    lemmas = m.lemmatize(purpose)\n",
    "    if ('жилье' in lemmas) or ('недвижимость' in lemmas):\n",
    "        return 'недвижимость'\n",
    "    if 'автомобиль' in lemmas:\n",
    "        return 'автомобиль'\n",
    "    if 'образование' in lemmas:\n",
    "        return 'образование'\n",
    "    if 'свадьба' in lemmas:\n",
    "        return 'свадьба'\n",
    "    else:\n",
    "        return purpose"
   ]
  },
  {
   "cell_type": "code",
   "execution_count": 38,
   "metadata": {},
   "outputs": [],
   "source": [
    "data['purpose'] = data['purpose'].apply(lemmatize_purpose) # применим функцию лемматизации к столбцу purpose"
   ]
  },
  {
   "cell_type": "code",
   "execution_count": 39,
   "metadata": {},
   "outputs": [
    {
     "data": {
      "text/plain": [
       "недвижимость    10786\n",
       "автомобиль       4297\n",
       "образование      4004\n",
       "свадьба          2330\n",
       "Name: purpose, dtype: int64"
      ]
     },
     "execution_count": 39,
     "metadata": {},
     "output_type": "execute_result"
    }
   ],
   "source": [
    "data['purpose'].value_counts()"
   ]
  },
  {
   "cell_type": "markdown",
   "metadata": {},
   "source": [
    "### Использованные словари"
   ]
  },
  {
   "cell_type": "markdown",
   "metadata": {},
   "source": [
    "В представленных данных используется словарь для уровня образования — столбцы education, education_id. Поскольку в столбце education записи были представлены в разных регистрах, и, соответственно, автоматически определялись как разные категории, такой словарь, применяющий числовые обозначения категорий, помог объединить нужные данные."
   ]
  },
  {
   "cell_type": "code",
   "execution_count": 40,
   "metadata": {},
   "outputs": [
    {
     "data": {
      "text/plain": [
       "education_id  education          \n",
       "0             высшее                  5238\n",
       "1             среднее                15160\n",
       "2             неоконченное высшее      734\n",
       "3             начальное                279\n",
       "4             ученая степень             6\n",
       "Name: education, dtype: int64"
      ]
     },
     "execution_count": 40,
     "metadata": {},
     "output_type": "execute_result"
    }
   ],
   "source": [
    "data.groupby('education_id')['education'].value_counts()"
   ]
  },
  {
   "cell_type": "markdown",
   "metadata": {},
   "source": [
    "Также использовался словарь Counter для подсчета встречаемости лемм. С его помощью можно наглядно определить частотность той или иной цели для получения кредита."
   ]
  },
  {
   "cell_type": "markdown",
   "metadata": {},
   "source": [
    "## Выявление зависимостей <a id=\"dependencies\"></a>"
   ]
  },
  {
   "cell_type": "markdown",
   "metadata": {},
   "source": [
    "### Зависимость между наличием детей и возвратом кредита в срок"
   ]
  },
  {
   "cell_type": "code",
   "execution_count": 41,
   "metadata": {},
   "outputs": [
    {
     "name": "stdout",
     "output_type": "stream",
     "text": [
      "Всего невыплаченных кредитов: 1738\n",
      "В процентах это 8.12%\n"
     ]
    }
   ],
   "source": [
    "total_debts = data['debt'].sum()\n",
    "print('Всего невыплаченных кредитов: {}'.format(total_debts)) # выведем общее число кредитов\n",
    "print('В процентах это {:.2%}'.format(total_debts / len(data)))"
   ]
  },
  {
   "cell_type": "markdown",
   "metadata": {},
   "source": [
    "Процент людей, не выплативших кредит, в зависимости от кол-ва детей."
   ]
  },
  {
   "cell_type": "code",
   "execution_count": 42,
   "metadata": {},
   "outputs": [],
   "source": [
    "def count_percent(num):\n",
    "    return round(np.mean(num) * 100, 2)"
   ]
  },
  {
   "cell_type": "code",
   "execution_count": 43,
   "metadata": {},
   "outputs": [
    {
     "data": {
      "text/html": [
       "<div>\n",
       "<style scoped>\n",
       "    .dataframe tbody tr th:only-of-type {\n",
       "        vertical-align: middle;\n",
       "    }\n",
       "\n",
       "    .dataframe tbody tr th {\n",
       "        vertical-align: top;\n",
       "    }\n",
       "\n",
       "    .dataframe thead th {\n",
       "        text-align: right;\n",
       "    }\n",
       "</style>\n",
       "<table border=\"1\" class=\"dataframe\">\n",
       "  <thead>\n",
       "    <tr style=\"text-align: right;\">\n",
       "      <th></th>\n",
       "      <th>debt</th>\n",
       "    </tr>\n",
       "    <tr>\n",
       "      <th>children</th>\n",
       "      <th></th>\n",
       "    </tr>\n",
       "  </thead>\n",
       "  <tbody>\n",
       "    <tr>\n",
       "      <td>5</td>\n",
       "      <td>0.00</td>\n",
       "    </tr>\n",
       "    <tr>\n",
       "      <td>0</td>\n",
       "      <td>7.54</td>\n",
       "    </tr>\n",
       "    <tr>\n",
       "      <td>3</td>\n",
       "      <td>8.21</td>\n",
       "    </tr>\n",
       "    <tr>\n",
       "      <td>1</td>\n",
       "      <td>9.24</td>\n",
       "    </tr>\n",
       "    <tr>\n",
       "      <td>2</td>\n",
       "      <td>9.41</td>\n",
       "    </tr>\n",
       "    <tr>\n",
       "      <td>4</td>\n",
       "      <td>9.76</td>\n",
       "    </tr>\n",
       "  </tbody>\n",
       "</table>\n",
       "</div>"
      ],
      "text/plain": [
       "          debt\n",
       "children      \n",
       "5         0.00\n",
       "0         7.54\n",
       "3         8.21\n",
       "1         9.24\n",
       "2         9.41\n",
       "4         9.76"
      ]
     },
     "execution_count": 43,
     "metadata": {},
     "output_type": "execute_result"
    }
   ],
   "source": [
    "pd.pivot_table(data, values='debt', index='children', columns=None, aggfunc=count_percent, dropna=True).sort_values(by='debt')"
   ]
  },
  {
   "cell_type": "markdown",
   "metadata": {},
   "source": [
    "Выходит, что люди, не имеющие детей или имеющие 5 детей, с большей вероятностью отдадут кредит. С меньшей вероятностью отдадут кредит люди, имеющие 4 и 2 детей. Предположение: людям без детей не приходится тратить деньги на их содержание, а значит, они более свободны в финансовом плане. Люди с 5 детьми либо вообще редко встречаются и нет достаточно объемной выборки по их задолжностям, либо они получают достаточную сумму субсидий для покрытия долгов."
   ]
  },
  {
   "cell_type": "markdown",
   "metadata": {},
   "source": [
    "### Зависимость между семейным положением и возвратом кредита в срок"
   ]
  },
  {
   "cell_type": "code",
   "execution_count": 44,
   "metadata": {},
   "outputs": [
    {
     "data": {
      "text/html": [
       "<div>\n",
       "<style scoped>\n",
       "    .dataframe tbody tr th:only-of-type {\n",
       "        vertical-align: middle;\n",
       "    }\n",
       "\n",
       "    .dataframe tbody tr th {\n",
       "        vertical-align: top;\n",
       "    }\n",
       "\n",
       "    .dataframe thead th {\n",
       "        text-align: right;\n",
       "    }\n",
       "</style>\n",
       "<table border=\"1\" class=\"dataframe\">\n",
       "  <thead>\n",
       "    <tr style=\"text-align: right;\">\n",
       "      <th></th>\n",
       "      <th>debt</th>\n",
       "    </tr>\n",
       "    <tr>\n",
       "      <th>family_status</th>\n",
       "      <th></th>\n",
       "    </tr>\n",
       "  </thead>\n",
       "  <tbody>\n",
       "    <tr>\n",
       "      <td>вдовец / вдова</td>\n",
       "      <td>6.59</td>\n",
       "    </tr>\n",
       "    <tr>\n",
       "      <td>в разводе</td>\n",
       "      <td>7.14</td>\n",
       "    </tr>\n",
       "    <tr>\n",
       "      <td>женат / замужем</td>\n",
       "      <td>7.54</td>\n",
       "    </tr>\n",
       "    <tr>\n",
       "      <td>гражданский брак</td>\n",
       "      <td>9.34</td>\n",
       "    </tr>\n",
       "    <tr>\n",
       "      <td>Не женат / не замужем</td>\n",
       "      <td>9.76</td>\n",
       "    </tr>\n",
       "  </tbody>\n",
       "</table>\n",
       "</div>"
      ],
      "text/plain": [
       "                       debt\n",
       "family_status              \n",
       "вдовец / вдова         6.59\n",
       "в разводе              7.14\n",
       "женат / замужем        7.54\n",
       "гражданский брак       9.34\n",
       "Не женат / не замужем  9.76"
      ]
     },
     "execution_count": 44,
     "metadata": {},
     "output_type": "execute_result"
    }
   ],
   "source": [
    "pd.pivot_table(data, values='debt', index='family_status', columns=None, aggfunc=count_percent, \n",
    "                                                                           dropna=True).sort_values(by='debt')"
   ]
  },
  {
   "cell_type": "markdown",
   "metadata": {},
   "source": [
    "Люди, которые никогда не были в браке, либо находятся в гражданском браке, реже возвращают кредиты, чем вдовцы и люди, прошедшие развод. Предположение: люди, не вступавшие в брак, имеют финансовые возможности чуть ниже, чем семейные, поскольку бюджет семейных складывается из двух доходов."
   ]
  },
  {
   "cell_type": "markdown",
   "metadata": {},
   "source": [
    "### Зависимость между уровнем дохода и возвратом кредита в срок"
   ]
  },
  {
   "cell_type": "code",
   "execution_count": 45,
   "metadata": {},
   "outputs": [
    {
     "data": {
      "image/png": "[encoded data removed]",
      "text/plain": [
       "<Figure size 432x288 with 1 Axes>"
      ]
     },
     "metadata": {
      "needs_background": "light"
     },
     "output_type": "display_data"
    }
   ],
   "source": [
    "ax_exp = sns.distplot(data['total_income'], bins=10)\n",
    "ax_exp.set_xlabel('Доход')\n",
    "ax_exp.set_ylabel('Плотность распределения')\n",
    "ax_exp.set_title('Распределение дохода заемщиков')\n",
    "plt.show()"
   ]
  },
  {
   "cell_type": "markdown",
   "metadata": {},
   "source": [
    "Чтобы наглядно посмотреть, зависит ли возврат кредита от дохода, разобъем доход на несколько категорий, по которым высчитаем процент возвратов. Разделим его на три уровня — ниже среднего, средний, выше среднего (на основании выборки). Приведем его к нормальному распределению, чтобы 68% приходлось на средний доход. Опытным путем получается разброс средней з/п от 95 до 250 тыс."
   ]
  },
  {
   "cell_type": "code",
   "execution_count": 46,
   "metadata": {},
   "outputs": [
    {
     "data": {
      "text/plain": [
       "0.6873044777513191"
      ]
     },
     "execution_count": 46,
     "metadata": {},
     "output_type": "execute_result"
    }
   ],
   "source": [
    "# диапазон зарплат от 95 до 250 тыс. занимет 68% от всей выборки\n",
    "data[(data['total_income'] >= 95000) & (data['total_income'] <= 250000)]['total_income'].count() / len(data)"
   ]
  },
  {
   "cell_type": "code",
   "execution_count": 47,
   "metadata": {},
   "outputs": [],
   "source": [
    "income_category = pd.cut(data['total_income'], [0, 95000, 250000, max(data['total_income'])], \n",
    "                                                labels=['ниже среднего','средний','выше среднего'])\n",
    "#создаем разделение для вывода по категориям"
   ]
  },
  {
   "cell_type": "code",
   "execution_count": 48,
   "metadata": {},
   "outputs": [
    {
     "data": {
      "text/html": [
       "<div>\n",
       "<style scoped>\n",
       "    .dataframe tbody tr th:only-of-type {\n",
       "        vertical-align: middle;\n",
       "    }\n",
       "\n",
       "    .dataframe tbody tr th {\n",
       "        vertical-align: top;\n",
       "    }\n",
       "\n",
       "    .dataframe thead th {\n",
       "        text-align: right;\n",
       "    }\n",
       "</style>\n",
       "<table border=\"1\" class=\"dataframe\">\n",
       "  <thead>\n",
       "    <tr style=\"text-align: right;\">\n",
       "      <th></th>\n",
       "      <th>debt</th>\n",
       "    </tr>\n",
       "    <tr>\n",
       "      <th>total_income</th>\n",
       "      <th></th>\n",
       "    </tr>\n",
       "  </thead>\n",
       "  <tbody>\n",
       "    <tr>\n",
       "      <td>выше среднего</td>\n",
       "      <td>6.90</td>\n",
       "    </tr>\n",
       "    <tr>\n",
       "      <td>ниже среднего</td>\n",
       "      <td>8.03</td>\n",
       "    </tr>\n",
       "    <tr>\n",
       "      <td>средний</td>\n",
       "      <td>8.37</td>\n",
       "    </tr>\n",
       "  </tbody>\n",
       "</table>\n",
       "</div>"
      ],
      "text/plain": [
       "               debt\n",
       "total_income       \n",
       "выше среднего  6.90\n",
       "ниже среднего  8.03\n",
       "средний        8.37"
      ]
     },
     "execution_count": 48,
     "metadata": {},
     "output_type": "execute_result"
    }
   ],
   "source": [
    "pd.pivot_table(data, values='debt', index=income_category, columns=None, aggfunc=count_percent,\n",
    "                                                                           dropna=True).sort_values(by='debt')"
   ]
  },
  {
   "cell_type": "markdown",
   "metadata": {},
   "source": [
    "Получается, что процент не отдавших кредит выше среди людей со средним доходом. Люди с высоким доходом отдают кредит чаще других. Предположение: люди со средним доходом берут большие кредиты, чем люди с низким, и иногда могут не рассчитывать свои возможности выплаты."
   ]
  },
  {
   "cell_type": "markdown",
   "metadata": {},
   "source": [
    "### Зависимость возврата кредита от цели"
   ]
  },
  {
   "cell_type": "markdown",
   "metadata": {},
   "source": [
    "Высчитываем процент людей, принадлежащих к определенной категории и не выплативших кредит"
   ]
  },
  {
   "cell_type": "code",
   "execution_count": 49,
   "metadata": {},
   "outputs": [
    {
     "data": {
      "text/html": [
       "<div>\n",
       "<style scoped>\n",
       "    .dataframe tbody tr th:only-of-type {\n",
       "        vertical-align: middle;\n",
       "    }\n",
       "\n",
       "    .dataframe tbody tr th {\n",
       "        vertical-align: top;\n",
       "    }\n",
       "\n",
       "    .dataframe thead th {\n",
       "        text-align: right;\n",
       "    }\n",
       "</style>\n",
       "<table border=\"1\" class=\"dataframe\">\n",
       "  <thead>\n",
       "    <tr style=\"text-align: right;\">\n",
       "      <th></th>\n",
       "      <th>debt</th>\n",
       "    </tr>\n",
       "    <tr>\n",
       "      <th>purpose</th>\n",
       "      <th></th>\n",
       "    </tr>\n",
       "  </thead>\n",
       "  <tbody>\n",
       "    <tr>\n",
       "      <td>недвижимость</td>\n",
       "      <td>7.24</td>\n",
       "    </tr>\n",
       "    <tr>\n",
       "      <td>свадьба</td>\n",
       "      <td>7.98</td>\n",
       "    </tr>\n",
       "    <tr>\n",
       "      <td>образование</td>\n",
       "      <td>9.24</td>\n",
       "    </tr>\n",
       "    <tr>\n",
       "      <td>автомобиль</td>\n",
       "      <td>9.33</td>\n",
       "    </tr>\n",
       "  </tbody>\n",
       "</table>\n",
       "</div>"
      ],
      "text/plain": [
       "              debt\n",
       "purpose           \n",
       "недвижимость  7.24\n",
       "свадьба       7.98\n",
       "образование   9.24\n",
       "автомобиль    9.33"
      ]
     },
     "execution_count": 49,
     "metadata": {},
     "output_type": "execute_result"
    }
   ],
   "source": [
    "pd.pivot_table(data, values='debt', index='purpose', columns=None, aggfunc=count_percent, dropna=True).sort_values(by='debt')"
   ]
  },
  {
   "cell_type": "markdown",
   "metadata": {},
   "source": [
    "В итоге люди, берущие кредит на покупку недвижимости, отдают его чаще других. Те, кто приобретает автомобиль на кредитные деньги, отдают его реже других. Предположение: 1. Покупка недвижимости - осознанный шаг, и его делают люди серьезно настроенные; еще она может приносить доп. доход от аренды. 2. Подарки на свадьбах могут покрывать кредит полностью. 3. Люди, берущие кредит на образование, могут брать его в надежде на повышение дохода, чего иногда не происходит. 4. Автомобиль - вещь затратная и может отбирать значительную часть средств."
   ]
  },
  {
   "cell_type": "markdown",
   "metadata": {},
   "source": [
    "Попробуем соединить полученные данные и найти профиль идеального заемщика и его противоположности — нежелательного заемщика."
   ]
  },
  {
   "cell_type": "code",
   "execution_count": 50,
   "metadata": {},
   "outputs": [
    {
     "name": "stdout",
     "output_type": "stream",
     "text": [
      "Бездетные вдовцы с высоким доходом, берущие кредит на недвижимость, не возвращают долг в 2.38% случаях\n"
     ]
    }
   ],
   "source": [
    "perfect = data[(data['family_status_id'] == 2) & (data['children'] == 0) & (data['purpose'] == 'недвижимость') & (data['total_income'] >= 250000)]['debt']\n",
    "print('Бездетные вдовцы с высоким доходом, берущие кредит на недвижимость, не возвращают долг в {:.2%} случаях'.format(perfect.mean()))"
   ]
  },
  {
   "cell_type": "code",
   "execution_count": 51,
   "metadata": {},
   "outputs": [
    {
     "name": "stdout",
     "output_type": "stream",
     "text": [
      "Не состоящие в браке люди с 2 детьми, средним доходом, берущие кредит на автомобиль, не возвращают долг в 25.00% случаях\n"
     ]
    }
   ],
   "source": [
    "worst_case = data[(data['family_status_id'] == 4) & (data['children'] == 2) & (data['purpose'] == 'автомобиль') & (data['total_income'] <= 950000)]['debt']\n",
    "print('Не состоящие в браке люди с 2 детьми, средним доходом, берущие кредит на автомобиль, не возвращают долг в {:.2%} случаях'.format(worst_case.mean()))"
   ]
  },
  {
   "cell_type": "markdown",
   "metadata": {},
   "source": [
    "## Общий вывод — профиль заемщика"
   ]
  },
  {
   "cell_type": "markdown",
   "metadata": {},
   "source": [
    "Была проведена предварительная обработка данных для кредитного скоринга. Набор данных состоял из информции о заемщиках, их доходе, стаже, семейном положении и пр., а также отметки о том, выплатили они кредит или нет. В наборе были обнаружены пропущенные значения, которые были частично удалены, частично восстановлены. Удалялись записи, в которых либо отстутствовало более 2 значений, либо они были аномальными. Большее количество пропусков (более 10%) было обнаружено в столбцах с доходом и стажем, которые, предположительно, являются случайными (где пропущен стаж, там пропущен доход, но других закономернстей этих пропусков не обнаружено). Их восстановили с помощью средних и медианных значений по социальной группе (с учетом образования, пола, возраста/типа занятости).\n",
    "\n",
    "На основании полученных данных были выделены некоторые закономерности — на выплату кредита определенное влияние имело наличие детей, семейное положение, цель кредита, а также доход заемщика. Исходя из этих наблюдений был составлен профиль идеального и не самого лучшего заемщика. Проведенный анализ показал, что идеальный кандидат на получение кредита является вдовцом, не имеет детей, берет кредит на недвижимость и имеет доход выше среднего. Наименее удачный вариант — человек не состоящий в браке, имеющий 2-4 ребенка, чьей целью является покупка автомобиля. Причем разница между такими заемщиками кардинальная — 22%.\n",
    "\n",
    "\n",
    "**Рекомендации**\n",
    "\n",
    "Можно заключить, что сотрудникам банка стоит обращать внимание на доход и семейное положение (у людей в браке доходы могут суммироваться), а также кол-во детей (большее число детей требует больших трат). Но наибольшее значение имеет совокупность этих факторов."
   ]
  }
 ],
 "metadata": {
  "kernelspec": {
   "display_name": "Python 3",
   "language": "python",
   "name": "python3"
  },
  "language_info": {
   "codemirror_mode": {
    "name": "ipython",
    "version": 3
   },
   "file_extension": ".py",
   "mimetype": "text/x-python",
   "name": "python",
   "nbconvert_exporter": "python",
   "pygments_lexer": "ipython3",
   "version": "3.7.8"
  },
  "toc": {
   "base_numbering": 1,
   "nav_menu": {},
   "number_sections": true,
   "sideBar": true,
   "skip_h1_title": true,
   "title_cell": "Table of Contents",
   "title_sidebar": "Contents",
   "toc_cell": true,
   "toc_position": {},
   "toc_section_display": true,
   "toc_window_display": false
  }
 },
 "nbformat": 4,
 "nbformat_minor": 2
}
