{
 "cells": [
  {
   "cell_type": "markdown",
   "metadata": {},
   "source": [
    "# Отток клиентов"
   ]
  },
  {
   "cell_type": "markdown",
   "metadata": {
    "toc": true
   },
   "source": [
    "<h1>Table of Contents<span class=\"tocSkip\"></span></h1>\n",
    "<div class=\"toc\"><ul class=\"toc-item\"><li><span><a href=\"#Описание-проекта\" data-toc-modified-id=\"Описание-проекта-1\"><span class=\"toc-item-num\">1&nbsp;&nbsp;</span>Описание проекта</a></span></li><li><span><a href=\"#Подготовка-данных\" data-toc-modified-id=\"Подготовка-данных-2\"><span class=\"toc-item-num\">2&nbsp;&nbsp;</span>Подготовка данных</a></span></li><li><span><a href=\"#Исследование-задачи\" data-toc-modified-id=\"Исследование-задачи-3\"><span class=\"toc-item-num\">3&nbsp;&nbsp;</span>Исследование задачи</a></span></li><li><span><a href=\"#Борьба-с-дисбалансом\" data-toc-modified-id=\"Борьба-с-дисбалансом-4\"><span class=\"toc-item-num\">4&nbsp;&nbsp;</span>Борьба с дисбалансом</a></span><ul class=\"toc-item\"><li><span><a href=\"#upsampling\" data-toc-modified-id=\"upsampling-4.1\"><span class=\"toc-item-num\">4.1&nbsp;&nbsp;</span>upsampling</a></span></li><li><span><a href=\"#downsampling\" data-toc-modified-id=\"downsampling-4.2\"><span class=\"toc-item-num\">4.2&nbsp;&nbsp;</span>downsampling</a></span></li><li><span><a href=\"#balanced\" data-toc-modified-id=\"balanced-4.3\"><span class=\"toc-item-num\">4.3&nbsp;&nbsp;</span>balanced</a></span></li></ul></li><li><span><a href=\"#Тестирование-модели\" data-toc-modified-id=\"Тестирование-модели-5\"><span class=\"toc-item-num\">5&nbsp;&nbsp;</span>Тестирование модели</a></span></li></ul></div>"
   ]
  },
  {
   "cell_type": "markdown",
   "metadata": {},
   "source": [
    "## Описание проекта"
   ]
  },
  {
   "cell_type": "markdown",
   "metadata": {},
   "source": [
    "Из банка каждый месяц стали уходить клиенты. Банковские маркетологи посчитали: сохранять текущих клиентов дешевле, чем привлекать новых.\n",
    "\n",
    "Цель проекта — спрогнозировать, уйдёт клиент из банка в ближайшее время или нет. Нам предоставлены исторические данные о поведении клиентов и расторжении договоров с банком. \n",
    "\n",
    "В ходе проекта мы должны построить модель с предельно большим значением *F1*-меры — не менее 0.59 на тестовой выборке.\n",
    "\n",
    "Дополнительно будем измерять *AUC-ROC*, сравнивая её значение с *F1*-мерой."
   ]
  },
  {
   "cell_type": "code",
   "execution_count": 1,
   "metadata": {},
   "outputs": [],
   "source": [
    "# импортируем библиотеки\n",
    "import pandas as pd\n",
    "import numpy as np\n",
    "import math\n",
    "from sklearn.model_selection import train_test_split\n",
    "from sklearn.tree import DecisionTreeClassifier\n",
    "from sklearn.ensemble import RandomForestClassifier\n",
    "from sklearn.linear_model import LogisticRegression\n",
    "from sklearn.dummy import DummyClassifier\n",
    "from sklearn.preprocessing import StandardScaler\n",
    "from sklearn.metrics import f1_score\n",
    "from sklearn.metrics import roc_auc_score\n",
    "from sklearn.utils import shuffle\n",
    "\n",
    "import matplotlib.pyplot as plt"
   ]
  },
  {
   "cell_type": "markdown",
   "metadata": {},
   "source": [
    "## Подготовка данных"
   ]
  },
  {
   "cell_type": "markdown",
   "metadata": {},
   "source": [
    "Начнем с того, что загрузим данные и подготовим их к обучению модели."
   ]
  },
  {
   "cell_type": "code",
   "execution_count": 2,
   "metadata": {},
   "outputs": [
    {
     "name": "stdout",
     "output_type": "stream",
     "text": [
      "<class 'pandas.core.frame.DataFrame'>\n",
      "RangeIndex: 10000 entries, 0 to 9999\n",
      "Data columns (total 14 columns):\n",
      "RowNumber          10000 non-null int64\n",
      "CustomerId         10000 non-null int64\n",
      "Surname            10000 non-null object\n",
      "CreditScore        10000 non-null int64\n",
      "Geography          10000 non-null object\n",
      "Gender             10000 non-null object\n",
      "Age                10000 non-null int64\n",
      "Tenure             9091 non-null float64\n",
      "Balance            10000 non-null float64\n",
      "NumOfProducts      10000 non-null int64\n",
      "HasCrCard          10000 non-null int64\n",
      "IsActiveMember     10000 non-null int64\n",
      "EstimatedSalary    10000 non-null float64\n",
      "Exited             10000 non-null int64\n",
      "dtypes: float64(3), int64(8), object(3)\n",
      "memory usage: 1.1+ MB\n"
     ]
    }
   ],
   "source": [
    "try:\n",
    "    df = pd.read_csv('Churn.csv')\n",
    "except:\n",
    "    df = pd.read_csv('/datasets/Churn.csv')\n",
    "df.info()"
   ]
  },
  {
   "cell_type": "code",
   "execution_count": 3,
   "metadata": {},
   "outputs": [
    {
     "data": {
      "text/html": [
       "<div>\n",
       "<style scoped>\n",
       "    .dataframe tbody tr th:only-of-type {\n",
       "        vertical-align: middle;\n",
       "    }\n",
       "\n",
       "    .dataframe tbody tr th {\n",
       "        vertical-align: top;\n",
       "    }\n",
       "\n",
       "    .dataframe thead th {\n",
       "        text-align: right;\n",
       "    }\n",
       "</style>\n",
       "<table border=\"1\" class=\"dataframe\">\n",
       "  <thead>\n",
       "    <tr style=\"text-align: right;\">\n",
       "      <th></th>\n",
       "      <th>RowNumber</th>\n",
       "      <th>CustomerId</th>\n",
       "      <th>Surname</th>\n",
       "      <th>CreditScore</th>\n",
       "      <th>Geography</th>\n",
       "      <th>Gender</th>\n",
       "      <th>Age</th>\n",
       "      <th>Tenure</th>\n",
       "      <th>Balance</th>\n",
       "      <th>NumOfProducts</th>\n",
       "      <th>HasCrCard</th>\n",
       "      <th>IsActiveMember</th>\n",
       "      <th>EstimatedSalary</th>\n",
       "      <th>Exited</th>\n",
       "    </tr>\n",
       "  </thead>\n",
       "  <tbody>\n",
       "    <tr>\n",
       "      <td>0</td>\n",
       "      <td>1</td>\n",
       "      <td>15634602</td>\n",
       "      <td>Hargrave</td>\n",
       "      <td>619</td>\n",
       "      <td>France</td>\n",
       "      <td>Female</td>\n",
       "      <td>42</td>\n",
       "      <td>2.0</td>\n",
       "      <td>0.00</td>\n",
       "      <td>1</td>\n",
       "      <td>1</td>\n",
       "      <td>1</td>\n",
       "      <td>101348.88</td>\n",
       "      <td>1</td>\n",
       "    </tr>\n",
       "    <tr>\n",
       "      <td>1</td>\n",
       "      <td>2</td>\n",
       "      <td>15647311</td>\n",
       "      <td>Hill</td>\n",
       "      <td>608</td>\n",
       "      <td>Spain</td>\n",
       "      <td>Female</td>\n",
       "      <td>41</td>\n",
       "      <td>1.0</td>\n",
       "      <td>83807.86</td>\n",
       "      <td>1</td>\n",
       "      <td>0</td>\n",
       "      <td>1</td>\n",
       "      <td>112542.58</td>\n",
       "      <td>0</td>\n",
       "    </tr>\n",
       "    <tr>\n",
       "      <td>2</td>\n",
       "      <td>3</td>\n",
       "      <td>15619304</td>\n",
       "      <td>Onio</td>\n",
       "      <td>502</td>\n",
       "      <td>France</td>\n",
       "      <td>Female</td>\n",
       "      <td>42</td>\n",
       "      <td>8.0</td>\n",
       "      <td>159660.80</td>\n",
       "      <td>3</td>\n",
       "      <td>1</td>\n",
       "      <td>0</td>\n",
       "      <td>113931.57</td>\n",
       "      <td>1</td>\n",
       "    </tr>\n",
       "    <tr>\n",
       "      <td>3</td>\n",
       "      <td>4</td>\n",
       "      <td>15701354</td>\n",
       "      <td>Boni</td>\n",
       "      <td>699</td>\n",
       "      <td>France</td>\n",
       "      <td>Female</td>\n",
       "      <td>39</td>\n",
       "      <td>1.0</td>\n",
       "      <td>0.00</td>\n",
       "      <td>2</td>\n",
       "      <td>0</td>\n",
       "      <td>0</td>\n",
       "      <td>93826.63</td>\n",
       "      <td>0</td>\n",
       "    </tr>\n",
       "    <tr>\n",
       "      <td>4</td>\n",
       "      <td>5</td>\n",
       "      <td>15737888</td>\n",
       "      <td>Mitchell</td>\n",
       "      <td>850</td>\n",
       "      <td>Spain</td>\n",
       "      <td>Female</td>\n",
       "      <td>43</td>\n",
       "      <td>2.0</td>\n",
       "      <td>125510.82</td>\n",
       "      <td>1</td>\n",
       "      <td>1</td>\n",
       "      <td>1</td>\n",
       "      <td>79084.10</td>\n",
       "      <td>0</td>\n",
       "    </tr>\n",
       "  </tbody>\n",
       "</table>\n",
       "</div>"
      ],
      "text/plain": [
       "   RowNumber  CustomerId   Surname  CreditScore Geography  Gender  Age  \\\n",
       "0          1    15634602  Hargrave          619    France  Female   42   \n",
       "1          2    15647311      Hill          608     Spain  Female   41   \n",
       "2          3    15619304      Onio          502    France  Female   42   \n",
       "3          4    15701354      Boni          699    France  Female   39   \n",
       "4          5    15737888  Mitchell          850     Spain  Female   43   \n",
       "\n",
       "   Tenure    Balance  NumOfProducts  HasCrCard  IsActiveMember  \\\n",
       "0     2.0       0.00              1          1               1   \n",
       "1     1.0   83807.86              1          0               1   \n",
       "2     8.0  159660.80              3          1               0   \n",
       "3     1.0       0.00              2          0               0   \n",
       "4     2.0  125510.82              1          1               1   \n",
       "\n",
       "   EstimatedSalary  Exited  \n",
       "0        101348.88       1  \n",
       "1        112542.58       0  \n",
       "2        113931.57       1  \n",
       "3         93826.63       0  \n",
       "4         79084.10       0  "
      ]
     },
     "execution_count": 3,
     "metadata": {},
     "output_type": "execute_result"
    }
   ],
   "source": [
    "df.head()"
   ]
  },
  {
   "cell_type": "code",
   "execution_count": 4,
   "metadata": {},
   "outputs": [
    {
     "data": {
      "text/plain": [
       "1.0     952\n",
       "2.0     950\n",
       "8.0     933\n",
       "3.0     928\n",
       "5.0     927\n",
       "7.0     925\n",
       "4.0     885\n",
       "9.0     882\n",
       "6.0     881\n",
       "10.0    446\n",
       "0.0     382\n",
       "Name: Tenure, dtype: int64"
      ]
     },
     "execution_count": 4,
     "metadata": {},
     "output_type": "execute_result"
    }
   ],
   "source": [
    "df['Tenure'].value_counts()"
   ]
  },
  {
   "cell_type": "code",
   "execution_count": 5,
   "metadata": {},
   "outputs": [
    {
     "data": {
      "text/plain": [
       "909"
      ]
     },
     "execution_count": 5,
     "metadata": {},
     "output_type": "execute_result"
    }
   ],
   "source": [
    "len(df[df['Tenure'].isna()]['Tenure'])"
   ]
  },
  {
   "cell_type": "markdown",
   "metadata": {},
   "source": [
    "Как видим, пропуски присутствуют только в столбце Tenure. Причем их количество примерно равно числу значений в каждой из категорий. Если бы мы могли обратиться к сотрудникам банка, мы бы уточнили природу этих пропусков, но, так как такой возможности нет, попробуем предположить следующее:\n",
    "\n",
    "Учитывая, что тех клиентов, у которых в данном столбце стоит значение 0, всего 382 (что в 3 раза меньше остальных, хотя наверняка отсутствие недвижимости не такая редкая ситуация), значения NaN могут относиться именно к этой категории. Попробуем заменить пропущенные значения на 0, а тип столбца привести к int."
   ]
  },
  {
   "cell_type": "code",
   "execution_count": 6,
   "metadata": {},
   "outputs": [],
   "source": [
    "df['Tenure'] = df['Tenure'].fillna(0).astype('int')"
   ]
  },
  {
   "cell_type": "markdown",
   "metadata": {},
   "source": [
    "Далее, заменим категориальные столбцы Gender и Geography на дамми-признаки. При этом уберем первый столбец из получившихся, чтобы не попасть в дамми-ловушку."
   ]
  },
  {
   "cell_type": "code",
   "execution_count": 7,
   "metadata": {},
   "outputs": [],
   "source": [
    "df['isMale'] = pd.get_dummies(df['Gender'], drop_first=True)"
   ]
  },
  {
   "cell_type": "code",
   "execution_count": 8,
   "metadata": {},
   "outputs": [],
   "source": [
    "df[['Germany', 'Spain']] = pd.get_dummies(df['Geography'], drop_first=True)"
   ]
  },
  {
   "cell_type": "markdown",
   "metadata": {},
   "source": [
    "Теперь можно убрать ненужные нам столбцы, которые не несут ценной информации, либо были заменены."
   ]
  },
  {
   "cell_type": "code",
   "execution_count": 9,
   "metadata": {},
   "outputs": [],
   "source": [
    "df = df.drop(['RowNumber', 'Surname', 'CustomerId', 'Gender', 'Geography'], axis=1)"
   ]
  },
  {
   "cell_type": "code",
   "execution_count": 10,
   "metadata": {},
   "outputs": [
    {
     "data": {
      "text/html": [
       "<div>\n",
       "<style scoped>\n",
       "    .dataframe tbody tr th:only-of-type {\n",
       "        vertical-align: middle;\n",
       "    }\n",
       "\n",
       "    .dataframe tbody tr th {\n",
       "        vertical-align: top;\n",
       "    }\n",
       "\n",
       "    .dataframe thead th {\n",
       "        text-align: right;\n",
       "    }\n",
       "</style>\n",
       "<table border=\"1\" class=\"dataframe\">\n",
       "  <thead>\n",
       "    <tr style=\"text-align: right;\">\n",
       "      <th></th>\n",
       "      <th>CreditScore</th>\n",
       "      <th>Age</th>\n",
       "      <th>Tenure</th>\n",
       "      <th>Balance</th>\n",
       "      <th>NumOfProducts</th>\n",
       "      <th>HasCrCard</th>\n",
       "      <th>IsActiveMember</th>\n",
       "      <th>EstimatedSalary</th>\n",
       "      <th>Exited</th>\n",
       "      <th>isMale</th>\n",
       "      <th>Germany</th>\n",
       "      <th>Spain</th>\n",
       "    </tr>\n",
       "  </thead>\n",
       "  <tbody>\n",
       "    <tr>\n",
       "      <td>0</td>\n",
       "      <td>619</td>\n",
       "      <td>42</td>\n",
       "      <td>2</td>\n",
       "      <td>0.00</td>\n",
       "      <td>1</td>\n",
       "      <td>1</td>\n",
       "      <td>1</td>\n",
       "      <td>101348.88</td>\n",
       "      <td>1</td>\n",
       "      <td>0</td>\n",
       "      <td>0</td>\n",
       "      <td>0</td>\n",
       "    </tr>\n",
       "    <tr>\n",
       "      <td>1</td>\n",
       "      <td>608</td>\n",
       "      <td>41</td>\n",
       "      <td>1</td>\n",
       "      <td>83807.86</td>\n",
       "      <td>1</td>\n",
       "      <td>0</td>\n",
       "      <td>1</td>\n",
       "      <td>112542.58</td>\n",
       "      <td>0</td>\n",
       "      <td>0</td>\n",
       "      <td>0</td>\n",
       "      <td>1</td>\n",
       "    </tr>\n",
       "    <tr>\n",
       "      <td>2</td>\n",
       "      <td>502</td>\n",
       "      <td>42</td>\n",
       "      <td>8</td>\n",
       "      <td>159660.80</td>\n",
       "      <td>3</td>\n",
       "      <td>1</td>\n",
       "      <td>0</td>\n",
       "      <td>113931.57</td>\n",
       "      <td>1</td>\n",
       "      <td>0</td>\n",
       "      <td>0</td>\n",
       "      <td>0</td>\n",
       "    </tr>\n",
       "    <tr>\n",
       "      <td>3</td>\n",
       "      <td>699</td>\n",
       "      <td>39</td>\n",
       "      <td>1</td>\n",
       "      <td>0.00</td>\n",
       "      <td>2</td>\n",
       "      <td>0</td>\n",
       "      <td>0</td>\n",
       "      <td>93826.63</td>\n",
       "      <td>0</td>\n",
       "      <td>0</td>\n",
       "      <td>0</td>\n",
       "      <td>0</td>\n",
       "    </tr>\n",
       "    <tr>\n",
       "      <td>4</td>\n",
       "      <td>850</td>\n",
       "      <td>43</td>\n",
       "      <td>2</td>\n",
       "      <td>125510.82</td>\n",
       "      <td>1</td>\n",
       "      <td>1</td>\n",
       "      <td>1</td>\n",
       "      <td>79084.10</td>\n",
       "      <td>0</td>\n",
       "      <td>0</td>\n",
       "      <td>0</td>\n",
       "      <td>1</td>\n",
       "    </tr>\n",
       "  </tbody>\n",
       "</table>\n",
       "</div>"
      ],
      "text/plain": [
       "   CreditScore  Age  Tenure    Balance  NumOfProducts  HasCrCard  \\\n",
       "0          619   42       2       0.00              1          1   \n",
       "1          608   41       1   83807.86              1          0   \n",
       "2          502   42       8  159660.80              3          1   \n",
       "3          699   39       1       0.00              2          0   \n",
       "4          850   43       2  125510.82              1          1   \n",
       "\n",
       "   IsActiveMember  EstimatedSalary  Exited  isMale  Germany  Spain  \n",
       "0               1        101348.88       1       0        0      0  \n",
       "1               1        112542.58       0       0        0      1  \n",
       "2               0        113931.57       1       0        0      0  \n",
       "3               0         93826.63       0       0        0      0  \n",
       "4               1         79084.10       0       0        0      1  "
      ]
     },
     "execution_count": 10,
     "metadata": {},
     "output_type": "execute_result"
    }
   ],
   "source": [
    "df.head()"
   ]
  },
  {
   "cell_type": "markdown",
   "metadata": {},
   "source": [
    "Разделим данные на целевой признак и фичи."
   ]
  },
  {
   "cell_type": "code",
   "execution_count": 11,
   "metadata": {},
   "outputs": [],
   "source": [
    "target = df['Exited']\n",
    "features = df.drop('Exited', axis=1)"
   ]
  },
  {
   "cell_type": "markdown",
   "metadata": {},
   "source": [
    "Итак, мы провели подготовку данных для обучения модели, которая включила в себя заполнение пропусков, преобразование категориальных признаков, разделение набора на целевой признак и фичи. Далее мы приступим к обучению и посмотрим, какая из известных нам моделей справляется с представленными данными лучше всего."
   ]
  },
  {
   "cell_type": "markdown",
   "metadata": {},
   "source": [
    "## Исследование задачи"
   ]
  },
  {
   "cell_type": "markdown",
   "metadata": {},
   "source": [
    "Так как в настоящем проекте мы имеем дело с задачей классификации, нам стоит проверить баланс предсказываемых классов, чтобы настроить модель и выборки соответствующим образом."
   ]
  },
  {
   "cell_type": "code",
   "execution_count": 12,
   "metadata": {},
   "outputs": [
    {
     "name": "stdout",
     "output_type": "stream",
     "text": [
      "Соотношение 0 к 1: 3.9091801669121256\n"
     ]
    },
    {
     "data": {
      "image/png": "[encoded data removed]",
      "text/plain": [
       "<Figure size 720x432 with 1 Axes>"
      ]
     },
     "metadata": {},
     "output_type": "display_data"
    }
   ],
   "source": [
    "pie, ax = plt.subplots(figsize=[10,6])\n",
    "labels = ['0', '1']\n",
    "plt.pie(x=df.groupby('Exited')['Exited'].count(), labels=labels, autopct=\"%.1f%%\")\n",
    "plt.title(\"Классы\", fontsize=14);\n",
    "print('Соотношение 0 к 1:', target.value_counts()[0] / target.value_counts()[1])"
   ]
  },
  {
   "cell_type": "markdown",
   "metadata": {},
   "source": [
    "Наша выборка имеет дисбаланс классов — нулей в целевом признаке в четыре раза больше, чем единиц. В дальнейшем нам потребуется учесть этот факт и использовать инструменты по борьбе с дисбалансом — это поможет повысить качество обучения, — но для начала попробуем посмотреть, как модели справляются с несбалансированной выборкой.\n",
    "\n",
    "Разделим полученные фичи на обучающую и валидационную выборку."
   ]
  },
  {
   "cell_type": "code",
   "execution_count": 13,
   "metadata": {},
   "outputs": [
    {
     "name": "stdout",
     "output_type": "stream",
     "text": [
      "Размеры обучающей выборки: (7500, 11)\n",
      "Размеры валидационной выборки: (2500, 11)\n"
     ]
    }
   ],
   "source": [
    "features_train, features_valid, target_train, target_valid = train_test_split(\n",
    "                                        features, target, test_size=0.25, random_state=12345)\n",
    "\n",
    "print('Размеры обучающей выборки:', features_train.shape)\n",
    "print('Размеры валидационной выборки:', features_valid.shape)"
   ]
  },
  {
   "cell_type": "markdown",
   "metadata": {},
   "source": [
    "Поскольку наши признаки имеют разный масштаб, необходимо произвести стандартизацию, чтобы привести их к одинаковому распределению."
   ]
  },
  {
   "cell_type": "code",
   "execution_count": 14,
   "metadata": {},
   "outputs": [],
   "source": [
    "scaler = StandardScaler()\n",
    "scaler.fit(features_train)\n",
    "features_train_scaled = scaler.transform(features_train)\n",
    "features_valid_scaled = scaler.transform(features_valid)"
   ]
  },
  {
   "cell_type": "markdown",
   "metadata": {},
   "source": [
    "Далее проверим работу трех алгоритмов на полученных выборках — логистической регресии, решающего дерева и случайного леса. Поскольку при дисбалансе метрика Accuracy не будет показательной, мы будем использовать метрику F1. Она позволит нам посмотреть, насколько хорошо модели определяют положительный класс. Одновременно с этим будем проверять метрику ROC AUC, чтобы проверить, насколько хорошо модель в целом определяет вероятности классов."
   ]
  },
  {
   "cell_type": "code",
   "execution_count": 15,
   "metadata": {},
   "outputs": [
    {
     "name": "stdout",
     "output_type": "stream",
     "text": [
      "Лучшая модель: LogisticRegression(C=1, class_weight=None, dual=False, fit_intercept=True,\n",
      "                   intercept_scaling=1, l1_ratio=None, max_iter=100,\n",
      "                   multi_class='warn', n_jobs=None, penalty='l1',\n",
      "                   random_state=12345, solver='liblinear', tol=0.0001,\n",
      "                   verbose=0, warm_start=False)\n",
      "Лучший F1: 0.2932960893854748\n",
      "Лучший ROC AUC: 0.7586159663266033\n"
     ]
    }
   ],
   "source": [
    "# логистическая регрессия\n",
    "best_logreg_f1 = 0\n",
    "best_logreg_rocauc = 0\n",
    "best_logreg = None\n",
    "for reg in [0.01, 0.1, 1]:\n",
    "    logreg = LogisticRegression(random_state=12345, solver='liblinear', penalty='l1', C=reg)\n",
    "    logreg.fit(features_train_scaled, target_train)\n",
    "    logreg_prediction = logreg.predict(features_valid_scaled)\n",
    "    logreg_predprob = logreg.predict_proba(features_valid_scaled)\n",
    "    logreg_f1 = f1_score(target_valid, logreg_prediction)\n",
    "    logreg_rocauc = roc_auc_score(target_valid, logreg_predprob[:, 1])\n",
    "    if logreg_f1 > best_logreg_f1:\n",
    "        best_logreg_f1 = logreg_f1\n",
    "        best_logreg = logreg # здесь хранится лучшая модель\n",
    "        best_logreg_rocauc = logreg_rocauc\n",
    "        \n",
    "print('Лучшая модель:', best_logreg)\n",
    "print('Лучший F1:', best_logreg_f1)\n",
    "print('Лучший ROC AUC:', best_logreg_rocauc)"
   ]
  },
  {
   "cell_type": "code",
   "execution_count": 16,
   "metadata": {},
   "outputs": [
    {
     "name": "stderr",
     "output_type": "stream",
     "text": [
      "/opt/conda/lib/python3.7/site-packages/sklearn/metrics/classification.py:1437: UndefinedMetricWarning: F-score is ill-defined and being set to 0.0 due to no predicted samples.\n",
      "  'precision', 'predicted', average, warn_for)\n"
     ]
    },
    {
     "name": "stdout",
     "output_type": "stream",
     "text": [
      "Лучшая модель: DecisionTreeClassifier(class_weight=None, criterion='gini', max_depth=5,\n",
      "                       max_features=None, max_leaf_nodes=None,\n",
      "                       min_impurity_decrease=0.0, min_impurity_split=None,\n",
      "                       min_samples_leaf=1, min_samples_split=2,\n",
      "                       min_weight_fraction_leaf=0.0, presort=False,\n",
      "                       random_state=12345, splitter='best')\n",
      "Лучший F1: 0.5704545454545454\n",
      "Лучший ROC AUC: 0.8424341870585718\n"
     ]
    }
   ],
   "source": [
    "# случайное дерево\n",
    "best_tree_f1 = 0\n",
    "best_tree_rocauc = 0\n",
    "best_tree = None\n",
    "for depth in range(1,16):\n",
    "    tree = DecisionTreeClassifier(random_state=12345, max_depth=depth)\n",
    "    tree.fit(features_train_scaled, target_train) # обучаем модель\n",
    "    tree_prediction = tree.predict(features_valid_scaled) # предсказываем значения валидационной выборки\n",
    "    tree_predprob = tree.predict_proba(features_valid_scaled)\n",
    "    tree_f1 = f1_score(target_valid, tree_prediction)\n",
    "    tree_rocauc = roc_auc_score(target_valid, tree_predprob[:, 1])\n",
    "    if tree_f1 > best_tree_f1:\n",
    "        best_tree_f1 = tree_f1\n",
    "        best_tree = tree # здесь хранится лучшая модель\n",
    "        best_tree_rocauc = tree_rocauc\n",
    "        \n",
    "print('Лучшая модель:', best_tree)\n",
    "print('Лучший F1:', best_tree_f1)\n",
    "print('Лучший ROC AUC:', best_tree_rocauc)"
   ]
  },
  {
   "cell_type": "code",
   "execution_count": 17,
   "metadata": {},
   "outputs": [
    {
     "name": "stderr",
     "output_type": "stream",
     "text": [
      "/opt/conda/lib/python3.7/site-packages/sklearn/metrics/classification.py:1437: UndefinedMetricWarning: F-score is ill-defined and being set to 0.0 due to no predicted samples.\n",
      "  'precision', 'predicted', average, warn_for)\n",
      "/opt/conda/lib/python3.7/site-packages/sklearn/metrics/classification.py:1437: UndefinedMetricWarning: F-score is ill-defined and being set to 0.0 due to no predicted samples.\n",
      "  'precision', 'predicted', average, warn_for)\n",
      "/opt/conda/lib/python3.7/site-packages/sklearn/metrics/classification.py:1437: UndefinedMetricWarning: F-score is ill-defined and being set to 0.0 due to no predicted samples.\n",
      "  'precision', 'predicted', average, warn_for)\n",
      "/opt/conda/lib/python3.7/site-packages/sklearn/metrics/classification.py:1437: UndefinedMetricWarning: F-score is ill-defined and being set to 0.0 due to no predicted samples.\n",
      "  'precision', 'predicted', average, warn_for)\n",
      "/opt/conda/lib/python3.7/site-packages/sklearn/metrics/classification.py:1437: UndefinedMetricWarning: F-score is ill-defined and being set to 0.0 due to no predicted samples.\n",
      "  'precision', 'predicted', average, warn_for)\n",
      "/opt/conda/lib/python3.7/site-packages/sklearn/metrics/classification.py:1437: UndefinedMetricWarning: F-score is ill-defined and being set to 0.0 due to no predicted samples.\n",
      "  'precision', 'predicted', average, warn_for)\n",
      "/opt/conda/lib/python3.7/site-packages/sklearn/metrics/classification.py:1437: UndefinedMetricWarning: F-score is ill-defined and being set to 0.0 due to no predicted samples.\n",
      "  'precision', 'predicted', average, warn_for)\n",
      "/opt/conda/lib/python3.7/site-packages/sklearn/metrics/classification.py:1437: UndefinedMetricWarning: F-score is ill-defined and being set to 0.0 due to no predicted samples.\n",
      "  'precision', 'predicted', average, warn_for)\n"
     ]
    },
    {
     "name": "stdout",
     "output_type": "stream",
     "text": [
      "Лучшая модель: RandomForestClassifier(bootstrap=True, class_weight=None, criterion='gini',\n",
      "                       max_depth=14, max_features='auto', max_leaf_nodes=None,\n",
      "                       min_impurity_decrease=0.0, min_impurity_split=None,\n",
      "                       min_samples_leaf=1, min_samples_split=2,\n",
      "                       min_weight_fraction_leaf=0.0, n_estimators=26,\n",
      "                       n_jobs=None, oob_score=False, random_state=12345,\n",
      "                       verbose=0, warm_start=False)\n",
      "Лучший F1: 0.5748502994011976\n",
      "Лучший ROC AUC: 0.8501158117523959\n"
     ]
    }
   ],
   "source": [
    "# решающий лес\n",
    "best_forest_f1 = 0\n",
    "best_forest_rocauc = 0\n",
    "best_forest = None\n",
    "for depth in range(1,16):\n",
    "    for n_est in range(1,50,5):\n",
    "        forest = RandomForestClassifier(random_state=12345, max_depth=depth, n_estimators=n_est)\n",
    "        forest.fit(features_train_scaled, target_train) # обучаем модель\n",
    "        forest_prediction = forest.predict(features_valid_scaled) # предсказываем значения валидационной выборки\n",
    "        forest_predprob = forest.predict_proba(features_valid_scaled)\n",
    "        forest_f1 = f1_score(target_valid, forest_prediction)\n",
    "        forest_rocauc = roc_auc_score(target_valid, forest_predprob[:, 1])\n",
    "        if forest_f1 > best_forest_f1:\n",
    "            best_forest_f1 = forest_f1\n",
    "            best_forest = forest # здесь хранится лучшая модель\n",
    "            best_forest_rocauc = forest_rocauc\n",
    "        \n",
    "print('Лучшая модель:', best_forest)\n",
    "print('Лучший F1:', best_forest_f1)\n",
    "print('Лучший ROC AUC:', best_forest_rocauc)"
   ]
  },
  {
   "cell_type": "markdown",
   "metadata": {},
   "source": [
    "Как видим, лучший результат по двум метрикам показал случайный лес, но и решающее дерево справилось не намного хуже. Самый маленький показатель был получен у логиcтичекой регресии, но при этом ROC AUC всё равно выше, чем у случайной модели (0,75 по сравнению с 0,5). \n",
    "\n",
    "Тем не менее, целевого показателя F1 в 0,59 мы не достигли. Низкий показатель F1 может быть связан с тем, что в обучающей выборке вообще не попалось положительного класса, и модель не смогла обучиться, либо попался, но в разных пропорциях с валидационной выборкой.\n",
    "\n",
    "Попробуем провести корректировку дисбаланса классов и проверить, как справятся модели на этот раз."
   ]
  },
  {
   "cell_type": "markdown",
   "metadata": {},
   "source": [
    "## Борьба с дисбалансом"
   ]
  },
  {
   "cell_type": "markdown",
   "metadata": {},
   "source": [
    "В этом шаге мы постараемся улучшить качество моделей, учитывая дисбаланс классов. Попробуем обучить те же модели, но применим три разных способа борьбы с дисбалансом — upsampling, downsampling и взвешивание.\n",
    "\n",
    "В этот раз будем делить данные на три выборки — обучающая, валидационная и тестовая. Их пропорции — 60/20/20. При разбиении также будем учитывать дисбаланс классов и установим параметр stratify, чтобы во всех выборках оказалось одинаковое распределение классов."
   ]
  },
  {
   "cell_type": "code",
   "execution_count": 18,
   "metadata": {},
   "outputs": [
    {
     "name": "stdout",
     "output_type": "stream",
     "text": [
      "Размеры обучающей выборки: (6000, 11)\n",
      "Размеры валидационной выборки: (2000, 11)\n",
      "Размеры тестовой выборки: (2000, 11)\n"
     ]
    }
   ],
   "source": [
    "features_train, features_valid_test, target_train, target_valid_test = train_test_split(\n",
    "    features, target, test_size=0.40, random_state=12345, stratify=target)\n",
    "features_test, features_valid, target_test, target_valid = train_test_split(\n",
    "    features_valid_test, target_valid_test, test_size=0.50, random_state=12345, stratify=target_valid_test)\n",
    "\n",
    "print('Размеры обучающей выборки:', features_train.shape)\n",
    "print('Размеры валидационной выборки:', features_valid.shape)\n",
    "print('Размеры тестовой выборки:', features_test.shape)"
   ]
  },
  {
   "cell_type": "markdown",
   "metadata": {},
   "source": [
    "### upsampling"
   ]
  },
  {
   "cell_type": "markdown",
   "metadata": {},
   "source": [
    "Начнем борьбу с дисбалансом с метода upsampling и в 4 раза увеличим количество представителей положительного класса в обучающей выборке."
   ]
  },
  {
   "cell_type": "code",
   "execution_count": 19,
   "metadata": {},
   "outputs": [],
   "source": [
    "def upsample(features, target, repeat):\n",
    "    features_zeros = features[target == 0]\n",
    "    features_ones = features[target == 1]\n",
    "    target_zeros = target[target == 0]\n",
    "    target_ones = target[target == 1]\n",
    "\n",
    "    features_upsampled = pd.concat([features_zeros] + [features_ones] * repeat)\n",
    "    target_upsampled = pd.concat([target_zeros] + [target_ones] * repeat)\n",
    "    \n",
    "    features_upsampled, target_upsampled = shuffle(\n",
    "        features_upsampled, target_upsampled, random_state=12345)\n",
    "    \n",
    "    return features_upsampled, target_upsampled\n",
    "\n",
    "features_upsampled, target_upsampled = upsample(features_train, target_train, 4)"
   ]
  },
  {
   "cell_type": "markdown",
   "metadata": {},
   "source": [
    "Не забудем масштабировать признаки."
   ]
  },
  {
   "cell_type": "code",
   "execution_count": 20,
   "metadata": {},
   "outputs": [],
   "source": [
    "scaler.fit(features_upsampled)\n",
    "features_up_train_scaled = scaler.transform(features_upsampled)\n",
    "features_up_valid_scaled = scaler.transform(features_valid)\n",
    "features_up_test_scaled = scaler.transform(features_test)"
   ]
  },
  {
   "cell_type": "markdown",
   "metadata": {},
   "source": [
    "На полученной обучающей выборке обучим модели и проверим результат обучения на валидационной выборке."
   ]
  },
  {
   "cell_type": "code",
   "execution_count": 21,
   "metadata": {},
   "outputs": [
    {
     "name": "stdout",
     "output_type": "stream",
     "text": [
      "Лучшая модель: LogisticRegression(C=0.01, class_weight=None, dual=False, fit_intercept=True,\n",
      "                   intercept_scaling=1, l1_ratio=None, max_iter=100,\n",
      "                   multi_class='warn', n_jobs=None, penalty='l1',\n",
      "                   random_state=12345, solver='liblinear', tol=0.0001,\n",
      "                   verbose=0, warm_start=False)\n",
      "Лучший F1: 0.48226950354609927\n",
      "Лучший ROC AUC: 0.7563434004111971\n"
     ]
    }
   ],
   "source": [
    "best_logreg_f1 = 0\n",
    "best_logreg_rocauc = 0\n",
    "best_logreg_up = None\n",
    "for reg in [0.01, 0.1, 1]:\n",
    "    logreg = LogisticRegression(random_state=12345, solver='liblinear', penalty='l1', C=reg)\n",
    "    logreg.fit(features_up_train_scaled, target_upsampled)\n",
    "    logreg_prediction = logreg.predict(features_up_valid_scaled)\n",
    "    logreg_predprob = logreg.predict_proba(features_up_valid_scaled)\n",
    "    logreg_f1 = f1_score(target_valid, logreg_prediction)\n",
    "    logreg_rocauc = roc_auc_score(target_valid, logreg_predprob[:, 1])\n",
    "    if logreg_f1 > best_logreg_f1:\n",
    "        best_logreg_f1 = logreg_f1\n",
    "        best_logreg_up = logreg # здесь хранится лучшая модель\n",
    "        best_logreg_rocauc = logreg_rocauc\n",
    "        \n",
    "print('Лучшая модель:', best_logreg_up)\n",
    "print('Лучший F1:', best_logreg_f1)\n",
    "print('Лучший ROC AUC:', best_logreg_rocauc)"
   ]
  },
  {
   "cell_type": "code",
   "execution_count": 22,
   "metadata": {},
   "outputs": [
    {
     "name": "stdout",
     "output_type": "stream",
     "text": [
      "Лучшая модель: DecisionTreeClassifier(class_weight=None, criterion='gini', max_depth=7,\n",
      "                       max_features=None, max_leaf_nodes=None,\n",
      "                       min_impurity_decrease=0.0, min_impurity_split=None,\n",
      "                       min_samples_leaf=1, min_samples_split=2,\n",
      "                       min_weight_fraction_leaf=0.0, presort=False,\n",
      "                       random_state=12345, splitter='best')\n",
      "Лучший F1: 0.5452881976212259\n",
      "Лучший ROC AUC: 0.7903049428473157\n"
     ]
    }
   ],
   "source": [
    "best_tree_f1 = 0\n",
    "best_tree_rocauc = 0\n",
    "best_tree_up = None\n",
    "for depth in range(1,16):\n",
    "    tree = DecisionTreeClassifier(random_state=12345, max_depth=depth)\n",
    "    tree.fit(features_up_train_scaled, target_upsampled) # обучаем модель\n",
    "    tree_prediction = tree.predict(features_up_valid_scaled) # предсказываем значения валидационной выборки\n",
    "    tree_predprob = tree.predict_proba(features_up_valid_scaled)\n",
    "    tree_f1 = f1_score(target_valid, tree_prediction)\n",
    "    tree_rocauc = roc_auc_score(target_valid, tree_predprob[:, 1])\n",
    "    if tree_f1 > best_tree_f1:\n",
    "        best_tree_f1 = tree_f1\n",
    "        best_tree_up = tree # здесь хранится лучшая модель\n",
    "        best_tree_rocauc = tree_rocauc\n",
    "        \n",
    "print('Лучшая модель:', best_tree_up)\n",
    "print('Лучший F1:', best_tree_f1)\n",
    "print('Лучший ROC AUC:', best_tree_rocauc)"
   ]
  },
  {
   "cell_type": "code",
   "execution_count": 23,
   "metadata": {},
   "outputs": [
    {
     "name": "stdout",
     "output_type": "stream",
     "text": [
      "Лучшая модель: RandomForestClassifier(bootstrap=True, class_weight=None, criterion='gini',\n",
      "                       max_depth=8, max_features='auto', max_leaf_nodes=None,\n",
      "                       min_impurity_decrease=0.0, min_impurity_split=None,\n",
      "                       min_samples_leaf=1, min_samples_split=2,\n",
      "                       min_weight_fraction_leaf=0.0, n_estimators=41,\n",
      "                       n_jobs=None, oob_score=False, random_state=12345,\n",
      "                       verbose=0, warm_start=False)\n",
      "Лучший F1: 0.6063720452209661\n",
      "Лучший ROC AUC: 0.8542687525738373\n"
     ]
    }
   ],
   "source": [
    "best_forest_f1 = 0\n",
    "best_forest_rocauc = 0\n",
    "best_forest_up = None\n",
    "for depth in range(1,16):\n",
    "    for n_est in range(1,50,5):\n",
    "        forest = RandomForestClassifier(random_state=12345, max_depth=depth, n_estimators=n_est)\n",
    "        forest.fit(features_up_train_scaled, target_upsampled) # обучаем модель\n",
    "        forest_prediction = forest.predict(features_up_valid_scaled) # предсказываем значения валидационной выборки\n",
    "        forest_predprob = forest.predict_proba(features_up_valid_scaled)\n",
    "        forest_f1 = f1_score(target_valid, forest_prediction)\n",
    "        forest_rocauc = roc_auc_score(target_valid, forest_predprob[:, 1])\n",
    "        if forest_f1 > best_forest_f1:\n",
    "            best_forest_f1 = forest_f1\n",
    "            best_forest_up = forest # здесь хранится лучшая модель\n",
    "            best_forest_rocauc = forest_rocauc\n",
    "        \n",
    "print('Лучшая модель:', best_forest_up)\n",
    "print('Лучший F1:', best_forest_f1)\n",
    "print('Лучший ROC AUC:', best_forest_rocauc)"
   ]
  },
  {
   "cell_type": "markdown",
   "metadata": {},
   "source": [
    "Качество метрики F1 заметно улучшилось для логистической регресии, немного поднялось для случайного леса, превысив целевой показатель, но упало для решающего дерева. На метрику ROC AUC метод повлиял не сильно."
   ]
  },
  {
   "cell_type": "markdown",
   "metadata": {},
   "source": [
    "### downsampling"
   ]
  },
  {
   "cell_type": "markdown",
   "metadata": {},
   "source": [
    "Далее перейдем к методу downsampling. Уменьшим в четыре раза количество строчек отрицательного класса в обучающей выборке."
   ]
  },
  {
   "cell_type": "code",
   "execution_count": 24,
   "metadata": {},
   "outputs": [],
   "source": [
    "def downsample(features, target, fraction):\n",
    "    features_zeros = features[target == 0]\n",
    "    features_ones = features[target == 1]\n",
    "    target_zeros = target[target == 0]\n",
    "    target_ones = target[target == 1]\n",
    "\n",
    "    features_downsampled = pd.concat(\n",
    "        [features_zeros.sample(frac=fraction, random_state=12345)] + [features_ones])\n",
    "    target_downsampled = pd.concat(\n",
    "        [target_zeros.sample(frac=fraction, random_state=12345)] + [target_ones])\n",
    "    \n",
    "    features_downsampled, target_downsampled = shuffle(\n",
    "        features_downsampled, target_downsampled, random_state=12345)\n",
    "    \n",
    "    return features_downsampled, target_downsampled\n",
    "\n",
    "features_downsampled, target_downsampled = downsample(features_train, target_train, 0.25)"
   ]
  },
  {
   "cell_type": "code",
   "execution_count": 25,
   "metadata": {},
   "outputs": [],
   "source": [
    "scaler.fit(features_downsampled)\n",
    "features_down_train_scaled = scaler.transform(features_downsampled)\n",
    "features_down_valid_scaled = scaler.transform(features_valid)\n",
    "features_down_test_scaled = scaler.transform(features_test)"
   ]
  },
  {
   "cell_type": "code",
   "execution_count": 26,
   "metadata": {},
   "outputs": [
    {
     "name": "stdout",
     "output_type": "stream",
     "text": [
      "Лучшая модель: LogisticRegression(C=0.01, class_weight=None, dual=False, fit_intercept=True,\n",
      "                   intercept_scaling=1, l1_ratio=None, max_iter=100,\n",
      "                   multi_class='warn', n_jobs=None, penalty='l1',\n",
      "                   random_state=12345, solver='liblinear', tol=0.0001,\n",
      "                   verbose=0, warm_start=False)\n",
      "Лучший F1: 0.4963768115942029\n",
      "Лучший ROC AUC: 0.7578803765244443\n"
     ]
    }
   ],
   "source": [
    "best_logreg_f1 = 0\n",
    "best_logreg_rocauc = 0\n",
    "best_logreg_down = None\n",
    "for reg in [0.01, 0.1, 1]:\n",
    "    logreg = LogisticRegression(random_state=12345, solver='liblinear', penalty='l1', C=reg)\n",
    "    logreg.fit(features_down_train_scaled, target_downsampled)\n",
    "    logreg_prediction = logreg.predict(features_down_valid_scaled)\n",
    "    logreg_predprob = logreg.predict_proba(features_down_valid_scaled)\n",
    "    logreg_f1 = f1_score(target_valid, logreg_prediction)\n",
    "    logreg_rocauc = roc_auc_score(target_valid, logreg_predprob[:, 1])\n",
    "    if logreg_f1 > best_logreg_f1:\n",
    "        best_logreg_f1 = logreg_f1\n",
    "        best_logreg_down = logreg # здесь хранится лучшая модель\n",
    "        best_logreg_rocauc = logreg_rocauc\n",
    "        \n",
    "print('Лучшая модель:', best_logreg_down)\n",
    "print('Лучший F1:', best_logreg_f1)\n",
    "print('Лучший ROC AUC:', best_logreg_rocauc)"
   ]
  },
  {
   "cell_type": "code",
   "execution_count": 27,
   "metadata": {},
   "outputs": [
    {
     "name": "stdout",
     "output_type": "stream",
     "text": [
      "Лучшая модель: DecisionTreeClassifier(class_weight=None, criterion='gini', max_depth=6,\n",
      "                       max_features=None, max_leaf_nodes=None,\n",
      "                       min_impurity_decrease=0.0, min_impurity_split=None,\n",
      "                       min_samples_leaf=1, min_samples_split=2,\n",
      "                       min_weight_fraction_leaf=0.0, presort=False,\n",
      "                       random_state=12345, splitter='best')\n",
      "Лучший F1: 0.5604606525911707\n",
      "Лучший ROC AUC: 0.8213483128737367\n"
     ]
    }
   ],
   "source": [
    "best_tree_f1 = 0\n",
    "best_tree_rocauc = 0\n",
    "best_tree_down = None\n",
    "for depth in range(1,16):\n",
    "    tree = DecisionTreeClassifier(random_state=12345, max_depth=depth)\n",
    "    tree.fit(features_down_train_scaled, target_downsampled) # обучаем модель\n",
    "    tree_prediction = tree.predict(features_down_valid_scaled) # предсказываем значения валидационной выборки\n",
    "    tree_predprob = tree.predict_proba(features_down_valid_scaled)\n",
    "    tree_f1 = f1_score(target_valid, tree_prediction)\n",
    "    tree_rocauc = roc_auc_score(target_valid, tree_predprob[:, 1])\n",
    "    if tree_f1 > best_tree_f1:\n",
    "        best_tree_f1 = tree_f1\n",
    "        best_tree_down = tree # здесь хранится лучшая модель\n",
    "        best_tree_rocauc = tree_rocauc\n",
    "        \n",
    "print('Лучшая модель:', best_tree_down)\n",
    "print('Лучший F1:', best_tree_f1)\n",
    "print('Лучший ROC AUC:', best_tree_rocauc)"
   ]
  },
  {
   "cell_type": "code",
   "execution_count": 28,
   "metadata": {},
   "outputs": [
    {
     "name": "stdout",
     "output_type": "stream",
     "text": [
      "Лучшая модель: RandomForestClassifier(bootstrap=True, class_weight=None, criterion='gini',\n",
      "                       max_depth=10, max_features='auto', max_leaf_nodes=None,\n",
      "                       min_impurity_decrease=0.0, min_impurity_split=None,\n",
      "                       min_samples_leaf=1, min_samples_split=2,\n",
      "                       min_weight_fraction_leaf=0.0, n_estimators=21,\n",
      "                       n_jobs=None, oob_score=False, random_state=12345,\n",
      "                       verbose=0, warm_start=False)\n",
      "Лучший F1: 0.5913875598086125\n",
      "Лучший ROC AUC: 0.8444715902343022\n"
     ]
    }
   ],
   "source": [
    "best_forest_f1 = 0\n",
    "best_forest_rocauc = 0\n",
    "best_forest_down = None\n",
    "for depth in range(1,16):\n",
    "    for n_est in range(1,50,5):\n",
    "        forest = RandomForestClassifier(random_state=12345, max_depth=depth, n_estimators=n_est)\n",
    "        forest.fit(features_down_train_scaled, target_downsampled) # обучаем модель\n",
    "        forest_prediction = forest.predict(features_down_valid_scaled) # предсказываем значения валидационной выборки\n",
    "        forest_predprob = forest.predict_proba(features_down_valid_scaled)\n",
    "        forest_f1 = f1_score(target_valid, forest_prediction)\n",
    "        forest_rocauc = roc_auc_score(target_valid, forest_predprob[:, 1])\n",
    "        if forest_f1 > best_forest_f1:\n",
    "            best_forest_f1 = forest_f1\n",
    "            best_forest_down = forest # здесь хранится лучшая модель\n",
    "            best_forest_rocauc = forest_rocauc\n",
    "        \n",
    "print('Лучшая модель:', best_forest_down)\n",
    "print('Лучший F1:', best_forest_f1)\n",
    "print('Лучший ROC AUC:', best_forest_rocauc)"
   ]
  },
  {
   "cell_type": "markdown",
   "metadata": {},
   "source": [
    "Использование метода downsampling привело к увеличению результата F1 по сравнению с несбалансированной выборкой для всех моделей. Также чуть улучшился результат регрессии и дерева по сравнению с upsampling. Однако результаты для леса всё равно получились чуть ниже, чем при использовании upsampling. Вероятно, это связано с тем, что лесу требуется большее количество данных для более качественного обучения."
   ]
  },
  {
   "cell_type": "markdown",
   "metadata": {},
   "source": [
    "### balanced"
   ]
  },
  {
   "cell_type": "markdown",
   "metadata": {},
   "source": [
    "Последний метод борьбы с диасбалансом классов, что мы проверим — взвешивание классов. В каждой модели мы поставим параметр class_weight со значением balanced, чтобы модели определяли вес классов, исходя из их пропорций."
   ]
  },
  {
   "cell_type": "code",
   "execution_count": 29,
   "metadata": {},
   "outputs": [],
   "source": [
    "scaler.fit(features_train)\n",
    "features_balanced_train_scaled = scaler.transform(features_train)\n",
    "features_balanced_valid_scaled = scaler.transform(features_valid)\n",
    "features_balanced_test_scaled = scaler.transform(features_test)"
   ]
  },
  {
   "cell_type": "code",
   "execution_count": 30,
   "metadata": {},
   "outputs": [
    {
     "name": "stdout",
     "output_type": "stream",
     "text": [
      "Лучшая модель: LogisticRegression(C=0.01, class_weight='balanced', dual=False,\n",
      "                   fit_intercept=True, intercept_scaling=1, l1_ratio=None,\n",
      "                   max_iter=100, multi_class='warn', n_jobs=None, penalty='l1',\n",
      "                   random_state=12345, solver='liblinear', tol=0.0001,\n",
      "                   verbose=0, warm_start=False)\n",
      "Лучший F1: 0.4777594728171334\n",
      "Лучший ROC AUC: 0.7575132914115965\n"
     ]
    }
   ],
   "source": [
    "best_logreg_f1 = 0\n",
    "best_logreg_rocauc = 0\n",
    "best_logreg_balanced = None\n",
    "for reg in [0.01, 0.1, 1]:\n",
    "    logreg = LogisticRegression(random_state=12345, solver='liblinear', penalty='l1', C=reg, class_weight='balanced')\n",
    "    logreg.fit(features_balanced_train_scaled, target_train)\n",
    "    logreg_prediction = logreg.predict(features_balanced_valid_scaled)\n",
    "    logreg_predprob = logreg.predict_proba(features_balanced_valid_scaled)\n",
    "    logreg_f1 = f1_score(target_valid, logreg_prediction)\n",
    "    logreg_rocauc = roc_auc_score(target_valid, logreg_predprob[:, 1])\n",
    "    if logreg_f1 > best_logreg_f1:\n",
    "        best_logreg_f1 = logreg_f1\n",
    "        best_logreg_balanced = logreg # здесь хранится лучшая модель\n",
    "        best_logreg_rocauc = logreg_rocauc\n",
    "        \n",
    "print('Лучшая модель:', best_logreg_balanced)\n",
    "print('Лучший F1:', best_logreg_f1)\n",
    "print('Лучший ROC AUC:', best_logreg_rocauc)"
   ]
  },
  {
   "cell_type": "code",
   "execution_count": 31,
   "metadata": {},
   "outputs": [
    {
     "name": "stdout",
     "output_type": "stream",
     "text": [
      "Лучшая модель: DecisionTreeClassifier(class_weight='balanced', criterion='gini', max_depth=7,\n",
      "                       max_features=None, max_leaf_nodes=None,\n",
      "                       min_impurity_decrease=0.0, min_impurity_split=None,\n",
      "                       min_samples_leaf=1, min_samples_split=2,\n",
      "                       min_weight_fraction_leaf=0.0, presort=False,\n",
      "                       random_state=12345, splitter='best')\n",
      "Лучший F1: 0.5452881976212259\n",
      "Лучший ROC AUC: 0.7903049428473157\n"
     ]
    }
   ],
   "source": [
    "best_tree_f1 = 0\n",
    "best_tree_rocauc = 0\n",
    "best_tree_balanced = None\n",
    "for depth in range(1,16):\n",
    "    tree = DecisionTreeClassifier(random_state=12345, max_depth=depth, class_weight='balanced')\n",
    "    tree.fit(features_balanced_train_scaled, target_train) # обучаем модель\n",
    "    tree_prediction = tree.predict(features_balanced_valid_scaled) # предсказываем значения валидационной выборки\n",
    "    tree_predprob = tree.predict_proba(features_balanced_valid_scaled)\n",
    "    tree_f1 = f1_score(target_valid, tree_prediction)\n",
    "    tree_rocauc = roc_auc_score(target_valid, tree_predprob[:, 1])\n",
    "    if tree_f1 > best_tree_f1:\n",
    "        best_tree_f1 = tree_f1\n",
    "        best_tree_balanced = tree # здесь хранится лучшая модель\n",
    "        best_tree_rocauc = tree_rocauc\n",
    "        \n",
    "print('Лучшая модель:', best_tree_balanced)\n",
    "print('Лучший F1:', best_tree_f1)\n",
    "print('Лучший ROC AUC:', best_tree_rocauc)"
   ]
  },
  {
   "cell_type": "code",
   "execution_count": 32,
   "metadata": {},
   "outputs": [
    {
     "name": "stdout",
     "output_type": "stream",
     "text": [
      "Лучшая модель: RandomForestClassifier(bootstrap=True, class_weight='balanced',\n",
      "                       criterion='gini', max_depth=9, max_features='auto',\n",
      "                       max_leaf_nodes=None, min_impurity_decrease=0.0,\n",
      "                       min_impurity_split=None, min_samples_leaf=1,\n",
      "                       min_samples_split=2, min_weight_fraction_leaf=0.0,\n",
      "                       n_estimators=16, n_jobs=None, oob_score=False,\n",
      "                       random_state=12345, verbose=0, warm_start=False)\n",
      "Лучший F1: 0.6075949367088608\n",
      "Лучший ROC AUC: 0.8438685218346235\n"
     ]
    }
   ],
   "source": [
    "best_forest_f1 = 0\n",
    "best_forest_rocauc = 0\n",
    "best_forest_balanced = None\n",
    "for depth in range(1,16):\n",
    "    for n_est in range(1,50,5):\n",
    "        forest = RandomForestClassifier(random_state=12345, max_depth=depth, n_estimators=n_est, class_weight='balanced')\n",
    "        forest.fit(features_balanced_train_scaled, target_train) # обучаем модель\n",
    "        forest_prediction = forest.predict(features_balanced_valid_scaled) # предсказываем значения валидационной выборки\n",
    "        forest_predprob = forest.predict_proba(features_balanced_valid_scaled)\n",
    "        forest_f1 = f1_score(target_valid, forest_prediction)\n",
    "        forest_rocauc = roc_auc_score(target_valid, forest_predprob[:, 1])\n",
    "        if forest_f1 > best_forest_f1:\n",
    "            best_forest_f1 = forest_f1\n",
    "            best_forest_balanced = forest # здесь хранится лучшая модель\n",
    "            best_forest_rocauc = forest_rocauc\n",
    "        \n",
    "print('Лучшая модель:', best_forest_balanced)\n",
    "print('Лучший F1:', best_forest_f1)\n",
    "print('Лучший ROC AUC:', best_forest_rocauc)"
   ]
  },
  {
   "cell_type": "markdown",
   "metadata": {},
   "source": [
    "Этот метод также позволил повысить качество каждой из моделей по сравнению с обучением на несбалансированных выборках."
   ]
  },
  {
   "cell_type": "markdown",
   "metadata": {},
   "source": [
    "Проведенное исследование методов борьбы с дисбалансом классов показало, что такие методы действительно помогают повысить качество предсказаний моделей, но для каждой модели методы работают по-разному. В нашем случае для регрессии и дерева лучше всего сработал метод downsampling. Для леса же этот метод оказался чуть менее эффективным, зато другие два позволили получить примерно одинаково высокие результаты. "
   ]
  },
  {
   "cell_type": "markdown",
   "metadata": {},
   "source": [
    "## Тестирование модели"
   ]
  },
  {
   "cell_type": "markdown",
   "metadata": {},
   "source": [
    "Поскольку нашей целью является получение на тестовой выборке F1 не ниже 0,59, мы будем использовать модель, которая в каждом из испытаний справилась лучше всего — это случайный лес. Проверим лес, обученный с помощью разных методов борьбы с дисбалансом, и посмотрим, какой справляется лучше всего."
   ]
  },
  {
   "cell_type": "code",
   "execution_count": 33,
   "metadata": {},
   "outputs": [
    {
     "name": "stdout",
     "output_type": "stream",
     "text": [
      "F1: 0.6283987915407855\n",
      "ROC AUC: 0.8692174105823234\n"
     ]
    }
   ],
   "source": [
    "# upsampled\n",
    "forest_up_prediction_test = best_forest_up.predict(features_up_test_scaled)\n",
    "forest_up_predprob_test = best_forest_up.predict_proba(features_up_test_scaled)\n",
    "forest_test_f1 = f1_score(target_test, forest_up_prediction_test)\n",
    "forest_test_rocauc = roc_auc_score(target_test, forest_up_predprob_test[:, 1])\n",
    "\n",
    "print('F1:', forest_test_f1)\n",
    "print('ROC AUC:', forest_test_rocauc)"
   ]
  },
  {
   "cell_type": "code",
   "execution_count": 34,
   "metadata": {},
   "outputs": [
    {
     "name": "stdout",
     "output_type": "stream",
     "text": [
      "F1: 0.6096866096866097\n",
      "ROC AUC: 0.8553059414720662\n"
     ]
    }
   ],
   "source": [
    "# downsampled\n",
    "forest_down_prediction_test = best_forest_down.predict(features_down_test_scaled)\n",
    "forest_down_predprob_test = best_forest_down.predict_proba(features_down_test_scaled)\n",
    "forest_test_f1 = f1_score(target_test, forest_down_prediction_test)\n",
    "forest_test_rocauc = roc_auc_score(target_test, forest_down_predprob_test[:, 1])\n",
    "\n",
    "print('F1:', forest_test_f1)\n",
    "print('ROC AUC:', forest_test_rocauc)"
   ]
  },
  {
   "cell_type": "code",
   "execution_count": 35,
   "metadata": {},
   "outputs": [
    {
     "name": "stdout",
     "output_type": "stream",
     "text": [
      "F1: 0.6288888888888889\n",
      "ROC AUC: 0.856822408611686\n"
     ]
    }
   ],
   "source": [
    "# balanced\n",
    "forest_balanced_prediction_test = best_forest_balanced.predict(features_balanced_test_scaled)\n",
    "forest_balanced_predprob_test = best_forest_balanced.predict_proba(features_balanced_test_scaled)\n",
    "forest_test_f1 = f1_score(target_test, forest_balanced_prediction_test)\n",
    "forest_test_rocauc = roc_auc_score(target_test, forest_balanced_predprob_test[:, 1])\n",
    "\n",
    "print('F1:', forest_test_f1)\n",
    "print('ROC AUC:', forest_test_rocauc)"
   ]
  },
  {
   "cell_type": "markdown",
   "metadata": {},
   "source": [
    "Итак, все модели примерно одинаково справились с предсказаниями, каждая превысив показатель F1 в 0,59. Чуть лучше других справилась модель, обученная по методу взвешивания классов. ROC AUC во всех случаях превышает значение в 85."
   ]
  }
 ],
 "metadata": {
  "kernelspec": {
   "display_name": "Python 3",
   "language": "python",
   "name": "python3"
  },
  "language_info": {
   "codemirror_mode": {
    "name": "ipython",
    "version": 3
   },
   "file_extension": ".py",
   "mimetype": "text/x-python",
   "name": "python",
   "nbconvert_exporter": "python",
   "pygments_lexer": "ipython3",
   "version": "3.7.8"
  },
  "toc": {
   "base_numbering": 1,
   "nav_menu": {},
   "number_sections": true,
   "sideBar": true,
   "skip_h1_title": true,
   "title_cell": "Table of Contents",
   "title_sidebar": "Contents",
   "toc_cell": true,
   "toc_position": {},
   "toc_section_display": true,
   "toc_window_display": false
  }
 },
 "nbformat": 4,
 "nbformat_minor": 2
}
